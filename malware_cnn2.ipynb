{
  "nbformat": 4,
  "nbformat_minor": 0,
  "metadata": {
    "colab": {
      "provenance": [],
      "gpuType": "T4",
      "include_colab_link": true
    },
    "kernelspec": {
      "name": "python3",
      "display_name": "Python 3"
    },
    "language_info": {
      "name": "python"
    },
    "accelerator": "GPU"
  },
  "cells": [
    {
      "cell_type": "markdown",
      "metadata": {
        "id": "view-in-github",
        "colab_type": "text"
      },
      "source": [
        "<a href=\"https://colab.research.google.com/github/mostafa-ja/mal_adv3/blob/main/malware_cnn2.ipynb\" target=\"_parent\"><img src=\"https://colab.research.google.com/assets/colab-badge.svg\" alt=\"Open In Colab\"/></a>"
      ]
    },
    {
      "cell_type": "code",
      "source": [
        "import numpy as np\n",
        "import matplotlib.pyplot as plt\n",
        "\n",
        "# Assuming binary_vector is your 1D binary vector of length 10000\n",
        "binary_vector = np.random.randint(2, size=9800)\n",
        "\n",
        "# Reshape the vector into a 2D array with each element being an 8-length binary vector\n",
        "image = np.reshape(binary_vector, (35, 35, 8))\n",
        "\n",
        "# Convert binary values to gray-scale intensities\n",
        "gray_image = np.packbits(image, axis=-1)\n",
        "\n",
        "# Display the gray-scale image\n",
        "plt.imshow(gray_image, cmap='gray')\n",
        "plt.axis('off')\n",
        "plt.show()\n"
      ],
      "metadata": {
        "colab": {
          "base_uri": "https://localhost:8080/",
          "height": 406
        },
        "id": "4ZG8enqYt5ga",
        "outputId": "cad3e974-7ddb-4542-809d-d1fe09b8baa8"
      },
      "execution_count": null,
      "outputs": [
        {
          "output_type": "display_data",
          "data": {
            "text/plain": [
              "<Figure size 640x480 with 1 Axes>"
            ],
            "image/png": "[encoded data removed]"
          },
          "metadata": {}
        }
      ]
    },
    {
      "cell_type": "code",
      "execution_count": null,
      "metadata": {
        "colab": {
          "base_uri": "https://localhost:8080/"
        },
        "id": "RZfX_N-gQHKp",
        "outputId": "82d6a8b9-0ab9-4ef3-8636-dd8466d29af6"
      },
      "outputs": [
        {
          "output_type": "stream",
          "name": "stderr",
          "text": [
            "Downloading...\n",
            "From: https://github.com/mostafa-ja/mal_adv3/raw/main/data/X_redefined_sparse_matrix.npz\n",
            "To: /content/X_redefined_sparse_matrix.npz\n",
            "100%|██████████| 2.31M/2.31M [00:00<00:00, 13.9MB/s]\n",
            "Downloading...\n",
            "From: https://github.com/mostafa-ja/mal_adv3/raw/main/data/labels.pt\n",
            "To: /content/labels.pt\n",
            "100%|██████████| 517k/517k [00:00<00:00, 6.80MB/s]\n"
          ]
        }
      ],
      "source": [
        "download_links = ['https://github.com/mostafa-ja/mal_adv3/raw/main/data/X_redefined_sparse_matrix.npz',\n",
        "                  'https://github.com/mostafa-ja/mal_adv3/raw/main/data/labels.pt'\n",
        "]\n",
        "\n",
        "\n",
        "import gdown\n",
        "output_filepath = '/content/'\n",
        "for link in download_links:\n",
        "  gdown.download(link, output_filepath)"
      ]
    },
    {
      "cell_type": "code",
      "source": [
        "import torch\n",
        "import torch.nn as nn\n",
        "import torch.optim as optim\n",
        "from torch.utils.data import TensorDataset, DataLoader\n",
        "from sklearn.model_selection import train_test_split\n",
        "from scipy import sparse\n",
        "import numpy as np\n",
        "import matplotlib.pyplot as plt\n",
        "import pickle\n",
        "import torch.nn.functional as F\n",
        "import random\n",
        "import time\n",
        "\n",
        "\n",
        "torch.manual_seed(0)\n",
        "\n",
        "# Device configuration\n",
        "device = torch.device(\"cuda\" if torch.cuda.is_available() else \"cpu\")\n",
        "print(device)"
      ],
      "metadata": {
        "colab": {
          "base_uri": "https://localhost:8080/"
        },
        "id": "usjRDnBCQK9l",
        "outputId": "2d95236b-4ebc-45cc-96e2-1dc06fffccbe"
      },
      "execution_count": null,
      "outputs": [
        {
          "output_type": "stream",
          "name": "stdout",
          "text": [
            "cuda\n"
          ]
        }
      ]
    },
    {
      "cell_type": "code",
      "source": [
        "# Load dataset\n",
        "X_redefined = sparse.load_npz(\"X_redefined_sparse_matrix.npz\")\n",
        "labels_tensor = torch.load('labels.pt')\n",
        "\n",
        "# Split data into train, validation, and test sets with stratified sampling\n",
        "X_train_val, X_test, labels_train_val, labels_test = train_test_split(X_redefined, labels_tensor, test_size=0.2, stratify=labels_tensor, random_state=42)\n",
        "X_train, X_val, labels_train, labels_val = train_test_split(X_train_val, labels_train_val, test_size=0.2, stratify=labels_train_val, random_state=42)\n",
        "\n",
        "# Combine features and labels into datasets\n",
        "# we use dtype=torch.int8, for Memory-Efficient here, later we will convert to float\n",
        "train_dataset = TensorDataset(torch.tensor(X_train.toarray(), dtype=torch.int8), labels_train)\n",
        "val_dataset = TensorDataset(torch.tensor(X_val.toarray(), dtype=torch.int8), labels_val)\n",
        "test_dataset = TensorDataset(torch.tensor(X_test.toarray(), dtype=torch.int8), labels_test)\n",
        "\n",
        "# Clear unnecessary variables\n",
        "del X_redefined, labels_tensor, X_train_val, X_test, labels_train_val, labels_test, X_train, X_val, labels_train, labels_val"
      ],
      "metadata": {
        "id": "OlfUNSCJQQiN"
      },
      "execution_count": null,
      "outputs": []
    },
    {
      "cell_type": "code",
      "source": [
        "# Define the DataLoader for training, validation, and test sets\n",
        "batch_size = 256\n",
        "train_loader = DataLoader(train_dataset, batch_size=batch_size, shuffle=True)\n",
        "val_loader = DataLoader(val_dataset, batch_size=batch_size, shuffle=False)\n",
        "test_loader = DataLoader(test_dataset, batch_size=batch_size, shuffle=False)"
      ],
      "metadata": {
        "id": "_DeOfARzQRc6"
      },
      "execution_count": null,
      "outputs": []
    },
    {
      "cell_type": "code",
      "source": [
        "def pad_binary_vector(binary_vector, new_size):\n",
        "    batch_size, vector_length = binary_vector.size()\n",
        "\n",
        "    # Calculate the number of zeros to add\n",
        "    num_zeros = new_size - vector_length\n",
        "\n",
        "    # Create a tensor filled with zeros\n",
        "    zeros_tensor = torch.zeros(batch_size, num_zeros, dtype=torch.int)\n",
        "\n",
        "    # Concatenate the binary vector with the zeros tensor along the second dimension\n",
        "    padded_binary_vector = torch.cat([binary_vector, zeros_tensor], dim=1)\n",
        "\n",
        "    return padded_binary_vector"
      ],
      "metadata": {
        "id": "U57qM9nEH6ki"
      },
      "execution_count": null,
      "outputs": []
    },
    {
      "cell_type": "code",
      "source": [
        "def batch_binary_vectors_to_gray_images(binary_vectors, image_size=36):\n",
        "    \"\"\"\n",
        "    Convert a batch of binary vectors to gray-scale images.\n",
        "\n",
        "    Parameters:\n",
        "        batch_binary_vectors (numpy.ndarray): Batch of binary vectors with shape (batch_size, vector_length).\n",
        "        image_size (int): Size of the square image (default is 36).\n",
        "\n",
        "    Returns:\n",
        "        gray_images: Batch of gray-scale images with shape (batch_size, image_size, image_size).\n",
        "    \"\"\"\n",
        "    batch_binary_vectors = pad_binary_vector(binary_vectors, 10368)\n",
        "\n",
        "    # Reshape each binary vector in the batch into a 2D array with each element being an 8-length binary vector\n",
        "    batch_images = np.reshape(batch_binary_vectors, (-1, image_size, image_size, 8))\n",
        "\n",
        "    # Convert binary values to gray-scale intensities\n",
        "    gray_images = np.packbits(batch_images, axis=-1)\n",
        "\n",
        "    # Remove the last dimension (single channel) from the gray_images array\n",
        "    gray_images = np.squeeze(gray_images, axis=-1)\n",
        "\n",
        "    return gray_images\n"
      ],
      "metadata": {
        "id": "yo0LOBhSIDd2"
      },
      "execution_count": null,
      "outputs": []
    },
    {
      "cell_type": "code",
      "source": [
        "for X,Y in train_loader:\n",
        "  print(X.shape)\n",
        "  print(Y.shape)\n",
        "  break\n",
        "\n",
        "m = batch_binary_vectors_to_gray_images(X, image_size=36)\n",
        "print(m.shape)\n",
        "\n",
        "plt.imshow(m[2], cmap='gray')\n",
        "plt.axis('off')\n",
        "plt.show()"
      ],
      "metadata": {
        "colab": {
          "base_uri": "https://localhost:8080/",
          "height": 458
        },
        "id": "ev4l8hNVIMPA",
        "outputId": "ebbbbabf-cab0-4f59-e3c0-8fafee26bd35"
      },
      "execution_count": null,
      "outputs": [
        {
          "output_type": "stream",
          "name": "stdout",
          "text": [
            "torch.Size([256, 10000])\n",
            "torch.Size([256, 1])\n",
            "(256, 36, 36)\n"
          ]
        },
        {
          "output_type": "display_data",
          "data": {
            "text/plain": [
              "<Figure size 640x480 with 1 Axes>"
            ],
            "image/png": "[encoded data removed]"
          },
          "metadata": {}
        }
      ]
    },
    {
      "cell_type": "code",
      "source": [
        "a = torch.zeros(256, 10368, dtype=torch.int)\n",
        "a[:,:10000] =  X\n",
        "\n",
        "m = batch_binary_vectors_to_gray_images(a, image_size=36)\n",
        "print(m.shape)\n",
        "\n",
        "plt.imshow(m[2], cmap='gray')\n",
        "plt.axis('off')\n",
        "plt.show()"
      ],
      "metadata": {
        "colab": {
          "base_uri": "https://localhost:8080/",
          "height": 423
        },
        "id": "NvbXIKk5I4_7",
        "outputId": "3e901740-56f5-43e1-b1e6-23240bfb741a"
      },
      "execution_count": null,
      "outputs": [
        {
          "output_type": "stream",
          "name": "stdout",
          "text": [
            "(256, 36, 36)\n"
          ]
        },
        {
          "output_type": "display_data",
          "data": {
            "text/plain": [
              "<Figure size 640x480 with 1 Axes>"
            ],
            "image/png": "[encoded data removed]"
          },
          "metadata": {}
        }
      ]
    },
    {
      "cell_type": "code",
      "source": [
        "class CNN(nn.Module):\n",
        "    def __init__(self):\n",
        "        super(CNN, self).__init__()\n",
        "        self.conv1 = nn.Conv2d(1, 32, 3, padding=1)  # Change input channels from 1 to 2\n",
        "        self.conv2 = nn.Conv2d(32, 64, 3, padding=1, stride=2)\n",
        "        self.conv3 = nn.Conv2d(64, 64, 3, padding=1, stride=2)\n",
        "        self.fc1 = nn.Linear(64 * 9 * 9, 64)\n",
        "        self.fc2 = nn.Linear(64, 1)\n",
        "        self.sigmoid = nn.Sigmoid()\n",
        "\n",
        "    def forward(self, x):\n",
        "        x = x.unsqueeze(1)\n",
        "        x = nn.functional.relu(self.conv1(x))\n",
        "        x = nn.functional.relu(self.conv2(x))\n",
        "        x = nn.functional.relu(self.conv3(x))\n",
        "        x = torch.flatten(x, 1)\n",
        "        x = nn.functional.relu(self.fc1(x))\n",
        "        x = self.sigmoid(self.fc2(x))\n",
        "        return x\n"
      ],
      "metadata": {
        "id": "FQ1ZC4oXI7ar"
      },
      "execution_count": null,
      "outputs": []
    },
    {
      "cell_type": "code",
      "source": [
        "import torch\n",
        "import torch.nn as nn\n",
        "import torch.optim as optim\n",
        "from torch.utils.data import DataLoader\n",
        "from torch.optim.lr_scheduler import LambdaLR\n",
        "from sklearn.metrics import precision_score, recall_score, f1_score\n",
        "import numpy as np\n",
        "\n",
        "# Define a learning rate warm-up and decay function\n",
        "def lr_lambda(epoch):\n",
        "    if epoch < warmup_epochs:\n",
        "        return float(epoch+1) / float(max(1, warmup_epochs))\n",
        "    else:\n",
        "        return lr_decay ** (epoch - warmup_epochs)\n",
        "\n",
        "# Define warm-up epochs, learning rate decay factor, and other hyperparameters\n",
        "warmup_epochs = 5\n",
        "lr_decay = 0.97\n",
        "initial_lr = 0.001\n",
        "\n",
        "# Create an instance of the model and move it to the GPU\n",
        "model = CNN().to(device)\n",
        "\n",
        "# Define loss function and optimizer\n",
        "criterion = nn.BCELoss()\n",
        "optimizer = optim.Adam(model.parameters(), lr=initial_lr)\n",
        "\n",
        "# Create a learning rate scheduler\n",
        "scheduler = LambdaLR(optimizer, lr_lambda=lr_lambda)\n",
        "\n",
        "# Initialize variables to track best F1 score and corresponding model state\n",
        "best_f1_score = 0.0\n",
        "best_model_state = None\n",
        "\n",
        "# Train the model\n",
        "num_epochs = 100\n",
        "for epoch in range(num_epochs):\n",
        "    model.train()\n",
        "    running_loss = 0.0\n",
        "    correct_train = 0\n",
        "    total_train = 0\n",
        "    for X_train, labels_train in train_loader:\n",
        "        labels_train = labels_train.to(device)\n",
        "        images_train = torch.tensor(batch_binary_vectors_to_gray_images(X_train, image_size=36), device=device) / 255.0\n",
        "        optimizer.zero_grad()\n",
        "        outputs_train = model(images_train)\n",
        "        loss_train = criterion(outputs_train.squeeze(), labels_train.squeeze())\n",
        "        loss_train.backward()\n",
        "        optimizer.step()\n",
        "\n",
        "        running_loss += loss_train.item()\n",
        "\n",
        "        # Calculate training accuracy\n",
        "        predicted_train = torch.round(outputs_train.squeeze())\n",
        "        total_train += labels_train.size(0)\n",
        "        correct_train += (predicted_train == labels_train.squeeze()).sum().item()\n",
        "\n",
        "    train_accuracy = 100 * correct_train / total_train\n",
        "    avg_loss = running_loss / len(train_loader)\n",
        "\n",
        "    print('-----------------------------------------------------')\n",
        "    print('Learning raet : ',optimizer.param_groups[0]['lr'])\n",
        "    print(f\"Epoch [{epoch+1}/{num_epochs}], Train Loss: {avg_loss:.4f}, Train Accuracy: {train_accuracy:.2f}%\")\n",
        "\n",
        "    # Step the learning rate scheduler\n",
        "    scheduler.step()\n",
        "\n",
        "    # Evaluate the model on the validation dataset\n",
        "    model.eval()\n",
        "    true_labels_val = []\n",
        "    predicted_labels_val = []\n",
        "    with torch.no_grad():\n",
        "        for X_val, labels_val in val_loader:\n",
        "            labels_val = labels_val.to(device)\n",
        "            val_images = torch.tensor(batch_binary_vectors_to_gray_images(X_val, image_size=36), device=device) / 255.0\n",
        "            val_outputs = model(val_images)\n",
        "            predicted_val = torch.round(val_outputs.squeeze())\n",
        "\n",
        "            # Append true and predicted labels to the lists\n",
        "            true_labels_val.extend(labels_val.squeeze().tolist())\n",
        "            predicted_labels_val.extend(predicted_val.tolist())\n",
        "\n",
        "    # Convert the lists to numpy arrays\n",
        "    true_labels_val = np.array(true_labels_val)\n",
        "    predicted_labels_val = np.array(predicted_labels_val)\n",
        "\n",
        "    # Compute precision, recall, and F1 score for validation set\n",
        "    precision_val = precision_score(true_labels_val, predicted_labels_val)\n",
        "    recall_val = recall_score(true_labels_val, predicted_labels_val)\n",
        "    f1_val = f1_score(true_labels_val, predicted_labels_val)\n",
        "\n",
        "    print(f\"Validation Precision: {precision_val:.4f}, Recall: {recall_val:.4f}, F1 Score: {f1_val:.4f}\")\n",
        "\n",
        "    # Evaluate the model on the test dataset\n",
        "    true_labels_test = []\n",
        "    predicted_labels_test = []\n",
        "    with torch.no_grad():\n",
        "        for X_test, labels_test in test_loader:\n",
        "            labels_test = labels_test.to(device)\n",
        "            test_images = torch.tensor(batch_binary_vectors_to_gray_images(X_test, image_size=36), device=device) / 255.0\n",
        "            test_outputs = model(test_images)\n",
        "            predicted_test = torch.round(test_outputs.squeeze())\n",
        "\n",
        "            # Append true and predicted labels to the lists\n",
        "            true_labels_test.extend(labels_test.squeeze().tolist())\n",
        "            predicted_labels_test.extend(predicted_test.tolist())\n",
        "\n",
        "    # Convert the lists to numpy arrays\n",
        "    true_labels_test = np.array(true_labels_test)\n",
        "    predicted_labels_test = np.array(predicted_labels_test)\n",
        "\n",
        "    # Compute precision, recall, and F1 score for test set\n",
        "    precision_test = precision_score(true_labels_test, predicted_labels_test)\n",
        "    recall_test = recall_score(true_labels_test, predicted_labels_test)\n",
        "    f1_test = f1_score(true_labels_test, predicted_labels_test)\n",
        "\n",
        "    print(f\"Test Precision: {precision_test:.4f}, Recall: {recall_test:.4f}, F1 Score: {f1_test:.4f}\")\n",
        "\n",
        "    # Check if the current model has the best F1 score\n",
        "    if f1_val > best_f1_score:\n",
        "        best_f1_score = f1_val\n",
        "        best_model_state = model.state_dict()\n",
        "\n",
        "# Save the best model based on F1\n"
      ],
      "metadata": {
        "id": "tZWCF0ddP3VW"
      },
      "execution_count": null,
      "outputs": []
    },
    {
      "cell_type": "code",
      "source": [
        "# Load the best model\n",
        "best_model_state = torch.load('best_model.pth')\n",
        "model = CNN()\n",
        "model.load_state_dict(best_model_state)\n",
        "model.eval()\n",
        "\n",
        "# Move model to GPU if available\n",
        "device = torch.device(\"cuda\" if torch.cuda.is_available() else \"cpu\")\n",
        "model = model.to(device)\n",
        "\n",
        "# Initialize test metrics\n",
        "true_labels_test = []\n",
        "predicted_labels_test = []\n",
        "\n",
        "# Perform testing\n",
        "with torch.no_grad():\n",
        "    for X_test, labels_test in test_loader:\n",
        "        labels_test = labels_test.to(device)\n",
        "        test_images = torch.tensor(batch_binary_vectors_to_gray_images(X_test, image_size=36),device=device) / 255.0\n",
        "        test_outputs = model(test_images)\n",
        "        predicted_test = torch.round(test_outputs.squeeze())\n",
        "\n",
        "        # Append true and predicted labels to the lists\n",
        "        true_labels_test.extend(labels_test.squeeze().tolist())\n",
        "        predicted_labels_test.extend(predicted_test.tolist())\n",
        "\n",
        "# Convert the lists to numpy arrays\n",
        "true_labels_test = np.array(true_labels_test)\n",
        "predicted_labels_test = np.array(predicted_labels_test)\n",
        "\n",
        "# Compute precision, recall, and F1 score for test set\n",
        "precision_test = precision_score(true_labels_test, predicted_labels_test)\n",
        "recall_test = recall_score(true_labels_test, predicted_labels_test)\n",
        "f1_test = f1_score(true_labels_test, predicted_labels_test)\n",
        "\n",
        "print(f\"Test Precision: {precision_test:.4f}, Recall: {recall_test:.4f}, F1 Score: {f1_test:.4f}\")\n"
      ],
      "metadata": {
        "colab": {
          "base_uri": "https://localhost:8080/"
        },
        "id": "zsziOGQE3K-k",
        "outputId": "e55f56e1-3175-4508-a42f-e039907ca77f"
      },
      "execution_count": null,
      "outputs": [
        {
          "output_type": "stream",
          "name": "stdout",
          "text": [
            "Test Precision: 0.9521, Recall: 0.8408, F1 Score: 0.8930\n"
          ]
        }
      ]
    }
  ]
}