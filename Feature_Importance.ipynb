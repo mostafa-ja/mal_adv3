{
  "nbformat": 4,
  "nbformat_minor": 0,
  "metadata": {
    "colab": {
      "provenance": [],
      "authorship_tag": "ABX9TyPo9aq1/6RDkrLFctEWoG5O",
      "include_colab_link": true
    },
    "kernelspec": {
      "name": "python3",
      "display_name": "Python 3"
    },
    "language_info": {
      "name": "python"
    }
  },
  "cells": [
    {
      "cell_type": "markdown",
      "metadata": {
        "id": "view-in-github",
        "colab_type": "text"
      },
      "source": [
        "<a href=\"https://colab.research.google.com/github/mostafa-ja/mal_adv3/blob/main/Feature_Importance.ipynb\" target=\"_parent\"><img src=\"https://colab.research.google.com/assets/colab-badge.svg\" alt=\"Open In Colab\"/></a>"
      ]
    },
    {
      "cell_type": "code",
      "execution_count": 1,
      "metadata": {
        "colab": {
          "base_uri": "https://localhost:8080/",
          "height": 105
        },
        "id": "qKHNggU2s0AU",
        "outputId": "ef70bbda-fa49-4ef8-b841-bbcfa09fa183"
      },
      "outputs": [
        {
          "output_type": "stream",
          "name": "stderr",
          "text": [
            "Downloading...\n",
            "From: https://drive.google.com/uc?id=103hYqdHD6mjAUVqMAECgZEZ7U7YmSCP9\n",
            "To: /content/drebin_drift.parquet.zip\n",
            "100%|██████████| 16.6M/16.6M [00:00<00:00, 119MB/s] \n"
          ]
        },
        {
          "output_type": "execute_result",
          "data": {
            "text/plain": [
              "'/content/drebin_drift.parquet.zip'"
            ],
            "application/vnd.google.colaboratory.intrinsic+json": {
              "type": "string"
            }
          },
          "metadata": {},
          "execution_count": 1
        }
      ],
      "source": [
        "# https://drive.google.com/file/d/103hYqdHD6mjAUVqMAECgZEZ7U7YmSCP9/view?usp=sharing\n",
        "import gdown\n",
        "download_link = 'https://drive.google.com/uc?id=103hYqdHD6mjAUVqMAECgZEZ7U7YmSCP9'\n",
        "output_filepath = '/content/'\n",
        "gdown.download(download_link, output_filepath)"
      ]
    },
    {
      "cell_type": "code",
      "source": [
        "import pandas as pd\n",
        "df = pd.read_parquet(\"/content/drebin_drift.parquet.zip\")\n",
        "df.head(3)"
      ],
      "metadata": {
        "colab": {
          "base_uri": "https://localhost:8080/",
          "height": 216
        },
        "id": "drqgaJzktQYC",
        "outputId": "68fb37b4-93d3-4309-fdb5-ead3ada5d356"
      },
      "execution_count": 2,
      "outputs": [
        {
          "output_type": "execute_result",
          "data": {
            "text/plain": [
              "                                              sha256      submission_date  \\\n",
              "0  a44a4856e27a0f8448a12f445b46d9430b93fd15414b04...  2009-06-08 02:21:25   \n",
              "1  05ffa80882edba811018e95e0284b1b77f36a5e0a85236...  2009-06-08 02:25:49   \n",
              "2  788411a922a37bdd731902272a2e22530bea75d6d44bc9...  2009-06-08 02:29:07   \n",
              "\n",
              "                                            api_call  \\\n",
              "0  android/media/MediaPlayer->start android/app/A...   \n",
              "1  android/media/MediaPlayer->stop android/os/Vib...   \n",
              "2  android/media/MediaPlayer->start android/app/A...   \n",
              "\n",
              "                                          permission url provider  \\\n",
              "0                         android.permission.VIBRATE                \n",
              "1  android.permission.VIBRATE android.permission....                \n",
              "2                                                                   \n",
              "\n",
              "                                             feature  \\\n",
              "0                       android.hardware.touchscreen   \n",
              "1  android.hardware.touchscreen android.hardware....   \n",
              "2                       android.hardware.touchscreen   \n",
              "\n",
              "                                              intent  \\\n",
              "0  android.intent.action.MAIN android.intent.cate...   \n",
              "1  android.intent.action.MAIN android.intent.cate...   \n",
              "2  android.intent.action.MAIN android.intent.cate...   \n",
              "\n",
              "                     activity              call service_receiver  \\\n",
              "0  .FlAndroidApp FlAndroidApp  getSystemService                    \n",
              "1                  .GloftMPL2  getSystemService                    \n",
              "2  .FlAndroidApp FlAndroidApp  getSystemService                    \n",
              "\n",
              "                                     real_permission  label  \n",
              "0  android.permission.INTERNET android.permission...      0  \n",
              "1  android.permission.MODIFY_AUDIO_SETTINGS andro...      0  \n",
              "2  android.permission.INTERNET android.permission...      0  "
            ],
            "text/html": [
              "\n",
              "  <div id=\"df-e11390c5-46df-41b6-a2b0-bf2694f82626\" class=\"colab-df-container\">\n",
              "    <div>\n",
              "<style scoped>\n",
              "    .dataframe tbody tr th:only-of-type {\n",
              "        vertical-align: middle;\n",
              "    }\n",
              "\n",
              "    .dataframe tbody tr th {\n",
              "        vertical-align: top;\n",
              "    }\n",
              "\n",
              "    .dataframe thead th {\n",
              "        text-align: right;\n",
              "    }\n",
              "</style>\n",
              "<table border=\"1\" class=\"dataframe\">\n",
              "  <thead>\n",
              "    <tr style=\"text-align: right;\">\n",
              "      <th></th>\n",
              "      <th>sha256</th>\n",
              "      <th>submission_date</th>\n",
              "      <th>api_call</th>\n",
              "      <th>permission</th>\n",
              "      <th>url</th>\n",
              "      <th>provider</th>\n",
              "      <th>feature</th>\n",
              "      <th>intent</th>\n",
              "      <th>activity</th>\n",
              "      <th>call</th>\n",
              "      <th>service_receiver</th>\n",
              "      <th>real_permission</th>\n",
              "      <th>label</th>\n",
              "    </tr>\n",
              "  </thead>\n",
              "  <tbody>\n",
              "    <tr>\n",
              "      <th>0</th>\n",
              "      <td>a44a4856e27a0f8448a12f445b46d9430b93fd15414b04...</td>\n",
              "      <td>2009-06-08 02:21:25</td>\n",
              "      <td>android/media/MediaPlayer-&gt;start android/app/A...</td>\n",
              "      <td>android.permission.VIBRATE</td>\n",
              "      <td></td>\n",
              "      <td></td>\n",
              "      <td>android.hardware.touchscreen</td>\n",
              "      <td>android.intent.action.MAIN android.intent.cate...</td>\n",
              "      <td>.FlAndroidApp FlAndroidApp</td>\n",
              "      <td>getSystemService</td>\n",
              "      <td></td>\n",
              "      <td>android.permission.INTERNET android.permission...</td>\n",
              "      <td>0</td>\n",
              "    </tr>\n",
              "    <tr>\n",
              "      <th>1</th>\n",
              "      <td>05ffa80882edba811018e95e0284b1b77f36a5e0a85236...</td>\n",
              "      <td>2009-06-08 02:25:49</td>\n",
              "      <td>android/media/MediaPlayer-&gt;stop android/os/Vib...</td>\n",
              "      <td>android.permission.VIBRATE android.permission....</td>\n",
              "      <td></td>\n",
              "      <td></td>\n",
              "      <td>android.hardware.touchscreen android.hardware....</td>\n",
              "      <td>android.intent.action.MAIN android.intent.cate...</td>\n",
              "      <td>.GloftMPL2</td>\n",
              "      <td>getSystemService</td>\n",
              "      <td></td>\n",
              "      <td>android.permission.MODIFY_AUDIO_SETTINGS andro...</td>\n",
              "      <td>0</td>\n",
              "    </tr>\n",
              "    <tr>\n",
              "      <th>2</th>\n",
              "      <td>788411a922a37bdd731902272a2e22530bea75d6d44bc9...</td>\n",
              "      <td>2009-06-08 02:29:07</td>\n",
              "      <td>android/media/MediaPlayer-&gt;start android/app/A...</td>\n",
              "      <td></td>\n",
              "      <td></td>\n",
              "      <td></td>\n",
              "      <td>android.hardware.touchscreen</td>\n",
              "      <td>android.intent.action.MAIN android.intent.cate...</td>\n",
              "      <td>.FlAndroidApp FlAndroidApp</td>\n",
              "      <td>getSystemService</td>\n",
              "      <td></td>\n",
              "      <td>android.permission.INTERNET android.permission...</td>\n",
              "      <td>0</td>\n",
              "    </tr>\n",
              "  </tbody>\n",
              "</table>\n",
              "</div>\n",
              "    <div class=\"colab-df-buttons\">\n",
              "\n",
              "  <div class=\"colab-df-container\">\n",
              "    <button class=\"colab-df-convert\" onclick=\"convertToInteractive('df-e11390c5-46df-41b6-a2b0-bf2694f82626')\"\n",
              "            title=\"Convert this dataframe to an interactive table.\"\n",
              "            style=\"display:none;\">\n",
              "\n",
              "  <svg xmlns=\"http://www.w3.org/2000/svg\" height=\"24px\" viewBox=\"0 -960 960 960\">\n",
              "    <path d=\"M120-120v-720h720v720H120Zm60-500h600v-160H180v160Zm220 220h160v-160H400v160Zm0 220h160v-160H400v160ZM180-400h160v-160H180v160Zm440 0h160v-160H620v160ZM180-180h160v-160H180v160Zm440 0h160v-160H620v160Z\"/>\n",
              "  </svg>\n",
              "    </button>\n",
              "\n",
              "  <style>\n",
              "    .colab-df-container {\n",
              "      display:flex;\n",
              "      gap: 12px;\n",
              "    }\n",
              "\n",
              "    .colab-df-convert {\n",
              "      background-color: #E8F0FE;\n",
              "      border: none;\n",
              "      border-radius: 50%;\n",
              "      cursor: pointer;\n",
              "      display: none;\n",
              "      fill: #1967D2;\n",
              "      height: 32px;\n",
              "      padding: 0 0 0 0;\n",
              "      width: 32px;\n",
              "    }\n",
              "\n",
              "    .colab-df-convert:hover {\n",
              "      background-color: #E2EBFA;\n",
              "      box-shadow: 0px 1px 2px rgba(60, 64, 67, 0.3), 0px 1px 3px 1px rgba(60, 64, 67, 0.15);\n",
              "      fill: #174EA6;\n",
              "    }\n",
              "\n",
              "    .colab-df-buttons div {\n",
              "      margin-bottom: 4px;\n",
              "    }\n",
              "\n",
              "    [theme=dark] .colab-df-convert {\n",
              "      background-color: #3B4455;\n",
              "      fill: #D2E3FC;\n",
              "    }\n",
              "\n",
              "    [theme=dark] .colab-df-convert:hover {\n",
              "      background-color: #434B5C;\n",
              "      box-shadow: 0px 1px 3px 1px rgba(0, 0, 0, 0.15);\n",
              "      filter: drop-shadow(0px 1px 2px rgba(0, 0, 0, 0.3));\n",
              "      fill: #FFFFFF;\n",
              "    }\n",
              "  </style>\n",
              "\n",
              "    <script>\n",
              "      const buttonEl =\n",
              "        document.querySelector('#df-e11390c5-46df-41b6-a2b0-bf2694f82626 button.colab-df-convert');\n",
              "      buttonEl.style.display =\n",
              "        google.colab.kernel.accessAllowed ? 'block' : 'none';\n",
              "\n",
              "      async function convertToInteractive(key) {\n",
              "        const element = document.querySelector('#df-e11390c5-46df-41b6-a2b0-bf2694f82626');\n",
              "        const dataTable =\n",
              "          await google.colab.kernel.invokeFunction('convertToInteractive',\n",
              "                                                    [key], {});\n",
              "        if (!dataTable) return;\n",
              "\n",
              "        const docLinkHtml = 'Like what you see? Visit the ' +\n",
              "          '<a target=\"_blank\" href=https://colab.research.google.com/notebooks/data_table.ipynb>data table notebook</a>'\n",
              "          + ' to learn more about interactive tables.';\n",
              "        element.innerHTML = '';\n",
              "        dataTable['output_type'] = 'display_data';\n",
              "        await google.colab.output.renderOutput(dataTable, element);\n",
              "        const docLink = document.createElement('div');\n",
              "        docLink.innerHTML = docLinkHtml;\n",
              "        element.appendChild(docLink);\n",
              "      }\n",
              "    </script>\n",
              "  </div>\n",
              "\n",
              "\n",
              "<div id=\"df-ae594fe0-3976-4885-9607-dac83ff416ad\">\n",
              "  <button class=\"colab-df-quickchart\" onclick=\"quickchart('df-ae594fe0-3976-4885-9607-dac83ff416ad')\"\n",
              "            title=\"Suggest charts\"\n",
              "            style=\"display:none;\">\n",
              "\n",
              "<svg xmlns=\"http://www.w3.org/2000/svg\" height=\"24px\"viewBox=\"0 0 24 24\"\n",
              "     width=\"24px\">\n",
              "    <g>\n",
              "        <path d=\"M19 3H5c-1.1 0-2 .9-2 2v14c0 1.1.9 2 2 2h14c1.1 0 2-.9 2-2V5c0-1.1-.9-2-2-2zM9 17H7v-7h2v7zm4 0h-2V7h2v10zm4 0h-2v-4h2v4z\"/>\n",
              "    </g>\n",
              "</svg>\n",
              "  </button>\n",
              "\n",
              "<style>\n",
              "  .colab-df-quickchart {\n",
              "      --bg-color: #E8F0FE;\n",
              "      --fill-color: #1967D2;\n",
              "      --hover-bg-color: #E2EBFA;\n",
              "      --hover-fill-color: #174EA6;\n",
              "      --disabled-fill-color: #AAA;\n",
              "      --disabled-bg-color: #DDD;\n",
              "  }\n",
              "\n",
              "  [theme=dark] .colab-df-quickchart {\n",
              "      --bg-color: #3B4455;\n",
              "      --fill-color: #D2E3FC;\n",
              "      --hover-bg-color: #434B5C;\n",
              "      --hover-fill-color: #FFFFFF;\n",
              "      --disabled-bg-color: #3B4455;\n",
              "      --disabled-fill-color: #666;\n",
              "  }\n",
              "\n",
              "  .colab-df-quickchart {\n",
              "    background-color: var(--bg-color);\n",
              "    border: none;\n",
              "    border-radius: 50%;\n",
              "    cursor: pointer;\n",
              "    display: none;\n",
              "    fill: var(--fill-color);\n",
              "    height: 32px;\n",
              "    padding: 0;\n",
              "    width: 32px;\n",
              "  }\n",
              "\n",
              "  .colab-df-quickchart:hover {\n",
              "    background-color: var(--hover-bg-color);\n",
              "    box-shadow: 0 1px 2px rgba(60, 64, 67, 0.3), 0 1px 3px 1px rgba(60, 64, 67, 0.15);\n",
              "    fill: var(--button-hover-fill-color);\n",
              "  }\n",
              "\n",
              "  .colab-df-quickchart-complete:disabled,\n",
              "  .colab-df-quickchart-complete:disabled:hover {\n",
              "    background-color: var(--disabled-bg-color);\n",
              "    fill: var(--disabled-fill-color);\n",
              "    box-shadow: none;\n",
              "  }\n",
              "\n",
              "  .colab-df-spinner {\n",
              "    border: 2px solid var(--fill-color);\n",
              "    border-color: transparent;\n",
              "    border-bottom-color: var(--fill-color);\n",
              "    animation:\n",
              "      spin 1s steps(1) infinite;\n",
              "  }\n",
              "\n",
              "  @keyframes spin {\n",
              "    0% {\n",
              "      border-color: transparent;\n",
              "      border-bottom-color: var(--fill-color);\n",
              "      border-left-color: var(--fill-color);\n",
              "    }\n",
              "    20% {\n",
              "      border-color: transparent;\n",
              "      border-left-color: var(--fill-color);\n",
              "      border-top-color: var(--fill-color);\n",
              "    }\n",
              "    30% {\n",
              "      border-color: transparent;\n",
              "      border-left-color: var(--fill-color);\n",
              "      border-top-color: var(--fill-color);\n",
              "      border-right-color: var(--fill-color);\n",
              "    }\n",
              "    40% {\n",
              "      border-color: transparent;\n",
              "      border-right-color: var(--fill-color);\n",
              "      border-top-color: var(--fill-color);\n",
              "    }\n",
              "    60% {\n",
              "      border-color: transparent;\n",
              "      border-right-color: var(--fill-color);\n",
              "    }\n",
              "    80% {\n",
              "      border-color: transparent;\n",
              "      border-right-color: var(--fill-color);\n",
              "      border-bottom-color: var(--fill-color);\n",
              "    }\n",
              "    90% {\n",
              "      border-color: transparent;\n",
              "      border-bottom-color: var(--fill-color);\n",
              "    }\n",
              "  }\n",
              "</style>\n",
              "\n",
              "  <script>\n",
              "    async function quickchart(key) {\n",
              "      const quickchartButtonEl =\n",
              "        document.querySelector('#' + key + ' button');\n",
              "      quickchartButtonEl.disabled = true;  // To prevent multiple clicks.\n",
              "      quickchartButtonEl.classList.add('colab-df-spinner');\n",
              "      try {\n",
              "        const charts = await google.colab.kernel.invokeFunction(\n",
              "            'suggestCharts', [key], {});\n",
              "      } catch (error) {\n",
              "        console.error('Error during call to suggestCharts:', error);\n",
              "      }\n",
              "      quickchartButtonEl.classList.remove('colab-df-spinner');\n",
              "      quickchartButtonEl.classList.add('colab-df-quickchart-complete');\n",
              "    }\n",
              "    (() => {\n",
              "      let quickchartButtonEl =\n",
              "        document.querySelector('#df-ae594fe0-3976-4885-9607-dac83ff416ad button');\n",
              "      quickchartButtonEl.style.display =\n",
              "        google.colab.kernel.accessAllowed ? 'block' : 'none';\n",
              "    })();\n",
              "  </script>\n",
              "</div>\n",
              "    </div>\n",
              "  </div>\n"
            ],
            "application/vnd.google.colaboratory.intrinsic+json": {
              "type": "dataframe",
              "variable_name": "df"
            }
          },
          "metadata": {},
          "execution_count": 2
        }
      ]
    },
    {
      "cell_type": "code",
      "source": [
        "df.rename(columns = {'feature':'Hardware Component', 'real_permission':'Used Permission', 'api_call':'Suspicious API Call', 'permission':'Requested Permission' }, inplace = True)"
      ],
      "metadata": {
        "id": "k4Cm4JEdtRQ2"
      },
      "execution_count": 3,
      "outputs": []
    },
    {
      "cell_type": "code",
      "source": [
        "df.head(3)"
      ],
      "metadata": {
        "colab": {
          "base_uri": "https://localhost:8080/",
          "height": 216
        },
        "id": "rc4ExlAEwaZ-",
        "outputId": "29ed1c05-8b20-4e52-e1bc-668903c7c361"
      },
      "execution_count": 4,
      "outputs": [
        {
          "output_type": "execute_result",
          "data": {
            "text/plain": [
              "                                              sha256      submission_date  \\\n",
              "0  a44a4856e27a0f8448a12f445b46d9430b93fd15414b04...  2009-06-08 02:21:25   \n",
              "1  05ffa80882edba811018e95e0284b1b77f36a5e0a85236...  2009-06-08 02:25:49   \n",
              "2  788411a922a37bdd731902272a2e22530bea75d6d44bc9...  2009-06-08 02:29:07   \n",
              "\n",
              "                                 Suspicious API Call  \\\n",
              "0  android/media/MediaPlayer->start android/app/A...   \n",
              "1  android/media/MediaPlayer->stop android/os/Vib...   \n",
              "2  android/media/MediaPlayer->start android/app/A...   \n",
              "\n",
              "                                Requested Permission url provider  \\\n",
              "0                         android.permission.VIBRATE                \n",
              "1  android.permission.VIBRATE android.permission....                \n",
              "2                                                                   \n",
              "\n",
              "                                  Hardware Component  \\\n",
              "0                       android.hardware.touchscreen   \n",
              "1  android.hardware.touchscreen android.hardware....   \n",
              "2                       android.hardware.touchscreen   \n",
              "\n",
              "                                              intent  \\\n",
              "0  android.intent.action.MAIN android.intent.cate...   \n",
              "1  android.intent.action.MAIN android.intent.cate...   \n",
              "2  android.intent.action.MAIN android.intent.cate...   \n",
              "\n",
              "                     activity              call service_receiver  \\\n",
              "0  .FlAndroidApp FlAndroidApp  getSystemService                    \n",
              "1                  .GloftMPL2  getSystemService                    \n",
              "2  .FlAndroidApp FlAndroidApp  getSystemService                    \n",
              "\n",
              "                                     Used Permission  label  \n",
              "0  android.permission.INTERNET android.permission...      0  \n",
              "1  android.permission.MODIFY_AUDIO_SETTINGS andro...      0  \n",
              "2  android.permission.INTERNET android.permission...      0  "
            ],
            "text/html": [
              "\n",
              "  <div id=\"df-c70c6296-19a0-4ace-90d6-299c9ad296c3\" class=\"colab-df-container\">\n",
              "    <div>\n",
              "<style scoped>\n",
              "    .dataframe tbody tr th:only-of-type {\n",
              "        vertical-align: middle;\n",
              "    }\n",
              "\n",
              "    .dataframe tbody tr th {\n",
              "        vertical-align: top;\n",
              "    }\n",
              "\n",
              "    .dataframe thead th {\n",
              "        text-align: right;\n",
              "    }\n",
              "</style>\n",
              "<table border=\"1\" class=\"dataframe\">\n",
              "  <thead>\n",
              "    <tr style=\"text-align: right;\">\n",
              "      <th></th>\n",
              "      <th>sha256</th>\n",
              "      <th>submission_date</th>\n",
              "      <th>Suspicious API Call</th>\n",
              "      <th>Requested Permission</th>\n",
              "      <th>url</th>\n",
              "      <th>provider</th>\n",
              "      <th>Hardware Component</th>\n",
              "      <th>intent</th>\n",
              "      <th>activity</th>\n",
              "      <th>call</th>\n",
              "      <th>service_receiver</th>\n",
              "      <th>Used Permission</th>\n",
              "      <th>label</th>\n",
              "    </tr>\n",
              "  </thead>\n",
              "  <tbody>\n",
              "    <tr>\n",
              "      <th>0</th>\n",
              "      <td>a44a4856e27a0f8448a12f445b46d9430b93fd15414b04...</td>\n",
              "      <td>2009-06-08 02:21:25</td>\n",
              "      <td>android/media/MediaPlayer-&gt;start android/app/A...</td>\n",
              "      <td>android.permission.VIBRATE</td>\n",
              "      <td></td>\n",
              "      <td></td>\n",
              "      <td>android.hardware.touchscreen</td>\n",
              "      <td>android.intent.action.MAIN android.intent.cate...</td>\n",
              "      <td>.FlAndroidApp FlAndroidApp</td>\n",
              "      <td>getSystemService</td>\n",
              "      <td></td>\n",
              "      <td>android.permission.INTERNET android.permission...</td>\n",
              "      <td>0</td>\n",
              "    </tr>\n",
              "    <tr>\n",
              "      <th>1</th>\n",
              "      <td>05ffa80882edba811018e95e0284b1b77f36a5e0a85236...</td>\n",
              "      <td>2009-06-08 02:25:49</td>\n",
              "      <td>android/media/MediaPlayer-&gt;stop android/os/Vib...</td>\n",
              "      <td>android.permission.VIBRATE android.permission....</td>\n",
              "      <td></td>\n",
              "      <td></td>\n",
              "      <td>android.hardware.touchscreen android.hardware....</td>\n",
              "      <td>android.intent.action.MAIN android.intent.cate...</td>\n",
              "      <td>.GloftMPL2</td>\n",
              "      <td>getSystemService</td>\n",
              "      <td></td>\n",
              "      <td>android.permission.MODIFY_AUDIO_SETTINGS andro...</td>\n",
              "      <td>0</td>\n",
              "    </tr>\n",
              "    <tr>\n",
              "      <th>2</th>\n",
              "      <td>788411a922a37bdd731902272a2e22530bea75d6d44bc9...</td>\n",
              "      <td>2009-06-08 02:29:07</td>\n",
              "      <td>android/media/MediaPlayer-&gt;start android/app/A...</td>\n",
              "      <td></td>\n",
              "      <td></td>\n",
              "      <td></td>\n",
              "      <td>android.hardware.touchscreen</td>\n",
              "      <td>android.intent.action.MAIN android.intent.cate...</td>\n",
              "      <td>.FlAndroidApp FlAndroidApp</td>\n",
              "      <td>getSystemService</td>\n",
              "      <td></td>\n",
              "      <td>android.permission.INTERNET android.permission...</td>\n",
              "      <td>0</td>\n",
              "    </tr>\n",
              "  </tbody>\n",
              "</table>\n",
              "</div>\n",
              "    <div class=\"colab-df-buttons\">\n",
              "\n",
              "  <div class=\"colab-df-container\">\n",
              "    <button class=\"colab-df-convert\" onclick=\"convertToInteractive('df-c70c6296-19a0-4ace-90d6-299c9ad296c3')\"\n",
              "            title=\"Convert this dataframe to an interactive table.\"\n",
              "            style=\"display:none;\">\n",
              "\n",
              "  <svg xmlns=\"http://www.w3.org/2000/svg\" height=\"24px\" viewBox=\"0 -960 960 960\">\n",
              "    <path d=\"M120-120v-720h720v720H120Zm60-500h600v-160H180v160Zm220 220h160v-160H400v160Zm0 220h160v-160H400v160ZM180-400h160v-160H180v160Zm440 0h160v-160H620v160ZM180-180h160v-160H180v160Zm440 0h160v-160H620v160Z\"/>\n",
              "  </svg>\n",
              "    </button>\n",
              "\n",
              "  <style>\n",
              "    .colab-df-container {\n",
              "      display:flex;\n",
              "      gap: 12px;\n",
              "    }\n",
              "\n",
              "    .colab-df-convert {\n",
              "      background-color: #E8F0FE;\n",
              "      border: none;\n",
              "      border-radius: 50%;\n",
              "      cursor: pointer;\n",
              "      display: none;\n",
              "      fill: #1967D2;\n",
              "      height: 32px;\n",
              "      padding: 0 0 0 0;\n",
              "      width: 32px;\n",
              "    }\n",
              "\n",
              "    .colab-df-convert:hover {\n",
              "      background-color: #E2EBFA;\n",
              "      box-shadow: 0px 1px 2px rgba(60, 64, 67, 0.3), 0px 1px 3px 1px rgba(60, 64, 67, 0.15);\n",
              "      fill: #174EA6;\n",
              "    }\n",
              "\n",
              "    .colab-df-buttons div {\n",
              "      margin-bottom: 4px;\n",
              "    }\n",
              "\n",
              "    [theme=dark] .colab-df-convert {\n",
              "      background-color: #3B4455;\n",
              "      fill: #D2E3FC;\n",
              "    }\n",
              "\n",
              "    [theme=dark] .colab-df-convert:hover {\n",
              "      background-color: #434B5C;\n",
              "      box-shadow: 0px 1px 3px 1px rgba(0, 0, 0, 0.15);\n",
              "      filter: drop-shadow(0px 1px 2px rgba(0, 0, 0, 0.3));\n",
              "      fill: #FFFFFF;\n",
              "    }\n",
              "  </style>\n",
              "\n",
              "    <script>\n",
              "      const buttonEl =\n",
              "        document.querySelector('#df-c70c6296-19a0-4ace-90d6-299c9ad296c3 button.colab-df-convert');\n",
              "      buttonEl.style.display =\n",
              "        google.colab.kernel.accessAllowed ? 'block' : 'none';\n",
              "\n",
              "      async function convertToInteractive(key) {\n",
              "        const element = document.querySelector('#df-c70c6296-19a0-4ace-90d6-299c9ad296c3');\n",
              "        const dataTable =\n",
              "          await google.colab.kernel.invokeFunction('convertToInteractive',\n",
              "                                                    [key], {});\n",
              "        if (!dataTable) return;\n",
              "\n",
              "        const docLinkHtml = 'Like what you see? Visit the ' +\n",
              "          '<a target=\"_blank\" href=https://colab.research.google.com/notebooks/data_table.ipynb>data table notebook</a>'\n",
              "          + ' to learn more about interactive tables.';\n",
              "        element.innerHTML = '';\n",
              "        dataTable['output_type'] = 'display_data';\n",
              "        await google.colab.output.renderOutput(dataTable, element);\n",
              "        const docLink = document.createElement('div');\n",
              "        docLink.innerHTML = docLinkHtml;\n",
              "        element.appendChild(docLink);\n",
              "      }\n",
              "    </script>\n",
              "  </div>\n",
              "\n",
              "\n",
              "<div id=\"df-89753435-b167-42dc-a969-28ec60df2898\">\n",
              "  <button class=\"colab-df-quickchart\" onclick=\"quickchart('df-89753435-b167-42dc-a969-28ec60df2898')\"\n",
              "            title=\"Suggest charts\"\n",
              "            style=\"display:none;\">\n",
              "\n",
              "<svg xmlns=\"http://www.w3.org/2000/svg\" height=\"24px\"viewBox=\"0 0 24 24\"\n",
              "     width=\"24px\">\n",
              "    <g>\n",
              "        <path d=\"M19 3H5c-1.1 0-2 .9-2 2v14c0 1.1.9 2 2 2h14c1.1 0 2-.9 2-2V5c0-1.1-.9-2-2-2zM9 17H7v-7h2v7zm4 0h-2V7h2v10zm4 0h-2v-4h2v4z\"/>\n",
              "    </g>\n",
              "</svg>\n",
              "  </button>\n",
              "\n",
              "<style>\n",
              "  .colab-df-quickchart {\n",
              "      --bg-color: #E8F0FE;\n",
              "      --fill-color: #1967D2;\n",
              "      --hover-bg-color: #E2EBFA;\n",
              "      --hover-fill-color: #174EA6;\n",
              "      --disabled-fill-color: #AAA;\n",
              "      --disabled-bg-color: #DDD;\n",
              "  }\n",
              "\n",
              "  [theme=dark] .colab-df-quickchart {\n",
              "      --bg-color: #3B4455;\n",
              "      --fill-color: #D2E3FC;\n",
              "      --hover-bg-color: #434B5C;\n",
              "      --hover-fill-color: #FFFFFF;\n",
              "      --disabled-bg-color: #3B4455;\n",
              "      --disabled-fill-color: #666;\n",
              "  }\n",
              "\n",
              "  .colab-df-quickchart {\n",
              "    background-color: var(--bg-color);\n",
              "    border: none;\n",
              "    border-radius: 50%;\n",
              "    cursor: pointer;\n",
              "    display: none;\n",
              "    fill: var(--fill-color);\n",
              "    height: 32px;\n",
              "    padding: 0;\n",
              "    width: 32px;\n",
              "  }\n",
              "\n",
              "  .colab-df-quickchart:hover {\n",
              "    background-color: var(--hover-bg-color);\n",
              "    box-shadow: 0 1px 2px rgba(60, 64, 67, 0.3), 0 1px 3px 1px rgba(60, 64, 67, 0.15);\n",
              "    fill: var(--button-hover-fill-color);\n",
              "  }\n",
              "\n",
              "  .colab-df-quickchart-complete:disabled,\n",
              "  .colab-df-quickchart-complete:disabled:hover {\n",
              "    background-color: var(--disabled-bg-color);\n",
              "    fill: var(--disabled-fill-color);\n",
              "    box-shadow: none;\n",
              "  }\n",
              "\n",
              "  .colab-df-spinner {\n",
              "    border: 2px solid var(--fill-color);\n",
              "    border-color: transparent;\n",
              "    border-bottom-color: var(--fill-color);\n",
              "    animation:\n",
              "      spin 1s steps(1) infinite;\n",
              "  }\n",
              "\n",
              "  @keyframes spin {\n",
              "    0% {\n",
              "      border-color: transparent;\n",
              "      border-bottom-color: var(--fill-color);\n",
              "      border-left-color: var(--fill-color);\n",
              "    }\n",
              "    20% {\n",
              "      border-color: transparent;\n",
              "      border-left-color: var(--fill-color);\n",
              "      border-top-color: var(--fill-color);\n",
              "    }\n",
              "    30% {\n",
              "      border-color: transparent;\n",
              "      border-left-color: var(--fill-color);\n",
              "      border-top-color: var(--fill-color);\n",
              "      border-right-color: var(--fill-color);\n",
              "    }\n",
              "    40% {\n",
              "      border-color: transparent;\n",
              "      border-right-color: var(--fill-color);\n",
              "      border-top-color: var(--fill-color);\n",
              "    }\n",
              "    60% {\n",
              "      border-color: transparent;\n",
              "      border-right-color: var(--fill-color);\n",
              "    }\n",
              "    80% {\n",
              "      border-color: transparent;\n",
              "      border-right-color: var(--fill-color);\n",
              "      border-bottom-color: var(--fill-color);\n",
              "    }\n",
              "    90% {\n",
              "      border-color: transparent;\n",
              "      border-bottom-color: var(--fill-color);\n",
              "    }\n",
              "  }\n",
              "</style>\n",
              "\n",
              "  <script>\n",
              "    async function quickchart(key) {\n",
              "      const quickchartButtonEl =\n",
              "        document.querySelector('#' + key + ' button');\n",
              "      quickchartButtonEl.disabled = true;  // To prevent multiple clicks.\n",
              "      quickchartButtonEl.classList.add('colab-df-spinner');\n",
              "      try {\n",
              "        const charts = await google.colab.kernel.invokeFunction(\n",
              "            'suggestCharts', [key], {});\n",
              "      } catch (error) {\n",
              "        console.error('Error during call to suggestCharts:', error);\n",
              "      }\n",
              "      quickchartButtonEl.classList.remove('colab-df-spinner');\n",
              "      quickchartButtonEl.classList.add('colab-df-quickchart-complete');\n",
              "    }\n",
              "    (() => {\n",
              "      let quickchartButtonEl =\n",
              "        document.querySelector('#df-89753435-b167-42dc-a969-28ec60df2898 button');\n",
              "      quickchartButtonEl.style.display =\n",
              "        google.colab.kernel.accessAllowed ? 'block' : 'none';\n",
              "    })();\n",
              "  </script>\n",
              "</div>\n",
              "    </div>\n",
              "  </div>\n"
            ],
            "application/vnd.google.colaboratory.intrinsic+json": {
              "type": "dataframe",
              "variable_name": "df"
            }
          },
          "metadata": {},
          "execution_count": 4
        }
      ]
    },
    {
      "cell_type": "code",
      "source": [
        "df.columns"
      ],
      "metadata": {
        "colab": {
          "base_uri": "https://localhost:8080/"
        },
        "id": "TuEctNLB25nO",
        "outputId": "b98cf176-999b-44a8-a1f0-68e7e8f7ab1d"
      },
      "execution_count": 5,
      "outputs": [
        {
          "output_type": "execute_result",
          "data": {
            "text/plain": [
              "Index(['sha256', 'submission_date', 'Suspicious API Call',\n",
              "       'Requested Permission', 'url', 'provider', 'Hardware Component',\n",
              "       'intent', 'activity', 'call', 'service_receiver', 'Used Permission',\n",
              "       'label'],\n",
              "      dtype='object')"
            ]
          },
          "metadata": {},
          "execution_count": 5
        }
      ]
    },
    {
      "cell_type": "markdown",
      "source": [
        "![image.png](data:image/png;base64,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)"
      ],
      "metadata": {
        "id": "edJcfPd22YHr"
      }
    },
    {
      "cell_type": "code",
      "source": [
        "from sklearn.feature_extraction.text import CountVectorizer\n",
        "\n",
        "# Example documents\n",
        "documents = [\n",
        "    \"This is the firstdocument.\",\n",
        "    \"This document is the.econd_document.\",\n",
        "    \"And this is the,thirdone.\",\n",
        "    \"Is this the first document?\",\n",
        "]\n",
        "\n",
        "# Create CountVectorizer object with modified token pattern\n",
        "vectorizer = CountVectorizer(binary=True, token_pattern=r'\\S+')\n",
        "\n",
        "# Fit and transform the documents\n",
        "X = vectorizer.fit_transform(documents)\n",
        "\n",
        "# Convert sparse matrix to array for visualization\n",
        "X_array = X.toarray()\n",
        "\n",
        "# Print feature names (vocabulary)\n",
        "print(\"Vocabulary:\", vectorizer.get_feature_names_out())\n",
        "\n",
        "# Print feature matrix\n",
        "print(\"Feature Matrix:\")\n",
        "print(X_array)\n"
      ],
      "metadata": {
        "colab": {
          "base_uri": "https://localhost:8080/"
        },
        "id": "GjPr0pUIOoQx",
        "outputId": "6ad534f7-75bc-4e7f-c677-c24743b5121c"
      },
      "execution_count": 6,
      "outputs": [
        {
          "output_type": "stream",
          "name": "stdout",
          "text": [
            "Vocabulary: ['and' 'document' 'document?' 'first' 'firstdocument.' 'is' 'the'\n",
            " 'the,thirdone.' 'the.econd_document.' 'this']\n",
            "Feature Matrix:\n",
            "[[0 0 0 0 1 1 1 0 0 1]\n",
            " [0 1 0 0 0 1 0 0 1 1]\n",
            " [1 0 0 0 0 1 0 1 0 1]\n",
            " [0 0 1 1 0 1 1 0 0 1]]\n"
          ]
        }
      ]
    },
    {
      "cell_type": "code",
      "source": [
        "columns = ['Suspicious API Call','Requested Permission', 'url', 'provider', 'Hardware Component','intent', 'activity', 'call', 'service_receiver', 'Used Permission']\n",
        "for column in columns:\n",
        "  vectorizer = CountVectorizer(binary=True, token_pattern=r'\\S+')\n",
        "  X = vectorizer.fit_transform(df[str(column)])\n",
        "  print(column , \" : \",X.shape[1])\n"
      ],
      "metadata": {
        "colab": {
          "base_uri": "https://localhost:8080/"
        },
        "id": "HA1WoM5E42VZ",
        "outputId": "1281e051-4efe-457b-c12e-714ca135fc3f"
      },
      "execution_count": 7,
      "outputs": [
        {
          "output_type": "stream",
          "name": "stdout",
          "text": [
            "Suspicious API Call  :  315\n",
            "Requested Permission  :  3803\n",
            "url  :  58443\n",
            "provider  :  4463\n",
            "Hardware Component  :  72\n",
            "intent  :  6313\n",
            "activity  :  181845\n",
            "call  :  800\n",
            "service_receiver  :  32569\n",
            "Used Permission  :  70\n"
          ]
        }
      ]
    },
    {
      "cell_type": "code",
      "source": [
        "import pandas as pd\n",
        "from sklearn.feature_extraction.text import CountVectorizer\n",
        "\n",
        "def preprocess_data(df):\n",
        "    # Concatenate all columns into a single string\n",
        "    df['concatenated'] = df.apply(lambda row: ' '.join(row.astype(str)), axis=1)\n",
        "    return df['concatenated']\n",
        "\n",
        "def extract_features(df):\n",
        "    # Preprocess the data\n",
        "    data = preprocess_data(df)\n",
        "\n",
        "    # Use CountVectorizer to tokenize and one-hot encode the data\n",
        "    vectorizer = CountVectorizer(binary=True, token_pattern=r'\\S+')\n",
        "    X = vectorizer.fit_transform(data)\n",
        "\n",
        "    return X, vectorizer.vocabulary_\n",
        ""
      ],
      "metadata": {
        "id": "Zda7-hTOIfv-"
      },
      "execution_count": 8,
      "outputs": []
    },
    {
      "cell_type": "code",
      "source": [
        "# Assuming 'df' is your DataFrame\n",
        "X, vocab = extract_features(df[['Suspicious API Call','Requested Permission', 'url', 'provider', 'Hardware Component','intent', 'activity', 'call', 'service_receiver', 'Used Permission']])\n",
        "\n",
        "# X is now your feature matrix, and vocab contains the vocabulary\n",
        "print(X.shape)  # Print shape of feature matrix"
      ],
      "metadata": {
        "colab": {
          "base_uri": "https://localhost:8080/"
        },
        "id": "GG5MPhUI4t3Q",
        "outputId": "38f6aca9-ec4d-435b-bb5f-e51c39e04337"
      },
      "execution_count": 9,
      "outputs": [
        {
          "output_type": "stream",
          "name": "stderr",
          "text": [
            "<ipython-input-8-d352c9c6c301>:6: SettingWithCopyWarning: \n",
            "A value is trying to be set on a copy of a slice from a DataFrame.\n",
            "Try using .loc[row_indexer,col_indexer] = value instead\n",
            "\n",
            "See the caveats in the documentation: https://pandas.pydata.org/pandas-docs/stable/user_guide/indexing.html#returning-a-view-versus-a-copy\n",
            "  df['concatenated'] = df.apply(lambda row: ' '.join(row.astype(str)), axis=1)\n"
          ]
        },
        {
          "output_type": "stream",
          "name": "stdout",
          "text": [
            "(129013, 286510)\n"
          ]
        }
      ]
    },
    {
      "cell_type": "code",
      "source": [
        "def swap_keys_and_values(original_dict):\n",
        "    new_dict = {value: key for key, value in original_dict.items()}\n",
        "    return new_dict\n",
        "\n",
        "# Create new dictionary with swapped keys and values\n",
        "vocab_n = swap_keys_and_values(vocab)"
      ],
      "metadata": {
        "id": "xCg6w4Zl-yfB"
      },
      "execution_count": 10,
      "outputs": []
    },
    {
      "cell_type": "code",
      "source": [
        "# Retrieve the first row of X\n",
        "first_row = X[0]\n",
        "\n",
        "# Get the indices where the values are non-zero (indicating the presence of a term)\n",
        "nonzero_indices = first_row.nonzero()[1]\n",
        "\n",
        "# Get the corresponding terms from the vocabulary\n",
        "terms = [term for term, index in vocab.items() if index in nonzero_indices]\n",
        "\n",
        "print(\"First row of X with corresponding vocabulary terms:\")\n",
        "for term in terms:\n",
        "    print(term)\n"
      ],
      "metadata": {
        "colab": {
          "base_uri": "https://localhost:8080/"
        },
        "id": "8J5jvyP52qGd",
        "outputId": "3386208b-76ca-4fc7-a1e1-7e8a40b712bc"
      },
      "execution_count": 11,
      "outputs": [
        {
          "output_type": "stream",
          "name": "stdout",
          "text": [
            "First row of X with corresponding vocabulary terms:\n",
            "android/media/mediaplayer->start\n",
            "android/app/activity->setcontentview\n",
            "android/os/vibrator->cancel\n",
            "android.permission.vibrate\n",
            "android.hardware.touchscreen\n",
            "android.intent.action.main\n",
            "android.intent.category.launcher\n",
            ".flandroidapp\n",
            "flandroidapp\n",
            "getsystemservice\n",
            "android.permission.internet\n",
            "android.permission.wake_lock\n"
          ]
        }
      ]
    },
    {
      "cell_type": "code",
      "source": [
        "from sklearn.ensemble import RandomForestClassifier\n",
        "import numpy as np\n",
        "\n",
        "labels= list(df['label'])\n",
        "\n",
        "# Step 1: Train a Random Forest Classifier\n",
        "rf_classifier = RandomForestClassifier()\n",
        "rf_classifier.fit(X, labels)\n",
        "\n",
        "# Step 2: Access Feature Importances\n",
        "feature_importances = rf_classifier.feature_importances_\n",
        "\n",
        "# Step 3: Rank Features by Importance\n",
        "# Get the indices that would sort the feature importances array in descending order\n",
        "sorted_indices = np.argsort(feature_importances)[::-1]\n",
        "\n",
        "# Print the top N features and their importance scores\n",
        "N = 20  # Number of top features to display\n",
        "print(\"Top\", N, \"features:\")\n",
        "print(\"{:<60} {:<20}\".format(\"Feature\", \"Importance Score\"))\n",
        "print('----------------------------------------------------------------')\n",
        "for i in range(N):\n",
        "    feature_index = sorted_indices[i]\n",
        "    importance_score = feature_importances[feature_index]\n",
        "    print(\"{:<60} {:<20}\".format(vocab_n[feature_index], importance_score))"
      ],
      "metadata": {
        "colab": {
          "base_uri": "https://localhost:8080/"
        },
        "id": "MaTjrtxQBitP",
        "outputId": "403080a6-7bff-4c4b-dc90-53a979a99586"
      },
      "execution_count": 12,
      "outputs": [
        {
          "output_type": "stream",
          "name": "stdout",
          "text": [
            "Top 20 features:\n",
            "Feature                                                      Importance Score    \n",
            "----------------------------------------------------------------\n",
            "sendsms                                                      0.01996778098705351 \n",
            "android.permission.send_sms                                  0.014861454551759568\n",
            "android/telephony/smsmanager->sendtextmessage                0.013138580322599656\n",
            "android.permission.read_sms                                  0.012099268593343896\n",
            "android.intent.action.sig_str                                0.011390059868817803\n",
            "android.intent.action.boot_completed                         0.010747724358226024\n",
            "android.intent.action.battery_changed_action                 0.010177214422733921\n",
            "android.hardware.telephony                                   0.009723189829833428\n",
            "android.permission.receive_sms                               0.008715413435363738\n",
            "com.motorola.launcher.permission.install_shortcut            0.008701289116093166\n",
            "android.intent.action.data_sms_received                      0.0076531973179855065\n",
            "system/bin/su                                                0.007463898029196084\n",
            "com.motorola.launcher.permission.read_settings               0.007074783302869274\n",
            "android.permission.receive_boot_completed                    0.006935881238814933\n",
            "android.permission.read_phone_state                          0.006797273452433434\n",
            "android.permission.install_packages                          0.006033789311127483\n",
            "com.android.browser.permission.read_history_bookmarks        0.006009809422843715\n",
            "com.android.browser.permission.write_history_bookmarks       0.006006342393955317\n",
            ".slyfomdg                                                    0.005967632331908483\n",
            ".notificator                                                 0.00565556683044532 \n"
          ]
        }
      ]
    },
    {
      "cell_type": "code",
      "source": [
        "# Assuming 'sorted_indices' contains the indices of the top 1000 important features\n",
        "\n",
        "# Select the indices of the top 1000 important features\n",
        "top_indices = sorted_indices[:10000]\n",
        "\n",
        "# Redefine X based on the top 1000 important features\n",
        "X_redefined = X[:, top_indices]\n",
        "\n",
        "# Now X_redefined contains only the top 1000 important features\n",
        "X_redefined.shape"
      ],
      "metadata": {
        "colab": {
          "base_uri": "https://localhost:8080/"
        },
        "id": "H3BwqfolB8nh",
        "outputId": "a5f8e14e-7ba4-47da-e635-2c731f0d75df"
      },
      "execution_count": 14,
      "outputs": [
        {
          "output_type": "execute_result",
          "data": {
            "text/plain": [
              "(129013, 10000)"
            ]
          },
          "metadata": {},
          "execution_count": 14
        }
      ]
    },
    {
      "cell_type": "code",
      "source": [
        "from sklearn.model_selection import train_test_split\n",
        "from sklearn.ensemble import RandomForestClassifier\n",
        "from sklearn.metrics import accuracy_score\n",
        "\n",
        "labels= list(df['label'])\n",
        "\n",
        "# Split the data into training and testing sets (e.g., 80% train, 20% test)\n",
        "X_train, X_test, y_train, y_test = train_test_split(X_redefined, labels, test_size=0.2, random_state=42)\n",
        "\n",
        "# Instantiate a Random Forest classifier\n",
        "rf_classifier2 = RandomForestClassifier(n_estimators=100, random_state=42)\n",
        "\n",
        "# Train the classifier on the training data\n",
        "rf_classifier2.fit(X_train, y_train)\n",
        "\n",
        "# Predict the labels for the test set\n",
        "y_pred = rf_classifier2.predict(X_test)\n",
        "\n",
        "# Evaluate the classifier\n",
        "accuracy = accuracy_score(y_test, y_pred)\n",
        "print(\"Accuracy:\", accuracy)\n"
      ],
      "metadata": {
        "colab": {
          "base_uri": "https://localhost:8080/"
        },
        "id": "jFB7cpS-28ae",
        "outputId": "d8c3ac7d-3f64-4876-cfaf-170811279983"
      },
      "execution_count": 15,
      "outputs": [
        {
          "output_type": "stream",
          "name": "stdout",
          "text": [
            "Accuracy: 0.99511684687827\n"
          ]
        }
      ]
    },
    {
      "cell_type": "code",
      "source": [
        "from sklearn.metrics import f1_score\n",
        "\n",
        "# Calculate the F1 score\n",
        "f1 = f1_score(y_test, y_pred)\n",
        "\n",
        "print(\"F1 Score:\", f1)\n"
      ],
      "metadata": {
        "colab": {
          "base_uri": "https://localhost:8080/"
        },
        "id": "7_oYPsquTm-4",
        "outputId": "2011997d-c81b-4290-a055-73fabd63856f"
      },
      "execution_count": 16,
      "outputs": [
        {
          "output_type": "stream",
          "name": "stdout",
          "text": [
            "F1 Score: 0.9411764705882353\n"
          ]
        }
      ]
    },
    {
      "cell_type": "code",
      "source": [],
      "metadata": {
        "id": "24lKE0JcUl-N"
      },
      "execution_count": 16,
      "outputs": []
    },
    {
      "cell_type": "code",
      "source": [
        "import torch\n",
        "import torch.nn as nn\n",
        "\n",
        "class MalwareClassifier(nn.Module):\n",
        "    def __init__(self, dropout_prob):\n",
        "        super(MalwareClassifier, self).__init__()\n",
        "        # Define input size\n",
        "        input_size = 10000\n",
        "        # Define hidden layer sizes\n",
        "        hidden_size = 200\n",
        "\n",
        "        # Define the layers\n",
        "        self.fc1 = nn.Linear(input_size, hidden_size)\n",
        "        self.relu1 = nn.ReLU()\n",
        "        self.dropout1 = nn.Dropout(dropout_prob)  # Dropout with specified probability\n",
        "        self.fc2 = nn.Linear(hidden_size, hidden_size)\n",
        "        self.relu2 = nn.ReLU()\n",
        "        self.dropout2 = nn.Dropout(dropout_prob)  # Dropout with specified probability\n",
        "        self.fc3 = nn.Linear(hidden_size, 1)  # Output layer with single neuron for binary classification\n",
        "        self.sigmoid = nn.Sigmoid()  # Sigmoid activation function for binary classification\n",
        "\n",
        "    def forward(self, x):\n",
        "        # Forward pass\n",
        "        out = self.fc1(x)\n",
        "        out = self.relu1(out)\n",
        "        out = self.dropout1(out)\n",
        "        out = self.fc2(out)\n",
        "        out = self.relu2(out)\n",
        "        out = self.dropout2(out)\n",
        "        out = self.fc3(out)\n",
        "        out = self.sigmoid(out)  # Sigmoid activation for binary classification\n",
        "        return out\n"
      ],
      "metadata": {
        "id": "VGLAwHseVjtL"
      },
      "execution_count": 17,
      "outputs": []
    },
    {
      "cell_type": "code",
      "source": [
        "import torch\n",
        "import torch.nn as nn\n",
        "import torch.optim as optim\n",
        "from torch.utils.data import TensorDataset, DataLoader\n",
        "from scipy.sparse import csr_matrix\n",
        "from sklearn.model_selection import train_test_split\n",
        "\n",
        "\n",
        "# Convert labels to PyTorch tensor\n",
        "labels_tensor = torch.tensor(labels, dtype=torch.float32).view(-1, 1)  # Reshape labels to match model output\n",
        "\n",
        "# Split data into train, validation, and test sets with stratified sampling\n",
        "X_train_val, X_test, labels_train_val, labels_test = train_test_split(X_redefined, labels_tensor, test_size=0.2, stratify=labels, random_state=42)\n",
        "X_train, X_val, labels_train, labels_val = train_test_split(X_train_val, labels_train_val, test_size=0.2, stratify=labels_train_val, random_state=42)\n",
        "\n",
        "# Combine features and labels into datasets\n",
        "train_dataset = TensorDataset(torch.tensor(X_train.toarray(), dtype=torch.float32), labels_train)\n",
        "val_dataset = TensorDataset(torch.tensor(X_val.toarray(), dtype=torch.float32), labels_val)\n",
        "test_dataset = TensorDataset(torch.tensor(X_test.toarray(), dtype=torch.float32), labels_test)\n",
        "\n",
        "# Define the DataLoader for training, validation, and test sets\n",
        "batch_size = 128\n",
        "train_loader = DataLoader(train_dataset, batch_size=batch_size, shuffle=True)\n",
        "val_loader = DataLoader(val_dataset, batch_size=batch_size, shuffle=False)\n",
        "test_loader = DataLoader(test_dataset, batch_size=batch_size, shuffle=False)"
      ],
      "metadata": {
        "id": "g3BUXjXdZ9wq"
      },
      "execution_count": 18,
      "outputs": []
    },
    {
      "cell_type": "code",
      "source": [
        "# Create an instance of the model with dropout probability of 0.6\n",
        "model = MalwareClassifier(dropout_prob=0.6)\n",
        "\n",
        "# Define loss function and optimizer\n",
        "criterion = nn.BCELoss()\n",
        "optimizer = optim.Adam(model.parameters(), lr=0.001)\n",
        "\n",
        "# Train the model\n",
        "num_epochs = 50\n",
        "for epoch in range(num_epochs):\n",
        "    model.train()  # Set the model to training mode\n",
        "    for batch_X, batch_labels in train_loader:\n",
        "        # Forward pass\n",
        "        outputs = model(batch_X)\n",
        "\n",
        "        # Compute loss\n",
        "        loss = criterion(outputs, batch_labels)\n",
        "\n",
        "        # Backward pass and optimization\n",
        "        optimizer.zero_grad()\n",
        "        loss.backward()\n",
        "        optimizer.step()\n",
        "\n",
        "    # Print training loss\n",
        "    print(f'Epoch [{epoch+1}/{num_epochs}], Training Loss: {loss.item():.4f}')\n",
        "\n",
        "    # Evaluate on validation set\n",
        "    model.eval()  # Set the model to evaluation mode\n",
        "    val_loss = 0.0\n",
        "    correct = 0\n",
        "    total = 0\n",
        "    with torch.no_grad():\n",
        "        for batch_X, batch_labels in val_loader:\n",
        "            outputs = model(batch_X)\n",
        "            val_loss += criterion(outputs, batch_labels).item()\n",
        "\n",
        "            # Convert probabilities to predicted labels\n",
        "            predicted = torch.round(outputs)\n",
        "\n",
        "            # Count correct predictions\n",
        "            correct += (predicted == batch_labels).sum().item()\n",
        "\n",
        "            # Count total samples\n",
        "            total += batch_labels.size(0)\n",
        "\n",
        "    val_loss /= len(val_loader)\n",
        "    accuracy = correct / total\n",
        "    print(f'Epoch [{epoch+1}/{num_epochs}], Validation Loss: {val_loss:.4f}, Validation Accuracy: {accuracy:.4f}')\n",
        "\n",
        "# Optionally, save the trained model\n",
        "# torch.save(model.state_dict(), 'malware_classifier.pth')\n"
      ],
      "metadata": {
        "colab": {
          "base_uri": "https://localhost:8080/",
          "height": 790
        },
        "id": "x3N55G0SXNOE",
        "outputId": "2a4aae15-1c59-4d49-b484-85eeef8e5811"
      },
      "execution_count": 41,
      "outputs": [
        {
          "output_type": "stream",
          "name": "stdout",
          "text": [
            "Epoch [1/50], Training Loss: 0.0082\n",
            "Epoch [1/50], Validation Loss: 0.0318, Validation Accuracy: 0.9907\n",
            "Epoch [2/50], Training Loss: 0.0011\n",
            "Epoch [2/50], Validation Loss: 0.0272, Validation Accuracy: 0.9921\n",
            "Epoch [3/50], Training Loss: 0.0012\n",
            "Epoch [3/50], Validation Loss: 0.0234, Validation Accuracy: 0.9936\n",
            "Epoch [4/50], Training Loss: 0.0098\n",
            "Epoch [4/50], Validation Loss: 0.0253, Validation Accuracy: 0.9936\n",
            "Epoch [5/50], Training Loss: 0.0054\n",
            "Epoch [5/50], Validation Loss: 0.0244, Validation Accuracy: 0.9940\n",
            "Epoch [6/50], Training Loss: 1.1047\n",
            "Epoch [6/50], Validation Loss: 0.0233, Validation Accuracy: 0.9943\n",
            "Epoch [7/50], Training Loss: 0.0003\n",
            "Epoch [7/50], Validation Loss: 0.0262, Validation Accuracy: 0.9943\n",
            "Epoch [8/50], Training Loss: 0.0000\n",
            "Epoch [8/50], Validation Loss: 0.0222, Validation Accuracy: 0.9949\n",
            "Epoch [9/50], Training Loss: 0.0002\n",
            "Epoch [9/50], Validation Loss: 0.0243, Validation Accuracy: 0.9947\n",
            "Epoch [10/50], Training Loss: 0.0002\n",
            "Epoch [10/50], Validation Loss: 0.0250, Validation Accuracy: 0.9945\n",
            "Epoch [11/50], Training Loss: 0.0002\n",
            "Epoch [11/50], Validation Loss: 0.0263, Validation Accuracy: 0.9949\n",
            "Epoch [12/50], Training Loss: 0.0034\n",
            "Epoch [12/50], Validation Loss: 0.0239, Validation Accuracy: 0.9951\n"
          ]
        },
        {
          "output_type": "error",
          "ename": "KeyboardInterrupt",
          "evalue": "",
          "traceback": [
            "\u001b[0;31m---------------------------------------------------------------------------\u001b[0m",
            "\u001b[0;31mKeyboardInterrupt\u001b[0m                         Traceback (most recent call last)",
            "\u001b[0;32m<ipython-input-41-bd5f4b8a0ccb>\u001b[0m in \u001b[0;36m<cell line: 10>\u001b[0;34m()\u001b[0m\n\u001b[1;32m     20\u001b[0m         \u001b[0moptimizer\u001b[0m\u001b[0;34m.\u001b[0m\u001b[0mzero_grad\u001b[0m\u001b[0;34m(\u001b[0m\u001b[0;34m)\u001b[0m\u001b[0;34m\u001b[0m\u001b[0;34m\u001b[0m\u001b[0m\n\u001b[1;32m     21\u001b[0m         \u001b[0mloss\u001b[0m\u001b[0;34m.\u001b[0m\u001b[0mbackward\u001b[0m\u001b[0;34m(\u001b[0m\u001b[0;34m)\u001b[0m\u001b[0;34m\u001b[0m\u001b[0;34m\u001b[0m\u001b[0m\n\u001b[0;32m---> 22\u001b[0;31m         \u001b[0moptimizer\u001b[0m\u001b[0;34m.\u001b[0m\u001b[0mstep\u001b[0m\u001b[0;34m(\u001b[0m\u001b[0;34m)\u001b[0m\u001b[0;34m\u001b[0m\u001b[0;34m\u001b[0m\u001b[0m\n\u001b[0m\u001b[1;32m     23\u001b[0m \u001b[0;34m\u001b[0m\u001b[0m\n\u001b[1;32m     24\u001b[0m     \u001b[0;31m# Print training loss\u001b[0m\u001b[0;34m\u001b[0m\u001b[0;34m\u001b[0m\u001b[0m\n",
            "\u001b[0;32m/usr/local/lib/python3.10/dist-packages/torch/optim/optimizer.py\u001b[0m in \u001b[0;36mwrapper\u001b[0;34m(*args, **kwargs)\u001b[0m\n\u001b[1;32m    371\u001b[0m                             )\n\u001b[1;32m    372\u001b[0m \u001b[0;34m\u001b[0m\u001b[0m\n\u001b[0;32m--> 373\u001b[0;31m                 \u001b[0mout\u001b[0m \u001b[0;34m=\u001b[0m \u001b[0mfunc\u001b[0m\u001b[0;34m(\u001b[0m\u001b[0;34m*\u001b[0m\u001b[0margs\u001b[0m\u001b[0;34m,\u001b[0m \u001b[0;34m**\u001b[0m\u001b[0mkwargs\u001b[0m\u001b[0;34m)\u001b[0m\u001b[0;34m\u001b[0m\u001b[0;34m\u001b[0m\u001b[0m\n\u001b[0m\u001b[1;32m    374\u001b[0m                 \u001b[0mself\u001b[0m\u001b[0;34m.\u001b[0m\u001b[0m_optimizer_step_code\u001b[0m\u001b[0;34m(\u001b[0m\u001b[0;34m)\u001b[0m\u001b[0;34m\u001b[0m\u001b[0;34m\u001b[0m\u001b[0m\n\u001b[1;32m    375\u001b[0m \u001b[0;34m\u001b[0m\u001b[0m\n",
            "\u001b[0;32m/usr/local/lib/python3.10/dist-packages/torch/optim/optimizer.py\u001b[0m in \u001b[0;36m_use_grad\u001b[0;34m(self, *args, **kwargs)\u001b[0m\n\u001b[1;32m     74\u001b[0m             \u001b[0mtorch\u001b[0m\u001b[0;34m.\u001b[0m\u001b[0mset_grad_enabled\u001b[0m\u001b[0;34m(\u001b[0m\u001b[0mself\u001b[0m\u001b[0;34m.\u001b[0m\u001b[0mdefaults\u001b[0m\u001b[0;34m[\u001b[0m\u001b[0;34m'differentiable'\u001b[0m\u001b[0;34m]\u001b[0m\u001b[0;34m)\u001b[0m\u001b[0;34m\u001b[0m\u001b[0;34m\u001b[0m\u001b[0m\n\u001b[1;32m     75\u001b[0m             \u001b[0mtorch\u001b[0m\u001b[0;34m.\u001b[0m\u001b[0m_dynamo\u001b[0m\u001b[0;34m.\u001b[0m\u001b[0mgraph_break\u001b[0m\u001b[0;34m(\u001b[0m\u001b[0;34m)\u001b[0m\u001b[0;34m\u001b[0m\u001b[0;34m\u001b[0m\u001b[0m\n\u001b[0;32m---> 76\u001b[0;31m             \u001b[0mret\u001b[0m \u001b[0;34m=\u001b[0m \u001b[0mfunc\u001b[0m\u001b[0;34m(\u001b[0m\u001b[0mself\u001b[0m\u001b[0;34m,\u001b[0m \u001b[0;34m*\u001b[0m\u001b[0margs\u001b[0m\u001b[0;34m,\u001b[0m \u001b[0;34m**\u001b[0m\u001b[0mkwargs\u001b[0m\u001b[0;34m)\u001b[0m\u001b[0;34m\u001b[0m\u001b[0;34m\u001b[0m\u001b[0m\n\u001b[0m\u001b[1;32m     77\u001b[0m         \u001b[0;32mfinally\u001b[0m\u001b[0;34m:\u001b[0m\u001b[0;34m\u001b[0m\u001b[0;34m\u001b[0m\u001b[0m\n\u001b[1;32m     78\u001b[0m             \u001b[0mtorch\u001b[0m\u001b[0;34m.\u001b[0m\u001b[0m_dynamo\u001b[0m\u001b[0;34m.\u001b[0m\u001b[0mgraph_break\u001b[0m\u001b[0;34m(\u001b[0m\u001b[0;34m)\u001b[0m\u001b[0;34m\u001b[0m\u001b[0;34m\u001b[0m\u001b[0m\n",
            "\u001b[0;32m/usr/local/lib/python3.10/dist-packages/torch/optim/adam.py\u001b[0m in \u001b[0;36mstep\u001b[0;34m(self, closure)\u001b[0m\n\u001b[1;32m    161\u001b[0m                 state_steps)\n\u001b[1;32m    162\u001b[0m \u001b[0;34m\u001b[0m\u001b[0m\n\u001b[0;32m--> 163\u001b[0;31m             adam(\n\u001b[0m\u001b[1;32m    164\u001b[0m                 \u001b[0mparams_with_grad\u001b[0m\u001b[0;34m,\u001b[0m\u001b[0;34m\u001b[0m\u001b[0;34m\u001b[0m\u001b[0m\n\u001b[1;32m    165\u001b[0m                 \u001b[0mgrads\u001b[0m\u001b[0;34m,\u001b[0m\u001b[0;34m\u001b[0m\u001b[0;34m\u001b[0m\u001b[0m\n",
            "\u001b[0;32m/usr/local/lib/python3.10/dist-packages/torch/optim/adam.py\u001b[0m in \u001b[0;36madam\u001b[0;34m(params, grads, exp_avgs, exp_avg_sqs, max_exp_avg_sqs, state_steps, foreach, capturable, differentiable, fused, grad_scale, found_inf, amsgrad, beta1, beta2, lr, weight_decay, eps, maximize)\u001b[0m\n\u001b[1;32m    309\u001b[0m         \u001b[0mfunc\u001b[0m \u001b[0;34m=\u001b[0m \u001b[0m_single_tensor_adam\u001b[0m\u001b[0;34m\u001b[0m\u001b[0;34m\u001b[0m\u001b[0m\n\u001b[1;32m    310\u001b[0m \u001b[0;34m\u001b[0m\u001b[0m\n\u001b[0;32m--> 311\u001b[0;31m     func(params,\n\u001b[0m\u001b[1;32m    312\u001b[0m          \u001b[0mgrads\u001b[0m\u001b[0;34m,\u001b[0m\u001b[0;34m\u001b[0m\u001b[0;34m\u001b[0m\u001b[0m\n\u001b[1;32m    313\u001b[0m          \u001b[0mexp_avgs\u001b[0m\u001b[0;34m,\u001b[0m\u001b[0;34m\u001b[0m\u001b[0;34m\u001b[0m\u001b[0m\n",
            "\u001b[0;32m/usr/local/lib/python3.10/dist-packages/torch/optim/adam.py\u001b[0m in \u001b[0;36m_single_tensor_adam\u001b[0;34m(params, grads, exp_avgs, exp_avg_sqs, max_exp_avg_sqs, state_steps, grad_scale, found_inf, amsgrad, beta1, beta2, lr, weight_decay, eps, maximize, capturable, differentiable)\u001b[0m\n\u001b[1;32m    430\u001b[0m                 \u001b[0mdenom\u001b[0m \u001b[0;34m=\u001b[0m \u001b[0;34m(\u001b[0m\u001b[0mmax_exp_avg_sqs\u001b[0m\u001b[0;34m[\u001b[0m\u001b[0mi\u001b[0m\u001b[0;34m]\u001b[0m\u001b[0;34m.\u001b[0m\u001b[0msqrt\u001b[0m\u001b[0;34m(\u001b[0m\u001b[0;34m)\u001b[0m \u001b[0;34m/\u001b[0m \u001b[0mbias_correction2_sqrt\u001b[0m\u001b[0;34m)\u001b[0m\u001b[0;34m.\u001b[0m\u001b[0madd_\u001b[0m\u001b[0;34m(\u001b[0m\u001b[0meps\u001b[0m\u001b[0;34m)\u001b[0m\u001b[0;34m\u001b[0m\u001b[0;34m\u001b[0m\u001b[0m\n\u001b[1;32m    431\u001b[0m             \u001b[0;32melse\u001b[0m\u001b[0;34m:\u001b[0m\u001b[0;34m\u001b[0m\u001b[0;34m\u001b[0m\u001b[0m\n\u001b[0;32m--> 432\u001b[0;31m                 \u001b[0mdenom\u001b[0m \u001b[0;34m=\u001b[0m \u001b[0;34m(\u001b[0m\u001b[0mexp_avg_sq\u001b[0m\u001b[0;34m.\u001b[0m\u001b[0msqrt\u001b[0m\u001b[0;34m(\u001b[0m\u001b[0;34m)\u001b[0m \u001b[0;34m/\u001b[0m \u001b[0mbias_correction2_sqrt\u001b[0m\u001b[0;34m)\u001b[0m\u001b[0;34m.\u001b[0m\u001b[0madd_\u001b[0m\u001b[0;34m(\u001b[0m\u001b[0meps\u001b[0m\u001b[0;34m)\u001b[0m\u001b[0;34m\u001b[0m\u001b[0;34m\u001b[0m\u001b[0m\n\u001b[0m\u001b[1;32m    433\u001b[0m \u001b[0;34m\u001b[0m\u001b[0m\n\u001b[1;32m    434\u001b[0m             \u001b[0mparam\u001b[0m\u001b[0;34m.\u001b[0m\u001b[0maddcdiv_\u001b[0m\u001b[0;34m(\u001b[0m\u001b[0mexp_avg\u001b[0m\u001b[0;34m,\u001b[0m \u001b[0mdenom\u001b[0m\u001b[0;34m,\u001b[0m \u001b[0mvalue\u001b[0m\u001b[0;34m=\u001b[0m\u001b[0;34m-\u001b[0m\u001b[0mstep_size\u001b[0m\u001b[0;34m)\u001b[0m\u001b[0;34m\u001b[0m\u001b[0;34m\u001b[0m\u001b[0m\n",
            "\u001b[0;31mKeyboardInterrupt\u001b[0m: "
          ]
        }
      ]
    },
    {
      "cell_type": "code",
      "source": [
        "import torch\n",
        "from sklearn.metrics import accuracy_score, precision_score, recall_score, f1_score\n",
        "\n",
        "# Evaluate the trained model on the test set\n",
        "model.eval()  # Set the model to evaluation mode\n",
        "predictions = []\n",
        "true_labels = []\n",
        "\n",
        "with torch.no_grad():\n",
        "    for X_batch, labels_batch in test_loader:\n",
        "        outputs = model(X_batch)\n",
        "        predicted = torch.round(outputs)\n",
        "        predictions.extend(predicted.tolist())\n",
        "        true_labels.extend(labels_batch.tolist())\n",
        "\n",
        "# Convert predictions and true labels to numpy arrays\n",
        "predictions = np.array(predictions)\n",
        "true_labels = np.array(true_labels)\n",
        "\n",
        "# Calculate test accuracy\n",
        "accuracy = accuracy_score(true_labels, predictions)\n",
        "print(f'Test Accuracy: {accuracy:.4f}')\n",
        "\n",
        "# Calculate precision, recall, and F1-score\n",
        "precision = precision_score(true_labels, predictions)\n",
        "recall = recall_score(true_labels, predictions)\n",
        "f1 = f1_score(true_labels, predictions)\n",
        "\n",
        "print(f'Precision: {precision:.4f}')\n",
        "print(f'Recall: {recall:.4f}')\n",
        "print(f'F1-score: {f1:.4f}')\n"
      ],
      "metadata": {
        "colab": {
          "base_uri": "https://localhost:8080/"
        },
        "id": "L8jOwDoKpfGh",
        "outputId": "c0afff4e-dd85-4de3-e82d-f1092d1b3b1e"
      },
      "execution_count": 42,
      "outputs": [
        {
          "output_type": "stream",
          "name": "stdout",
          "text": [
            "Test Accuracy: 0.9937\n",
            "Precision: 0.9740\n",
            "Recall: 0.8768\n",
            "F1-score: 0.9229\n"
          ]
        }
      ]
    },
    {
      "cell_type": "code",
      "source": [
        "# Calculate true positives, true negatives, false positives, and false negatives\n",
        "TP = ((predictions == 1) & (true_labels == 1)).sum()\n",
        "TN = ((predictions == 0) & (true_labels == 0)).sum()\n",
        "FP = ((predictions == 1) & (true_labels == 0)).sum()\n",
        "FN = ((predictions == 0) & (true_labels == 1)).sum()\n",
        "\n",
        "print(f'True Positives (TP): {TP}')\n",
        "print(f'True Negatives (TN): {TN}')\n",
        "print(f'False Positives (FP): {FP}')\n",
        "print(f'False Negatives (FN): {FN}')\n"
      ],
      "metadata": {
        "colab": {
          "base_uri": "https://localhost:8080/"
        },
        "id": "Uy_QpVDcysWC",
        "outputId": "a6f7c7ef-6787-4405-8fa9-d0e97b0651c5"
      },
      "execution_count": 43,
      "outputs": [
        {
          "output_type": "stream",
          "name": "stdout",
          "text": [
            "True Positives (TP): 975\n",
            "True Negatives (TN): 24665\n",
            "False Positives (FP): 26\n",
            "False Negatives (FN): 137\n"
          ]
        }
      ]
    },
    {
      "cell_type": "code",
      "source": [
        "#here , we define prediction, as probability(not binary)\n",
        "\n",
        "import numpy as np\n",
        "from sklearn.metrics import f1_score\n",
        "\n",
        "# Evaluate the trained model on the test set\n",
        "model.eval()  # Set the model to evaluation mode\n",
        "predictions = []\n",
        "true_labels = []\n",
        "\n",
        "with torch.no_grad():\n",
        "    for X_batch, labels_batch in test_loader:\n",
        "        outputs = model(X_batch)\n",
        "        predictions.extend(outputs.tolist())\n",
        "        true_labels.extend(labels_batch.tolist())\n",
        "\n",
        "# Convert predictions and true labels to numpy arrays\n",
        "predictions = np.array(predictions)\n",
        "true_labels = np.array(true_labels)\n",
        "\n",
        "\n",
        "# Calculate precision and recall\n",
        "precision, recall, thresholds = precision_recall_curve(true_labels, predictions)\n",
        "\n",
        "# Calculate F1-score for each threshold\n",
        "f1_scores = 2 * (precision * recall) / (precision + recall)\n",
        "\n",
        "# Find the threshold that maximizes the F1-score\n",
        "best_f1_threshold = thresholds[np.argmax(f1_scores)]\n",
        "best_f1_score = np.max(f1_scores)\n",
        "\n",
        "print(f'Best F1-score: {best_f1_score:.4f} at threshold: {best_f1_threshold:.4f}')\n"
      ],
      "metadata": {
        "colab": {
          "base_uri": "https://localhost:8080/"
        },
        "id": "xZv8mNmjwmem",
        "outputId": "530f69ad-2900-4ff9-db79-0fb2a3ef329e"
      },
      "execution_count": 44,
      "outputs": [
        {
          "output_type": "stream",
          "name": "stdout",
          "text": [
            "Best F1-score: 0.9308 at threshold: 0.3383\n"
          ]
        }
      ]
    },
    {
      "cell_type": "code",
      "source": [
        "import matplotlib.pyplot as plt\n",
        "from sklearn.metrics import precision_recall_curve\n",
        "\n",
        "# Calculate precision and recall\n",
        "precision, recall, _ = precision_recall_curve(true_labels, predictions)\n",
        "\n",
        "# Plot precision-recall curve\n",
        "plt.plot(recall, precision, marker='.')\n",
        "plt.xlabel('Recall')\n",
        "plt.ylabel('Precision')\n",
        "plt.title('Precision-Recall Curve')\n",
        "plt.grid(True)\n",
        "plt.show()\n"
      ],
      "metadata": {
        "colab": {
          "base_uri": "https://localhost:8080/",
          "height": 472
        },
        "id": "QcKIyS9TwJos",
        "outputId": "b31f9be6-2d09-467f-ff26-885a78bf1313"
      },
      "execution_count": 45,
      "outputs": [
        {
          "output_type": "display_data",
          "data": {
            "text/plain": [
              "<Figure size 640x480 with 1 Axes>"
            ],
            "image/png": "[encoded data removed]"
          },
          "metadata": {}
        }
      ]
    },
    {
      "cell_type": "code",
      "source": [
        "from sklearn.metrics import roc_curve, auc\n",
        "import matplotlib.pyplot as plt\n",
        "\n",
        "\n",
        "# Compute fpr, tpr, thresholds\n",
        "fpr, tpr, thresholds = roc_curve(true_labels, predictions)\n",
        "\n",
        "# Compute AUC (Area Under the Curve)\n",
        "roc_auc = auc(fpr, tpr)\n",
        "\n",
        "# Plot ROC curve\n",
        "plt.figure(figsize=(8, 6))\n",
        "plt.plot(fpr, tpr, color='blue', lw=2, label='ROC curve (AUC = %0.4f)' % roc_auc)\n",
        "plt.plot([0, 1], [0, 1], color='red', lw=2, linestyle='--', label='Random Guessing')\n",
        "plt.xlabel('False Positive Rate')\n",
        "plt.ylabel('True Positive Rate')\n",
        "plt.title('Receiver Operating Characteristic (ROC) Curve')\n",
        "plt.legend(loc='lower right')\n",
        "plt.grid()\n",
        "plt.show()"
      ],
      "metadata": {
        "colab": {
          "base_uri": "https://localhost:8080/",
          "height": 564
        },
        "id": "VpLDZvKExuG8",
        "outputId": "7a91e97f-db62-44a3-8330-6dd9d473da6d"
      },
      "execution_count": 46,
      "outputs": [
        {
          "output_type": "display_data",
          "data": {
            "text/plain": [
              "<Figure size 800x600 with 1 Axes>"
            ],
            "image/png": "[encoded data removed]"
          },
          "metadata": {}
        }
      ]
    }
  ]
}