{
  "cells": [
    {
      "cell_type": "markdown",
      "metadata": {
        "id": "view-in-github",
        "colab_type": "text"
      },
      "source": [
        "<a href=\"https://colab.research.google.com/github/mostafa-ja/mal_adv3/blob/main/2_DNN_model_2.ipynb\" target=\"_parent\"><img src=\"https://colab.research.google.com/assets/colab-badge.svg\" alt=\"Open In Colab\"/></a>"
      ]
    },
    {
      "cell_type": "code",
      "execution_count": 1,
      "metadata": {
        "id": "JKDdI3K9LrlF",
        "colab": {
          "base_uri": "https://localhost:8080/"
        },
        "outputId": "aa7ee1f9-06e3-4ed2-d5c1-9df7d26ba64e"
      },
      "outputs": [
        {
          "output_type": "stream",
          "name": "stdout",
          "text": [
            "cpu\n"
          ]
        }
      ],
      "source": [
        "import torch\n",
        "import torch.nn as nn\n",
        "import torch.optim as optim\n",
        "from torch.utils.data import TensorDataset, DataLoader,WeightedRandomSampler\n",
        "from sklearn.model_selection import train_test_split\n",
        "from scipy import sparse\n",
        "import gdown\n",
        "from sklearn.metrics import accuracy_score, precision_score, recall_score, f1_score\n",
        "import numpy as np\n",
        "import matplotlib.pyplot as plt\n",
        "from sklearn.metrics import precision_recall_curve, roc_curve, auc\n",
        "import time\n",
        "import matplotlib.pyplot as plt\n",
        "\n",
        "torch.manual_seed(0)\n",
        "\n",
        "# Device configuration\n",
        "device = torch.device(\"cuda\" if torch.cuda.is_available() else \"cpu\")\n",
        "print(device)"
      ]
    },
    {
      "cell_type": "code",
      "source": [
        "download_links = ['https://github.com/mostafa-ja/mal_adv3/raw/main/data/X_redefined_sparse_matrix.npz',\n",
        "                  'https://github.com/mostafa-ja/mal_adv3/raw/main/data/labels.pt',\n",
        "                  'https://github.com/mostafa-ja/mal_adv3/raw/main/data/vocab.pkl',\n",
        "]"
      ],
      "metadata": {
        "id": "NgkPo5lth4ru"
      },
      "execution_count": 2,
      "outputs": []
    },
    {
      "cell_type": "code",
      "source": [
        "output_filepath = '/content/'\n",
        "for link in download_links:\n",
        "  gdown.download(link, output_filepath)\n"
      ],
      "metadata": {
        "colab": {
          "base_uri": "https://localhost:8080/"
        },
        "id": "6kzSbjaXGVeG",
        "outputId": "f515a35a-197b-47b1-dcb1-62e63afd2e00"
      },
      "execution_count": 3,
      "outputs": [
        {
          "output_type": "stream",
          "name": "stderr",
          "text": [
            "Downloading...\n",
            "From: https://github.com/mostafa-ja/mal_adv3/raw/main/data/X_redefined_sparse_matrix.npz\n",
            "To: /content/X_redefined_sparse_matrix.npz\n",
            "100%|██████████| 2.31M/2.31M [00:00<00:00, 11.2MB/s]\n",
            "Downloading...\n",
            "From: https://github.com/mostafa-ja/mal_adv3/raw/main/data/labels.pt\n",
            "To: /content/labels.pt\n",
            "100%|██████████| 517k/517k [00:00<00:00, 6.71MB/s]\n",
            "Downloading...\n",
            "From: https://github.com/mostafa-ja/mal_adv3/raw/main/data/vocab.pkl\n",
            "To: /content/vocab.pkl\n",
            "100%|██████████| 9.18M/9.18M [00:00<00:00, 46.0MB/s]\n"
          ]
        }
      ]
    },
    {
      "cell_type": "code",
      "source": [
        "def weight_sampler(labels_train):\n",
        "\n",
        "    # count occurance of each class\n",
        "    labels_train = labels_train.to(torch.int8)\n",
        "    unique, counts = np.unique(labels_train.to(torch.int8), return_counts=True)\n",
        "\n",
        "    # calcuate weight of each class\n",
        "    class_weights = [1.0/c for c in counts]\n",
        "\n",
        "    # assign weight to each sample\n",
        "    sample_weights = [class_weights[i] for i in labels_train]\n",
        "\n",
        "    # Create WeightedRandomSampler\n",
        "    sampler = WeightedRandomSampler(sample_weights, len(sample_weights))\n",
        "\n",
        "    return sampler"
      ],
      "metadata": {
        "id": "9XM7V3UoCiBs"
      },
      "execution_count": 4,
      "outputs": []
    },
    {
      "cell_type": "code",
      "source": [
        "# Load dataset\n",
        "X_redefined = sparse.load_npz(\"X_redefined_sparse_matrix.npz\")\n",
        "labels_tensor = torch.load('labels.pt')\n",
        "\n",
        "# Split data into train, validation, and test sets with stratified sampling\n",
        "X_train_val, X_test, labels_train_val, labels_test = train_test_split(X_redefined, labels_tensor, test_size=0.2, stratify=labels_tensor, random_state=42)\n",
        "X_train, X_val, labels_train, labels_val = train_test_split(X_train_val, labels_train_val, test_size=0.2, stratify=labels_train_val, random_state=42)\n",
        "\n",
        "# number of benigns and malicious sample in training dataset\n",
        "n_ben = (labels_train.squeeze()== 0).sum().item()\n",
        "n_mal = (labels_train.squeeze()== 1).sum().item()\n",
        "\n",
        "# Combine features and labels into datasets\n",
        "# we use dtype=torch.int8, for Memory-Efficient here, later we will convert to float\n",
        "train_dataset = TensorDataset(torch.tensor(X_train.toarray(), dtype=torch.int8), labels_train)\n",
        "val_dataset = TensorDataset(torch.tensor(X_val.toarray(), dtype=torch.int8), labels_val)\n",
        "test_dataset = TensorDataset(torch.tensor(X_test.toarray(), dtype=torch.int8), labels_test)\n",
        "\n",
        "# Define the DataLoader for training, validation, and test sets\n",
        "batch_size = 256\n",
        "sampler = weight_sampler(labels_train)\n",
        "train_loader = DataLoader(train_dataset, batch_size=batch_size,sampler=sampler)\n",
        "val_loader = DataLoader(val_dataset, batch_size=batch_size, shuffle=False)\n",
        "test_loader = DataLoader(test_dataset, batch_size=batch_size, shuffle=False)\n",
        "\n",
        "# Clear unnecessary variables\n",
        "#del X_redefined, labels_tensor, X_train_val, X_test, labels_train_val, labels_test, X_train, X_val, labels_train, labels_val"
      ],
      "metadata": {
        "id": "AWfz_HxX0rYj"
      },
      "execution_count": 99,
      "outputs": []
    },
    {
      "cell_type": "code",
      "source": [
        "def plot_function(x1,x2):\n",
        "    width =0.3\n",
        "    fig = plt.figure()\n",
        "    ax = fig.add_axes([0,0,1,1])\n",
        "    plt.bar(np.arange(1, len(x1)+1), x1, width=width)\n",
        "    plt.bar(np.arange(1, len(x2)+1)+ width, x2, width=width)\n",
        "    ax.legend(labels=['Class 0', 'Class 1'])\n",
        "    plt.show()"
      ],
      "metadata": {
        "id": "MhkrokDt_vzQ"
      },
      "execution_count": 6,
      "outputs": []
    },
    {
      "cell_type": "code",
      "source": [
        "# iterate through dataset and plot class distribution in each batch\n",
        "zeros = []\n",
        "ones = []\n",
        "for idx, (x,y) in enumerate(train_loader):\n",
        "    unique, counts = np.unique(y.numpy(), return_counts=True)\n",
        "    zeros.append(counts[0])\n",
        "    ones.append(counts[1])\n",
        "\n",
        "print('total number of label ones',sum(ones))\n",
        "print('total number of label zeros',sum(zeros))\n",
        "plot_function(zeros,ones)"
      ],
      "metadata": {
        "colab": {
          "base_uri": "https://localhost:8080/",
          "height": 575
        },
        "id": "5O1Mqg-k-LXe",
        "outputId": "7c592f13-1156-4c17-f910-4ed789d7c5f2"
      },
      "execution_count": 7,
      "outputs": [
        {
          "output_type": "stream",
          "name": "stdout",
          "text": [
            "total number of label ones 41306\n",
            "total number of label zeros 41262\n"
          ]
        },
        {
          "output_type": "display_data",
          "data": {
            "text/plain": [
              "<Figure size 640x480 with 1 Axes>"
            ],
            "image/png": "[encoded data removed]"
          },
          "metadata": {}
        }
      ]
    },
    {
      "cell_type": "code",
      "source": [
        "benign_set = set()\n",
        "malicious_set = set()\n",
        "\n",
        "proportions_benign = []\n",
        "proportions_malicious = []\n",
        "\n",
        "\n",
        "for epoch in range(10):\n",
        "    for batch_indices in train_loader.batch_sampler:\n",
        "        for idx in batch_indices:\n",
        "            label = train_dataset[idx][1].item()\n",
        "            if label == 0:\n",
        "                benign_set.add(idx)\n",
        "            else:\n",
        "                malicious_set.add(idx)\n",
        "\n",
        "    # Calculate proportions\n",
        "    proportion_benign = len(benign_set) / n_ben\n",
        "    proportion_malicious = len(malicious_set) / n_mal\n",
        "\n",
        "    proportions_benign.append(proportion_benign)\n",
        "    proportions_malicious.append(proportion_malicious)\n",
        "\n",
        "    print('-----------------------------------------')\n",
        "    print(f'Epoch {epoch+1}')\n",
        "    print(f'Proportion of seen benign samples: {proportion_benign:.4f}')\n",
        "    print(f'Proportion of seen malicious samples: {proportion_malicious:.4f}')\n",
        "\n",
        "# Plot\n",
        "epochs = range(1, 11)\n",
        "plt.plot(epochs, proportions_benign, label='Benign Samples')\n",
        "plt.plot(epochs, proportions_malicious, label='Malicious Samples')\n",
        "\n",
        "# Add labels and legend\n",
        "plt.xlabel('Epochs')\n",
        "plt.ylabel('Proportion')\n",
        "plt.title('Proportion of Seen Samples over Epochs')\n",
        "plt.legend()\n",
        "\n",
        "# Show plot\n",
        "plt.show()"
      ],
      "metadata": {
        "colab": {
          "base_uri": "https://localhost:8080/",
          "height": 1000
        },
        "id": "rHomG3PfsUFQ",
        "outputId": "45706d1e-a699-4d4a-a83a-077c0da59278"
      },
      "execution_count": 109,
      "outputs": [
        {
          "output_type": "stream",
          "name": "stdout",
          "text": [
            "-----------------------------------------\n",
            "Epoch 1\n",
            "Proportion of seen benign samples: 0.4072\n",
            "Proportion of seen malicious samples: 1.0000\n",
            "-----------------------------------------\n",
            "Epoch 2\n",
            "Proportion of seen benign samples: 0.6483\n",
            "Proportion of seen malicious samples: 1.0000\n",
            "-----------------------------------------\n",
            "Epoch 3\n",
            "Proportion of seen benign samples: 0.7915\n",
            "Proportion of seen malicious samples: 1.0000\n",
            "-----------------------------------------\n",
            "Epoch 4\n",
            "Proportion of seen benign samples: 0.8765\n",
            "Proportion of seen malicious samples: 1.0000\n",
            "-----------------------------------------\n",
            "Epoch 5\n",
            "Proportion of seen benign samples: 0.9269\n",
            "Proportion of seen malicious samples: 1.0000\n",
            "-----------------------------------------\n",
            "Epoch 6\n",
            "Proportion of seen benign samples: 0.9556\n",
            "Proportion of seen malicious samples: 1.0000\n",
            "-----------------------------------------\n",
            "Epoch 7\n",
            "Proportion of seen benign samples: 0.9737\n",
            "Proportion of seen malicious samples: 1.0000\n",
            "-----------------------------------------\n",
            "Epoch 8\n",
            "Proportion of seen benign samples: 0.9845\n",
            "Proportion of seen malicious samples: 1.0000\n",
            "-----------------------------------------\n",
            "Epoch 9\n",
            "Proportion of seen benign samples: 0.9906\n",
            "Proportion of seen malicious samples: 1.0000\n",
            "-----------------------------------------\n",
            "Epoch 10\n",
            "Proportion of seen benign samples: 0.9946\n",
            "Proportion of seen malicious samples: 1.0000\n"
          ]
        },
        {
          "output_type": "display_data",
          "data": {
            "text/plain": [
              "<Figure size 640x480 with 1 Axes>"
            ],
            "image/png": "[encoded data removed]"
          },
          "metadata": {}
        }
      ]
    },
    {
      "cell_type": "code",
      "source": [
        "class MalwareDetectionModel(nn.Module):\n",
        "    def __init__(self, input_size=10000, hidden_1_size=200, hidden_2_size=200, num_labels=2, dropout_prob=0.6):\n",
        "        super(MalwareDetectionModel, self).__init__()\n",
        "\n",
        "        self.input_size = input_size\n",
        "        self.hidden_1_size = hidden_1_size\n",
        "        self.hidden_2_size = hidden_2_size\n",
        "        self.num_labels = num_labels\n",
        "        self.dropout_prob = dropout_prob\n",
        "\n",
        "        self.fc1 = nn.Linear(input_size, hidden_1_size)\n",
        "        self.relu1 = nn.ReLU()\n",
        "        self.dropout1 = nn.Dropout(dropout_prob)\n",
        "        self.fc2 = nn.Linear(hidden_1_size, hidden_2_size)\n",
        "        self.relu2 = nn.ReLU()\n",
        "        self.dropout2 = nn.Dropout(dropout_prob)\n",
        "        self.fc3 = nn.Linear(hidden_2_size, num_labels)\n",
        "        self.log_softmax = nn.LogSoftmax(dim=1)\n",
        "\n",
        "    def forward(self, x):\n",
        "        x = self.fc1(x)\n",
        "        x = self.relu1(x)\n",
        "        x = self.dropout1(x)\n",
        "        x = self.fc2(x)\n",
        "        x = self.relu2(x)\n",
        "        x = self.dropout2(x)\n",
        "        x = self.fc3(x)\n",
        "        x = self.log_softmax(x)\n",
        "        return x\n"
      ],
      "metadata": {
        "id": "xdNbTvxTTqyw"
      },
      "execution_count": null,
      "outputs": []
    },
    {
      "cell_type": "code",
      "source": [
        "model = MalwareDetectionModel()\n",
        "model = model.to(device)\n",
        "model"
      ],
      "metadata": {
        "colab": {
          "base_uri": "https://localhost:8080/"
        },
        "id": "mKmC_l41qx9C",
        "outputId": "01df8411-d7ae-4cd2-ae0f-f26de7fea959"
      },
      "execution_count": null,
      "outputs": [
        {
          "output_type": "execute_result",
          "data": {
            "text/plain": [
              "MalwareDetectionModel(\n",
              "  (fc1): Linear(in_features=10000, out_features=200, bias=True)\n",
              "  (relu1): ReLU()\n",
              "  (dropout1): Dropout(p=0.6, inplace=False)\n",
              "  (fc2): Linear(in_features=200, out_features=200, bias=True)\n",
              "  (relu2): ReLU()\n",
              "  (dropout2): Dropout(p=0.6, inplace=False)\n",
              "  (fc3): Linear(in_features=200, out_features=2, bias=True)\n",
              "  (log_softmax): LogSoftmax(dim=1)\n",
              ")"
            ]
          },
          "metadata": {},
          "execution_count": 16
        }
      ]
    },
    {
      "cell_type": "code",
      "source": [
        "def adjust_learning_rate(optimizer, epoch, lr_step=(20,30,40), lr_decay_ratio=0.2):\n",
        "    \"\"\"Adjust the learning rate based on the epoch number.\"\"\"\n",
        "    if epoch == 0:\n",
        "        optimizer.param_groups[0]['lr'] /= 8\n",
        "    elif epoch in [1, 2, 3]:  # in step five , we finish warm up ,and start normal learning rate\n",
        "        optimizer.param_groups[0]['lr'] *= 2\n",
        "    if epoch in lr_step: # in these steps , we are geting close to optimal point so we need to have shorter step\n",
        "        optimizer.param_groups[0]['lr'] *= lr_decay_ratio\n",
        "    return optimizer\n"
      ],
      "metadata": {
        "id": "Xx0VMI_OLIJg"
      },
      "execution_count": null,
      "outputs": []
    },
    {
      "cell_type": "code",
      "source": [
        "learning_rate = 0.001\n",
        "weight_decay = 0.\n",
        "num_epochs = 50\n",
        "dropout = 0.6\n",
        "\n",
        "# Define Loss Function and Optimizer\n",
        "criterion = nn.CrossEntropyLoss()\n",
        "optimizer = optim.Adam(model.parameters(), lr=learning_rate, weight_decay=weight_decay)\n",
        "\n",
        "best_f1_score = 0.\n",
        "best_epoch = 0\n",
        "total_time = 0.\n",
        "nbatches = len(train_loader)\n",
        "\n",
        "for i in range(num_epochs):\n",
        "    model.train()\n",
        "    losses, f1_scores = [], []\n",
        "    optimizer = adjust_learning_rate(optimizer, i)\n",
        "\n",
        "    for idx_batch, (x_train, y_train) in enumerate(train_loader):\n",
        "        x_train, y_train = x_train.to(torch.float32).to(device), y_train.to(device)\n",
        "        optimizer.zero_grad()\n",
        "        outputs = model(x_train)\n",
        "        loss_train = criterion(outputs, y_train.view(-1).long())\n",
        "        loss_train.backward()\n",
        "        optimizer.step()\n",
        "\n",
        "        predicted = (outputs.argmax(1)).unsqueeze(1)\n",
        "        f1_train = f1_score(y_train.cpu().numpy(), predicted.cpu().numpy())\n",
        "\n",
        "        losses.append(loss_train.item())\n",
        "        f1_scores.append(f1_train)\n",
        "\n",
        "    model.eval()\n",
        "    avg_f1_val = []\n",
        "\n",
        "    with torch.no_grad():\n",
        "        for x_val, y_val in val_loader:\n",
        "            x_val, y_val = x_val.to(torch.float32).to(device), y_val.to(device)\n",
        "            outputs = model(x_val)\n",
        "            predicted = (outputs.argmax(1)).unsqueeze(1)\n",
        "            f1_val = f1_score(y_val.cpu().numpy(), predicted.cpu().numpy())\n",
        "            avg_f1_val.append(f1_val)\n",
        "\n",
        "    avg_f1_val = np.mean(avg_f1_val)\n",
        "\n",
        "    if avg_f1_val >= best_f1_score:\n",
        "        best_f1_score = avg_f1_val\n",
        "        best_epoch = i\n",
        "        torch.save(model.state_dict(), 'model_DNN.pth')\n",
        "\n",
        "    print(f'Epoch: {i+1}/{num_epochs} | Training loss: {np.mean(losses):.4f} | Validation F1-score: {avg_f1_val:.4f} | The best validation F1-score: {best_f1_score * 100:.2f} at epoch: {best_epoch+1}')\n",
        "\n",
        "print(f'Best F1-score: {best_f1_score:.4f} | Best Epoch: {best_epoch+1}')\n"
      ],
      "metadata": {
        "id": "KxncMgH2JQ09",
        "colab": {
          "base_uri": "https://localhost:8080/"
        },
        "outputId": "3db25d26-4208-4968-f790-926a067aeafc"
      },
      "execution_count": null,
      "outputs": [
        {
          "output_type": "stream",
          "name": "stdout",
          "text": [
            "Epoch: 1/50 | Training loss: 0.2776 | Validation F1-score: 0.7793 | The best validation F1-score: 77.93 at epoch: 1\n",
            "Epoch: 2/50 | Training loss: 0.0538 | Validation F1-score: 0.9049 | The best validation F1-score: 90.49 at epoch: 2\n",
            "Epoch: 3/50 | Training loss: 0.0262 | Validation F1-score: 0.9106 | The best validation F1-score: 91.06 at epoch: 3\n",
            "Epoch: 4/50 | Training loss: 0.0229 | Validation F1-score: 0.9256 | The best validation F1-score: 92.56 at epoch: 4\n",
            "Epoch: 5/50 | Training loss: 0.0159 | Validation F1-score: 0.9220 | The best validation F1-score: 92.56 at epoch: 4\n",
            "Epoch: 6/50 | Training loss: 0.0141 | Validation F1-score: 0.9178 | The best validation F1-score: 92.56 at epoch: 4\n",
            "Epoch: 7/50 | Training loss: 0.0138 | Validation F1-score: 0.9168 | The best validation F1-score: 92.56 at epoch: 4\n",
            "Epoch: 8/50 | Training loss: 0.0107 | Validation F1-score: 0.9196 | The best validation F1-score: 92.56 at epoch: 4\n",
            "Epoch: 9/50 | Training loss: 0.0123 | Validation F1-score: 0.9226 | The best validation F1-score: 92.56 at epoch: 4\n",
            "Epoch: 10/50 | Training loss: 0.0117 | Validation F1-score: 0.9277 | The best validation F1-score: 92.77 at epoch: 10\n",
            "Epoch: 11/50 | Training loss: 0.0101 | Validation F1-score: 0.9203 | The best validation F1-score: 92.77 at epoch: 10\n",
            "Epoch: 12/50 | Training loss: 0.0094 | Validation F1-score: 0.9266 | The best validation F1-score: 92.77 at epoch: 10\n",
            "Epoch: 13/50 | Training loss: 0.0095 | Validation F1-score: 0.9261 | The best validation F1-score: 92.77 at epoch: 10\n",
            "Epoch: 14/50 | Training loss: 0.0096 | Validation F1-score: 0.9235 | The best validation F1-score: 92.77 at epoch: 10\n",
            "Epoch: 15/50 | Training loss: 0.0092 | Validation F1-score: 0.9281 | The best validation F1-score: 92.81 at epoch: 15\n",
            "Epoch: 16/50 | Training loss: 0.0088 | Validation F1-score: 0.9239 | The best validation F1-score: 92.81 at epoch: 15\n",
            "Epoch: 17/50 | Training loss: 0.0088 | Validation F1-score: 0.9275 | The best validation F1-score: 92.81 at epoch: 15\n",
            "Epoch: 18/50 | Training loss: 0.0084 | Validation F1-score: 0.9282 | The best validation F1-score: 92.82 at epoch: 18\n",
            "Epoch: 19/50 | Training loss: 0.0066 | Validation F1-score: 0.9303 | The best validation F1-score: 93.03 at epoch: 19\n",
            "Epoch: 20/50 | Training loss: 0.0079 | Validation F1-score: 0.9284 | The best validation F1-score: 93.03 at epoch: 19\n",
            "Epoch: 21/50 | Training loss: 0.0074 | Validation F1-score: 0.9255 | The best validation F1-score: 93.03 at epoch: 19\n",
            "Epoch: 22/50 | Training loss: 0.0058 | Validation F1-score: 0.9265 | The best validation F1-score: 93.03 at epoch: 19\n",
            "Epoch: 23/50 | Training loss: 0.0061 | Validation F1-score: 0.9277 | The best validation F1-score: 93.03 at epoch: 19\n",
            "Epoch: 24/50 | Training loss: 0.0068 | Validation F1-score: 0.9280 | The best validation F1-score: 93.03 at epoch: 19\n",
            "Epoch: 25/50 | Training loss: 0.0060 | Validation F1-score: 0.9289 | The best validation F1-score: 93.03 at epoch: 19\n",
            "Epoch: 26/50 | Training loss: 0.0052 | Validation F1-score: 0.9295 | The best validation F1-score: 93.03 at epoch: 19\n",
            "Epoch: 27/50 | Training loss: 0.0054 | Validation F1-score: 0.9284 | The best validation F1-score: 93.03 at epoch: 19\n",
            "Epoch: 28/50 | Training loss: 0.0054 | Validation F1-score: 0.9312 | The best validation F1-score: 93.12 at epoch: 28\n",
            "Epoch: 29/50 | Training loss: 0.0061 | Validation F1-score: 0.9302 | The best validation F1-score: 93.12 at epoch: 28\n",
            "Epoch: 30/50 | Training loss: 0.0057 | Validation F1-score: 0.9257 | The best validation F1-score: 93.12 at epoch: 28\n",
            "Epoch: 31/50 | Training loss: 0.0060 | Validation F1-score: 0.9277 | The best validation F1-score: 93.12 at epoch: 28\n",
            "Epoch: 32/50 | Training loss: 0.0051 | Validation F1-score: 0.9302 | The best validation F1-score: 93.12 at epoch: 28\n",
            "Epoch: 33/50 | Training loss: 0.0051 | Validation F1-score: 0.9296 | The best validation F1-score: 93.12 at epoch: 28\n",
            "Epoch: 34/50 | Training loss: 0.0048 | Validation F1-score: 0.9302 | The best validation F1-score: 93.12 at epoch: 28\n",
            "Epoch: 35/50 | Training loss: 0.0055 | Validation F1-score: 0.9311 | The best validation F1-score: 93.12 at epoch: 28\n",
            "Epoch: 36/50 | Training loss: 0.0048 | Validation F1-score: 0.9311 | The best validation F1-score: 93.12 at epoch: 28\n",
            "Epoch: 37/50 | Training loss: 0.0055 | Validation F1-score: 0.9292 | The best validation F1-score: 93.12 at epoch: 28\n",
            "Epoch: 38/50 | Training loss: 0.0053 | Validation F1-score: 0.9297 | The best validation F1-score: 93.12 at epoch: 28\n",
            "Epoch: 39/50 | Training loss: 0.0054 | Validation F1-score: 0.9285 | The best validation F1-score: 93.12 at epoch: 28\n",
            "Epoch: 40/50 | Training loss: 0.0052 | Validation F1-score: 0.9297 | The best validation F1-score: 93.12 at epoch: 28\n",
            "Epoch: 41/50 | Training loss: 0.0043 | Validation F1-score: 0.9294 | The best validation F1-score: 93.12 at epoch: 28\n",
            "Epoch: 42/50 | Training loss: 0.0055 | Validation F1-score: 0.9294 | The best validation F1-score: 93.12 at epoch: 28\n",
            "Epoch: 43/50 | Training loss: 0.0048 | Validation F1-score: 0.9289 | The best validation F1-score: 93.12 at epoch: 28\n",
            "Epoch: 44/50 | Training loss: 0.0049 | Validation F1-score: 0.9289 | The best validation F1-score: 93.12 at epoch: 28\n",
            "Epoch: 45/50 | Training loss: 0.0053 | Validation F1-score: 0.9289 | The best validation F1-score: 93.12 at epoch: 28\n",
            "Epoch: 46/50 | Training loss: 0.0046 | Validation F1-score: 0.9277 | The best validation F1-score: 93.12 at epoch: 28\n",
            "Epoch: 47/50 | Training loss: 0.0048 | Validation F1-score: 0.9277 | The best validation F1-score: 93.12 at epoch: 28\n",
            "Epoch: 48/50 | Training loss: 0.0058 | Validation F1-score: 0.9282 | The best validation F1-score: 93.12 at epoch: 28\n",
            "Epoch: 49/50 | Training loss: 0.0061 | Validation F1-score: 0.9282 | The best validation F1-score: 93.12 at epoch: 28\n",
            "Epoch: 50/50 | Training loss: 0.0048 | Validation F1-score: 0.9277 | The best validation F1-score: 93.12 at epoch: 28\n",
            "Best F1-score: 0.9312 | Best Epoch: 28\n"
          ]
        }
      ]
    },
    {
      "cell_type": "code",
      "source": [
        "# Load model parameters\n",
        "model_DNN = MalwareDetectionModel().to(device)\n",
        "model_DNN.load_state_dict(torch.load('model_DNN.pth', map_location=torch.device(device)))"
      ],
      "metadata": {
        "colab": {
          "base_uri": "https://localhost:8080/"
        },
        "id": "ro8yCvKMz80J",
        "outputId": "ce6f5c2d-c6e6-48b5-aeac-c8f73a47301b"
      },
      "execution_count": null,
      "outputs": [
        {
          "output_type": "execute_result",
          "data": {
            "text/plain": [
              "<All keys matched successfully>"
            ]
          },
          "metadata": {},
          "execution_count": 21
        }
      ]
    },
    {
      "cell_type": "code",
      "source": [
        "def model_evaluation(model, test_loader, device):\n",
        "    model.eval()  # Set the model to evaluation mode\n",
        "    predictions = []\n",
        "    true_labels = []\n",
        "\n",
        "    with torch.no_grad():\n",
        "        for X_batch, labels_batch in test_loader:\n",
        "            X_batch, labels_batch = X_batch.to(torch.float32).to(device), labels_batch.to(device)\n",
        "            outputs = model(X_batch)\n",
        "            _, predicted = torch.topk(outputs, k=1)\n",
        "            predictions.extend(predicted.tolist())\n",
        "            true_labels.extend(labels_batch.tolist())\n",
        "\n",
        "    # Convert predictions and true labels to numpy arrays\n",
        "    predictions = np.array(predictions)\n",
        "    true_labels = np.array(true_labels)\n",
        "\n",
        "    # Calculate and print test accuracy\n",
        "    accuracy = accuracy_score(true_labels, predictions)\n",
        "    print(f'Test Accuracy: {accuracy:.4f}')\n",
        "\n",
        "    # Calculate and print precision, recall, and F1-score\n",
        "    precision = precision_score(true_labels, predictions)\n",
        "    recall = recall_score(true_labels, predictions)\n",
        "    f1 = f1_score(true_labels, predictions)\n",
        "\n",
        "    print(f'Precision: {precision:.4f}')\n",
        "    print(f'Recall: {recall:.4f}')\n",
        "    print(f'F1-score: {f1:.4f}')\n",
        "\n",
        "    # Calculate and print true positives, true negatives, false positives, and false negatives\n",
        "    TP = ((predictions == 1) & (true_labels == 1)).sum()\n",
        "    TN = ((predictions == 0) & (true_labels == 0)).sum()\n",
        "    FP = ((predictions == 1) & (true_labels == 0)).sum()\n",
        "    FN = ((predictions == 0) & (true_labels == 1)).sum()\n",
        "\n",
        "    print(f'True Positives (TP): {TP}')\n",
        "    print(f'True Negatives (TN): {TN}')\n",
        "    print(f'False Positives (FP): {FP}')\n",
        "    print(f'False Negatives (FN): {FN}')\n",
        "\n",
        "    # Calculate and print False Negative Rate (FNR) and False Positive Rate (FPR)\n",
        "    FNR = FN / (FN + TP)\n",
        "    FPR = FP / (FP + TN)\n",
        "\n",
        "    print(f'False Negative Rate (FNR): {FNR:.4f}')\n",
        "    print(f'False Positive Rate (FPR): {FPR:.4f}')\n"
      ],
      "metadata": {
        "id": "yoIf9sNYkWgT"
      },
      "execution_count": null,
      "outputs": []
    },
    {
      "cell_type": "code",
      "source": [
        "model_evaluation(model_DNN,test_loader,device=device)"
      ],
      "metadata": {
        "colab": {
          "base_uri": "https://localhost:8080/"
        },
        "id": "Sm89rOcSNJUX",
        "outputId": "4b9ede82-40c5-419e-8024-7d86c58c86e7"
      },
      "execution_count": null,
      "outputs": [
        {
          "output_type": "stream",
          "name": "stdout",
          "text": [
            "Test Accuracy: 0.9934\n",
            "Precision: 0.9410\n",
            "Recall: 0.9038\n",
            "F1-score: 0.9220\n",
            "True Positives (TP): 1005\n",
            "True Negatives (TN): 24628\n",
            "False Positives (FP): 63\n",
            "False Negatives (FN): 107\n",
            "False Negative Rate (FNR): 0.0962\n",
            "False Positive Rate (FPR): 0.0026\n"
          ]
        }
      ]
    },
    {
      "cell_type": "code",
      "execution_count": null,
      "metadata": {
        "colab": {
          "base_uri": "https://localhost:8080/"
        },
        "id": "xZv8mNmjwmem",
        "outputId": "b5015543-e8ee-48ff-b294-7e9f64c99c8f"
      },
      "outputs": [
        {
          "output_type": "stream",
          "name": "stdout",
          "text": [
            "Best F1-score: 0.9200 at threshold: 1.0000\n"
          ]
        }
      ],
      "source": [
        "#here , we define prediction, as probability(not binary)\n",
        "\n",
        "# Evaluate the trained model on the test set\n",
        "model.eval()  # Set the model to evaluation mode\n",
        "predictions = []\n",
        "true_labels = []\n",
        "\n",
        "with torch.no_grad():\n",
        "    for X_batch, labels_batch in test_loader:\n",
        "        outputs = model(X_batch)\n",
        "        _, predicted = torch.topk(outputs, k=1)\n",
        "        predictions.extend(predicted.tolist())\n",
        "        true_labels.extend(labels_batch.tolist())\n",
        "\n",
        "# Convert predictions and true labels to numpy arrays\n",
        "predictions = np.array(predictions)\n",
        "true_labels = np.array(true_labels)\n",
        "\n",
        "\n",
        "# Calculate precision and recall\n",
        "precision, recall, thresholds = precision_recall_curve(true_labels, predictions)\n",
        "\n",
        "# Calculate F1-score for each threshold\n",
        "f1_scores = 2 * (precision * recall) / (precision + recall)\n",
        "\n",
        "# Find the threshold that maximizes the F1-score\n",
        "best_f1_threshold = thresholds[np.argmax(f1_scores)]\n",
        "best_f1_score = np.max(f1_scores)\n",
        "\n",
        "print(f'Best F1-score: {best_f1_score:.4f} at threshold: {best_f1_threshold:.4f}')\n"
      ]
    },
    {
      "cell_type": "code",
      "execution_count": null,
      "metadata": {
        "colab": {
          "base_uri": "https://localhost:8080/",
          "height": 472
        },
        "id": "QcKIyS9TwJos",
        "outputId": "84420b64-6487-444f-83f2-5155e5ff3036"
      },
      "outputs": [
        {
          "output_type": "display_data",
          "data": {
            "text/plain": [
              "<Figure size 640x480 with 1 Axes>"
            ],
            "image/png": "[encoded data removed]"
          },
          "metadata": {}
        }
      ],
      "source": [
        "\n",
        "# Calculate precision and recall\n",
        "precision, recall, _ = precision_recall_curve(true_labels, predictions)\n",
        "\n",
        "# Plot precision-recall curve\n",
        "plt.plot(recall, precision, marker='.')\n",
        "plt.xlabel('Recall')\n",
        "plt.ylabel('Precision')\n",
        "plt.title('Precision-Recall Curve')\n",
        "plt.grid(True)\n",
        "plt.show()\n"
      ]
    },
    {
      "cell_type": "code",
      "execution_count": null,
      "metadata": {
        "id": "VpLDZvKExuG8"
      },
      "outputs": [],
      "source": [
        "# Compute fpr, tpr, thresholds\n",
        "fpr, tpr, thresholds = roc_curve(true_labels, predictions)\n",
        "\n",
        "# Compute AUC (Area Under the Curve)\n",
        "roc_auc = auc(fpr, tpr)\n",
        "\n",
        "# Plot ROC curve\n",
        "plt.figure(figsize=(8, 6))\n",
        "plt.plot(fpr, tpr, color='blue', lw=2, label='ROC curve (AUC = %0.4f)' % roc_auc)\n",
        "plt.plot([0, 1], [0, 1], color='red', lw=2, linestyle='--', label='Random Guessing')\n",
        "plt.xlabel('False Positive Rate')\n",
        "plt.ylabel('True Positive Rate')\n",
        "plt.title('Receiver Operating Characteristic (ROC) Curve')\n",
        "plt.legend(loc='lower right')\n",
        "plt.grid()\n",
        "plt.show()"
      ]
    }
  ],
  "metadata": {
    "colab": {
      "provenance": [],
      "include_colab_link": true
    },
    "kernelspec": {
      "display_name": "Python 3",
      "name": "python3"
    },
    "language_info": {
      "name": "python"
    }
  },
  "nbformat": 4,
  "nbformat_minor": 0
}