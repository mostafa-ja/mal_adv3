{
  "nbformat": 4,
  "nbformat_minor": 0,
  "metadata": {
    "colab": {
      "provenance": [],
      "authorship_tag": "ABX9TyPbLkoLAE02iCfMCM0cE2p0",
      "include_colab_link": true
    },
    "kernelspec": {
      "name": "python3",
      "display_name": "Python 3"
    },
    "language_info": {
      "name": "python"
    }
  },
  "cells": [
    {
      "cell_type": "markdown",
      "metadata": {
        "id": "view-in-github",
        "colab_type": "text"
      },
      "source": [
        "<a href=\"https://colab.research.google.com/github/mostafa-ja/mal_adv3/blob/main/3_adverserial_attacks.ipynb\" target=\"_parent\"><img src=\"https://colab.research.google.com/assets/colab-badge.svg\" alt=\"Open In Colab\"/></a>"
      ]
    },
    {
      "cell_type": "code",
      "source": [
        "import torch\n",
        "import torch.nn as nn\n",
        "import torch.optim as optim\n",
        "from torch.utils.data import TensorDataset, DataLoader\n",
        "from sklearn.model_selection import train_test_split\n",
        "from scipy import sparse\n",
        "import gdown\n",
        "import numpy as np\n",
        "import matplotlib.pyplot as plt\n",
        "import pickle\n",
        "import torch.nn.functional as F\n",
        "import random\n"
      ],
      "metadata": {
        "id": "JKDdI3K9LrlF"
      },
      "execution_count": 1,
      "outputs": []
    },
    {
      "cell_type": "code",
      "source": [
        "download_link = 'https://drive.google.com/uc?id=12iud4h19CZst4exbr3U2A9iDxBYvZ5U_'\n",
        "output_filepath = '/content/'\n",
        "gdown.download(download_link, output_filepath)"
      ],
      "metadata": {
        "colab": {
          "base_uri": "https://localhost:8080/",
          "height": 105
        },
        "id": "0C770BMnLop2",
        "outputId": "4e9c99b5-1785-470e-e3b7-23ab7355c2db"
      },
      "execution_count": 2,
      "outputs": [
        {
          "output_type": "stream",
          "name": "stderr",
          "text": [
            "Downloading...\n",
            "From: https://drive.google.com/uc?id=12iud4h19CZst4exbr3U2A9iDxBYvZ5U_\n",
            "To: /content/X_redefined_sparse_matrix.npz\n",
            "100%|██████████| 2.31M/2.31M [00:00<00:00, 157MB/s]\n"
          ]
        },
        {
          "output_type": "execute_result",
          "data": {
            "text/plain": [
              "'/content/X_redefined_sparse_matrix.npz'"
            ],
            "application/vnd.google.colaboratory.intrinsic+json": {
              "type": "string"
            }
          },
          "metadata": {},
          "execution_count": 2
        }
      ]
    },
    {
      "cell_type": "code",
      "source": [
        "download_link = 'https://drive.google.com/uc?id=1IhrcT3jHqlPrw2KvQ5vJkBgozxcJ1cJm'\n",
        "output_filepath = '/content/'\n",
        "gdown.download(download_link, output_filepath)"
      ],
      "metadata": {
        "colab": {
          "base_uri": "https://localhost:8080/",
          "height": 105
        },
        "id": "y3O3o6ZHLpI8",
        "outputId": "53a967a0-325d-475f-f2bf-e7e7c120c588"
      },
      "execution_count": 3,
      "outputs": [
        {
          "output_type": "stream",
          "name": "stderr",
          "text": [
            "Downloading...\n",
            "From: https://drive.google.com/uc?id=1IhrcT3jHqlPrw2KvQ5vJkBgozxcJ1cJm\n",
            "To: /content/labels.pt\n",
            "100%|██████████| 517k/517k [00:00<00:00, 82.5MB/s]\n"
          ]
        },
        {
          "output_type": "execute_result",
          "data": {
            "text/plain": [
              "'/content/labels.pt'"
            ],
            "application/vnd.google.colaboratory.intrinsic+json": {
              "type": "string"
            }
          },
          "metadata": {},
          "execution_count": 3
        }
      ]
    },
    {
      "cell_type": "code",
      "source": [
        "download_link = 'https://drive.google.com/uc?id=13o5n06UpMDOhtk4u7B_RBSWa3kiiGXFs'\n",
        "output_filepath = '/content/'\n",
        "gdown.download(download_link, output_filepath)"
      ],
      "metadata": {
        "colab": {
          "base_uri": "https://localhost:8080/",
          "height": 105
        },
        "id": "secibICoPRke",
        "outputId": "430d1d04-571e-4d49-be3c-553310837186"
      },
      "execution_count": 4,
      "outputs": [
        {
          "output_type": "stream",
          "name": "stderr",
          "text": [
            "Downloading...\n",
            "From: https://drive.google.com/uc?id=13o5n06UpMDOhtk4u7B_RBSWa3kiiGXFs\n",
            "To: /content/DNN_params.pth\n",
            "100%|██████████| 8.17M/8.17M [00:00<00:00, 65.9MB/s]\n"
          ]
        },
        {
          "output_type": "execute_result",
          "data": {
            "text/plain": [
              "'/content/DNN_params.pth'"
            ],
            "application/vnd.google.colaboratory.intrinsic+json": {
              "type": "string"
            }
          },
          "metadata": {},
          "execution_count": 4
        }
      ]
    },
    {
      "cell_type": "code",
      "source": [
        "download_link = 'https://drive.google.com/uc?id=1PxFOLBnQAlX-EOsqkhGCSd1T3ykAD0-4'\n",
        "output_filepath = '/content/'\n",
        "gdown.download(download_link, output_filepath)"
      ],
      "metadata": {
        "colab": {
          "base_uri": "https://localhost:8080/",
          "height": 105
        },
        "id": "3kpiyKpDG3Fm",
        "outputId": "442e4b83-0ab3-4006-9169-ce8e16b81719"
      },
      "execution_count": 5,
      "outputs": [
        {
          "output_type": "stream",
          "name": "stderr",
          "text": [
            "Downloading...\n",
            "From: https://drive.google.com/uc?id=1PxFOLBnQAlX-EOsqkhGCSd1T3ykAD0-4\n",
            "To: /content/vocab.pkl\n",
            "100%|██████████| 9.18M/9.18M [00:00<00:00, 95.1MB/s]\n"
          ]
        },
        {
          "output_type": "execute_result",
          "data": {
            "text/plain": [
              "'/content/vocab.pkl'"
            ],
            "application/vnd.google.colaboratory.intrinsic+json": {
              "type": "string"
            }
          },
          "metadata": {},
          "execution_count": 5
        }
      ]
    },
    {
      "cell_type": "code",
      "source": [
        "# Load the dictionary from the file\n",
        "with open('vocab.pkl', 'rb') as f:\n",
        "    vocab = pickle.load(f)\n",
        "\n",
        "for i, (key, value) in enumerate(vocab.items()):\n",
        "    print((key, value))\n",
        "    if i >= 5:\n",
        "        break"
      ],
      "metadata": {
        "colab": {
          "base_uri": "https://localhost:8080/"
        },
        "id": "L0rDH5Q6HOmd",
        "outputId": "8c044498-d457-4e7d-c557-7023838a0f5a"
      },
      "execution_count": 6,
      "outputs": [
        {
          "output_type": "stream",
          "name": "stdout",
          "text": [
            "('android/media/mediaplayer->start', 141045)\n",
            "('android/app/activity->setcontentview', 140900)\n",
            "('android/os/vibrator->cancel', 141093)\n",
            "('android.permission.vibrate', 140720)\n",
            "('android.hardware.touchscreen', 137091)\n",
            "('android.intent.action.main', 138335)\n"
          ]
        }
      ]
    },
    {
      "cell_type": "code",
      "source": [
        "# Load dataset\n",
        "X_redefined = sparse.load_npz(\"X_redefined_sparse_matrix.npz\")\n",
        "labels_tensor = torch.load('labels.pt')"
      ],
      "metadata": {
        "id": "qHe1GZxX-ET4"
      },
      "execution_count": 7,
      "outputs": []
    },
    {
      "cell_type": "code",
      "source": [
        "# Split data into train, validation, and test sets with stratified sampling\n",
        "X_train_val, X_test, labels_train_val, labels_test = train_test_split(X_redefined, labels_tensor, test_size=0.2, stratify=labels_tensor, random_state=42)\n",
        "X_train, X_val, labels_train, labels_val = train_test_split(X_train_val, labels_train_val, test_size=0.2, stratify=labels_train_val, random_state=42)\n",
        "\n",
        "# Combine features and labels into datasets\n",
        "train_dataset = TensorDataset(torch.tensor(X_train.toarray(), dtype=torch.float32), labels_train)\n",
        "val_dataset = TensorDataset(torch.tensor(X_val.toarray(), dtype=torch.float32), labels_val)\n",
        "test_dataset = TensorDataset(torch.tensor(X_test.toarray(), dtype=torch.float32), labels_test)\n"
      ],
      "metadata": {
        "id": "V8SALqiV-zFj"
      },
      "execution_count": 8,
      "outputs": []
    },
    {
      "cell_type": "code",
      "source": [
        "# Define the DataLoader for training, validation, and test sets\n",
        "batch_size = 256\n",
        "train_loader = DataLoader(train_dataset, batch_size=batch_size, shuffle=True)\n",
        "val_loader = DataLoader(val_dataset, batch_size=batch_size, shuffle=False)\n",
        "test_loader = DataLoader(test_dataset, batch_size=batch_size, shuffle=False)"
      ],
      "metadata": {
        "id": "g3BUXjXdZ9wq"
      },
      "execution_count": 9,
      "outputs": []
    },
    {
      "cell_type": "code",
      "source": [
        "import torch\n",
        "import torch.nn as nn\n",
        "\n",
        "class MalwareDetectionModel(nn.Module):\n",
        "    def __init__(self, input_size=10000, hidden_1_size=200, hidden_2_size=200, num_labels=2, dropout_prob=0.6):\n",
        "        super(MalwareDetectionModel, self).__init__()\n",
        "\n",
        "        self.input_size = input_size\n",
        "        self.hidden_1_size = hidden_1_size\n",
        "        self.hidden_2_size = hidden_2_size\n",
        "        self.num_labels = num_labels\n",
        "        self.dropout_prob = dropout_prob\n",
        "\n",
        "        self.fc1 = nn.Linear(input_size, hidden_1_size)\n",
        "        self.relu1 = nn.ReLU()\n",
        "        self.dropout1 = nn.Dropout(dropout_prob)\n",
        "        self.fc2 = nn.Linear(hidden_1_size, hidden_2_size)\n",
        "        self.relu2 = nn.ReLU()\n",
        "        self.dropout2 = nn.Dropout(dropout_prob)\n",
        "        self.fc3 = nn.Linear(hidden_2_size, num_labels)\n",
        "        self.log_softmax = nn.LogSoftmax(dim=1)\n",
        "\n",
        "    def forward(self, x):\n",
        "        x = self.fc1(x)\n",
        "        x = self.relu1(x)\n",
        "        x = self.dropout1(x)\n",
        "        x = self.fc2(x)\n",
        "        x = self.relu2(x)\n",
        "        x = self.dropout2(x)\n",
        "        x = self.fc3(x)\n",
        "        x = self.log_softmax(x)\n",
        "        return x\n"
      ],
      "metadata": {
        "id": "xdNbTvxTTqyw"
      },
      "execution_count": 10,
      "outputs": []
    },
    {
      "cell_type": "code",
      "source": [
        "# Create an instance of your model\n",
        "model = MalwareDetectionModel()\n",
        "\n",
        "# Load model parameters\n",
        "model.load_state_dict(torch.load('DNN_params.pth'))"
      ],
      "metadata": {
        "colab": {
          "base_uri": "https://localhost:8080/"
        },
        "id": "zZs3fmmZ-4PM",
        "outputId": "b3019cff-82c1-4d1f-db00-49dd7bc3af1c"
      },
      "execution_count": 11,
      "outputs": [
        {
          "output_type": "execute_result",
          "data": {
            "text/plain": [
              "<All keys matched successfully>"
            ]
          },
          "metadata": {},
          "execution_count": 11
        }
      ]
    },
    {
      "cell_type": "code",
      "source": [
        "X,y = next(iter(test_loader))\n",
        "print(X.shape)\n",
        "print(y.shape)"
      ],
      "metadata": {
        "colab": {
          "base_uri": "https://localhost:8080/"
        },
        "id": "91tjptrSb5qi",
        "outputId": "52d160f9-0750-4f54-b563-bd660dd775a0"
      },
      "execution_count": 12,
      "outputs": [
        {
          "output_type": "stream",
          "name": "stdout",
          "text": [
            "torch.Size([256, 10000])\n",
            "torch.Size([256, 1])\n"
          ]
        }
      ]
    },
    {
      "cell_type": "markdown",
      "source": [
        "\n",
        "\n",
        "```\n",
        "delta = torch.zeros_like(X, requires_grad=True)\n",
        "for t in range(25):\n",
        "    loss = nn.CrossEntropyLoss()(model(X + delta), y.view(-1).long())\n",
        "    loss.backward()\n",
        "    gradients = delta.grad.detach().sign() * (X < 0.5)\n",
        "    delta.data = (delta + 0.02*delta.grad.detach().sign()).clamp(0.,1.)\n",
        "    print(delta.data[0])\n",
        "    delta.grad.zero_()\n",
        "```\n",
        "\n"
      ],
      "metadata": {
        "id": "pP6ugpgGJaCp"
      }
    },
    {
      "cell_type": "code",
      "source": [
        "def round_x(x, round_threshold=0.5):\n",
        "    \"\"\"\n",
        "    Rounds x by thresholding it according to round_threshold.\n",
        "    :param x: input tensor\n",
        "    :param round_threshold: threshold parameter\n",
        "    :return: a tensor of 0s and 1s\n",
        "    \"\"\"\n",
        "    return (x >= round_threshold).float()\n",
        "\n",
        "def get_x0(x, initial_rounding_threshold=0.5, is_sample=False):\n",
        "    \"\"\"\n",
        "    Helper function to randomly initialize the inner maximizer algorithm.\n",
        "    Randomizes the input tensor while preserving its functionality.\n",
        "    :param x: input tensor\n",
        "    :param rounding_threshold: threshold for rounding\n",
        "    :param is_sample: flag to sample randomly from feasible area\n",
        "    :return: randomly sampled feasible version of x\n",
        "    \"\"\"\n",
        "    if is_sample:\n",
        "        rand_x = round_x(torch.rand(x.size()), initial_rounding_threshold=initial_rounding_threshold)\n",
        "        return (rand_x.byte() | x.byte()).float()\n",
        "    else:\n",
        "        return x\n",
        "\n",
        "def or_float_tensors(x_1, x_2):\n",
        "    \"\"\"\n",
        "    ORs two float tensors by converting them to byte and back.\n",
        "    :param x_1: tensor one\n",
        "    :param x_2: tensor two\n",
        "    :return: float tensor of 0s and 1s\n",
        "    \"\"\"\n",
        "    return (x_1.byte() | x_2.byte()).float()\n",
        "\n",
        "\n",
        "def xor_float_tensors(x_1, x_2):\n",
        "    \"\"\"\n",
        "    XORs two float tensors by converting them to byte and back\n",
        "    Note that byte() takes the first 8 bit after the decimal point of the float\n",
        "    e.g., 0.0 ==> 0\n",
        "          0.1 ==> 0\n",
        "          1.1 ==> 1\n",
        "        255.1 ==> 255\n",
        "        256.1 ==> 0\n",
        "    Subsequently the purpose of this function is to map 1s float tensors to 1\n",
        "    and those of 0s to 0. I.e., it is meant to be used on tensors of 0s and 1s.\n",
        "\n",
        "    :param x_1: tensor one\n",
        "    :param x_2: tensor two\n",
        "    :return: float tensor of 0s and 1s.\n",
        "    \"\"\"\n",
        "    return (x_1.byte() ^ x_2.byte()).float()\n",
        "\n",
        "def get_loss(x,y,model):\n",
        "    criterion = nn.CrossEntropyLoss(reduction='none')\n",
        "    outputs = model(x)\n",
        "    loss = criterion(outputs, y.view(-1).long())\n",
        "    _, predicted = torch.topk(outputs, k=1)\n",
        "    done = (predicted != y).squeeze()\n",
        "\n",
        "    return loss, done\n",
        "\n"
      ],
      "metadata": {
        "id": "XCbqeJ84gfDD"
      },
      "execution_count": 13,
      "outputs": []
    },
    {
      "cell_type": "markdown",
      "source": [
        "\n",
        "\n",
        "```\n",
        "x_1 = torch.tensor([1.0, 1.0,  1.0, 1.0, 1.0, 0.0,  0.0, 0.2])\n",
        "x_2 = torch.tensor([0.0, 0.6, -0.2, 0.9, 1.9, 1.0, -0.2, 0.3])\n",
        "result = or_float_tensors(x_1, x_2)\n",
        "             tensor([1., 1., 1., 1., 1., 1., 0., 0.])\n",
        "\n",
        "```\n",
        "\n"
      ],
      "metadata": {
        "id": "w1QRWuCbdFqD"
      }
    },
    {
      "cell_type": "code",
      "source": [
        "def dfgsm_k(x, y, model, k=25, epsilon=0.02, alpha=1., initial_rounding_threshold=0.5, round_threshold=0.5, random=False, is_report_loss_diff=True, is_sample=False):\n",
        "    \"\"\"\n",
        "    FGSM^k with deterministic rounding\n",
        "    :param y: ground truth labels\n",
        "    :param x: feature vector\n",
        "    :param model: neural network model\n",
        "    :param k: number of steps\n",
        "    :param epsilon: update value in each direction\n",
        "    :param alpha: hyperparameter for controlling the portionate of rounding\n",
        "    :param initial_rounding_threshold: threshold parameter for rounding the initial x_next\n",
        "    :param round_threshold: threshold parameter for rounding\n",
        "    :param is_report_loss_diff: flag to report loss difference\n",
        "    :param is_sample: flag to sample randomly from the feasible area\n",
        "    :return: the adversarial version of x according to dfgsm_k (tensor)\n",
        "    \"\"\"\n",
        "    model.eval()\n",
        "\n",
        "    # Compute natural loss\n",
        "    criterion = nn.CrossEntropyLoss(reduction='none')\n",
        "    loss_natural = criterion(model(x), y.view(-1).long())\n",
        "\n",
        "    # Initialize starting point\n",
        "    x_next = x.clone()\n",
        "    x_next = get_x0(x_next, initial_rounding_threshold, is_sample)\n",
        "\n",
        "    # Multi-step\n",
        "    for t in range(k):\n",
        "        # Forward pass\n",
        "        x_var = x_next.clone().detach().requires_grad_(True)\n",
        "        y_model = model(x_var)\n",
        "        loss = criterion(y_model, y.view(-1).long())\n",
        "\n",
        "        # Compute gradient\n",
        "        grad_vars = torch.autograd.grad(loss.mean(), x_var)\n",
        "        # Find the next sample\n",
        "        x_next = x_next + epsilon * torch.sign(grad_vars[0].data)\n",
        "\n",
        "        # Projection\n",
        "        x_next = torch.clamp(x_next, min=0., max=1.)\n",
        "\n",
        "    # Rounding step\n",
        "    if random:\n",
        "       round_threshold = torch.rand(x_next.size()) * alpha\n",
        "    x_next = round_x(x_next, round_threshold=round_threshold)\n",
        "\n",
        "    # Feasible projection\n",
        "    x_next = or_float_tensors(x_next, x)\n",
        "\n",
        "    # Compute adversarial loss\n",
        "    loss_adv = criterion(model(x_next), y.view(-1).long()).data\n",
        "\n",
        "    if is_report_loss_diff:\n",
        "        #print(f\"Natural loss: {loss_natural.mean():.4f}, Adversarial loss: {loss_adv.mean():.4f}, Difference: {(loss_adv.mean() - loss_natural.mean()):.4f}\")\n",
        "        outputs = model(x_next)\n",
        "        _, predicted = torch.topk(outputs, k=1)\n",
        "        done = (predicted != y).squeeze()\n",
        "        print(f\"dFGSM: attack effectiveness {done.sum().item() / x.size()[0] * 100:.3f}%.\")\n",
        "\n",
        "    # Replace with natural if adversarial loss is higher\n",
        "    replace_flag = (loss_adv < loss_natural).squeeze()\n",
        "    x_next[replace_flag] = x[replace_flag]\n",
        "\n",
        "    return x_next\n"
      ],
      "metadata": {
        "id": "H6BiF-vCHLlH"
      },
      "execution_count": 14,
      "outputs": []
    },
    {
      "cell_type": "code",
      "source": [
        "x_adv = dfgsm_k(X,y,model)\n",
        "print(X.sum()/batch_size)\n",
        "print(x_adv.sum()/batch_size)"
      ],
      "metadata": {
        "colab": {
          "base_uri": "https://localhost:8080/"
        },
        "id": "oTlgFwyKr3ex",
        "outputId": "30728550-49fe-4cae-89a0-8b9f8663ce74"
      },
      "execution_count": 16,
      "outputs": [
        {
          "output_type": "stream",
          "name": "stdout",
          "text": [
            "rFGSM: attack effectiveness 100.000%.\n",
            "tensor(26.6289)\n",
            "tensor(3986.6562)\n"
          ]
        }
      ]
    },
    {
      "cell_type": "code",
      "source": [
        "x_adv = dfgsm_k(X,y,model,random=True)\n",
        "print(X.sum()/batch_size)\n",
        "print(x_adv.sum()/batch_size)"
      ],
      "metadata": {
        "colab": {
          "base_uri": "https://localhost:8080/"
        },
        "id": "W4xLg9HYZ9s7",
        "outputId": "51a1ebd1-2899-4c67-f697-3114263d880f"
      },
      "execution_count": 17,
      "outputs": [
        {
          "output_type": "stream",
          "name": "stdout",
          "text": [
            "rFGSM: attack effectiveness 100.000%.\n",
            "tensor(26.6289)\n",
            "tensor(2744.0312)\n"
          ]
        }
      ]
    },
    {
      "cell_type": "code",
      "source": [
        "x_adv = dfgsm_k(X,y,model,k=1,random=True)\n",
        "print(X.sum()/batch_size)\n",
        "print(x_adv.sum()/batch_size)"
      ],
      "metadata": {
        "colab": {
          "base_uri": "https://localhost:8080/"
        },
        "id": "3KayY50GaVVB",
        "outputId": "c38922be-1c64-4cb0-acf3-f06ed0ab6a00"
      },
      "execution_count": 18,
      "outputs": [
        {
          "output_type": "stream",
          "name": "stdout",
          "text": [
            "rFGSM: attack effectiveness 100.000%.\n",
            "tensor(26.6289)\n",
            "tensor(121.5938)\n"
          ]
        }
      ]
    },
    {
      "cell_type": "code",
      "source": [
        "for alpha in range(1, 52, 10):\n",
        "  print('alpha = ',alpha)\n",
        "  x_adv = dfgsm_k(X, y, model, k=20, epsilon=0.02, alpha=alpha,random=True)\n",
        "  print(X.sum()/batch_size)\n",
        "  print(x_adv.sum()/batch_size)\n",
        "  print('***************************')"
      ],
      "metadata": {
        "colab": {
          "base_uri": "https://localhost:8080/"
        },
        "id": "ue3RTg7WVOvD",
        "outputId": "dc2aa351-fea9-4389-9fc0-d4c79bfac7ae"
      },
      "execution_count": null,
      "outputs": [
        {
          "output_type": "stream",
          "name": "stdout",
          "text": [
            "alpha =  1\n",
            "rFGSM: attack effectiveness 100.000%.\n",
            "tensor(28.0148)\n",
            "tensor(2189.4138)\n",
            "***************************\n",
            "alpha =  11\n",
            "rFGSM: attack effectiveness 100.000%.\n",
            "tensor(28.0148)\n",
            "tensor(222.7241)\n",
            "***************************\n",
            "alpha =  21\n",
            "rFGSM: attack effectiveness 100.000%.\n",
            "tensor(28.0148)\n",
            "tensor(132.2562)\n",
            "***************************\n",
            "alpha =  31\n",
            "rFGSM: attack effectiveness 99.507%.\n",
            "tensor(28.0148)\n",
            "tensor(98.3202)\n",
            "***************************\n",
            "alpha =  41\n",
            "rFGSM: attack effectiveness 94.581%.\n",
            "tensor(28.0148)\n",
            "tensor(80.3054)\n",
            "***************************\n",
            "alpha =  51\n",
            "rFGSM: attack effectiveness 91.626%.\n",
            "tensor(28.0148)\n",
            "tensor(70.1970)\n",
            "***************************\n"
          ]
        }
      ]
    },
    {
      "cell_type": "code",
      "source": [
        "total_samples = 0\n",
        "total_attack_success = 0\n",
        "total_features_x = 0\n",
        "total_features_x_adv = 0\n",
        "\n",
        "for X, y in test_loader:\n",
        "    batch_size = X.size(0)\n",
        "    x_adv = dfgsm_k(X, y, model, k=20, epsilon=0.0005, random=True,is_report_loss_diff=False)\n",
        "\n",
        "    # Compute mean number of features\n",
        "    total_features_x += X.sum().item()\n",
        "    total_features_x_adv += x_adv.sum().item()\n",
        "\n",
        "    # Compute attack effectiveness for this batch\n",
        "    outputs_adv = model(x_adv)\n",
        "    _, predicted_adv = torch.topk(outputs_adv, k=1)\n",
        "    total_attack_success += torch.sum(predicted_adv != y).item()\n",
        "    total_samples += batch_size\n",
        "\n",
        "# Compute mean number of features\n",
        "mean_features_x = total_features_x / total_samples\n",
        "mean_features_x_adv = total_features_x_adv / total_samples\n",
        "\n",
        "# Compute mean attack effectiveness\n",
        "mean_attack_effectiveness = (total_attack_success / total_samples) * 100\n",
        "\n",
        "# Print results\n",
        "print('Mean number of features (X):', mean_features_x)\n",
        "print('Mean number of features (X_adv):', mean_features_x_adv)\n",
        "print('Mean attack effectiveness:', mean_attack_effectiveness)\n"
      ],
      "metadata": {
        "colab": {
          "base_uri": "https://localhost:8080/"
        },
        "id": "qI8_L180z03g",
        "outputId": "65020b0e-05f6-40a8-936b-3bfbd451c886"
      },
      "execution_count": null,
      "outputs": [
        {
          "output_type": "stream",
          "name": "stdout",
          "text": [
            "Mean number of features (X): 27.5364492500872\n",
            "Mean number of features (X_adv): 76.25450529008255\n",
            "Mean attack effectiveness: 98.64356857729722\n"
          ]
        }
      ]
    },
    {
      "cell_type": "code",
      "source": [
        "total_samples = 0\n",
        "total_attack_success = 0\n",
        "total_features_x = 0\n",
        "total_features_x_adv = 0\n",
        "\n",
        "for X, y in test_loader:\n",
        "    batch_size = X.size(0)\n",
        "    x_adv = dfgsm_k(X, y, model, k=20, epsilon=0.02, alpha=40,random=True,is_report_loss_diff=False)\n",
        "\n",
        "    # Compute mean number of features\n",
        "    total_features_x += X.sum().item()\n",
        "    total_features_x_adv += x_adv.sum().item()\n",
        "\n",
        "    # Compute attack effectiveness for this batch\n",
        "    outputs_adv = model(x_adv)\n",
        "    _, predicted_adv = torch.topk(outputs_adv, k=1)\n",
        "    total_attack_success += torch.sum(predicted_adv != y).item()\n",
        "    total_samples += batch_size\n",
        "\n",
        "# Compute mean number of features\n",
        "mean_features_x = total_features_x / total_samples\n",
        "mean_features_x_adv = total_features_x_adv / total_samples\n",
        "\n",
        "# Compute mean attack effectiveness\n",
        "mean_attack_effectiveness = (total_attack_success / total_samples) * 100\n",
        "\n",
        "# Print results\n",
        "print('Mean number of features (X):', mean_features_x)\n",
        "print('Mean number of features (X_adv):', mean_features_x_adv)\n",
        "print('Mean attack effectiveness:', mean_attack_effectiveness)"
      ],
      "metadata": {
        "colab": {
          "base_uri": "https://localhost:8080/"
        },
        "id": "E-c7gxOHmXqv",
        "outputId": "29185cf1-413e-48ec-c2e2-91994ee67ee6"
      },
      "execution_count": null,
      "outputs": [
        {
          "output_type": "stream",
          "name": "stdout",
          "text": [
            "Mean number of features (X): 27.5364492500872\n",
            "Mean number of features (X_adv): 81.65845056776344\n",
            "Mean attack effectiveness: 96.50428244777738\n"
          ]
        }
      ]
    },
    {
      "cell_type": "code",
      "source": [
        "def dfgsm_k2(x, y, model, k=25, epsilon=0.02, alpha=1., initial_rounding_threshold=0.5, round_threshold=0.5, random=False, is_report_loss_diff=True, is_sample=False):\n",
        "    \"\"\"\n",
        "    FGSM^k with deterministic rounding\n",
        "    :param y: ground truth labels\n",
        "    :param x: feature vector\n",
        "    :param model: neural network model\n",
        "    :param k: number of steps\n",
        "    :param epsilon: update value in each direction\n",
        "    :param alpha: hyperparameter for controlling the portionate of rounding\n",
        "    :param initial_rounding_threshold: threshold parameter for rounding the initial x_next\n",
        "    :param round_threshold: threshold parameter for rounding\n",
        "    :param is_report_loss_diff: flag to report loss difference\n",
        "    :param is_sample: flag to sample randomly from the feasible area\n",
        "    :return: the adversarial version of x according to dfgsm_k (tensor)\n",
        "    \"\"\"\n",
        "    model.eval()\n",
        "\n",
        "    # Compute natural loss\n",
        "    criterion = nn.CrossEntropyLoss(reduction='none')\n",
        "    loss_natural = criterion(model(x), y.view(-1).long())\n",
        "\n",
        "    # Initialize starting point\n",
        "    x_next = x.clone()\n",
        "    x_next = get_x0(x_next, initial_rounding_threshold, is_sample)\n",
        "\n",
        "    # Multi-step\n",
        "    for t in range(k):\n",
        "        # Forward pass\n",
        "        x_var = x_next.clone().detach().requires_grad_(True)\n",
        "        y_model = model(x_var)\n",
        "        loss = criterion(y_model, y.view(-1).long())\n",
        "\n",
        "        # Compute gradient\n",
        "        grad_vars = torch.autograd.grad(loss.mean(), x_var)\n",
        "        #print(torch.sign(grad_vars[0].data).clamp(min=0))\n",
        "        # Find the next sample\n",
        "        x_next = x_next + epsilon * (torch.sign(grad_vars[0].data).clamp(min=0))\n",
        "\n",
        "        # Projection\n",
        "        x_next = torch.clamp(x_next, min=0., max=1.)\n",
        "\n",
        "    # Rounding step\n",
        "    if random:\n",
        "       round_threshold = torch.rand(x_next.size()) * alpha\n",
        "    x_next = round_x(x_next, round_threshold=round_threshold)\n",
        "\n",
        "    # Feasible projection\n",
        "    x_next = or_float_tensors(x_next, x)\n",
        "\n",
        "    # Compute adversarial loss\n",
        "    loss_adv = criterion(model(x_next), y.view(-1).long()).data\n",
        "\n",
        "    if is_report_loss_diff:\n",
        "        #print(f\"Natural loss: {loss_natural.mean():.4f}, Adversarial loss: {loss_adv.mean():.4f}, Difference: {(loss_adv.mean() - loss_natural.mean()):.4f}\")\n",
        "        outputs = model(x_next)\n",
        "        _, predicted = torch.topk(outputs, k=1)\n",
        "        done = (predicted != y).squeeze()\n",
        "        print(f\"rFGSM: attack effectiveness {done.sum().item() / x.size()[0] * 100:.3f}%.\")\n",
        "\n",
        "    # Replace with natural if adversarial loss is higher\n",
        "    replace_flag = (loss_adv < loss_natural).squeeze()\n",
        "    x_next[replace_flag] = x[replace_flag]\n",
        "\n",
        "    return x_next"
      ],
      "metadata": {
        "id": "jJHs7RsgsHMS"
      },
      "execution_count": null,
      "outputs": []
    },
    {
      "cell_type": "code",
      "source": [
        "x_adv = dfgsm_k2(X[:1],y[:1],model)"
      ],
      "metadata": {
        "colab": {
          "base_uri": "https://localhost:8080/"
        },
        "id": "GfFMDVbEsJzQ",
        "outputId": "eb00fd42-fc84-4c02-d9bd-d389aee31d88"
      },
      "execution_count": null,
      "outputs": [
        {
          "output_type": "stream",
          "name": "stdout",
          "text": [
            "rFGSM: attack effectiveness 100.000%.\n"
          ]
        }
      ]
    },
    {
      "cell_type": "code",
      "source": [
        "for alpha in range(1, 52, 10):\n",
        "  print('alpha = ',alpha)\n",
        "  x_adv = dfgsm_k2(X, y, model, k=20, epsilon=0.02, alpha=alpha,random=True)\n",
        "  print(X.sum()/batch_size)\n",
        "  print(x_adv.sum()/batch_size)\n",
        "  print('***************************')"
      ],
      "metadata": {
        "colab": {
          "base_uri": "https://localhost:8080/"
        },
        "id": "z5povafNsuLV",
        "outputId": "15d13143-21aa-4028-f107-5814f26b046c"
      },
      "execution_count": null,
      "outputs": [
        {
          "output_type": "stream",
          "name": "stdout",
          "text": [
            "alpha =  1\n",
            "rFGSM: attack effectiveness 100.000%.\n",
            "tensor(28.0148)\n",
            "tensor(2246.3103)\n",
            "***************************\n",
            "alpha =  11\n",
            "rFGSM: attack effectiveness 100.000%.\n",
            "tensor(28.0148)\n",
            "tensor(228.2020)\n",
            "***************************\n",
            "alpha =  21\n",
            "rFGSM: attack effectiveness 100.000%.\n",
            "tensor(28.0148)\n",
            "tensor(132.3547)\n",
            "***************************\n",
            "alpha =  31\n",
            "rFGSM: attack effectiveness 99.507%.\n",
            "tensor(28.0148)\n",
            "tensor(98.7537)\n",
            "***************************\n",
            "alpha =  41\n",
            "rFGSM: attack effectiveness 98.030%.\n",
            "tensor(28.0148)\n",
            "tensor(82.3054)\n",
            "***************************\n",
            "alpha =  51\n",
            "rFGSM: attack effectiveness 88.177%.\n",
            "tensor(28.0148)\n",
            "tensor(71.4335)\n",
            "***************************\n"
          ]
        }
      ]
    },
    {
      "cell_type": "code",
      "source": [
        "total_samples = 0\n",
        "total_attack_success = 0\n",
        "total_features_x = 0\n",
        "total_features_x_adv = 0\n",
        "\n",
        "for X, y in test_loader:\n",
        "    batch_size = X.size(0)\n",
        "    x_adv = dfgsm_k2(X, y, model, k=20, epsilon=0.02, alpha=40,random=True,is_report_loss_diff=False)\n",
        "\n",
        "    # Compute mean number of features\n",
        "    total_features_x += X.sum().item()\n",
        "    total_features_x_adv += x_adv.sum().item()\n",
        "\n",
        "    # Compute attack effectiveness for this batch\n",
        "    outputs_adv = model(x_adv)\n",
        "    _, predicted_adv = torch.topk(outputs_adv, k=1)\n",
        "    total_attack_success += torch.sum(predicted_adv != y).item()\n",
        "    total_samples += batch_size\n",
        "\n",
        "# Compute mean number of features\n",
        "mean_features_x = total_features_x / total_samples\n",
        "mean_features_x_adv = total_features_x_adv / total_samples\n",
        "\n",
        "# Compute mean attack effectiveness\n",
        "mean_attack_effectiveness = (total_attack_success / total_samples) * 100\n",
        "\n",
        "# Print results\n",
        "print('Mean number of features (X):', mean_features_x)\n",
        "print('Mean number of features (X_adv):', mean_features_x_adv)\n",
        "print('Mean attack effectiveness:', mean_attack_effectiveness)"
      ],
      "metadata": {
        "colab": {
          "base_uri": "https://localhost:8080/"
        },
        "id": "EJDq5_oZtPSW",
        "outputId": "7391b1a7-40a1-464c-a934-fdd4c21b118f"
      },
      "execution_count": null,
      "outputs": [
        {
          "output_type": "stream",
          "name": "stdout",
          "text": [
            "Mean number of features (X): 27.5364492500872\n",
            "Mean number of features (X_adv): 82.96155485796226\n",
            "Mean attack effectiveness: 96.48878037437507\n"
          ]
        }
      ]
    },
    {
      "cell_type": "markdown",
      "source": [
        ".clone(): This method creates a deep copy of the tensor, including its data and gradients (if any). It essentially creates a new tensor with the same data and properties as the original tensor. If the original tensor is part of a computation graph and requires gradients, the cloned tensor will also be part of the same computation graph and will require gradients. Any changes made to the cloned tensor will not affect the original tensor, and vice versa.\n",
        "\n",
        ".copy(): This method creates a shallow copy of the tensor. It only copies the data, not the computational graph or gradients. Therefore, the copied tensor will be detached from any computation graph and will not require gradients, even if the original tensor did. Changes made to the copied tensor will not affect the original tensor, but changes in the original tensor's data will be reflected in the copied tensor.\n",
        "\n"
      ],
      "metadata": {
        "id": "DxHlKdaVI5bQ"
      }
    },
    {
      "cell_type": "code",
      "source": [
        "def bga_k(x, y, model, k=25, alpha=1., is_report_loss_diff=True, use_sample=False):\n",
        "    \"\"\"\n",
        "    Multi-step bit gradient ascent\n",
        "    :param x: feature vector\n",
        "    :param y: ground truth labels\n",
        "    :param model: neural network model\n",
        "    :param k: number of steps\n",
        "    :param alpha: hyperparameter for controlling updates\n",
        "    :param is_report_loss_diff: flag to report loss difference\n",
        "    :param use_sample: flag to sample randomly from the feasible area\n",
        "    :return: the adversarial version of x according to bga_k (tensor)\n",
        "    \"\"\"\n",
        "    model.eval()\n",
        "\n",
        "    # Compute natural loss\n",
        "    criterion = nn.CrossEntropyLoss(reduction='none')\n",
        "    loss_natural = criterion(model(x), y.view(-1).long())\n",
        "\n",
        "    # Initialize worst loss and corresponding adversarial samples\n",
        "    loss_worst = loss_natural.clone()\n",
        "    x_worst = x.clone()\n",
        "\n",
        "    # Book-keeping\n",
        "    sqrt_m = torch.sqrt(torch.tensor([x.size()[1]], dtype=torch.float))\n",
        "\n",
        "    # Multi-step with gradients\n",
        "    for t in range(k):\n",
        "        if t == 0:\n",
        "            # Initialize starting point\n",
        "            x_next = get_x0(x, use_sample)\n",
        "        else:\n",
        "            # Compute gradient\n",
        "            grad_vars = torch.autograd.grad(loss.mean(), x_var)\n",
        "            grad_data = grad_vars[0].data\n",
        "\n",
        "            # Compute the updates\n",
        "            # torch.norm(grad_data, 2, 1), 2:the L2-norm , 1:the norm along dimension 1\n",
        "            x_update = (sqrt_m * (1. - 2. * x_next) * grad_data >= (alpha * torch.norm(grad_data, 2, 1).unsqueeze(1))).float()\n",
        "\n",
        "            # Find the next sample with projection to the feasible set\n",
        "            x_next = xor_float_tensors(x_update, x_next)\n",
        "            x_next = or_float_tensors(x_next, x)\n",
        "\n",
        "        # Forward pass\n",
        "        x_var = x_next.clone().detach().requires_grad_(True)\n",
        "        y_model = model(x_var)\n",
        "        loss = criterion(y_model, y.view(-1).long())\n",
        "\n",
        "        # Update worst loss and adversarial samples\n",
        "        replace_flag = (loss.data > loss_worst)\n",
        "        loss_worst[replace_flag] = loss.data[replace_flag]\n",
        "        x_worst[replace_flag] = x_next[replace_flag]\n",
        "\n",
        "    if is_report_loss_diff:\n",
        "        #print(f\"Natural loss: {loss_natural.mean():.4f}, Adversarial loss: {loss_worst.mean():.4f}, Difference: {(loss_worst.mean() - loss_natural.mean()):.4f}\")\n",
        "        outputs = model(x_worst)\n",
        "        _, predicted = torch.topk(outputs, k=1)\n",
        "        done = (predicted != y).squeeze()\n",
        "        print(f\"bga_k: attack effectiveness {done.sum().item() / x.size()[0] * 100:.3f}%.\")\n",
        "\n",
        "    return x_worst\n"
      ],
      "metadata": {
        "id": "V_1x56e5UYFe"
      },
      "execution_count": null,
      "outputs": []
    },
    {
      "cell_type": "code",
      "source": [
        "x_adv = bga_k(X, y, model, k=25, is_report_loss_diff=True, use_sample=False)\n",
        "print(X.sum()/batch_size)\n",
        "print(x_adv.sum()/batch_size)"
      ],
      "metadata": {
        "colab": {
          "base_uri": "https://localhost:8080/"
        },
        "id": "trFNZQ0HLMZ8",
        "outputId": "8921d8d7-7c8a-4ea0-eac6-2d8d34cda80f"
      },
      "execution_count": null,
      "outputs": [
        {
          "output_type": "stream",
          "name": "stdout",
          "text": [
            "bga_k: attack effectiveness 100.000%.\n",
            "tensor(26.6289)\n",
            "tensor(2297.2891)\n"
          ]
        }
      ]
    },
    {
      "cell_type": "code",
      "source": [
        "for alpha in range(1,6):\n",
        "  print('alpha = ',alpha)\n",
        "  x_adv = bga_k(X, y, model, k=25, alpha=alpha, is_report_loss_diff=True, use_sample=False)\n",
        "  print(X.sum()/batch_size)\n",
        "  print(x_adv.sum()/batch_size)\n",
        "  print('***************************')"
      ],
      "metadata": {
        "colab": {
          "base_uri": "https://localhost:8080/"
        },
        "id": "g0MiPWLHR2th",
        "outputId": "293c61a8-4984-499f-ba34-322d6e3dd5b9"
      },
      "execution_count": null,
      "outputs": [
        {
          "output_type": "stream",
          "name": "stdout",
          "text": [
            "alpha =  1\n",
            "rFGSM: attack effectiveness 100.000%.\n",
            "tensor(28.0148)\n",
            "tensor(2289.4089)\n",
            "***************************\n",
            "alpha =  2\n",
            "rFGSM: attack effectiveness 100.000%.\n",
            "tensor(28.0148)\n",
            "tensor(577.0690)\n",
            "***************************\n",
            "alpha =  3\n",
            "rFGSM: attack effectiveness 100.000%.\n",
            "tensor(28.0148)\n",
            "tensor(185.2315)\n",
            "***************************\n",
            "alpha =  4\n",
            "rFGSM: attack effectiveness 95.567%.\n",
            "tensor(28.0148)\n",
            "tensor(71.5714)\n",
            "***************************\n",
            "alpha =  5\n",
            "rFGSM: attack effectiveness 1.478%.\n",
            "tensor(28.0148)\n",
            "tensor(28.0887)\n",
            "***************************\n"
          ]
        }
      ]
    },
    {
      "cell_type": "code",
      "source": [
        "def bca_k(x, y, model, k=25, is_report_loss_diff=True, use_sample=False):\n",
        "    \"\"\"\n",
        "    Multi-step bit coordinate ascent\n",
        "    :param use_sample:\n",
        "    :param is_report_loss_diff:\n",
        "    :param y:\n",
        "    :param x: (tensor) feature vector\n",
        "    :param model: nn model\n",
        "    :param k: num of steps\n",
        "    :return: the adversarial version of x according to bca_k (tensor)\n",
        "    \"\"\"\n",
        "\n",
        "    model.eval()\n",
        "\n",
        "    # Compute natural loss\n",
        "    criterion = nn.CrossEntropyLoss(reduction='none')\n",
        "    loss_natural = criterion(model(x), y.view(-1).long())\n",
        "\n",
        "    # keeping worst loss\n",
        "    loss_worst = loss_natural.clone()\n",
        "    x_worst = x.clone()\n",
        "\n",
        "    # multi-step with gradients\n",
        "    loss = None\n",
        "    x_var = None\n",
        "    x_next = None\n",
        "    for t in range(k):\n",
        "        if t == 0:\n",
        "            # initialize starting point\n",
        "            x_next = get_x0(x, use_sample)\n",
        "        else:\n",
        "            # compute gradient\n",
        "            grad_vars = torch.autograd.grad(loss.mean(), x_var)\n",
        "            grad_data = grad_vars[0].data\n",
        "\n",
        "            # compute the updates (can be made more efficient than this)\n",
        "            #aug_grad = (1. - 2. * x_next) * grad_data #this line is wrong because the grad_data can be negative\n",
        "            aug_grad = (x_next < 0.5) * grad_data # the correct version\n",
        "            val, _ = torch.topk(aug_grad, 1)\n",
        "            x_update = (aug_grad >= val.expand_as(aug_grad)).float()\n",
        "            # find the next sample with projection to the feasible set\n",
        "            x_next = xor_float_tensors(x_update, x_next)\n",
        "            x_next = or_float_tensors(x_next, x)\n",
        "\n",
        "        # forward pass\n",
        "        x_var = x_next.clone().detach().requires_grad_(True)\n",
        "        y_model = model(x_var)\n",
        "        loss = criterion(y_model, y.view(-1).long())\n",
        "\n",
        "        # update worst loss and adversarial samples\n",
        "        replace_flag = (loss.data > loss_worst)\n",
        "        loss_worst[replace_flag] = loss.data[replace_flag]\n",
        "        x_worst[replace_flag] = x_next[replace_flag]\n",
        "\n",
        "    if is_report_loss_diff:\n",
        "        #print(\"Natural loss (%.4f) vs Adversarial loss (%.4f), Difference: (%.4f)\" %(loss_natural.mean(), loss_worst.mean(), loss_worst.mean() - loss_natural.mean()))\n",
        "        outputs = model(x_worst)\n",
        "        _, predicted = torch.topk(outputs, k=1)\n",
        "        done = (predicted != y).squeeze()\n",
        "        print(f\"bca_k: attack effectiveness {done.sum().item() / x.size()[0] * 100:.3f}%.\")\n",
        "\n",
        "\n",
        "\n",
        "    return x_worst"
      ],
      "metadata": {
        "id": "l5w-UPPVeDe5"
      },
      "execution_count": 214,
      "outputs": []
    },
    {
      "cell_type": "code",
      "source": [
        "x_adv = bca_k(X, y, model, k=3, is_report_loss_diff=True, use_sample=False)\n",
        "print(X.sum()/batch_size)\n",
        "print(x_adv.sum()/batch_size)"
      ],
      "metadata": {
        "colab": {
          "base_uri": "https://localhost:8080/"
        },
        "id": "rZKn-cfefC4m",
        "outputId": "72215200-69ed-42d2-fafa-674a9d65cc0c"
      },
      "execution_count": null,
      "outputs": [
        {
          "output_type": "stream",
          "name": "stdout",
          "text": [
            "bca_k: attack effectiveness 44.922%.\n",
            "tensor(26.6289)\n",
            "tensor(28.5430)\n"
          ]
        }
      ]
    },
    {
      "cell_type": "code",
      "source": [
        "for k in range(5, 55, 5):\n",
        "  print('k = ',k)\n",
        "  x_adv = bca_k(X, y, model, k=k, is_report_loss_diff=True, use_sample=False)\n",
        "  print(X.sum()/batch_size)\n",
        "  print(x_adv.sum()/batch_size)\n",
        "  print('***************************')"
      ],
      "metadata": {
        "colab": {
          "base_uri": "https://localhost:8080/"
        },
        "id": "knqrt4j9fcBp",
        "outputId": "44c53b1c-67e3-4af8-9de2-cd493ea83963"
      },
      "execution_count": null,
      "outputs": [
        {
          "output_type": "stream",
          "name": "stdout",
          "text": [
            "k =  5\n",
            "bca_k: attack effectiveness 91.406%.\n",
            "tensor(26.6289)\n",
            "tensor(30.5039)\n",
            "***************************\n",
            "k =  10\n",
            "bca_k: attack effectiveness 97.266%.\n",
            "tensor(26.6289)\n",
            "tensor(35.3906)\n",
            "***************************\n",
            "k =  15\n",
            "bca_k: attack effectiveness 97.266%.\n",
            "tensor(26.6289)\n",
            "tensor(40.2031)\n",
            "***************************\n",
            "k =  20\n",
            "bca_k: attack effectiveness 97.266%.\n",
            "tensor(26.6289)\n",
            "tensor(45.0078)\n",
            "***************************\n",
            "k =  25\n",
            "bca_k: attack effectiveness 97.266%.\n",
            "tensor(26.6289)\n",
            "tensor(49.8125)\n",
            "***************************\n",
            "k =  30\n",
            "bca_k: attack effectiveness 97.266%.\n",
            "tensor(26.6289)\n",
            "tensor(54.6172)\n",
            "***************************\n",
            "k =  35\n",
            "bca_k: attack effectiveness 97.266%.\n",
            "tensor(26.6289)\n",
            "tensor(59.4219)\n",
            "***************************\n",
            "k =  40\n",
            "bca_k: attack effectiveness 97.266%.\n",
            "tensor(26.6289)\n",
            "tensor(64.2266)\n",
            "***************************\n",
            "k =  45\n",
            "bca_k: attack effectiveness 97.266%.\n",
            "tensor(26.6289)\n",
            "tensor(69.0312)\n",
            "***************************\n",
            "k =  50\n",
            "bca_k: attack effectiveness 97.266%.\n",
            "tensor(26.6289)\n",
            "tensor(73.8359)\n",
            "***************************\n"
          ]
        }
      ]
    },
    {
      "cell_type": "code",
      "source": [
        "a = torch.rand((10,10000))\n",
        "a"
      ],
      "metadata": {
        "colab": {
          "base_uri": "https://localhost:8080/"
        },
        "id": "HjDiJdVfjyL8",
        "outputId": "15778f2a-0553-4db1-82ee-3a7b46b0dc72"
      },
      "execution_count": null,
      "outputs": [
        {
          "output_type": "execute_result",
          "data": {
            "text/plain": [
              "tensor([[0.2620, 0.9656, 0.6516,  ..., 0.0038, 0.3084, 0.7131],\n",
              "        [0.5588, 0.2493, 0.0950,  ..., 0.9978, 0.9718, 0.1974],\n",
              "        [0.7188, 0.9575, 0.2771,  ..., 0.1128, 0.0172, 0.7418],\n",
              "        ...,\n",
              "        [0.0582, 0.2115, 0.6837,  ..., 0.8870, 0.7203, 0.6274],\n",
              "        [0.7887, 0.0591, 0.3733,  ..., 0.8148, 0.6377, 0.2545],\n",
              "        [0.6163, 0.1027, 0.4877,  ..., 0.8024, 0.8279, 0.1123]])"
            ]
          },
          "metadata": {},
          "execution_count": 50
        }
      ]
    },
    {
      "cell_type": "code",
      "source": [
        "val, index = torch.topk(a, 10)"
      ],
      "metadata": {
        "id": "Yhh5P37vi8JE"
      },
      "execution_count": null,
      "outputs": []
    },
    {
      "cell_type": "code",
      "source": [
        "val[:,-1:]"
      ],
      "metadata": {
        "colab": {
          "base_uri": "https://localhost:8080/"
        },
        "id": "4qsw0r3xjEXz",
        "outputId": "577b20d0-c66f-4a6b-936c-a26fc195c43f"
      },
      "execution_count": null,
      "outputs": [
        {
          "output_type": "execute_result",
          "data": {
            "text/plain": [
              "tensor([[0.9994],\n",
              "        [0.9992],\n",
              "        [0.9989],\n",
              "        [0.9990],\n",
              "        [0.9992],\n",
              "        [0.9993],\n",
              "        [0.9993],\n",
              "        [0.9988],\n",
              "        [0.9993],\n",
              "        [0.9990]])"
            ]
          },
          "metadata": {},
          "execution_count": 72
        }
      ]
    },
    {
      "cell_type": "code",
      "source": [
        "def bca_k2(x, y, model, k=25, alpha=1, is_report_loss_diff=True, use_sample=False):\n",
        "    \"\"\"\n",
        "    Multi-step bit coordinate ascent\n",
        "    :param use_sample:\n",
        "    :param is_report_loss_diff:\n",
        "    :param y:\n",
        "    :param x: (tensor) feature vector\n",
        "    :param model: nn model\n",
        "    :param k: num of steps\n",
        "    :param alpha: top k gradients\n",
        "    :return: the adversarial version of x according to bca_k (tensor)\n",
        "    \"\"\"\n",
        "\n",
        "    model.eval()\n",
        "\n",
        "    # Compute natural loss\n",
        "    criterion = nn.CrossEntropyLoss(reduction='none')\n",
        "    loss_natural = criterion(model(x), y.view(-1).long())\n",
        "\n",
        "    # keeping worst loss\n",
        "    loss_worst = loss_natural.clone()\n",
        "    x_worst = x.clone()\n",
        "\n",
        "    # multi-step with gradients\n",
        "    loss = None\n",
        "    x_var = None\n",
        "    x_next = None\n",
        "    for t in range(k):\n",
        "        if t == 0:\n",
        "            # initialize starting point\n",
        "            x_next = get_x0(x, use_sample)\n",
        "        else:\n",
        "            # compute gradient\n",
        "            grad_vars = torch.autograd.grad(loss.mean(), x_var)\n",
        "            grad_data = grad_vars[0].data\n",
        "\n",
        "            # compute the updates (can be made more efficient than this)\n",
        "            #aug_grad = (1. - 2. * x_next) * grad_data #this line is wrong because the grad_data can be negative\n",
        "            aug_grad = (x_next < 0.5) * grad_data # the correct version\n",
        "            val, _ = torch.topk(aug_grad, alpha)\n",
        "            x_update = (aug_grad >= val[:,-1:].expand_as(aug_grad)).float()\n",
        "\n",
        "            # find the next sample with projection to the feasible set\n",
        "            x_next = xor_float_tensors(x_update, x_next)\n",
        "            x_next = or_float_tensors(x_next, x)\n",
        "\n",
        "        # forward pass\n",
        "        x_var = x_next.clone().detach().requires_grad_(True)\n",
        "        y_model = model(x_var)\n",
        "        loss = criterion(y_model, y.view(-1).long())\n",
        "\n",
        "        # update worst loss and adversarial samples\n",
        "        replace_flag = (loss.data > loss_worst)\n",
        "        loss_worst[replace_flag] = loss.data[replace_flag]\n",
        "        x_worst[replace_flag] = x_next[replace_flag]\n",
        "\n",
        "    if is_report_loss_diff:\n",
        "        #print(\"Natural loss (%.4f) vs Adversarial loss (%.4f), Difference: (%.4f)\" %(loss_natural.mean(), loss_worst.mean(), loss_worst.mean() - loss_natural.mean()))\n",
        "        outputs = model(x_worst)\n",
        "        _, predicted = torch.topk(outputs, k=1)\n",
        "        done = (predicted != y).squeeze()\n",
        "        print(f\"bca_k: attack effectiveness {done.sum().item() / x.size()[0] * 100:.3f}%.\")\n",
        "\n",
        "\n",
        "\n",
        "    return x_worst"
      ],
      "metadata": {
        "id": "ONJMTgcojcB1"
      },
      "execution_count": 217,
      "outputs": []
    },
    {
      "cell_type": "code",
      "source": [
        "for k in range(2, 9):\n",
        "  print('k = ',k)\n",
        "  x_adv = bca_k2(X, y, model, k=k, alpha=5, is_report_loss_diff=True, use_sample=False)\n",
        "  print(X.sum()/batch_size)\n",
        "  print(x_adv.sum()/batch_size)\n",
        "  print('***************************')"
      ],
      "metadata": {
        "colab": {
          "base_uri": "https://localhost:8080/"
        },
        "id": "dP95NXQHkbLu",
        "outputId": "91c580de-01cb-4574-e75a-baefe2b6d9ce"
      },
      "execution_count": null,
      "outputs": [
        {
          "output_type": "stream",
          "name": "stdout",
          "text": [
            "k =  2\n",
            "bca_k: attack effectiveness 94.922%.\n",
            "tensor(26.6289)\n",
            "tensor(31.5430)\n",
            "***************************\n",
            "k =  3\n",
            "bca_k: attack effectiveness 99.609%.\n",
            "tensor(26.6289)\n",
            "tensor(36.5195)\n",
            "***************************\n",
            "k =  4\n",
            "bca_k: attack effectiveness 99.609%.\n",
            "tensor(26.6289)\n",
            "tensor(41.4805)\n",
            "***************************\n",
            "k =  5\n",
            "bca_k: attack effectiveness 99.609%.\n",
            "tensor(26.6289)\n",
            "tensor(46.4453)\n",
            "***************************\n",
            "k =  6\n",
            "bca_k: attack effectiveness 99.609%.\n",
            "tensor(26.6289)\n",
            "tensor(51.4102)\n",
            "***************************\n",
            "k =  7\n",
            "bca_k: attack effectiveness 99.609%.\n",
            "tensor(26.6289)\n",
            "tensor(56.3750)\n",
            "***************************\n",
            "k =  8\n",
            "bca_k: attack effectiveness 100.000%.\n",
            "tensor(26.6289)\n",
            "tensor(61.3477)\n",
            "***************************\n"
          ]
        }
      ]
    },
    {
      "cell_type": "code",
      "source": [
        "for i in range(1, 12):\n",
        "  print('top alpha = ',i)\n",
        "  x_adv = bca_k2(X, y, model, k=2, alpha=i, is_report_loss_diff=True, use_sample=False)\n",
        "  print(X.sum()/batch_size)\n",
        "  print(x_adv.sum()/batch_size)\n",
        "  print('***************************')"
      ],
      "metadata": {
        "colab": {
          "base_uri": "https://localhost:8080/"
        },
        "id": "s7de41H0mq5B",
        "outputId": "277ee99e-b4a3-4fe6-c61f-bdaeae92d582"
      },
      "execution_count": null,
      "outputs": [
        {
          "output_type": "stream",
          "name": "stdout",
          "text": [
            "top k =  1\n",
            "bca_k: attack effectiveness 4.688%.\n",
            "tensor(26.6289)\n",
            "tensor(27.5664)\n",
            "***************************\n",
            "top k =  2\n",
            "bca_k: attack effectiveness 37.500%.\n",
            "tensor(26.6289)\n",
            "tensor(28.5508)\n",
            "***************************\n",
            "top k =  3\n",
            "bca_k: attack effectiveness 75.391%.\n",
            "tensor(26.6289)\n",
            "tensor(29.5352)\n",
            "***************************\n",
            "top k =  4\n",
            "bca_k: attack effectiveness 91.016%.\n",
            "tensor(26.6289)\n",
            "tensor(30.5430)\n",
            "***************************\n",
            "top k =  5\n",
            "bca_k: attack effectiveness 94.922%.\n",
            "tensor(26.6289)\n",
            "tensor(31.5430)\n",
            "***************************\n",
            "top k =  6\n",
            "bca_k: attack effectiveness 96.094%.\n",
            "tensor(26.6289)\n",
            "tensor(32.5391)\n",
            "***************************\n",
            "top k =  7\n",
            "bca_k: attack effectiveness 97.266%.\n",
            "tensor(26.6289)\n",
            "tensor(33.5234)\n",
            "***************************\n",
            "top k =  8\n",
            "bca_k: attack effectiveness 98.828%.\n",
            "tensor(26.6289)\n",
            "tensor(34.5195)\n",
            "***************************\n",
            "top k =  9\n",
            "bca_k: attack effectiveness 99.219%.\n",
            "tensor(26.6289)\n",
            "tensor(35.5078)\n",
            "***************************\n",
            "top k =  10\n",
            "bca_k: attack effectiveness 99.609%.\n",
            "tensor(26.6289)\n",
            "tensor(36.5039)\n",
            "***************************\n",
            "top k =  11\n",
            "bca_k: attack effectiveness 99.609%.\n",
            "tensor(26.6289)\n",
            "tensor(37.4961)\n",
            "***************************\n"
          ]
        }
      ]
    },
    {
      "cell_type": "code",
      "source": [
        "def grosse_k(x, y, model, k=25, is_report_loss_diff=True, use_sample=False):\n",
        "    \"\"\"\n",
        "    Multi-step bit coordinate ascent\n",
        "    :param use_sample:\n",
        "    :param is_report_loss_diff:\n",
        "    :param y:\n",
        "    :param x: (tensor) feature vector\n",
        "    :param model: nn model\n",
        "    :param k: num of steps\n",
        "    :return: the adversarial version of x according to bca_k (tensor)\n",
        "    \"\"\"\n",
        "    epsilon = 1e-10 # avoid gradient less than epsilon\n",
        "\n",
        "    model.eval()\n",
        "\n",
        "    # Compute natural loss\n",
        "    criterion = nn.CrossEntropyLoss(reduction='none')\n",
        "    loss_natural = criterion(model(x), y.view(-1).long())\n",
        "\n",
        "    # keeping worst loss\n",
        "    loss_worst = loss_natural.clone()\n",
        "    x_worst = x.clone()\n",
        "\n",
        "    # multi-step with gradients\n",
        "    output = None\n",
        "    x_var = None\n",
        "    x_next = None\n",
        "    for t in range(k):\n",
        "        if t == 0:\n",
        "            # initialize starting point\n",
        "            x_next = get_x0(x, use_sample)\n",
        "        else:\n",
        "            # compute gradient\n",
        "            # ouput.shape=([batch_size, 2]) because of 2 neoruns, so we just use the output of the first neorun(benign)\n",
        "            grad_vars = torch.autograd.grad(output[:, 0].mean(), x_var)\n",
        "            grad_data = grad_vars[0].data\n",
        "\n",
        "            # compute the updates (can be made more efficient than this)\n",
        "            #aug_grad = (1. - x_next) * grad_data\n",
        "            aug_grad = (x_next < 0.5) * grad_data\n",
        "            val, _ = torch.topk(aug_grad, 1)\n",
        "            x_update = ((aug_grad >= val.expand_as(aug_grad)).float()) * (aug_grad > epsilon)\n",
        "\n",
        "            # find the next sample with projection to the feasible set\n",
        "            x_next = xor_float_tensors(x_update, x_next)\n",
        "            x_next = or_float_tensors(x_next, x)\n",
        "\n",
        "        # forward pass\n",
        "        x_var = x_next.clone().detach().requires_grad_(True)\n",
        "        output = model(x_var)\n",
        "        loss = criterion(output, y.view(-1).long())\n",
        "\n",
        "        # update worst loss and adversarial samples\n",
        "        replace_flag = (loss.data > loss_worst)\n",
        "        loss_worst[replace_flag] = loss.data[replace_flag]\n",
        "        x_worst[replace_flag] = x_next[replace_flag]\n",
        "\n",
        "    if is_report_loss_diff:\n",
        "        #print(\"Natural loss (%.4f) vs Adversarial loss (%.4f), Difference: (%.4f)\" %(loss_natural.mean(), loss_worst.mean(), loss_worst.mean() - loss_natural.mean()))\n",
        "        outputs = model(x_worst)\n",
        "        _, predicted = torch.topk(outputs, k=1)\n",
        "        done = (predicted != y).squeeze()\n",
        "        print(f\"grosse_k: attack effectiveness {done.sum().item() / x.size()[0] * 100:.3f}%.\")\n",
        "\n",
        "\n",
        "\n",
        "    return x_worst"
      ],
      "metadata": {
        "id": "2jjbi-wHwYKz"
      },
      "execution_count": 230,
      "outputs": []
    },
    {
      "cell_type": "code",
      "source": [
        "# adversarial examples for malwares(to show them as benign)\n",
        "x_adv = grosse_k(X[y.squeeze()==1], y[y.squeeze()==1], model, k=15, is_report_loss_diff=True, use_sample=False)\n",
        "print(X[y.squeeze()==1].sum()/len(X[y.squeeze()==1]))\n",
        "print(x_adv.sum()/len(x_adv))"
      ],
      "metadata": {
        "colab": {
          "base_uri": "https://localhost:8080/"
        },
        "id": "de8dsYkvxLz2",
        "outputId": "eb8d602b-1a21-404a-d931-e1bf9f5ff403"
      },
      "execution_count": 220,
      "outputs": [
        {
          "output_type": "stream",
          "name": "stdout",
          "text": [
            "grosse_k: attack effectiveness 100.000%.\n",
            "tensor(52.8333)\n",
            "tensor(60.9167)\n"
          ]
        }
      ]
    },
    {
      "cell_type": "code",
      "source": [
        "# adversarial examples for benigns(to show them as malware)\n",
        "# does not work, because its based on first neron which is for converting malware into benign\n",
        "a = grosse_k(X[y.squeeze()==0], y[y.squeeze()==0], model, k=25, is_report_loss_diff=True, use_sample=False)"
      ],
      "metadata": {
        "colab": {
          "base_uri": "https://localhost:8080/"
        },
        "id": "kiXXgOSRqYGA",
        "outputId": "de78ba80-6a06-4a08-dca7-b0420c00f1ba"
      },
      "execution_count": 232,
      "outputs": [
        {
          "output_type": "stream",
          "name": "stdout",
          "text": [
            "grosse_k: attack effectiveness 0.410%.\n"
          ]
        }
      ]
    },
    {
      "cell_type": "code",
      "source": [
        "def pgd(x, y, model, k=25, step_length=0.02, norm='linf', initial_rounding_threshold=0.5, round_threshold=0.5, random=False, is_report_loss_diff=True, is_sample=False):\n",
        "    \"\"\"\n",
        "    Projected Gradient Descent (PGD) adversarial attack.\n",
        "    :param y: Ground truth labels\n",
        "    :param x: Feature vector\n",
        "    :param model: Neural network model\n",
        "    :param k: Number of steps\n",
        "    :param step_length: Step size for each iteration\n",
        "    :param norm: Norm used for perturbation ('linf' or 'l2')\n",
        "    :param initial_rounding_threshold: Threshold parameter for rounding the initial x_next\n",
        "    :param round_threshold: Threshold parameter for rounding\n",
        "    :param random: Flag to generate random thresholds\n",
        "    :param is_report_loss_diff: Flag to report loss difference\n",
        "    :param is_sample: Flag to sample randomly from the feasible area\n",
        "    :return: The adversarial version of x (tensor)\n",
        "    \"\"\"\n",
        "    model.eval()\n",
        "\n",
        "    # Compute natural loss\n",
        "    criterion = nn.CrossEntropyLoss(reduction='none')\n",
        "    loss_natural = criterion(model(x), y.view(-1).long())\n",
        "\n",
        "    # Initialize starting point\n",
        "    x_next = x.clone()\n",
        "    x_next = get_x0(x_next, initial_rounding_threshold, is_sample)\n",
        "\n",
        "    # Multi-step PGD\n",
        "    for t in range(k):\n",
        "        # Forward pass\n",
        "        x_var = x_next.clone().detach().requires_grad_(True)\n",
        "        y_model = model(x_var)\n",
        "        loss = criterion(y_model, y.view(-1).long())\n",
        "\n",
        "        # Compute gradient\n",
        "        grad_vars = torch.autograd.grad(loss.mean(), x_var)\n",
        "        grad_data = grad_vars[0].data\n",
        "        gradients = grad_data * (x < 0.5)\n",
        "\n",
        "        # Norm\n",
        "        if norm == 'linf':\n",
        "            perturbation = torch.sign(gradients)\n",
        "        elif norm == 'l2_2':\n",
        "            max_grad, _ = gradients.max(dim=1, keepdim=True)\n",
        "            l2norm = torch.linalg.norm(gradients, dim=-1, keepdim=True)\n",
        "            #print(max_grad/l2norm)\n",
        "            perturbation = torch.minimum(torch.tensor(1., dtype=x.dtype, device=x.device), gradients / max_grad)\n",
        "\n",
        "        elif norm == 'l2':\n",
        "            l2norm = torch.linalg.norm(gradients, dim=-1, keepdim=True)\n",
        "            perturbation = torch.minimum(torch.tensor(1., dtype=x.dtype, device=x.device), gradients / l2norm)\n",
        "            perturbation[torch.isnan(perturbation)] = 0.\n",
        "            perturbation[torch.isinf(perturbation)] = 1.\n",
        "        elif norm == 'l1':\n",
        "            #ignore the gradient of indice which is updated\n",
        "            gradients = gradients * (x_next < 0.5)\n",
        "            val, _ = torch.topk(gradients, 1)\n",
        "            perturbation = (gradients >= val.expand_as(gradients)).float()\n",
        "            # stop perturbing the examples that are successful to evade the victim\n",
        "            outputs = model(x_next)\n",
        "            _, predicted = torch.topk(outputs, k=1)\n",
        "            done = (predicted != y).squeeze()\n",
        "\n",
        "            if torch.all(done):\n",
        "                break\n",
        "            perturbation[done] = 0.\n",
        "\n",
        "        else:\n",
        "            raise ValueError(\"Expect 'l1' or 'l2' or 'linf' norm.\")\n",
        "\n",
        "        # Update x_next\n",
        "        x_next = torch.clamp(x_next + perturbation * step_length, min=0., max=1.)\n",
        "\n",
        "    # Rounding step\n",
        "    if random:\n",
        "       round_threshold = torch.rand(x_next.size())\n",
        "    x_next = round_x(x_next, round_threshold=round_threshold)\n",
        "\n",
        "    # Feasible projection\n",
        "    x_next = or_float_tensors(x_next, x)\n",
        "\n",
        "    # Compute adversarial loss\n",
        "    loss_adv = criterion(model(x_next), y.view(-1).long()).data\n",
        "\n",
        "    if is_report_loss_diff:\n",
        "        outputs = model(x_next)\n",
        "        _, predicted = torch.topk(outputs, k=1)\n",
        "        done = (predicted != y).squeeze()\n",
        "        print(f\"PGD {norm}: Attack effectiveness {done.sum().item() / x.size()[0] * 100:.3f}%.\")\n",
        "\n",
        "    # Replace with natural if adversarial loss is higher\n",
        "    replace_flag = (loss_adv < loss_natural).squeeze()\n",
        "    x_next[replace_flag] = x[replace_flag]\n",
        "\n",
        "    return x_next\n"
      ],
      "metadata": {
        "id": "j0HTVirP5Gtq"
      },
      "execution_count": 18,
      "outputs": []
    },
    {
      "cell_type": "code",
      "source": [
        "x_adv = pgd(X[y.squeeze()==1],  y[y.squeeze()==1], model, k=25, step_length=1., norm='l1', initial_rounding_threshold=0.5, round_threshold=0.5, random=False, is_report_loss_diff=True, is_sample=False)\n",
        "print(X[y.squeeze()==1].sum()/len(X[y.squeeze()==1]))\n",
        "print(x_adv.sum()/len(x_adv))"
      ],
      "metadata": {
        "colab": {
          "base_uri": "https://localhost:8080/"
        },
        "id": "1nK611ZO4973",
        "outputId": "ed41e9eb-659d-4f39-d1b9-fb3de917408a"
      },
      "execution_count": 235,
      "outputs": [
        {
          "output_type": "stream",
          "name": "stdout",
          "text": [
            "PGD l1: Attack effectiveness 100.000%.\n",
            "tensor(52.8333)\n",
            "tensor(55.9167)\n"
          ]
        }
      ]
    },
    {
      "cell_type": "code",
      "source": [
        "x_adv = bca_k(X[y.squeeze()==1], y[y.squeeze()==1], model, k=25, is_report_loss_diff=True, use_sample=False)\n",
        "print(X[y.squeeze()==1].sum()/len(X[y.squeeze()==1]))\n",
        "print(x_adv.sum()/len(x_adv))"
      ],
      "metadata": {
        "colab": {
          "base_uri": "https://localhost:8080/"
        },
        "id": "B2xuFvYHAI08",
        "outputId": "e0cb6a54-7f45-41ec-b7d9-2344a909b228"
      },
      "execution_count": 237,
      "outputs": [
        {
          "output_type": "stream",
          "name": "stdout",
          "text": [
            "bca_k: attack effectiveness 100.000%.\n",
            "tensor(52.8333)\n",
            "tensor(76.8333)\n"
          ]
        }
      ]
    },
    {
      "cell_type": "code",
      "source": [
        "x_adv = pgd(X, y, model, k=250, step_length=0.002, norm='linf', initial_rounding_threshold=0.5, round_threshold=0.5, random=False, is_report_loss_diff=True, is_sample=False)\n",
        "print(X.sum()/batch_size)\n",
        "print(x_adv.sum()/batch_size)"
      ],
      "metadata": {
        "colab": {
          "base_uri": "https://localhost:8080/"
        },
        "id": "p1vtfW4C-sXq",
        "outputId": "68a9fac2-c99e-4b36-a45a-25368b21a64a"
      },
      "execution_count": 84,
      "outputs": [
        {
          "output_type": "stream",
          "name": "stdout",
          "text": [
            "PGD linf: Attack effectiveness 100.000%.\n",
            "tensor(26.6289)\n",
            "tensor(3903.8359)\n"
          ]
        }
      ]
    },
    {
      "cell_type": "code",
      "source": [
        "x_adv = pgd(X[y.squeeze()==1], y[y.squeeze()==1], model, k=250, step_length=0.003, norm='l2_2', initial_rounding_threshold=0.5, round_threshold=0.5, random=False, is_report_loss_diff=True, is_sample=False)\n",
        "print(X[y.squeeze()==1].sum()/len(X[y.squeeze()==1]))\n",
        "print(x_adv.sum()/len(x_adv))"
      ],
      "metadata": {
        "colab": {
          "base_uri": "https://localhost:8080/"
        },
        "id": "YnqleAGZ33W7",
        "outputId": "17ac0bb8-1312-4f25-8589-ace0da07548d"
      },
      "execution_count": 141,
      "outputs": [
        {
          "output_type": "stream",
          "name": "stdout",
          "text": [
            "PGD l2_2: Attack effectiveness 100.000%.\n",
            "tensor(45.2941)\n",
            "tensor(52.2941)\n"
          ]
        }
      ]
    },
    {
      "cell_type": "code",
      "source": [
        "x_adv = pgd(X[y.squeeze()==1], y[y.squeeze()==1], model, k=250, step_length=0.05, norm='l2', initial_rounding_threshold=0.5, round_threshold=0.5, random=False, is_report_loss_diff=True, is_sample=False)\n",
        "print(X[y.squeeze()==1].sum()/len(X[y.squeeze()==1]))\n",
        "print(x_adv.sum()/len(x_adv))"
      ],
      "metadata": {
        "colab": {
          "base_uri": "https://localhost:8080/"
        },
        "id": "cMf1VtXg0nmP",
        "outputId": "1a8ad94b-1fda-4291-e92b-d0bf71c84558"
      },
      "execution_count": 140,
      "outputs": [
        {
          "output_type": "stream",
          "name": "stdout",
          "text": [
            "PGD l2: Attack effectiveness 100.000%.\n",
            "tensor(45.2941)\n",
            "tensor(53.1176)\n"
          ]
        }
      ]
    },
    {
      "cell_type": "code",
      "source": [
        "def compute_attack_metrics(test_loader, model, attack_type, k, step_length, norm, initial_rounding_threshold, round_threshold):\n",
        "    total_samples = 0\n",
        "    total_attack_success = 0\n",
        "    total_features_x = 0\n",
        "    total_features_x_adv = 0\n",
        "\n",
        "    for X, y in test_loader:\n",
        "        X = X[y.squeeze()==1]\n",
        "        y = y[y.squeeze()==1]\n",
        "        batch_size = X.size(0)\n",
        "        x_adv = pgd(X, y, model, k=k, step_length=step_length, norm=norm, initial_rounding_threshold=initial_rounding_threshold, round_threshold=round_threshold, random=False, is_report_loss_diff=False, is_sample=False)\n",
        "\n",
        "        # Compute mean number of features\n",
        "        total_features_x += X.sum().item()\n",
        "        total_features_x_adv += x_adv.sum().item()\n",
        "\n",
        "        # Compute attack effectiveness for this batch\n",
        "        outputs_adv = model(x_adv)\n",
        "        _, predicted_adv = torch.topk(outputs_adv, k=1)\n",
        "        total_attack_success += torch.sum(predicted_adv != y).item()\n",
        "        total_samples += batch_size\n",
        "\n",
        "    # Compute mean number of features\n",
        "    mean_features_x = total_features_x / total_samples\n",
        "    mean_features_x_adv = total_features_x_adv / total_samples\n",
        "\n",
        "    # Compute mean attack effectiveness\n",
        "    mean_attack_effectiveness = (total_attack_success / total_samples) * 100\n",
        "\n",
        "    return mean_features_x, mean_features_x_adv, mean_attack_effectiveness\n",
        "\n",
        "# for l2_2\n",
        "mean_features_x_l2_2, mean_features_x_adv_l2_2, mean_attack_effectiveness_l2_2 = compute_attack_metrics(test_loader, model, 'l2_2', k=250, step_length=0.003, norm='l2_2', initial_rounding_threshold=0.5, round_threshold=0.5)\n",
        "\n",
        "# Print results for l2_2 attack\n",
        "print('For l2_2 attack:')\n",
        "print('Mean number of features (X):', mean_features_x_l2_2)\n",
        "print('Mean number of features (X_adv):', mean_features_x_adv_l2_2)\n",
        "print('Mean attack effectiveness:', mean_attack_effectiveness_l2_2)\n",
        "\n",
        "\n",
        "\n",
        "# for l2\n",
        "mean_features_x_l2, mean_features_x_adv_l2, mean_attack_effectiveness_l2 = compute_attack_metrics(test_loader, model, 'l2', k=250, step_length=0.05, norm='l2', initial_rounding_threshold=0.5, round_threshold=0.5)\n",
        "\n",
        "# Print results for l2 attack\n",
        "print('For l2 attack:')\n",
        "print('Mean number of features (X):', mean_features_x_l2)\n",
        "print('Mean number of features (X_adv):', mean_features_x_adv_l2)\n",
        "print('Mean attack effectiveness:', mean_attack_effectiveness_l2)\n"
      ],
      "metadata": {
        "colab": {
          "base_uri": "https://localhost:8080/"
        },
        "id": "cWuVmVqtABqQ",
        "outputId": "7949cfd0-3a5b-4c75-8b34-cb7bcd46feac"
      },
      "execution_count": 142,
      "outputs": [
        {
          "output_type": "stream",
          "name": "stdout",
          "text": [
            "For l2_2 attack:\n",
            "Mean number of features (X): 47.16636690647482\n",
            "Mean number of features (X_adv): 54.15377697841727\n",
            "Mean attack effectiveness: 98.7410071942446\n",
            "For l2 attack:\n",
            "Mean number of features (X): 47.16636690647482\n",
            "Mean number of features (X_adv): 55.07374100719424\n",
            "Mean attack effectiveness: 98.92086330935251\n"
          ]
        }
      ]
    },
    {
      "cell_type": "code",
      "source": [
        "x = X\n",
        "steps_max=5\n",
        "attack_list = ['linf', 'l2', 'l1']\n",
        "is_sample = False\n",
        "varepsilon = 1e-20\n",
        "\n",
        "model.eval()\n",
        "with torch.no_grad():\n",
        "    loss, done = get_loss(x,y,model) #shape:[samples],[samples]\n",
        "pre_loss = loss\n",
        "n, red_n = x.shape[0], x.shape[1]\n",
        "adv_x = x.detach().clone()\n",
        "stop_flag = torch.zeros(n, dtype=torch.bool) #[samples]\n",
        "\n",
        "for t in range(steps_max):\n",
        "  num_sample_red = n - torch.sum(stop_flag)\n",
        "  print('num_sample_red : ',num_sample_red)\n",
        "  if num_sample_red <= 0:\n",
        "      break\n",
        "\n",
        "  red_label = y[~stop_flag]\n",
        "  pertbx = []\n",
        "\n",
        "\n",
        "  for norm in attack_list:\n",
        "      if norm=='l1':\n",
        "        l1 = pgd(adv_x[~stop_flag], red_label, model, k=50, step_length=1., norm='l1', is_sample=is_sample)\n",
        "        pertbx.append(l1)\n",
        "      elif norm=='l2':\n",
        "        l2 = pgd(adv_x[~stop_flag], red_label, model, k=200, step_length=0.05, norm='l2', is_sample=is_sample)\n",
        "        pertbx.append(l2)\n",
        "      elif norm=='linf':\n",
        "        linf = pgd(adv_x[~stop_flag], red_label, model, k=500, step_length=0.002, norm='linf', is_sample=is_sample)\n",
        "        pertbx.append(linf)\n",
        "      else :\n",
        "        raise ValueError(\"Expect 'l1' or 'l2' or 'linf' norm.\")\n",
        "\n",
        "  # here pertbx.shape = a list of (number of attacks  ,(num_sample_red,features))\n",
        "  pertbx = torch.vstack(pertbx)\n",
        "  # here pertbx.shape = a tensor (num_sample_red*number of attacks samples, features)\n",
        "\n",
        "  with torch.no_grad():\n",
        "    red_label_ext = torch.cat([red_label] * len(attack_list)) #(labels*number of attacks )\n",
        "    loss, done = get_loss(pertbx, red_label_ext,model) #(labels*number of attacks )\n",
        "    loss = loss.reshape(len(attack_list), num_sample_red).permute(1, 0) #(num_sample_red,number of attacks)\n",
        "    done = done.reshape(len(attack_list), num_sample_red).permute(1, 0) #(num_sample_red,number of attacks)\n",
        "\n",
        "    success_flag = torch.any(done, dim=-1) #(num_sample_red)\n",
        "    # for a sample, if there is at least one successful attack, we will select the one with maximum loss;\n",
        "    # while if no attacks evade the victim successful, all perturbed examples are reminded for selection\n",
        "\n",
        "    done[~torch.any(done, dim=-1)] = 1 #loss.shape=done.shape=(samples,number of attacks)\n",
        "    loss = (loss * done.to(torch.float)) + torch.min(loss) * (~done).to(torch.float) #(num_sample_red,number of attacks)\n",
        "    pertbx = pertbx.reshape(len(attack_list), num_sample_red, red_n).permute([1, 0, 2])#(num_sample_red,attacks,features)\n",
        "    _, indices = loss.max(dim=-1) # ans:(samples), max loss among attacks which worked, and max loss among all attacks for sample , none of them worked\n",
        "    adv_x[~stop_flag] = pertbx[torch.arange(num_sample_red), indices]\n",
        "    a_loss = loss[torch.arange(num_sample_red), indices]\n",
        "    pre_stop_flag = stop_flag.clone()\n",
        "    stop_flag[~stop_flag] = (torch.abs(pre_loss[~stop_flag] - a_loss) < varepsilon) | success_flag\n",
        "    pre_loss[~pre_stop_flag] = a_loss"
      ],
      "metadata": {
        "colab": {
          "base_uri": "https://localhost:8080/",
          "height": 228
        },
        "id": "eGJYJzXD4k9T",
        "outputId": "f8bc8bb7-67e5-4e6b-a6c2-c73f11d09b67"
      },
      "execution_count": 14,
      "outputs": [
        {
          "output_type": "stream",
          "name": "stdout",
          "text": [
            "num_sample_red :  tensor(256)\n"
          ]
        },
        {
          "output_type": "error",
          "ename": "NameError",
          "evalue": "name 'pgd' is not defined",
          "traceback": [
            "\u001b[0;31m---------------------------------------------------------------------------\u001b[0m",
            "\u001b[0;31mNameError\u001b[0m                                 Traceback (most recent call last)",
            "\u001b[0;32m<ipython-input-14-4c5f625d08e4>\u001b[0m in \u001b[0;36m<cell line: 15>\u001b[0;34m()\u001b[0m\n\u001b[1;32m     31\u001b[0m         \u001b[0mpertbx\u001b[0m\u001b[0;34m.\u001b[0m\u001b[0mappend\u001b[0m\u001b[0;34m(\u001b[0m\u001b[0ml2\u001b[0m\u001b[0;34m)\u001b[0m\u001b[0;34m\u001b[0m\u001b[0;34m\u001b[0m\u001b[0m\n\u001b[1;32m     32\u001b[0m       \u001b[0;32melif\u001b[0m \u001b[0mnorm\u001b[0m\u001b[0;34m==\u001b[0m\u001b[0;34m'linf'\u001b[0m\u001b[0;34m:\u001b[0m\u001b[0;34m\u001b[0m\u001b[0;34m\u001b[0m\u001b[0m\n\u001b[0;32m---> 33\u001b[0;31m         \u001b[0mlinf\u001b[0m \u001b[0;34m=\u001b[0m \u001b[0mpgd\u001b[0m\u001b[0;34m(\u001b[0m\u001b[0madv_x\u001b[0m\u001b[0;34m[\u001b[0m\u001b[0;34m~\u001b[0m\u001b[0mstop_flag\u001b[0m\u001b[0;34m]\u001b[0m\u001b[0;34m,\u001b[0m \u001b[0mred_label\u001b[0m\u001b[0;34m,\u001b[0m \u001b[0mmodel\u001b[0m\u001b[0;34m,\u001b[0m \u001b[0mk\u001b[0m\u001b[0;34m=\u001b[0m\u001b[0;36m500\u001b[0m\u001b[0;34m,\u001b[0m \u001b[0mstep_length\u001b[0m\u001b[0;34m=\u001b[0m\u001b[0;36m0.002\u001b[0m\u001b[0;34m,\u001b[0m \u001b[0mnorm\u001b[0m\u001b[0;34m=\u001b[0m\u001b[0;34m'linf'\u001b[0m\u001b[0;34m,\u001b[0m \u001b[0mis_sample\u001b[0m\u001b[0;34m=\u001b[0m\u001b[0mis_sample\u001b[0m\u001b[0;34m)\u001b[0m\u001b[0;34m\u001b[0m\u001b[0;34m\u001b[0m\u001b[0m\n\u001b[0m\u001b[1;32m     34\u001b[0m         \u001b[0mpertbx\u001b[0m\u001b[0;34m.\u001b[0m\u001b[0mappend\u001b[0m\u001b[0;34m(\u001b[0m\u001b[0mlinf\u001b[0m\u001b[0;34m)\u001b[0m\u001b[0;34m\u001b[0m\u001b[0;34m\u001b[0m\u001b[0m\n\u001b[1;32m     35\u001b[0m       \u001b[0;32melse\u001b[0m \u001b[0;34m:\u001b[0m\u001b[0;34m\u001b[0m\u001b[0;34m\u001b[0m\u001b[0m\n",
            "\u001b[0;31mNameError\u001b[0m: name 'pgd' is not defined"
          ]
        }
      ]
    },
    {
      "cell_type": "code",
      "source": [
        "def PGD_Max(x,y, model, attack_list = ['linf', 'l2', 'l1'],steps_max=5, is_sample = False, varepsilon = 1e-20):\n",
        "    \"\"\"\n",
        "    PGD_Max adversarial attack.\n",
        "\n",
        "    Args:\n",
        "        x: Input data tensor (shape: [samples, features])\n",
        "        y: Ground truth labels tensor (shape: [samples])\n",
        "        model: Neural network model\n",
        "        attack_list: List of norms for attacks (default: ['linf', 'l2', 'l1'])\n",
        "        steps_max: Maximum number of steps (default: 5)\n",
        "        is_sample: Flag to sample randomly from the feasible area (default: False)\n",
        "        vaρεpsilon: Tolerance for stopping condition (default: 1e-20)\n",
        "\n",
        "    Returns:\n",
        "        Adversarial version of input data (tensor)\n",
        "    \"\"\"\n",
        "    batch_size = x.shape[0]\n",
        "    norm_params = {\n",
        "        'l1': {'k': 50, 'step_length': 1.0},\n",
        "        'l2': {'k': 200, 'step_length': 0.05},\n",
        "        'linf': {'k': 500, 'step_length': 0.002}\n",
        "    }\n",
        "\n",
        "    model.eval()\n",
        "    with torch.no_grad():\n",
        "        loss, done = get_loss(x,y,model) #shape:[samples],[samples]\n",
        "\n",
        "    pre_loss = loss\n",
        "    n = x.shape[0]\n",
        "    adv_x = x.detach().clone()\n",
        "    stop_flag = torch.zeros(n, dtype=torch.bool) #[samples]\n",
        "\n",
        "    for t in range(steps_max):\n",
        "      num_remaining  = (~stop_flag).sum().item()\n",
        "      print('number of remaining samples : ',num_remaining )\n",
        "      if num_remaining  <= 0:\n",
        "          break\n",
        "\n",
        "      remaining_label = y[~stop_flag]\n",
        "      pertbx = []\n",
        "\n",
        "      for norm in attack_list:\n",
        "          if norm in norm_params:\n",
        "              params = norm_params[norm]\n",
        "              perturbation = pgd(adv_x[~stop_flag], remaining_label, model, norm=norm, is_sample=is_sample, **params)\n",
        "              print(\"the number of added features : \", (perturbation.sum() - adv_x[~stop_flag].sum())/len(adv_x[~stop_flag]))\n",
        "              pertbx.append(perturbation)\n",
        "          else:\n",
        "              raise ValueError(\"Expected 'l1' or 'l2' or 'linf' norm.\")\n",
        "\n",
        "\n",
        "      # here pertbx.shape = a list of (number of attacks  ,(num_remaining ,features))\n",
        "      pertbx = torch.vstack(pertbx)\n",
        "      # here pertbx.shape = a tensor (num_remaining *number of attacks samples, features)\n",
        "\n",
        "      with torch.no_grad():\n",
        "        remaining_label_ext = torch.cat([remaining_label] * len(attack_list)) #(labels*number of attacks )\n",
        "        loss, done = get_loss(pertbx, remaining_label_ext,model) #(labels*number of attacks )\n",
        "        loss = loss.reshape(len(attack_list), num_remaining ).permute(1, 0) #(num_remaining ,number of attacks)\n",
        "        done = done.reshape(len(attack_list), num_remaining ).permute(1, 0) #(num_remaining ,number of attacks)\n",
        "\n",
        "        success_flag = torch.any(done, dim=-1) #(num_remaining )\n",
        "        # for a sample, if there is at least one successful attack, we will select the one with maximum loss;\n",
        "        # while if no attacks evade the victim successful, all perturbed examples are reminded for selection\n",
        "\n",
        "        done[~torch.any(done, dim=-1)] = 1 #loss.shape=done.shape=(samples,number of attacks)\n",
        "        loss = (loss * done.to(torch.float)) + torch.min(loss) * (~done).to(torch.float) #(num_remaining ,number of attacks)\n",
        "        pertbx = pertbx.reshape(len(attack_list), num_remaining , x.shape[1]).permute([1, 0, 2])#(num_remaining ,attacks,features)\n",
        "        _, indices = loss.max(dim=-1) # ans:(samples), max loss among attacks which worked, and max loss among all attacks for sample , none of them worked\n",
        "        adv_x[~stop_flag] = pertbx[torch.arange(num_remaining ), indices]\n",
        "        a_loss = loss[torch.arange(num_remaining ), indices]\n",
        "        pre_stop_flag = stop_flag.clone()\n",
        "        stop_flag[~stop_flag] = (torch.abs(pre_loss[~stop_flag] - a_loss) < varepsilon) | success_flag\n",
        "        pre_loss[~pre_stop_flag] = a_loss\n",
        "\n",
        "    return adv_x"
      ],
      "metadata": {
        "id": "c589J_H1GcGf"
      },
      "execution_count": 59,
      "outputs": []
    },
    {
      "cell_type": "code",
      "source": [
        "def PGD_Max2(x,y, model, attack_list = ['linf', 'l2', 'l1'],steps_max=5, is_sample = False, varepsilon = 1e-20):\n",
        "    \"\"\"\n",
        "    PGD_Max adversarial attack.\n",
        "\n",
        "    Args:\n",
        "        x: Input data tensor (shape: [samples, features])\n",
        "        y: Ground truth labels tensor (shape: [samples])\n",
        "        model: Neural network model\n",
        "        attack_list: List of norms for attacks (default: ['linf', 'l2', 'l1'])\n",
        "        steps_max: Maximum number of steps (default: 5)\n",
        "        is_sample: Flag to sample randomly from the feasible area (default: False)\n",
        "        vaρεpsilon: Tolerance for stopping condition (default: 1e-20)\n",
        "\n",
        "    Returns:\n",
        "        Adversarial version of input data (tensor)\n",
        "    \"\"\"\n",
        "    batch_size = x.shape[0]\n",
        "    norm_params = {\n",
        "        'l1': {'k': 50, 'step_length': 1.0},\n",
        "        'l2': {'k': 200, 'step_length': 0.05},\n",
        "        'linf': {'k': 500, 'step_length': 0.002}\n",
        "    }\n",
        "\n",
        "    model.eval()\n",
        "    with torch.no_grad():\n",
        "        loss, done = get_loss(x,y,model) #shape:[samples],[samples]\n",
        "\n",
        "    pre_loss = loss\n",
        "    n = x.shape[0]\n",
        "    adv_x = x.detach().clone()\n",
        "    stop_flag = torch.zeros(n, dtype=torch.bool) #[samples]\n",
        "\n",
        "    for t in range(steps_max):\n",
        "      num_remaining  = (~stop_flag).sum().item()\n",
        "      print('number of remaining samples : ',num_remaining )\n",
        "      if num_remaining  <= 0:\n",
        "          break\n",
        "\n",
        "      remaining_label = y[~stop_flag]\n",
        "      pertbx = []\n",
        "\n",
        "      for norm in attack_list:\n",
        "          if norm in norm_params:\n",
        "              params = norm_params[norm]\n",
        "              perturbation = pgd(adv_x[~stop_flag], remaining_label, model, norm=norm, is_sample=is_sample, **params)\n",
        "              print(\"the number of added features : \", (perturbation.sum() - adv_x[~stop_flag].sum())/len(adv_x[~stop_flag]))\n",
        "              pertbx.append(perturbation)\n",
        "          else:\n",
        "              raise ValueError(\"Expected 'l1' or 'l2' or 'linf' norm.\")\n",
        "\n",
        "\n",
        "      # here pertbx.shape = a list of (number of attacks  ,(num_remaining ,features))\n",
        "      pertbx = torch.vstack(pertbx)\n",
        "      # here pertbx.shape = a tensor (num_remaining *number of attacks samples, features)\n",
        "\n",
        "      with torch.no_grad():\n",
        "        remaining_label_ext = torch.cat([remaining_label] * len(attack_list)) #(labels*number of attacks )\n",
        "        loss, done = get_loss(pertbx, remaining_label_ext,model) #(labels*number of attacks )\n",
        "\n",
        "        # for a sample, if there is at least one successful attack, we will select the one with maximum loss;\n",
        "        # while if no attacks evade the victim successful, all perturbed examples are reminded for selection\n",
        "        max_v = loss.amax()\n",
        "        loss[done] += max_v\n",
        "\n",
        "        loss = loss.reshape(len(attack_list), num_remaining ).permute(1, 0) #(num_remaining ,number of attacks)\n",
        "        done = done.reshape(len(attack_list), num_remaining ).permute(1, 0) #(num_remaining ,number of attacks)\n",
        "\n",
        "        success_flag = torch.any(done, dim=-1) #(num_remaining )\n",
        "\n",
        "        pertbx = pertbx.reshape(len(attack_list), num_remaining , x.shape[1]).permute([1, 0, 2])#(num_remaining ,attacks,features)\n",
        "        _, indices = loss.max(dim=-1) # ans:(samples), max loss among attacks which worked, and max loss among all attacks for sample , none of them worked\n",
        "        adv_x[~stop_flag] = pertbx[torch.arange(num_remaining ), indices]\n",
        "        a_loss = loss[torch.arange(num_remaining ), indices]\n",
        "        pre_stop_flag = stop_flag.clone()\n",
        "        stop_flag[~stop_flag] = (torch.abs(pre_loss[~stop_flag] - a_loss) < varepsilon) | success_flag\n",
        "        pre_loss[~pre_stop_flag] = a_loss\n",
        "\n",
        "    return adv_x"
      ],
      "metadata": {
        "id": "d2Rw-5_fJU4M"
      },
      "execution_count": 60,
      "outputs": []
    },
    {
      "cell_type": "code",
      "source": [
        "adv_x = PGD_Max2(X,y, model)\n",
        "print(X.sum()/batch_size)\n",
        "print(adv_x.sum()/batch_size)"
      ],
      "metadata": {
        "colab": {
          "base_uri": "https://localhost:8080/"
        },
        "id": "JsoYpnT0K1_z",
        "outputId": "2c6b8b17-debc-490b-cc47-eaf84cffb22c"
      },
      "execution_count": 35,
      "outputs": [
        {
          "output_type": "stream",
          "name": "stdout",
          "text": [
            "number of remaining samples :  256\n",
            "PGD linf: Attack effectiveness 100.000%.\n",
            "the number of added features :  tensor(5515.8125)\n",
            "PGD l2: Attack effectiveness 93.359%.\n",
            "the number of added features :  tensor(8.7344)\n",
            "PGD l1: Attack effectiveness 100.000%.\n",
            "the number of added features :  tensor(2.8164)\n",
            "number of remaining samples :  0\n",
            "tensor(26.6289)\n",
            "tensor(5542.4414)\n"
          ]
        }
      ]
    },
    {
      "cell_type": "code",
      "source": [
        "adv_x = PGD_Max2(X[y.squeeze()==1],y[y.squeeze()==1], model)\n",
        "print(X[y.squeeze()==1].sum()/len(X[y.squeeze()==1]))\n",
        "print(adv_x.sum()/len(X[y.squeeze()==1]))"
      ],
      "metadata": {
        "colab": {
          "base_uri": "https://localhost:8080/"
        },
        "id": "HnDzp8fyMMu3",
        "outputId": "9e215a20-e715-41bd-9e81-2a9a4ec391bc"
      },
      "execution_count": 34,
      "outputs": [
        {
          "output_type": "stream",
          "name": "stdout",
          "text": [
            "number of remaining samples :  12\n",
            "PGD linf: Attack effectiveness 100.000%.\n",
            "the number of added features :  tensor(5377.2500)\n",
            "PGD l2: Attack effectiveness 50.000%.\n",
            "the number of added features :  tensor(2.)\n",
            "PGD l1: Attack effectiveness 100.000%.\n",
            "the number of added features :  tensor(3.0833)\n",
            "number of remaining samples :  0\n",
            "tensor(52.8333)\n",
            "tensor(5430.0835)\n"
          ]
        }
      ]
    },
    {
      "cell_type": "code",
      "source": [
        "def pgd_step(x, y, model, norm, k, step_length):\n",
        "    \"\"\"\n",
        "    Projected Gradient Descent (PGD) adversarial attack for stepwise.\n",
        "    :param y: Ground truth labels\n",
        "    :param x: Feature vector\n",
        "    :param model: Neural network model\n",
        "    :param k: Number of steps\n",
        "    :param step_length: Step size for each iteration\n",
        "    :param norm: Norm used for perturbation ('linf' or 'l2')\n",
        "    :return: The adversarial version of x (tensor)(not rounded)\n",
        "    \"\"\"\n",
        "    model.eval()\n",
        "\n",
        "    criterion = nn.CrossEntropyLoss(reduction='none')\n",
        "\n",
        "    # Initialize starting point\n",
        "    x_next = x.clone()\n",
        "\n",
        "    # Multi-step PGD\n",
        "    for t in range(k):\n",
        "        # Forward pass\n",
        "        x_var = x_next.clone().detach().requires_grad_(True)\n",
        "        y_model = model(x_var)\n",
        "        loss = criterion(y_model, y.view(-1).long())\n",
        "\n",
        "        # Compute gradient\n",
        "        grad_vars = torch.autograd.grad(loss.mean(), x_var)\n",
        "        grad_data = grad_vars[0].data\n",
        "        gradients = grad_data * (x < 0.5)\n",
        "\n",
        "        # Norm\n",
        "        if norm == 'linf':\n",
        "            perturbation = torch.sign(gradients)\n",
        "        elif norm == 'l2':\n",
        "            l2norm = torch.linalg.norm(gradients, dim=-1, keepdim=True)\n",
        "            perturbation = torch.minimum(torch.tensor(1., dtype=x.dtype, device=x.device), gradients / l2norm)\n",
        "            perturbation[torch.isnan(perturbation)] = 0.\n",
        "            perturbation[torch.isinf(perturbation)] = 1.\n",
        "        elif norm == 'l1':\n",
        "            #ignore the gradient of indice which is updated\n",
        "            gradients = gradients * (x_next < 0.5)\n",
        "            val, _ = torch.topk(gradients, 1)\n",
        "            perturbation = torch.sign(gradients >= val.expand_as(gradients))\n",
        "            # stop perturbing the examples that are successful to evade the victim\n",
        "            outputs = model(x_next)\n",
        "            _, predicted = torch.topk(outputs, k=1)\n",
        "            done = (predicted != y).squeeze()\n",
        "            if torch.all(done):\n",
        "                break\n",
        "            perturbation[done] = 0.\n",
        "        else:\n",
        "            raise ValueError(\"Expect 'l1' or 'l2' or 'linf' norm.\")\n",
        "\n",
        "        # Update x_next\n",
        "        x_next = torch.clamp(x_next + perturbation * step_length, min=0., max=1.)\n",
        "\n",
        "    #remove negative pertubations, we cant use OR function because we have values between (0,1) like 0.2 which we want to keep\n",
        "    x_adv = (((x_next - x) >= 0) * x_next) + (((x_next - x) < 0) * x)\n",
        "    return x_adv"
      ],
      "metadata": {
        "id": "GP2Fx9BOd-zx"
      },
      "execution_count": 74,
      "outputs": []
    },
    {
      "cell_type": "code",
      "source": [
        "step_checks = 1\n",
        "steps = 100\n",
        "is_attacker = False\n",
        "is_score_round = False\n",
        "use_random = False\n",
        "round_threshold = 0.5\n",
        "x = X\n",
        "label = y\n",
        "attack_list = ['linf', 'l2', 'l1']\n",
        "norm_params = {\n",
        "    'l1': {'step_length': 1.0},\n",
        "    'l2': {'step_length': 0.05},\n",
        "    'linf': {'step_length': 0.002}\n",
        "}\n",
        "\n",
        "model.eval()\n",
        "if not is_attacker:\n",
        "    step_checks = [1, 10, 25, 50]\n",
        "    step_check = random.choice(step_checks)\n",
        "mini_steps = [step_check] * (steps // step_check)\n",
        "mini_steps = mini_steps + [steps % step_check] if steps % step_check != 0 else mini_steps\n",
        "\n",
        "print('mini steps = ', mini_steps)\n",
        "\n",
        "n, red_n = x.size()[0], x.size()[1]\n",
        "adv_x = x.detach().clone()\n",
        "pert_x_cont = None\n",
        "prev_done = None\n",
        "for i, mini_step in enumerate(mini_steps):\n",
        "    with torch.no_grad():\n",
        "        if i == 0 :\n",
        "            adv_x = get_x0(adv_x, initial_rounding_threshold=round_threshold, is_sample=use_random)\n",
        "\n",
        "        _, done = get_loss(adv_x, label, model)\n",
        "    if torch.all(done):\n",
        "        break\n",
        "    if i == 0:\n",
        "        adv_x[~done] = x[~done]  # recompute the perturbation under other penalty factors\n",
        "        prev_done = done\n",
        "    else:\n",
        "        adv_x[~done] = pert_x_cont[~done[~prev_done]]\n",
        "        prev_done = done\n",
        "\n",
        "    num_sample_red = torch.sum(~done).item()\n",
        "    pertbx = []\n",
        "    for norm in attack_list:\n",
        "        params = norm_params[norm]\n",
        "        perturbation = pgd_step(adv_x[~done], label[~done], model, norm=norm, k=mini_step, **params)\n",
        "        print(\"the number of added features(not rounded) \", norm,\": \", perturbation.sum()/len(adv_x[~done]) - adv_x[~done].sum()/len(adv_x[~done]))\n",
        "        pertbx.append(perturbation)\n",
        "    with torch.no_grad():\n",
        "        n_attacks = len(pertbx)\n",
        "        pertbx = torch.vstack(pertbx)\n",
        "        label_ext = torch.cat([label[~done]] * n_attacks)\n",
        "        if (not is_attacker) and (not is_score_round):\n",
        "            scores, _done = get_loss(pertbx, label_ext,model)\n",
        "        else:\n",
        "            scores, _done = get_loss(round_x(pertbx, round_threshold), label_ext, model)\n",
        "        max_v = scores.amax() if scores.amax() > 0 else 0.\n",
        "        scores[_done] += max_v\n",
        "        pertbx = pertbx.reshape(n_attacks, num_sample_red, red_n).permute([1, 0, 2])\n",
        "        scores = scores.reshape(n_attacks, num_sample_red).permute(1, 0)\n",
        "        _2, s_idx = scores.max(dim=-1)\n",
        "        pert_x_cont = pertbx[torch.arange(num_sample_red), s_idx]\n",
        "        adv_x[~done] = pert_x_cont if not is_attacker else round_x(pert_x_cont, round_threshold)\n",
        "\n",
        "\n",
        "if is_attacker:\n",
        "    adv_x = round_x(adv_x, round_threshold)\n",
        "with torch.no_grad():\n",
        "    _, done = get_loss(adv_x, label, model)\n",
        "    print(f\"step-wise max: attack effectiveness {done.sum().item() / done.size()[0] * 100:.3f}%.\")\n"
      ],
      "metadata": {
        "colab": {
          "base_uri": "https://localhost:8080/"
        },
        "id": "73VMOF6xUqji",
        "outputId": "b66ff5a9-d0fb-43f3-934a-998d3c886819"
      },
      "execution_count": 87,
      "outputs": [
        {
          "output_type": "stream",
          "name": "stdout",
          "text": [
            "mini steps =  [50, 50]\n",
            "the number of added features(not rounded)  linf :  tensor(539.6423)\n",
            "the number of added features(not rounded)  l2 :  tensor(116.0846)\n",
            "the number of added features(not rounded)  l1 :  tensor(2.8275)\n",
            "step-wise max: attack effectiveness 100.000%.\n"
          ]
        }
      ]
    },
    {
      "cell_type": "code",
      "source": [
        "def StepwiseMax(\n",
        "    x,\n",
        "    label,\n",
        "    model,\n",
        "    attack_list=[\"linf\", \"l2\", \"l1\"],\n",
        "    step_lengths={\"l1\": 1.0, \"l2\": 0.05, \"linf\": 0.002},\n",
        "    steps=100,\n",
        "    step_check = 1,\n",
        "    random_start=False,\n",
        "    round_threshold=0.5,\n",
        "    is_attacker=False,\n",
        "    is_score_round = False\n",
        "):\n",
        "  \"\"\"\n",
        "    Stepwise max attack (mixture of pgd-l1, pgd-l2, pgd-linf).\n",
        "\n",
        "    Args:\n",
        "        x: Input data tensor (shape: [batch_size, feature_dim])\n",
        "        label: Ground truth labels tensor (shape: [batch_size])\n",
        "        model: Victim model\n",
        "        attack_list: List of attack norms (default: [\"linf\", \"l2\", \"l1\"])\n",
        "        step_lengths: Dictionary mapping norm to its step length (default: {\"l1\": 1.0, \"l2\": 0.05, \"linf\": 0.002})\n",
        "        steps: Maximum number of iterations (default: 100)\n",
        "        random_start: Use random starting point (default: False)\n",
        "        round_threshold: Threshold for rounding real scalars (default: 0.5)\n",
        "        is_attacker: Play the role of attacker (default: False)\n",
        "\n",
        "    Returns:\n",
        "        Adversarial examples tensor (same shape as x)\n",
        "  \"\"\"\n",
        "\n",
        "  model.eval()\n",
        "\n",
        "  step_check = 1\n",
        "  if not is_attacker:\n",
        "      step_checks = [1, 10, 25, 50]\n",
        "      step_check = random.choice(step_checks)\n",
        "\n",
        "  print(f\"Step check: {step_check}\")\n",
        "  mini_steps = [step_check] * (steps // step_check)\n",
        "  if steps % step_check != 0:\n",
        "      mini_steps.append(steps % step_check)\n",
        "\n",
        "  n, red_n = x.shape\n",
        "  adv_x = x.detach().clone()\n",
        "  pert_x_cont = None\n",
        "  prev_done = None\n",
        "  for i, mini_step in enumerate(mini_steps):\n",
        "      with torch.no_grad():\n",
        "          if i == 0 :\n",
        "              adv_x = get_x0(adv_x, initial_rounding_threshold=round_threshold, is_sample=random_start)\n",
        "\n",
        "          _, done = get_loss(adv_x, label, model)\n",
        "      if torch.all(done):\n",
        "          break\n",
        "      if i == 0:\n",
        "          adv_x[~done] = x[~done]  # recompute the perturbation under other penalty factors\n",
        "          prev_done = done\n",
        "      else:\n",
        "          adv_x[~done] = pert_x_cont[~done[~prev_done]]\n",
        "          prev_done = done\n",
        "\n",
        "      num_sample_red = torch.sum(~done).item()\n",
        "      pertbx = []\n",
        "      for norm in attack_list:\n",
        "          step_length = step_lengths.get(norm, step_lengths[\"l1\"])\n",
        "          perturbation = pgd_step(adv_x[~done], label[~done], model, norm, mini_step, step_length)\n",
        "          #print(\"the number of added features(not rounded) \", norm,\": \", perturbation.sum()/len(adv_x[~done]) - adv_x[~done].sum()/len(adv_x[~done]))\n",
        "          #print(\"the number of added features(rounded) \", norm,\" : \",(round_x(perturbation, round_threshold).sum() - round_x(adv_x[~done], round_threshold).sum())/len(adv_x[~done]))\n",
        "          pertbx.append(perturbation)\n",
        "      with torch.no_grad():\n",
        "          pertbx = torch.vstack(pertbx)\n",
        "\n",
        "          n_attacks = len(attack_list)\n",
        "          label_ext = torch.cat([label[~done]] * n_attacks)\n",
        "\n",
        "          if (not is_attacker) and (not is_score_round):\n",
        "              scores, _done = get_loss(pertbx, label_ext,model)\n",
        "          else:\n",
        "              scores, _done = get_loss(round_x(pertbx, round_threshold), label_ext, model)\n",
        "          max_v = scores.amax() if scores.amax() > 0 else 0.\n",
        "          scores[_done] += max_v\n",
        "\n",
        "          pertbx = pertbx.reshape(n_attacks, num_sample_red, red_n).permute([1, 0, 2])\n",
        "          scores = scores.reshape(n_attacks, num_sample_red).permute(1, 0)\n",
        "          _2, s_idx = scores.max(dim=-1)\n",
        "          pert_x_cont = pertbx[torch.arange(num_sample_red), s_idx]\n",
        "          adv_x[~done] = pert_x_cont if not is_attacker else round_x(pert_x_cont, round_threshold)\n",
        "\n",
        "  print(i)\n",
        "  if is_attacker:\n",
        "      adv_x = round_x(adv_x, round_threshold)\n",
        "  with torch.no_grad():\n",
        "      _, done = get_loss(adv_x, label, model)\n",
        "      print(f\"step-wise max: attack effectiveness {done.sum().item() / done.size()[0] * 100:.3f}%.\")\n",
        "\n",
        "  return adv_x"
      ],
      "metadata": {
        "id": "1x4bXgnCqSxz"
      },
      "execution_count": 75,
      "outputs": []
    },
    {
      "cell_type": "code",
      "source": [
        "adv_x = StepwiseMax(X, y, model)\n",
        "print(X.sum()/batch_size)\n",
        "print(adv_x.sum()/batch_size)"
      ],
      "metadata": {
        "colab": {
          "base_uri": "https://localhost:8080/"
        },
        "id": "YaPtSlbeGh33",
        "outputId": "0c5bce02-f29f-4a97-e50a-9402734ee3ca"
      },
      "execution_count": 77,
      "outputs": [
        {
          "output_type": "stream",
          "name": "stdout",
          "text": [
            "Step check: 25\n",
            "1\n",
            "step-wise max: attack effectiveness 100.000%.\n",
            "tensor(26.6289)\n",
            "tensor(300.3127)\n"
          ]
        }
      ]
    },
    {
      "cell_type": "code",
      "source": [
        "adv_x = StepwiseMax(X, y, model)\n",
        "print(X.sum()/batch_size)\n",
        "print(adv_x.sum()/batch_size)"
      ],
      "metadata": {
        "colab": {
          "base_uri": "https://localhost:8080/"
        },
        "id": "1yy_jSwKraib",
        "outputId": "7a91fcc5-5ccc-4527-c895-f2561677bcdb"
      },
      "execution_count": 91,
      "outputs": [
        {
          "output_type": "stream",
          "name": "stdout",
          "text": [
            "Step check: 25\n",
            "the number of added features(not rounded)  linf :  tensor(265.2428)\n",
            "the number of added features(not rounded)  l2 :  tensor(51.9210)\n",
            "the number of added features(not rounded)  l1 :  tensor(2.8275)\n",
            "step-wise max: attack effectiveness 100.000%.\n",
            "tensor(26.6289)\n",
            "tensor(290.8356)\n"
          ]
        }
      ]
    },
    {
      "cell_type": "code",
      "source": [
        "adv_x = StepwiseMax(X, y, model,is_attacker=True)\n",
        "print(X.sum()/batch_size)\n",
        "print(adv_x.sum()/batch_size)"
      ],
      "metadata": {
        "colab": {
          "base_uri": "https://localhost:8080/"
        },
        "id": "Qkxbv4y-YIWP",
        "outputId": "dc31132f-4d0a-4cbd-82ab-c6066ee257ce"
      },
      "execution_count": 97,
      "outputs": [
        {
          "output_type": "stream",
          "name": "stdout",
          "text": [
            "[1, 1, 1, 1, 1, 1, 1, 1, 1, 1, 1, 1, 1, 1, 1, 1, 1, 1, 1, 1, 1, 1, 1, 1, 1, 1, 1, 1, 1, 1, 1, 1, 1, 1, 1, 1, 1, 1, 1, 1, 1, 1, 1, 1, 1, 1, 1, 1, 1, 1, 1, 1, 1, 1, 1, 1, 1, 1, 1, 1, 1, 1, 1, 1, 1, 1, 1, 1, 1, 1, 1, 1, 1, 1, 1, 1, 1, 1, 1, 1, 1, 1, 1, 1, 1, 1, 1, 1, 1, 1, 1, 1, 1, 1, 1, 1, 1, 1, 1, 1]\n",
            "the number of added features(not rounded)  linf :  tensor(9.4593)\n",
            "the number of added features(rounded)  linf  :  tensor(0.)\n",
            "the number of added features(not rounded)  l2 :  tensor(3.1332)\n",
            "the number of added features(rounded)  l2  :  tensor(0.)\n",
            "the number of added features(not rounded)  l1 :  tensor(1.)\n",
            "the number of added features(rounded)  l1  :  tensor(1.)\n",
            "the number of added features(not rounded)  linf :  tensor(9.6156)\n",
            "the number of added features(rounded)  linf  :  tensor(0.)\n",
            "the number of added features(not rounded)  l2 :  tensor(1.3207)\n",
            "the number of added features(rounded)  l2  :  tensor(0.)\n",
            "the number of added features(not rounded)  l1 :  tensor(0.9999)\n",
            "the number of added features(rounded)  l1  :  tensor(1.)\n",
            "the number of added features(not rounded)  linf :  tensor(9.7427)\n",
            "the number of added features(rounded)  linf  :  tensor(0.)\n",
            "the number of added features(not rounded)  l2 :  tensor(1.4487)\n",
            "the number of added features(rounded)  l2  :  tensor(0.)\n",
            "the number of added features(not rounded)  l1 :  tensor(0.9996)\n",
            "the number of added features(rounded)  l1  :  tensor(1.)\n",
            "the number of added features(not rounded)  linf :  tensor(9.7941)\n",
            "the number of added features(rounded)  linf  :  tensor(0.)\n",
            "the number of added features(not rounded)  l2 :  tensor(1.5116)\n",
            "the number of added features(rounded)  l2  :  tensor(0.)\n",
            "the number of added features(not rounded)  l1 :  tensor(0.9520)\n",
            "the number of added features(rounded)  l1  :  tensor(0.9535)\n",
            "the number of added features(not rounded)  linf :  tensor(9.8866)\n",
            "the number of added features(rounded)  linf  :  tensor(0.)\n",
            "the number of added features(not rounded)  l2 :  tensor(1.6743)\n",
            "the number of added features(rounded)  l2  :  tensor(0.)\n",
            "the number of added features(not rounded)  l1 :  tensor(0.7335)\n",
            "the number of added features(rounded)  l1  :  tensor(0.7368)\n",
            "the number of added features(not rounded)  linf :  tensor(10.1077)\n",
            "the number of added features(rounded)  linf  :  tensor(0.)\n",
            "the number of added features(not rounded)  l2 :  tensor(1.8829)\n",
            "the number of added features(rounded)  l2  :  tensor(0.)\n",
            "the number of added features(not rounded)  l1 :  tensor(0.1421)\n",
            "the number of added features(rounded)  l1  :  tensor(0.1429)\n",
            "the number of added features(not rounded)  linf :  tensor(10.3455)\n",
            "the number of added features(rounded)  linf  :  tensor(0.)\n",
            "the number of added features(not rounded)  l2 :  tensor(2.0902)\n",
            "the number of added features(rounded)  l2  :  tensor(0.)\n",
            "the number of added features(not rounded)  l1 :  tensor(0.)\n",
            "the number of added features(rounded)  l1  :  tensor(0.)\n",
            "the number of added features(not rounded)  linf :  tensor(10.5465)\n",
            "the number of added features(rounded)  linf  :  tensor(0.)\n",
            "the number of added features(not rounded)  l2 :  tensor(2.2279)\n",
            "the number of added features(rounded)  l2  :  tensor(0.)\n",
            "the number of added features(not rounded)  l1 :  tensor(0.)\n",
            "the number of added features(rounded)  l1  :  tensor(0.)\n",
            "the number of added features(not rounded)  linf :  tensor(10.7060)\n",
            "the number of added features(rounded)  linf  :  tensor(0.)\n",
            "the number of added features(not rounded)  l2 :  tensor(2.3181)\n",
            "the number of added features(rounded)  l2  :  tensor(0.)\n",
            "the number of added features(not rounded)  l1 :  tensor(0.)\n",
            "the number of added features(rounded)  l1  :  tensor(0.)\n",
            "the number of added features(not rounded)  linf :  tensor(10.8548)\n",
            "the number of added features(rounded)  linf  :  tensor(0.)\n",
            "the number of added features(not rounded)  l2 :  tensor(2.3843)\n",
            "the number of added features(rounded)  l2  :  tensor(0.)\n",
            "the number of added features(not rounded)  l1 :  tensor(0.)\n",
            "the number of added features(rounded)  l1  :  tensor(0.)\n",
            "the number of added features(not rounded)  linf :  tensor(10.8869)\n",
            "the number of added features(rounded)  linf  :  tensor(0.)\n",
            "the number of added features(not rounded)  l2 :  tensor(2.4027)\n",
            "the number of added features(rounded)  l2  :  tensor(0.)\n",
            "the number of added features(not rounded)  l1 :  tensor(0.)\n",
            "the number of added features(rounded)  l1  :  tensor(0.)\n",
            "the number of added features(not rounded)  linf :  tensor(10.9866)\n",
            "the number of added features(rounded)  linf  :  tensor(0.)\n",
            "the number of added features(not rounded)  l2 :  tensor(2.4325)\n",
            "the number of added features(rounded)  l2  :  tensor(0.)\n",
            "the number of added features(not rounded)  l1 :  tensor(0.)\n",
            "the number of added features(rounded)  l1  :  tensor(0.)\n",
            "the number of added features(not rounded)  linf :  tensor(11.0363)\n",
            "the number of added features(rounded)  linf  :  tensor(0.)\n",
            "the number of added features(not rounded)  l2 :  tensor(2.4447)\n",
            "the number of added features(rounded)  l2  :  tensor(0.)\n",
            "the number of added features(not rounded)  l1 :  tensor(0.)\n",
            "the number of added features(rounded)  l1  :  tensor(0.)\n",
            "the number of added features(not rounded)  linf :  tensor(11.0446)\n",
            "the number of added features(rounded)  linf  :  tensor(0.)\n",
            "the number of added features(not rounded)  l2 :  tensor(2.4481)\n",
            "the number of added features(rounded)  l2  :  tensor(0.)\n",
            "the number of added features(not rounded)  l1 :  tensor(0.)\n",
            "the number of added features(rounded)  l1  :  tensor(0.)\n",
            "the number of added features(not rounded)  linf :  tensor(11.0895)\n",
            "the number of added features(rounded)  linf  :  tensor(0.)\n",
            "the number of added features(not rounded)  l2 :  tensor(2.4536)\n",
            "the number of added features(rounded)  l2  :  tensor(0.)\n",
            "the number of added features(not rounded)  l1 :  tensor(0.)\n",
            "the number of added features(rounded)  l1  :  tensor(0.)\n",
            "the number of added features(not rounded)  linf :  tensor(11.1108)\n",
            "the number of added features(rounded)  linf  :  tensor(0.)\n",
            "the number of added features(not rounded)  l2 :  tensor(2.4622)\n",
            "the number of added features(rounded)  l2  :  tensor(0.)\n",
            "the number of added features(not rounded)  l1 :  tensor(0.)\n",
            "the number of added features(rounded)  l1  :  tensor(0.)\n",
            "the number of added features(not rounded)  linf :  tensor(11.1160)\n",
            "the number of added features(rounded)  linf  :  tensor(0.)\n",
            "the number of added features(not rounded)  l2 :  tensor(2.4621)\n",
            "the number of added features(rounded)  l2  :  tensor(0.)\n",
            "the number of added features(not rounded)  l1 :  tensor(0.)\n",
            "the number of added features(rounded)  l1  :  tensor(0.)\n",
            "the number of added features(not rounded)  linf :  tensor(11.1372)\n",
            "the number of added features(rounded)  linf  :  tensor(0.)\n",
            "the number of added features(not rounded)  l2 :  tensor(2.4671)\n",
            "the number of added features(rounded)  l2  :  tensor(0.)\n",
            "the number of added features(not rounded)  l1 :  tensor(0.)\n",
            "the number of added features(rounded)  l1  :  tensor(0.)\n",
            "the number of added features(not rounded)  linf :  tensor(11.1841)\n",
            "the number of added features(rounded)  linf  :  tensor(0.)\n",
            "the number of added features(not rounded)  l2 :  tensor(2.4741)\n",
            "the number of added features(rounded)  l2  :  tensor(0.)\n",
            "the number of added features(not rounded)  l1 :  tensor(0.)\n",
            "the number of added features(rounded)  l1  :  tensor(0.)\n",
            "the number of added features(not rounded)  linf :  tensor(11.1781)\n",
            "the number of added features(rounded)  linf  :  tensor(0.)\n",
            "the number of added features(not rounded)  l2 :  tensor(2.4707)\n",
            "the number of added features(rounded)  l2  :  tensor(0.)\n",
            "the number of added features(not rounded)  l1 :  tensor(0.)\n",
            "the number of added features(rounded)  l1  :  tensor(0.)\n",
            "the number of added features(not rounded)  linf :  tensor(11.1842)\n",
            "the number of added features(rounded)  linf  :  tensor(0.)\n",
            "the number of added features(not rounded)  l2 :  tensor(2.4728)\n",
            "the number of added features(rounded)  l2  :  tensor(0.)\n",
            "the number of added features(not rounded)  l1 :  tensor(0.)\n",
            "the number of added features(rounded)  l1  :  tensor(0.)\n",
            "the number of added features(not rounded)  linf :  tensor(11.2097)\n",
            "the number of added features(rounded)  linf  :  tensor(0.)\n",
            "the number of added features(not rounded)  l2 :  tensor(2.4782)\n",
            "the number of added features(rounded)  l2  :  tensor(0.)\n",
            "the number of added features(not rounded)  l1 :  tensor(0.)\n",
            "the number of added features(rounded)  l1  :  tensor(0.)\n",
            "the number of added features(not rounded)  linf :  tensor(11.1746)\n",
            "the number of added features(rounded)  linf  :  tensor(0.)\n",
            "the number of added features(not rounded)  l2 :  tensor(2.4710)\n",
            "the number of added features(rounded)  l2  :  tensor(0.)\n",
            "the number of added features(not rounded)  l1 :  tensor(0.)\n",
            "the number of added features(rounded)  l1  :  tensor(0.)\n",
            "the number of added features(not rounded)  linf :  tensor(11.2000)\n",
            "the number of added features(rounded)  linf  :  tensor(0.)\n",
            "the number of added features(not rounded)  l2 :  tensor(2.4769)\n",
            "the number of added features(rounded)  l2  :  tensor(0.)\n",
            "the number of added features(not rounded)  l1 :  tensor(0.)\n",
            "the number of added features(rounded)  l1  :  tensor(0.)\n",
            "the number of added features(not rounded)  linf :  tensor(11.1609)\n",
            "the number of added features(rounded)  linf  :  tensor(0.)\n",
            "the number of added features(not rounded)  l2 :  tensor(2.4649)\n",
            "the number of added features(rounded)  l2  :  tensor(0.)\n",
            "the number of added features(not rounded)  l1 :  tensor(0.)\n",
            "the number of added features(rounded)  l1  :  tensor(0.)\n",
            "the number of added features(not rounded)  linf :  tensor(11.1963)\n",
            "the number of added features(rounded)  linf  :  tensor(0.)\n",
            "the number of added features(not rounded)  l2 :  tensor(2.4763)\n",
            "the number of added features(rounded)  l2  :  tensor(0.)\n",
            "the number of added features(not rounded)  l1 :  tensor(0.)\n",
            "the number of added features(rounded)  l1  :  tensor(0.)\n",
            "the number of added features(not rounded)  linf :  tensor(11.2098)\n",
            "the number of added features(rounded)  linf  :  tensor(0.)\n",
            "the number of added features(not rounded)  l2 :  tensor(2.4793)\n",
            "the number of added features(rounded)  l2  :  tensor(0.)\n",
            "the number of added features(not rounded)  l1 :  tensor(0.)\n",
            "the number of added features(rounded)  l1  :  tensor(0.)\n",
            "the number of added features(not rounded)  linf :  tensor(11.1985)\n",
            "the number of added features(rounded)  linf  :  tensor(0.)\n",
            "the number of added features(not rounded)  l2 :  tensor(2.4743)\n",
            "the number of added features(rounded)  l2  :  tensor(0.)\n",
            "the number of added features(not rounded)  l1 :  tensor(0.)\n",
            "the number of added features(rounded)  l1  :  tensor(0.)\n",
            "the number of added features(not rounded)  linf :  tensor(11.1978)\n",
            "the number of added features(rounded)  linf  :  tensor(0.)\n",
            "the number of added features(not rounded)  l2 :  tensor(2.4748)\n",
            "the number of added features(rounded)  l2  :  tensor(0.)\n",
            "the number of added features(not rounded)  l1 :  tensor(0.)\n",
            "the number of added features(rounded)  l1  :  tensor(0.)\n",
            "the number of added features(not rounded)  linf :  tensor(11.2159)\n",
            "the number of added features(rounded)  linf  :  tensor(0.)\n",
            "the number of added features(not rounded)  l2 :  tensor(2.4816)\n",
            "the number of added features(rounded)  l2  :  tensor(0.)\n",
            "the number of added features(not rounded)  l1 :  tensor(0.)\n",
            "the number of added features(rounded)  l1  :  tensor(0.)\n",
            "the number of added features(not rounded)  linf :  tensor(11.2106)\n",
            "the number of added features(rounded)  linf  :  tensor(0.)\n",
            "the number of added features(not rounded)  l2 :  tensor(2.4774)\n",
            "the number of added features(rounded)  l2  :  tensor(0.)\n",
            "the number of added features(not rounded)  l1 :  tensor(0.)\n",
            "the number of added features(rounded)  l1  :  tensor(0.)\n",
            "the number of added features(not rounded)  linf :  tensor(11.2188)\n",
            "the number of added features(rounded)  linf  :  tensor(0.)\n",
            "the number of added features(not rounded)  l2 :  tensor(2.4785)\n",
            "the number of added features(rounded)  l2  :  tensor(0.)\n",
            "the number of added features(not rounded)  l1 :  tensor(0.)\n",
            "the number of added features(rounded)  l1  :  tensor(0.)\n",
            "the number of added features(not rounded)  linf :  tensor(11.2021)\n",
            "the number of added features(rounded)  linf  :  tensor(0.)\n",
            "the number of added features(not rounded)  l2 :  tensor(2.4744)\n",
            "the number of added features(rounded)  l2  :  tensor(0.)\n",
            "the number of added features(not rounded)  l1 :  tensor(0.)\n",
            "the number of added features(rounded)  l1  :  tensor(0.)\n",
            "the number of added features(not rounded)  linf :  tensor(11.2197)\n",
            "the number of added features(rounded)  linf  :  tensor(0.)\n",
            "the number of added features(not rounded)  l2 :  tensor(2.4799)\n",
            "the number of added features(rounded)  l2  :  tensor(0.)\n",
            "the number of added features(not rounded)  l1 :  tensor(0.)\n",
            "the number of added features(rounded)  l1  :  tensor(0.)\n",
            "the number of added features(not rounded)  linf :  tensor(11.1967)\n",
            "the number of added features(rounded)  linf  :  tensor(0.)\n",
            "the number of added features(not rounded)  l2 :  tensor(2.4717)\n",
            "the number of added features(rounded)  l2  :  tensor(0.)\n",
            "the number of added features(not rounded)  l1 :  tensor(0.)\n",
            "the number of added features(rounded)  l1  :  tensor(0.)\n",
            "the number of added features(not rounded)  linf :  tensor(11.2432)\n",
            "the number of added features(rounded)  linf  :  tensor(0.)\n",
            "the number of added features(not rounded)  l2 :  tensor(2.4857)\n",
            "the number of added features(rounded)  l2  :  tensor(0.)\n",
            "the number of added features(not rounded)  l1 :  tensor(0.)\n",
            "the number of added features(rounded)  l1  :  tensor(0.)\n",
            "the number of added features(not rounded)  linf :  tensor(11.1783)\n",
            "the number of added features(rounded)  linf  :  tensor(0.)\n",
            "the number of added features(not rounded)  l2 :  tensor(2.4673)\n",
            "the number of added features(rounded)  l2  :  tensor(0.)\n",
            "the number of added features(not rounded)  l1 :  tensor(0.)\n",
            "the number of added features(rounded)  l1  :  tensor(0.)\n",
            "the number of added features(not rounded)  linf :  tensor(11.2191)\n",
            "the number of added features(rounded)  linf  :  tensor(0.)\n",
            "the number of added features(not rounded)  l2 :  tensor(2.4786)\n",
            "the number of added features(rounded)  l2  :  tensor(0.)\n",
            "the number of added features(not rounded)  l1 :  tensor(0.)\n",
            "the number of added features(rounded)  l1  :  tensor(0.)\n",
            "the number of added features(not rounded)  linf :  tensor(11.1796)\n",
            "the number of added features(rounded)  linf  :  tensor(0.)\n",
            "the number of added features(not rounded)  l2 :  tensor(2.4669)\n",
            "the number of added features(rounded)  l2  :  tensor(0.)\n",
            "the number of added features(not rounded)  l1 :  tensor(0.)\n",
            "the number of added features(rounded)  l1  :  tensor(0.)\n",
            "the number of added features(not rounded)  linf :  tensor(11.2012)\n",
            "the number of added features(rounded)  linf  :  tensor(0.)\n",
            "the number of added features(not rounded)  l2 :  tensor(2.4761)\n",
            "the number of added features(rounded)  l2  :  tensor(0.)\n",
            "the number of added features(not rounded)  l1 :  tensor(0.)\n",
            "the number of added features(rounded)  l1  :  tensor(0.)\n",
            "the number of added features(not rounded)  linf :  tensor(11.2058)\n",
            "the number of added features(rounded)  linf  :  tensor(0.)\n",
            "the number of added features(not rounded)  l2 :  tensor(2.4750)\n",
            "the number of added features(rounded)  l2  :  tensor(0.)\n",
            "the number of added features(not rounded)  l1 :  tensor(0.)\n",
            "the number of added features(rounded)  l1  :  tensor(0.)\n",
            "the number of added features(not rounded)  linf :  tensor(11.1763)\n",
            "the number of added features(rounded)  linf  :  tensor(0.)\n",
            "the number of added features(not rounded)  l2 :  tensor(2.4673)\n",
            "the number of added features(rounded)  l2  :  tensor(0.)\n",
            "the number of added features(not rounded)  l1 :  tensor(0.)\n",
            "the number of added features(rounded)  l1  :  tensor(0.)\n",
            "the number of added features(not rounded)  linf :  tensor(11.1838)\n",
            "the number of added features(rounded)  linf  :  tensor(0.)\n",
            "the number of added features(not rounded)  l2 :  tensor(2.4699)\n",
            "the number of added features(rounded)  l2  :  tensor(0.)\n",
            "the number of added features(not rounded)  l1 :  tensor(0.)\n",
            "the number of added features(rounded)  l1  :  tensor(0.)\n",
            "the number of added features(not rounded)  linf :  tensor(11.1956)\n",
            "the number of added features(rounded)  linf  :  tensor(0.)\n",
            "the number of added features(not rounded)  l2 :  tensor(2.4731)\n",
            "the number of added features(rounded)  l2  :  tensor(0.)\n",
            "the number of added features(not rounded)  l1 :  tensor(0.)\n",
            "the number of added features(rounded)  l1  :  tensor(0.)\n",
            "the number of added features(not rounded)  linf :  tensor(11.1712)\n",
            "the number of added features(rounded)  linf  :  tensor(0.)\n",
            "the number of added features(not rounded)  l2 :  tensor(2.4672)\n",
            "the number of added features(rounded)  l2  :  tensor(0.)\n",
            "the number of added features(not rounded)  l1 :  tensor(0.)\n",
            "the number of added features(rounded)  l1  :  tensor(0.)\n",
            "the number of added features(not rounded)  linf :  tensor(11.2073)\n",
            "the number of added features(rounded)  linf  :  tensor(0.)\n",
            "the number of added features(not rounded)  l2 :  tensor(2.4775)\n",
            "the number of added features(rounded)  l2  :  tensor(0.)\n",
            "the number of added features(not rounded)  l1 :  tensor(0.)\n",
            "the number of added features(rounded)  l1  :  tensor(0.)\n",
            "the number of added features(not rounded)  linf :  tensor(11.1375)\n",
            "the number of added features(rounded)  linf  :  tensor(0.)\n",
            "the number of added features(not rounded)  l2 :  tensor(2.4579)\n",
            "the number of added features(rounded)  l2  :  tensor(0.)\n",
            "the number of added features(not rounded)  l1 :  tensor(0.)\n",
            "the number of added features(rounded)  l1  :  tensor(0.)\n",
            "the number of added features(not rounded)  linf :  tensor(11.1779)\n",
            "the number of added features(rounded)  linf  :  tensor(0.)\n",
            "the number of added features(not rounded)  l2 :  tensor(2.4680)\n",
            "the number of added features(rounded)  l2  :  tensor(0.)\n",
            "the number of added features(not rounded)  l1 :  tensor(0.)\n",
            "the number of added features(rounded)  l1  :  tensor(0.)\n",
            "the number of added features(not rounded)  linf :  tensor(11.1481)\n",
            "the number of added features(rounded)  linf  :  tensor(0.)\n",
            "the number of added features(not rounded)  l2 :  tensor(2.4595)\n",
            "the number of added features(rounded)  l2  :  tensor(0.)\n",
            "the number of added features(not rounded)  l1 :  tensor(0.)\n",
            "the number of added features(rounded)  l1  :  tensor(0.)\n",
            "the number of added features(not rounded)  linf :  tensor(11.1790)\n",
            "the number of added features(rounded)  linf  :  tensor(0.)\n",
            "the number of added features(not rounded)  l2 :  tensor(2.4684)\n",
            "the number of added features(rounded)  l2  :  tensor(0.)\n",
            "the number of added features(not rounded)  l1 :  tensor(0.)\n",
            "the number of added features(rounded)  l1  :  tensor(0.)\n",
            "the number of added features(not rounded)  linf :  tensor(11.1454)\n",
            "the number of added features(rounded)  linf  :  tensor(0.)\n",
            "the number of added features(not rounded)  l2 :  tensor(2.4589)\n",
            "the number of added features(rounded)  l2  :  tensor(0.)\n",
            "the number of added features(not rounded)  l1 :  tensor(0.)\n",
            "the number of added features(rounded)  l1  :  tensor(0.)\n",
            "the number of added features(not rounded)  linf :  tensor(11.1749)\n",
            "the number of added features(rounded)  linf  :  tensor(0.)\n",
            "the number of added features(not rounded)  l2 :  tensor(2.4669)\n",
            "the number of added features(rounded)  l2  :  tensor(0.)\n",
            "the number of added features(not rounded)  l1 :  tensor(0.)\n",
            "the number of added features(rounded)  l1  :  tensor(0.)\n",
            "the number of added features(not rounded)  linf :  tensor(11.1422)\n",
            "the number of added features(rounded)  linf  :  tensor(0.)\n",
            "the number of added features(not rounded)  l2 :  tensor(2.4578)\n",
            "the number of added features(rounded)  l2  :  tensor(0.)\n",
            "the number of added features(not rounded)  l1 :  tensor(0.)\n",
            "the number of added features(rounded)  l1  :  tensor(0.)\n",
            "the number of added features(not rounded)  linf :  tensor(11.1660)\n",
            "the number of added features(rounded)  linf  :  tensor(0.)\n",
            "the number of added features(not rounded)  l2 :  tensor(2.4652)\n",
            "the number of added features(rounded)  l2  :  tensor(0.)\n",
            "the number of added features(not rounded)  l1 :  tensor(0.)\n",
            "the number of added features(rounded)  l1  :  tensor(0.)\n",
            "the number of added features(not rounded)  linf :  tensor(11.1611)\n",
            "the number of added features(rounded)  linf  :  tensor(0.)\n",
            "the number of added features(not rounded)  l2 :  tensor(2.4627)\n",
            "the number of added features(rounded)  l2  :  tensor(0.)\n",
            "the number of added features(not rounded)  l1 :  tensor(0.)\n",
            "the number of added features(rounded)  l1  :  tensor(0.)\n",
            "the number of added features(not rounded)  linf :  tensor(11.1495)\n",
            "the number of added features(rounded)  linf  :  tensor(0.)\n",
            "the number of added features(not rounded)  l2 :  tensor(2.4592)\n",
            "the number of added features(rounded)  l2  :  tensor(0.)\n",
            "the number of added features(not rounded)  l1 :  tensor(0.)\n",
            "the number of added features(rounded)  l1  :  tensor(0.)\n",
            "the number of added features(not rounded)  linf :  tensor(11.2120)\n",
            "the number of added features(rounded)  linf  :  tensor(0.)\n",
            "the number of added features(not rounded)  l2 :  tensor(2.4770)\n",
            "the number of added features(rounded)  l2  :  tensor(0.)\n",
            "the number of added features(not rounded)  l1 :  tensor(0.)\n",
            "the number of added features(rounded)  l1  :  tensor(0.)\n",
            "the number of added features(not rounded)  linf :  tensor(11.1462)\n",
            "the number of added features(rounded)  linf  :  tensor(0.)\n",
            "the number of added features(not rounded)  l2 :  tensor(2.4581)\n",
            "the number of added features(rounded)  l2  :  tensor(0.)\n",
            "the number of added features(not rounded)  l1 :  tensor(0.)\n",
            "the number of added features(rounded)  l1  :  tensor(0.)\n",
            "the number of added features(not rounded)  linf :  tensor(11.1906)\n",
            "the number of added features(rounded)  linf  :  tensor(0.)\n",
            "the number of added features(not rounded)  l2 :  tensor(2.4711)\n",
            "the number of added features(rounded)  l2  :  tensor(0.)\n",
            "the number of added features(not rounded)  l1 :  tensor(0.)\n",
            "the number of added features(rounded)  l1  :  tensor(0.)\n",
            "the number of added features(not rounded)  linf :  tensor(11.1296)\n",
            "the number of added features(rounded)  linf  :  tensor(0.)\n",
            "the number of added features(not rounded)  l2 :  tensor(2.4540)\n",
            "the number of added features(rounded)  l2  :  tensor(0.)\n",
            "the number of added features(not rounded)  l1 :  tensor(0.)\n",
            "the number of added features(rounded)  l1  :  tensor(0.)\n",
            "the number of added features(not rounded)  linf :  tensor(11.1763)\n",
            "the number of added features(rounded)  linf  :  tensor(0.)\n",
            "the number of added features(not rounded)  l2 :  tensor(2.4671)\n",
            "the number of added features(rounded)  l2  :  tensor(0.)\n",
            "the number of added features(not rounded)  l1 :  tensor(0.)\n",
            "the number of added features(rounded)  l1  :  tensor(0.)\n",
            "the number of added features(not rounded)  linf :  tensor(11.1342)\n",
            "the number of added features(rounded)  linf  :  tensor(0.)\n",
            "the number of added features(not rounded)  l2 :  tensor(2.4573)\n",
            "the number of added features(rounded)  l2  :  tensor(0.)\n",
            "the number of added features(not rounded)  l1 :  tensor(0.)\n",
            "the number of added features(rounded)  l1  :  tensor(0.)\n",
            "the number of added features(not rounded)  linf :  tensor(11.1793)\n",
            "the number of added features(rounded)  linf  :  tensor(0.)\n",
            "the number of added features(not rounded)  l2 :  tensor(2.4680)\n",
            "the number of added features(rounded)  l2  :  tensor(0.)\n",
            "the number of added features(not rounded)  l1 :  tensor(0.)\n",
            "the number of added features(rounded)  l1  :  tensor(0.)\n",
            "the number of added features(not rounded)  linf :  tensor(11.1259)\n",
            "the number of added features(rounded)  linf  :  tensor(0.)\n",
            "the number of added features(not rounded)  l2 :  tensor(2.4566)\n",
            "the number of added features(rounded)  l2  :  tensor(0.)\n",
            "the number of added features(not rounded)  l1 :  tensor(0.)\n",
            "the number of added features(rounded)  l1  :  tensor(0.)\n",
            "the number of added features(not rounded)  linf :  tensor(11.1367)\n",
            "the number of added features(rounded)  linf  :  tensor(0.)\n",
            "the number of added features(not rounded)  l2 :  tensor(2.4567)\n",
            "the number of added features(rounded)  l2  :  tensor(0.)\n",
            "the number of added features(not rounded)  l1 :  tensor(0.)\n",
            "the number of added features(rounded)  l1  :  tensor(0.)\n",
            "the number of added features(not rounded)  linf :  tensor(11.1625)\n",
            "the number of added features(rounded)  linf  :  tensor(0.)\n",
            "the number of added features(not rounded)  l2 :  tensor(2.4662)\n",
            "the number of added features(rounded)  l2  :  tensor(0.)\n",
            "the number of added features(not rounded)  l1 :  tensor(0.)\n",
            "the number of added features(rounded)  l1  :  tensor(0.)\n",
            "the number of added features(not rounded)  linf :  tensor(11.1226)\n",
            "the number of added features(rounded)  linf  :  tensor(0.)\n",
            "the number of added features(not rounded)  l2 :  tensor(2.4542)\n",
            "the number of added features(rounded)  l2  :  tensor(0.)\n",
            "the number of added features(not rounded)  l1 :  tensor(0.)\n",
            "the number of added features(rounded)  l1  :  tensor(0.)\n",
            "the number of added features(not rounded)  linf :  tensor(11.1221)\n",
            "the number of added features(rounded)  linf  :  tensor(0.)\n",
            "the number of added features(not rounded)  l2 :  tensor(2.4529)\n",
            "the number of added features(rounded)  l2  :  tensor(0.)\n",
            "the number of added features(not rounded)  l1 :  tensor(0.)\n",
            "the number of added features(rounded)  l1  :  tensor(0.)\n",
            "the number of added features(not rounded)  linf :  tensor(11.1863)\n",
            "the number of added features(rounded)  linf  :  tensor(0.)\n",
            "the number of added features(not rounded)  l2 :  tensor(2.4706)\n",
            "the number of added features(rounded)  l2  :  tensor(0.)\n",
            "the number of added features(not rounded)  l1 :  tensor(0.)\n",
            "the number of added features(rounded)  l1  :  tensor(0.)\n",
            "the number of added features(not rounded)  linf :  tensor(11.1207)\n",
            "the number of added features(rounded)  linf  :  tensor(0.)\n",
            "the number of added features(not rounded)  l2 :  tensor(2.4531)\n",
            "the number of added features(rounded)  l2  :  tensor(0.)\n",
            "the number of added features(not rounded)  l1 :  tensor(0.)\n",
            "the number of added features(rounded)  l1  :  tensor(0.)\n",
            "the number of added features(not rounded)  linf :  tensor(11.1157)\n",
            "the number of added features(rounded)  linf  :  tensor(0.)\n",
            "the number of added features(not rounded)  l2 :  tensor(2.4509)\n",
            "the number of added features(rounded)  l2  :  tensor(0.)\n",
            "the number of added features(not rounded)  l1 :  tensor(0.)\n",
            "the number of added features(rounded)  l1  :  tensor(0.)\n",
            "the number of added features(not rounded)  linf :  tensor(11.1603)\n",
            "the number of added features(rounded)  linf  :  tensor(0.)\n",
            "the number of added features(not rounded)  l2 :  tensor(2.4650)\n",
            "the number of added features(rounded)  l2  :  tensor(0.)\n",
            "the number of added features(not rounded)  l1 :  tensor(0.)\n",
            "the number of added features(rounded)  l1  :  tensor(0.)\n",
            "the number of added features(not rounded)  linf :  tensor(11.1226)\n",
            "the number of added features(rounded)  linf  :  tensor(0.)\n",
            "the number of added features(not rounded)  l2 :  tensor(2.4519)\n",
            "the number of added features(rounded)  l2  :  tensor(0.)\n",
            "the number of added features(not rounded)  l1 :  tensor(0.)\n",
            "the number of added features(rounded)  l1  :  tensor(0.)\n",
            "the number of added features(not rounded)  linf :  tensor(11.1154)\n",
            "the number of added features(rounded)  linf  :  tensor(0.)\n",
            "the number of added features(not rounded)  l2 :  tensor(2.4515)\n",
            "the number of added features(rounded)  l2  :  tensor(0.)\n",
            "the number of added features(not rounded)  l1 :  tensor(0.)\n",
            "the number of added features(rounded)  l1  :  tensor(0.)\n",
            "the number of added features(not rounded)  linf :  tensor(11.1341)\n",
            "the number of added features(rounded)  linf  :  tensor(0.)\n",
            "the number of added features(not rounded)  l2 :  tensor(2.4564)\n",
            "the number of added features(rounded)  l2  :  tensor(0.)\n",
            "the number of added features(not rounded)  l1 :  tensor(0.)\n",
            "the number of added features(rounded)  l1  :  tensor(0.)\n",
            "the number of added features(not rounded)  linf :  tensor(11.1127)\n",
            "the number of added features(rounded)  linf  :  tensor(0.)\n",
            "the number of added features(not rounded)  l2 :  tensor(2.4505)\n",
            "the number of added features(rounded)  l2  :  tensor(0.)\n",
            "the number of added features(not rounded)  l1 :  tensor(0.)\n",
            "the number of added features(rounded)  l1  :  tensor(0.)\n",
            "the number of added features(not rounded)  linf :  tensor(11.1175)\n",
            "the number of added features(rounded)  linf  :  tensor(0.)\n",
            "the number of added features(not rounded)  l2 :  tensor(2.4526)\n",
            "the number of added features(rounded)  l2  :  tensor(0.)\n",
            "the number of added features(not rounded)  l1 :  tensor(0.)\n",
            "the number of added features(rounded)  l1  :  tensor(0.)\n",
            "the number of added features(not rounded)  linf :  tensor(11.1566)\n",
            "the number of added features(rounded)  linf  :  tensor(0.)\n",
            "the number of added features(not rounded)  l2 :  tensor(2.4604)\n",
            "the number of added features(rounded)  l2  :  tensor(0.)\n",
            "the number of added features(not rounded)  l1 :  tensor(0.)\n",
            "the number of added features(rounded)  l1  :  tensor(0.)\n",
            "the number of added features(not rounded)  linf :  tensor(11.1042)\n",
            "the number of added features(rounded)  linf  :  tensor(0.)\n",
            "the number of added features(not rounded)  l2 :  tensor(2.4488)\n",
            "the number of added features(rounded)  l2  :  tensor(0.)\n",
            "the number of added features(not rounded)  l1 :  tensor(0.)\n",
            "the number of added features(rounded)  l1  :  tensor(0.)\n",
            "the number of added features(not rounded)  linf :  tensor(11.1447)\n",
            "the number of added features(rounded)  linf  :  tensor(0.)\n",
            "the number of added features(not rounded)  l2 :  tensor(2.4588)\n",
            "the number of added features(rounded)  l2  :  tensor(0.)\n",
            "the number of added features(not rounded)  l1 :  tensor(0.)\n",
            "the number of added features(rounded)  l1  :  tensor(0.)\n",
            "the number of added features(not rounded)  linf :  tensor(11.1265)\n",
            "the number of added features(rounded)  linf  :  tensor(0.)\n",
            "the number of added features(not rounded)  l2 :  tensor(2.4543)\n",
            "the number of added features(rounded)  l2  :  tensor(0.)\n",
            "the number of added features(not rounded)  l1 :  tensor(0.)\n",
            "the number of added features(rounded)  l1  :  tensor(0.)\n",
            "the number of added features(not rounded)  linf :  tensor(11.1342)\n",
            "the number of added features(rounded)  linf  :  tensor(0.)\n",
            "the number of added features(not rounded)  l2 :  tensor(2.4561)\n",
            "the number of added features(rounded)  l2  :  tensor(0.)\n",
            "the number of added features(not rounded)  l1 :  tensor(0.)\n",
            "the number of added features(rounded)  l1  :  tensor(0.)\n",
            "the number of added features(not rounded)  linf :  tensor(11.1452)\n",
            "the number of added features(rounded)  linf  :  tensor(0.)\n",
            "the number of added features(not rounded)  l2 :  tensor(2.4581)\n",
            "the number of added features(rounded)  l2  :  tensor(0.)\n",
            "the number of added features(not rounded)  l1 :  tensor(0.)\n",
            "the number of added features(rounded)  l1  :  tensor(0.)\n",
            "the number of added features(not rounded)  linf :  tensor(11.1423)\n",
            "the number of added features(rounded)  linf  :  tensor(0.)\n",
            "the number of added features(not rounded)  l2 :  tensor(2.4581)\n",
            "the number of added features(rounded)  l2  :  tensor(0.)\n",
            "the number of added features(not rounded)  l1 :  tensor(0.)\n",
            "the number of added features(rounded)  l1  :  tensor(0.)\n",
            "the number of added features(not rounded)  linf :  tensor(11.1104)\n",
            "the number of added features(rounded)  linf  :  tensor(0.)\n",
            "the number of added features(not rounded)  l2 :  tensor(2.4489)\n",
            "the number of added features(rounded)  l2  :  tensor(0.)\n",
            "the number of added features(not rounded)  l1 :  tensor(0.)\n",
            "the number of added features(rounded)  l1  :  tensor(0.)\n",
            "the number of added features(not rounded)  linf :  tensor(11.1134)\n",
            "the number of added features(rounded)  linf  :  tensor(0.)\n",
            "the number of added features(not rounded)  l2 :  tensor(2.4484)\n",
            "the number of added features(rounded)  l2  :  tensor(0.)\n",
            "the number of added features(not rounded)  l1 :  tensor(0.)\n",
            "the number of added features(rounded)  l1  :  tensor(0.)\n",
            "the number of added features(not rounded)  linf :  tensor(11.1412)\n",
            "the number of added features(rounded)  linf  :  tensor(0.)\n",
            "the number of added features(not rounded)  l2 :  tensor(2.4587)\n",
            "the number of added features(rounded)  l2  :  tensor(0.)\n",
            "the number of added features(not rounded)  l1 :  tensor(0.)\n",
            "the number of added features(rounded)  l1  :  tensor(0.)\n",
            "the number of added features(not rounded)  linf :  tensor(11.1229)\n",
            "the number of added features(rounded)  linf  :  tensor(0.)\n",
            "the number of added features(not rounded)  l2 :  tensor(2.4536)\n",
            "the number of added features(rounded)  l2  :  tensor(0.)\n",
            "the number of added features(not rounded)  l1 :  tensor(0.)\n",
            "the number of added features(rounded)  l1  :  tensor(0.)\n",
            "the number of added features(not rounded)  linf :  tensor(11.0688)\n",
            "the number of added features(rounded)  linf  :  tensor(0.)\n",
            "the number of added features(not rounded)  l2 :  tensor(2.4371)\n",
            "the number of added features(rounded)  l2  :  tensor(0.)\n",
            "the number of added features(not rounded)  l1 :  tensor(0.)\n",
            "the number of added features(rounded)  l1  :  tensor(0.)\n",
            "the number of added features(not rounded)  linf :  tensor(11.1432)\n",
            "the number of added features(rounded)  linf  :  tensor(0.)\n",
            "the number of added features(not rounded)  l2 :  tensor(2.4583)\n",
            "the number of added features(rounded)  l2  :  tensor(0.)\n",
            "the number of added features(not rounded)  l1 :  tensor(0.)\n",
            "the number of added features(rounded)  l1  :  tensor(0.)\n",
            "the number of added features(not rounded)  linf :  tensor(11.1371)\n",
            "the number of added features(rounded)  linf  :  tensor(0.)\n",
            "the number of added features(not rounded)  l2 :  tensor(2.4551)\n",
            "the number of added features(rounded)  l2  :  tensor(0.)\n",
            "the number of added features(not rounded)  l1 :  tensor(0.)\n",
            "the number of added features(rounded)  l1  :  tensor(0.)\n",
            "the number of added features(not rounded)  linf :  tensor(11.0686)\n",
            "the number of added features(rounded)  linf  :  tensor(0.)\n",
            "the number of added features(not rounded)  l2 :  tensor(2.4370)\n",
            "the number of added features(rounded)  l2  :  tensor(0.)\n",
            "the number of added features(not rounded)  l1 :  tensor(0.)\n",
            "the number of added features(rounded)  l1  :  tensor(0.)\n",
            "the number of added features(not rounded)  linf :  tensor(11.1549)\n",
            "the number of added features(rounded)  linf  :  tensor(0.)\n",
            "the number of added features(not rounded)  l2 :  tensor(2.4603)\n",
            "the number of added features(rounded)  l2  :  tensor(0.)\n",
            "the number of added features(not rounded)  l1 :  tensor(0.)\n",
            "the number of added features(rounded)  l1  :  tensor(0.)\n",
            "the number of added features(not rounded)  linf :  tensor(11.1096)\n",
            "the number of added features(rounded)  linf  :  tensor(0.)\n",
            "the number of added features(not rounded)  l2 :  tensor(2.4485)\n",
            "the number of added features(rounded)  l2  :  tensor(0.)\n",
            "the number of added features(not rounded)  l1 :  tensor(0.)\n",
            "the number of added features(rounded)  l1  :  tensor(0.)\n",
            "the number of added features(not rounded)  linf :  tensor(11.1315)\n",
            "the number of added features(rounded)  linf  :  tensor(0.)\n",
            "the number of added features(not rounded)  l2 :  tensor(2.4539)\n",
            "the number of added features(rounded)  l2  :  tensor(0.)\n",
            "the number of added features(not rounded)  l1 :  tensor(0.)\n",
            "the number of added features(rounded)  l1  :  tensor(0.)\n",
            "the number of added features(not rounded)  linf :  tensor(11.1150)\n",
            "the number of added features(rounded)  linf  :  tensor(0.)\n",
            "the number of added features(not rounded)  l2 :  tensor(2.4500)\n",
            "the number of added features(rounded)  l2  :  tensor(0.)\n",
            "the number of added features(not rounded)  l1 :  tensor(0.)\n",
            "the number of added features(rounded)  l1  :  tensor(0.)\n",
            "the number of added features(not rounded)  linf :  tensor(11.0946)\n",
            "the number of added features(rounded)  linf  :  tensor(0.)\n",
            "the number of added features(not rounded)  l2 :  tensor(2.4436)\n",
            "the number of added features(rounded)  l2  :  tensor(0.)\n",
            "the number of added features(not rounded)  l1 :  tensor(0.)\n",
            "the number of added features(rounded)  l1  :  tensor(0.)\n",
            "the number of added features(not rounded)  linf :  tensor(11.1528)\n",
            "the number of added features(rounded)  linf  :  tensor(0.)\n",
            "the number of added features(not rounded)  l2 :  tensor(2.4590)\n",
            "the number of added features(rounded)  l2  :  tensor(0.)\n",
            "the number of added features(not rounded)  l1 :  tensor(0.)\n",
            "the number of added features(rounded)  l1  :  tensor(0.)\n",
            "the number of added features(not rounded)  linf :  tensor(11.0948)\n",
            "the number of added features(rounded)  linf  :  tensor(0.)\n",
            "the number of added features(not rounded)  l2 :  tensor(2.4443)\n",
            "the number of added features(rounded)  l2  :  tensor(0.)\n",
            "the number of added features(not rounded)  l1 :  tensor(0.)\n",
            "the number of added features(rounded)  l1  :  tensor(0.)\n",
            "the number of added features(not rounded)  linf :  tensor(11.1241)\n",
            "the number of added features(rounded)  linf  :  tensor(0.)\n",
            "the number of added features(not rounded)  l2 :  tensor(2.4507)\n",
            "the number of added features(rounded)  l2  :  tensor(0.)\n",
            "the number of added features(not rounded)  l1 :  tensor(0.)\n",
            "the number of added features(rounded)  l1  :  tensor(0.)\n",
            "step-wise max: attack effectiveness 94.922%.\n",
            "tensor(26.6289)\n",
            "tensor(29.1172)\n"
          ]
        }
      ]
    },
    {
      "cell_type": "code",
      "source": [],
      "metadata": {
        "id": "TWCfMx_bnH02"
      },
      "execution_count": null,
      "outputs": []
    },
    {
      "cell_type": "code",
      "source": [],
      "metadata": {
        "id": "ynXQZl9znHro"
      },
      "execution_count": null,
      "outputs": []
    },
    {
      "cell_type": "code",
      "source": [],
      "metadata": {
        "id": "X-HWbGJtHow_"
      },
      "execution_count": null,
      "outputs": []
    },
    {
      "cell_type": "code",
      "source": [
        "def StepwiseMax2(\n",
        "    x,\n",
        "    label,\n",
        "    model,\n",
        "    attack_list=[\"linf\", \"l2\", \"l1\"],\n",
        "    step_lengths={\"l1\": 1.0, \"l2\": 0.05, \"linf\": 0.002},\n",
        "    steps=100,\n",
        "    step_check = 1,\n",
        "    random_start=False,\n",
        "    round_threshold=0.5,\n",
        "    is_attacker=False,\n",
        "    is_score_round = False\n",
        "):\n",
        "  \"\"\"\n",
        "    Stepwise max attack (mixture of pgd-l1, pgd-l2, pgd-linf).\n",
        "\n",
        "    Args:\n",
        "        x: Input data tensor (shape: [batch_size, feature_dim])\n",
        "        label: Ground truth labels tensor (shape: [batch_size])\n",
        "        model: Victim model\n",
        "        attack_list: List of attack norms (default: [\"linf\", \"l2\", \"l1\"])\n",
        "        step_lengths: Dictionary mapping norm to its step length (default: {\"l1\": 1.0, \"l2\": 0.05, \"linf\": 0.002})\n",
        "        steps: Maximum number of iterations (default: 100)\n",
        "        random_start: Use random starting point (default: False)\n",
        "        round_threshold: Threshold for rounding real scalars (default: 0.5)\n",
        "        is_attacker: Play the role of attacker (default: False)\n",
        "\n",
        "    Returns:\n",
        "        Adversarial examples tensor (same shape as x)\n",
        "  \"\"\"\n",
        "\n",
        "  model.eval()\n",
        "\n",
        "  step_check = 1\n",
        "  if not is_attacker:\n",
        "      step_checks = [1, 10, 25, 50]\n",
        "      step_check = random.choice(step_checks)\n",
        "\n",
        "  print(f\"Step check: {step_check}\")\n",
        "  mini_steps = [step_check] * (steps // step_check)\n",
        "  if steps % step_check != 0:\n",
        "      mini_steps.append(steps % step_check)\n",
        "  n, red_n = x.shape\n",
        "  adv_x = x.detach().clone()\n",
        "  pert_x_cont = None\n",
        "  prev_done = None\n",
        "  for i, mini_step in enumerate(mini_steps):\n",
        "      with torch.no_grad():\n",
        "          if i == 0 :\n",
        "              adv_x = get_x0(adv_x, initial_rounding_threshold=round_threshold, is_sample=random_start)\n",
        "\n",
        "          if is_attacker:\n",
        "            _, done = get_loss(round_x(adv_x, round_threshold), label, model)\n",
        "          else :\n",
        "            _, done = get_loss(adv_x, label, model)\n",
        "      if torch.all(done):\n",
        "          break\n",
        "      if i == 0:\n",
        "          adv_x[~done] = x[~done]  # recompute the perturbation under other penalty factors\n",
        "          prev_done = done\n",
        "      else:\n",
        "          adv_x[~done] = pert_x_cont[~done[~prev_done]]\n",
        "          prev_done = done\n",
        "\n",
        "      print('len(adv_x[~done]) : ',len(adv_x[~done]))\n",
        "      num_sample_red = torch.sum(~done).item()\n",
        "      pertbx = []\n",
        "      for norm in attack_list:\n",
        "          step_length = step_lengths.get(norm, step_lengths[\"l1\"])\n",
        "          perturbation = pgd_step(adv_x[~done], label[~done], model, norm, mini_step, step_length)\n",
        "          #print(\"the number of added features(not rounded) \", norm,\": \", perturbation.sum()/len(adv_x[~done]) - adv_x[~done].sum()/len(adv_x[~done]))\n",
        "          #print(\"the number of added features(rounded) \", norm,\" : \",(round_x(perturbation, round_threshold).sum() - round_x(adv_x[~done], round_threshold).sum())/len(adv_x[~done]))\n",
        "          pertbx.append(perturbation)\n",
        "      with torch.no_grad():\n",
        "          pertbx = torch.vstack(pertbx)\n",
        "\n",
        "          n_attacks = len(attack_list)\n",
        "          label_ext = torch.cat([label[~done]] * n_attacks)\n",
        "\n",
        "          if (is_score_round):\n",
        "              scores, _done = get_loss(round_x(pertbx, round_threshold), label_ext, model)\n",
        "          elif is_attacker:\n",
        "              scores, _ = get_loss(pertbx, label_ext,model)\n",
        "              _, _done = get_loss(round_x(pertbx, round_threshold), label_ext, model)\n",
        "          else:\n",
        "              scores, _done = get_loss(pertbx, label_ext,model)\n",
        "\n",
        "          max_v = scores.amax() if scores.amax() > 0 else 0.\n",
        "          scores[_done] += max_v\n",
        "\n",
        "          pertbx = pertbx.reshape(n_attacks, num_sample_red, red_n).permute([1, 0, 2])\n",
        "          scores = scores.reshape(n_attacks, num_sample_red).permute(1, 0)\n",
        "          _2, s_idx = scores.max(dim=-1)\n",
        "          pert_x_cont = pertbx[torch.arange(num_sample_red), s_idx]\n",
        "          adv_x[~done] = pert_x_cont\n",
        "\n",
        "  print(i)\n",
        "  if is_attacker:\n",
        "      adv_x = round_x(adv_x, round_threshold)\n",
        "  with torch.no_grad():\n",
        "      _, done = get_loss(adv_x, label, model)\n",
        "      print(f\"step-wise max: attack effectiveness {done.sum().item() / done.size()[0] * 100:.3f}%.\")\n",
        "\n",
        "  return adv_x"
      ],
      "metadata": {
        "id": "YF48Kp2unI4K"
      },
      "execution_count": 114,
      "outputs": []
    },
    {
      "cell_type": "code",
      "source": [
        "def pgd_one_step(x, y, model, step_lengths):\n",
        "    \"\"\"\n",
        "    Projected Gradient Descent (PGD) adversarial attack for stepwise.\n",
        "    :param y: Ground truth labels\n",
        "    :param x: Feature vector\n",
        "    :param model: Neural network model\n",
        "    :param k: Number of steps\n",
        "    :param step_length: Step size for each iteration\n",
        "    :param norm: Norm used for perturbation ('linf' or 'l2')\n",
        "    :return: The adversarial version of x (tensor)(not rounded)\n",
        "    \"\"\"\n",
        "    model.eval()\n",
        "\n",
        "    criterion = nn.CrossEntropyLoss(reduction='none')\n",
        "\n",
        "    # Initialize starting point\n",
        "    x_next = x.clone()\n",
        "\n",
        "    # one-step PGD\n",
        "\n",
        "    # Forward pass\n",
        "    x_var = x_next.clone().detach().requires_grad_(True)\n",
        "    y_model = model(x_var)\n",
        "    loss = criterion(y_model, y.view(-1).long())\n",
        "\n",
        "    # Compute gradient\n",
        "    grad_vars = torch.autograd.grad(loss.mean(), x_var)\n",
        "    grad_data = grad_vars[0].data\n",
        "    gradients = grad_data * (x < 0.5)\n",
        "\n",
        "\n",
        "    # Norms\n",
        "    pertbx = []\n",
        "    # norm = linf\n",
        "    step_length = step_lengths.get(\"linf\", step_lengths[\"l1\"])\n",
        "    perturbation_linf = torch.sign(gradients)\n",
        "    x_next_linf = torch.clamp(x_next + perturbation_linf * step_length, min=0., max=1.)\n",
        "    #remove negative pertubations, we cant use OR function because we have values between (0,1) like 0.2 which we want to keep\n",
        "    x_adv_linf = (((x_next_linf - x) >= 0) * x_next_linf) + (((x_next_linf - x) < 0) * x)\n",
        "    pertbx.append(x_adv_linf)\n",
        "    # norm = l2\n",
        "    step_length = step_lengths.get(\"l2\", step_lengths[\"l1\"])\n",
        "    l2norm = torch.linalg.norm(gradients, dim=-1, keepdim=True)\n",
        "    perturbation_l2 = torch.minimum(torch.tensor(1., dtype=x.dtype, device=x.device), gradients / l2norm)\n",
        "    perturbation_l2[torch.isnan(perturbation_l2)] = 0.\n",
        "    perturbation_l2[torch.isinf(perturbation_l2)] = 1.\n",
        "    x_next_l2 = torch.clamp(x_next + perturbation_l2 * step_length, min=0., max=1.)\n",
        "    x_adv_l2 = (((x_next_l2 - x) >= 0) * x_next_l2) + (((x_next_l2 - x) < 0) * x)\n",
        "    pertbx.append(x_adv_l2)\n",
        "    # norm = l1\n",
        "    step_length = step_lengths.get(\"l1\", step_lengths[\"l1\"])\n",
        "    #ignore the gradient of indice which is updated\n",
        "    gradients = gradients * (x_next < 0.5)\n",
        "    val, _ = torch.topk(gradients, 1)\n",
        "    perturbation_l1 = torch.sign(gradients >= val.expand_as(gradients))\n",
        "    x_next_l1 = torch.clamp(x_next + perturbation_l1 * step_length, min=0., max=1.)\n",
        "    x_adv_l1 = (((x_next_l1 - x) >= 0) * x_next_l1) + (((x_next_l1 - x) < 0) * x)\n",
        "    pertbx.append(x_adv_l1)\n",
        "\n",
        "    return pertbx"
      ],
      "metadata": {
        "id": "De3vBz1IHpY9"
      },
      "execution_count": 104,
      "outputs": []
    },
    {
      "cell_type": "code",
      "source": [],
      "metadata": {
        "id": "uh6L653jYA1Z"
      },
      "execution_count": null,
      "outputs": []
    },
    {
      "cell_type": "code",
      "source": [
        "def StepwiseMax_onestep(\n",
        "    x,\n",
        "    label,\n",
        "    model,\n",
        "    attack_list=[\"linf\", \"l2\", \"l1\"],\n",
        "    step_lengths={\"l1\": 1.0, \"l2\": 0.05, \"linf\": 0.002},\n",
        "    steps=100,\n",
        "    random_start=False,\n",
        "    round_threshold=0.5,\n",
        "):\n",
        "  \"\"\"\n",
        "    Stepwise max attack (mixture of pgd-l1, pgd-l2, pgd-linf).\n",
        "\n",
        "    Args:\n",
        "        x: Input data tensor (shape: [batch_size, feature_dim])\n",
        "        label: Ground truth labels tensor (shape: [batch_size])\n",
        "        model: Victim model\n",
        "        attack_list: List of attack norms (default: [\"linf\", \"l2\", \"l1\"])\n",
        "        step_lengths: Dictionary mapping norm to its step length (default: {\"l1\": 1.0, \"l2\": 0.05, \"linf\": 0.002})\n",
        "        steps: Maximum number of iterations (default: 100)\n",
        "        random_start: Use random starting point (default: False)\n",
        "        round_threshold: Threshold for rounding real scalars (default: 0.5)\n",
        "\n",
        "    Returns:\n",
        "        Adversarial examples tensor (same shape as x)\n",
        "  \"\"\"\n",
        "\n",
        "  model.eval()\n",
        "\n",
        "  n, red_n = x.shape\n",
        "  adv_x = x.detach().clone()\n",
        "  pert_x_cont = None\n",
        "  prev_done = None\n",
        "  for step in range(steps):\n",
        "      with torch.no_grad():\n",
        "          if step == 0 :\n",
        "              adv_x = get_x0(adv_x, initial_rounding_threshold=round_threshold, is_sample=random_start)\n",
        "\n",
        "          _, done = get_loss(round_x(adv_x, round_threshold), label, model)\n",
        "\n",
        "      if torch.all(done):\n",
        "          break\n",
        "      if step == 0:\n",
        "          adv_x[~done] = x[~done]  # recompute the perturbation under other penalty factors\n",
        "          prev_done = done\n",
        "      else:\n",
        "          adv_x[~done] = pert_x_cont[~done[~prev_done]]\n",
        "          prev_done = done\n",
        "\n",
        "      print('len(adv_x[~done]) : ',len(adv_x[~done]))\n",
        "      num_sample_red = torch.sum(~done).item()\n",
        "\n",
        "      pertbx = pgd_one_step(adv_x[~done], label[~done], model, step_lengths)\n",
        "\n",
        "      with torch.no_grad():\n",
        "          pertbx = torch.vstack(pertbx)\n",
        "\n",
        "          n_attacks = len(attack_list)\n",
        "          label_ext = torch.cat([label[~done]] * n_attacks)\n",
        "\n",
        "          scores, _ = get_loss(pertbx, label_ext,model)\n",
        "          _, _done = get_loss(round_x(pertbx, round_threshold), label_ext, model)\n",
        "\n",
        "          max_v = scores.amax() if scores.amax() > 0 else 0.\n",
        "          scores[_done] += max_v\n",
        "\n",
        "          pertbx = pertbx.reshape(n_attacks, num_sample_red, red_n).permute([1, 0, 2])\n",
        "          scores = scores.reshape(n_attacks, num_sample_red).permute(1, 0)\n",
        "          _2, s_idx = scores.max(dim=-1)\n",
        "          pert_x_cont = pertbx[torch.arange(num_sample_red), s_idx]\n",
        "          adv_x[~done] = pert_x_cont\n",
        "\n",
        "  print(step)\n",
        "  adv_x = round_x(adv_x, round_threshold)\n",
        "  with torch.no_grad():\n",
        "      _, done = get_loss(adv_x, label, model)\n",
        "      print(f\"step-wise max: attack effectiveness {done.sum().item() / done.size()[0] * 100:.3f}%.\")\n",
        "\n",
        "  return adv_x"
      ],
      "metadata": {
        "id": "SSiNK4V_PaFw"
      },
      "execution_count": null,
      "outputs": []
    },
    {
      "cell_type": "code",
      "source": [
        "def pgd_one_step2(x, y, model, step_lengths,x_initial):\n",
        "    \"\"\"\n",
        "    Projected Gradient Descent (PGD) adversarial attack for stepwise.\n",
        "    :param y: Ground truth labels\n",
        "    :param x: Feature vector\n",
        "    :param model: Neural network model\n",
        "    :param k: Number of steps\n",
        "    :param step_length: Step size for each iteration\n",
        "    :param norm: Norm used for perturbation ('linf' or 'l2')\n",
        "    :return: The adversarial version of x (tensor)(not rounded)\n",
        "    \"\"\"\n",
        "    model.eval()\n",
        "\n",
        "    criterion = nn.CrossEntropyLoss(reduction='none')\n",
        "\n",
        "    # Initialize starting point\n",
        "    x_next = x.clone()\n",
        "\n",
        "    # one-step PGD\n",
        "\n",
        "    # Forward pass\n",
        "    x_var = x_next.clone().detach().requires_grad_(True)\n",
        "    y_model = model(x_var)\n",
        "    loss = criterion(y_model, y.view(-1).long())\n",
        "\n",
        "    # Compute gradient\n",
        "    grad_vars = torch.autograd.grad(loss.mean(), x_var)\n",
        "    grad_data = grad_vars[0].data\n",
        "    gradients = grad_data * (x_initial < 0.5)\n",
        "\n",
        "\n",
        "    # Norms\n",
        "    pertbx = []\n",
        "    # norm = linf\n",
        "    step_length = step_lengths.get(\"linf\", step_lengths[\"l1\"])\n",
        "    perturbation_linf = torch.sign(gradients)\n",
        "    x_next_linf = torch.clamp(x_next + perturbation_linf * step_length, min=0., max=1.)\n",
        "    #remove negative pertubations, we cant use OR function because we have values between (0,1) like 0.2 which we want to keep\n",
        "    x_adv_linf = (((x_next_linf - x_initial) >= 0) * x_next_linf) + (((x_next_linf - x_initial) < 0) * x_initial)\n",
        "    pertbx.append(x_adv_linf)\n",
        "    # norm = l2\n",
        "    step_length = step_lengths.get(\"l2\", step_lengths[\"l1\"])\n",
        "    l2norm = torch.linalg.norm(gradients, dim=-1, keepdim=True)\n",
        "    perturbation_l2 = torch.minimum(torch.tensor(1., dtype=x.dtype, device=x.device), gradients / l2norm)\n",
        "    perturbation_l2[torch.isnan(perturbation_l2)] = 0.\n",
        "    perturbation_l2[torch.isinf(perturbation_l2)] = 1.\n",
        "    x_next_l2 = torch.clamp(x_next + perturbation_l2 * step_length, min=0., max=1.)\n",
        "    x_adv_l2 = (((x_next_l2 - x_initial) >= 0) * x_next_l2) + (((x_next_l2 - x_initial) < 0) * x_initial)\n",
        "    pertbx.append(x_adv_l2)\n",
        "    # norm = l1\n",
        "    step_length = step_lengths.get(\"l1\", step_lengths[\"l1\"])\n",
        "    #ignore the gradient of indice which is updated\n",
        "    gradients = gradients * (x_next < 0.5)\n",
        "    val, _ = torch.topk(gradients, 1)\n",
        "    perturbation_l1 = torch.sign(gradients >= val.expand_as(gradients))\n",
        "    x_next_l1 = torch.clamp(x_next + perturbation_l1 * step_length, min=0., max=1.)\n",
        "    x_adv_l1 = (((x_next_l1 - x_initial) >= 0) * x_next_l1) + (((x_next_l1 - x_initial) < 0) * x_initial)\n",
        "    pertbx.append(x_adv_l1)\n",
        "\n",
        "    return pertbx"
      ],
      "metadata": {
        "id": "VIny0BjsYBFK"
      },
      "execution_count": 121,
      "outputs": []
    },
    {
      "cell_type": "code",
      "source": [
        "def StepwiseMax_onestep2(\n",
        "    x,\n",
        "    label,\n",
        "    model,\n",
        "    attack_list=[\"linf\", \"l2\", \"l1\"],\n",
        "    step_lengths={\"l1\": 1.0, \"l2\": 0.05, \"linf\": 0.002},\n",
        "    steps=100,\n",
        "    random_start=False,\n",
        "    round_threshold=0.5,\n",
        "):\n",
        "  \"\"\"\n",
        "    Stepwise max attack (mixture of pgd-l1, pgd-l2, pgd-linf).\n",
        "\n",
        "    Args:\n",
        "        x: Input data tensor (shape: [batch_size, feature_dim])\n",
        "        label: Ground truth labels tensor (shape: [batch_size])\n",
        "        model: Victim model\n",
        "        attack_list: List of attack norms (default: [\"linf\", \"l2\", \"l1\"])\n",
        "        step_lengths: Dictionary mapping norm to its step length (default: {\"l1\": 1.0, \"l2\": 0.05, \"linf\": 0.002})\n",
        "        steps: Maximum number of iterations (default: 100)\n",
        "        random_start: Use random starting point (default: False)\n",
        "        round_threshold: Threshold for rounding real scalars (default: 0.5)\n",
        "\n",
        "    Returns:\n",
        "        Adversarial examples tensor (same shape as x)\n",
        "  \"\"\"\n",
        "\n",
        "  model.eval()\n",
        "\n",
        "  n, red_n = x.shape\n",
        "  adv_x = x.detach().clone()\n",
        "  pert_x_cont = None\n",
        "  prev_done = None\n",
        "  for step in range(steps):\n",
        "      with torch.no_grad():\n",
        "          if step == 0 :\n",
        "              adv_x = get_x0(adv_x, initial_rounding_threshold=round_threshold, is_sample=random_start)\n",
        "\n",
        "          _, done = get_loss(round_x(adv_x, round_threshold), label, model)\n",
        "\n",
        "      if torch.all(done):\n",
        "          break\n",
        "      if step == 0:\n",
        "          adv_x[~done] = x[~done]  # recompute the perturbation under other penalty factors\n",
        "          prev_done = done\n",
        "      else:\n",
        "          adv_x[~done] = pert_x_cont[~done[~prev_done]]\n",
        "          prev_done = done\n",
        "\n",
        "      print('len(adv_x[~done]) : ',len(adv_x[~done]))\n",
        "      num_sample_red = torch.sum(~done).item()\n",
        "\n",
        "      pertbx = pgd_one_step2(adv_x[~done], label[~done], model, step_lengths,x[~done])\n",
        "\n",
        "      with torch.no_grad():\n",
        "          pertbx = torch.vstack(pertbx)\n",
        "\n",
        "          n_attacks = len(attack_list)\n",
        "          label_ext = torch.cat([label[~done]] * n_attacks)\n",
        "\n",
        "          scores, _ = get_loss(pertbx, label_ext,model)\n",
        "          _, _done = get_loss(round_x(pertbx, round_threshold), label_ext, model)\n",
        "\n",
        "          max_v = scores.amax() if scores.amax() > 0 else 0.\n",
        "          scores[_done] += max_v\n",
        "\n",
        "          pertbx = pertbx.reshape(n_attacks, num_sample_red, red_n).permute([1, 0, 2])\n",
        "          scores = scores.reshape(n_attacks, num_sample_red).permute(1, 0)\n",
        "          _2, s_idx = scores.max(dim=-1)\n",
        "          pert_x_cont = pertbx[torch.arange(num_sample_red), s_idx]\n",
        "          adv_x[~done] = pert_x_cont\n",
        "\n",
        "  print(step)\n",
        "  adv_x = round_x(adv_x, round_threshold)\n",
        "  with torch.no_grad():\n",
        "      _, done = get_loss(adv_x, label, model)\n",
        "      print(f\"step-wise max: attack effectiveness {done.sum().item() / done.size()[0] * 100:.3f}%.\")\n",
        "\n",
        "  return adv_x"
      ],
      "metadata": {
        "id": "zRBrmMyWYHn4"
      },
      "execution_count": 119,
      "outputs": []
    },
    {
      "cell_type": "code",
      "source": [
        "adv_x = StepwiseMax(X, y, model,step_lengths={\"l1\": 1.0, \"l2\": 0.05, \"linf\": 0.0008},steps=500,is_attacker=True)\n",
        "print(X.sum()/batch_size)\n",
        "print(adv_x.sum()/batch_size)"
      ],
      "metadata": {
        "colab": {
          "base_uri": "https://localhost:8080/"
        },
        "id": "g5E6DzDHnIKr",
        "outputId": "5753aed5-e2b6-416d-d5c1-ff89817c0094"
      },
      "execution_count": 113,
      "outputs": [
        {
          "output_type": "stream",
          "name": "stdout",
          "text": [
            "Step check: 1\n",
            "499\n",
            "step-wise max: attack effectiveness 28.125%.\n",
            "tensor(26.6289)\n",
            "tensor(28.2148)\n"
          ]
        }
      ]
    },
    {
      "cell_type": "code",
      "source": [
        "adv_x = StepwiseMax2(X, y, model,step_lengths={\"l1\": 1.0, \"l2\": 0.05, \"linf\": 0.0008},steps=650,is_attacker=True)\n",
        "print(X.sum()/batch_size)\n",
        "print(adv_x.sum()/batch_size)"
      ],
      "metadata": {
        "colab": {
          "base_uri": "https://localhost:8080/"
        },
        "id": "MyvRiWFnGxWM",
        "outputId": "74f6e8ad-8b43-43ef-ada2-dcef1e0cabc8"
      },
      "execution_count": 115,
      "outputs": [
        {
          "output_type": "stream",
          "name": "stdout",
          "text": [
            "Step check: 1\n",
            "len(adv_x[~done]) :  255\n",
            "len(adv_x[~done]) :  244\n",
            "len(adv_x[~done]) :  223\n",
            "len(adv_x[~done]) :  196\n",
            "len(adv_x[~done]) :  194\n",
            "len(adv_x[~done]) :  194\n",
            "len(adv_x[~done]) :  194\n",
            "len(adv_x[~done]) :  194\n",
            "len(adv_x[~done]) :  194\n",
            "len(adv_x[~done]) :  194\n",
            "len(adv_x[~done]) :  194\n",
            "len(adv_x[~done]) :  194\n",
            "len(adv_x[~done]) :  194\n",
            "len(adv_x[~done]) :  194\n",
            "len(adv_x[~done]) :  194\n",
            "len(adv_x[~done]) :  194\n",
            "len(adv_x[~done]) :  194\n",
            "len(adv_x[~done]) :  194\n",
            "len(adv_x[~done]) :  194\n",
            "len(adv_x[~done]) :  194\n",
            "len(adv_x[~done]) :  194\n",
            "len(adv_x[~done]) :  194\n",
            "len(adv_x[~done]) :  194\n",
            "len(adv_x[~done]) :  194\n",
            "len(adv_x[~done]) :  194\n",
            "len(adv_x[~done]) :  194\n",
            "len(adv_x[~done]) :  194\n",
            "len(adv_x[~done]) :  194\n",
            "len(adv_x[~done]) :  194\n",
            "len(adv_x[~done]) :  194\n",
            "len(adv_x[~done]) :  194\n",
            "len(adv_x[~done]) :  194\n",
            "len(adv_x[~done]) :  194\n",
            "len(adv_x[~done]) :  194\n",
            "len(adv_x[~done]) :  194\n",
            "len(adv_x[~done]) :  194\n",
            "len(adv_x[~done]) :  194\n",
            "len(adv_x[~done]) :  194\n",
            "len(adv_x[~done]) :  194\n",
            "len(adv_x[~done]) :  194\n",
            "len(adv_x[~done]) :  194\n",
            "len(adv_x[~done]) :  194\n",
            "len(adv_x[~done]) :  194\n",
            "len(adv_x[~done]) :  194\n",
            "len(adv_x[~done]) :  194\n",
            "len(adv_x[~done]) :  194\n",
            "len(adv_x[~done]) :  194\n",
            "len(adv_x[~done]) :  194\n",
            "len(adv_x[~done]) :  194\n",
            "len(adv_x[~done]) :  194\n",
            "len(adv_x[~done]) :  194\n",
            "len(adv_x[~done]) :  194\n",
            "len(adv_x[~done]) :  194\n",
            "len(adv_x[~done]) :  194\n",
            "len(adv_x[~done]) :  194\n",
            "len(adv_x[~done]) :  194\n",
            "len(adv_x[~done]) :  194\n",
            "len(adv_x[~done]) :  194\n",
            "len(adv_x[~done]) :  194\n",
            "len(adv_x[~done]) :  194\n",
            "len(adv_x[~done]) :  194\n",
            "len(adv_x[~done]) :  194\n",
            "len(adv_x[~done]) :  194\n",
            "len(adv_x[~done]) :  194\n",
            "len(adv_x[~done]) :  194\n",
            "len(adv_x[~done]) :  194\n",
            "len(adv_x[~done]) :  194\n",
            "len(adv_x[~done]) :  194\n",
            "len(adv_x[~done]) :  194\n",
            "len(adv_x[~done]) :  194\n",
            "len(adv_x[~done]) :  194\n",
            "len(adv_x[~done]) :  194\n",
            "len(adv_x[~done]) :  194\n",
            "len(adv_x[~done]) :  194\n",
            "len(adv_x[~done]) :  194\n",
            "len(adv_x[~done]) :  194\n",
            "len(adv_x[~done]) :  194\n",
            "len(adv_x[~done]) :  194\n",
            "len(adv_x[~done]) :  194\n",
            "len(adv_x[~done]) :  194\n",
            "len(adv_x[~done]) :  194\n",
            "len(adv_x[~done]) :  194\n",
            "len(adv_x[~done]) :  194\n",
            "len(adv_x[~done]) :  194\n",
            "len(adv_x[~done]) :  194\n",
            "len(adv_x[~done]) :  194\n",
            "len(adv_x[~done]) :  194\n",
            "len(adv_x[~done]) :  194\n",
            "len(adv_x[~done]) :  194\n",
            "len(adv_x[~done]) :  194\n",
            "len(adv_x[~done]) :  194\n",
            "len(adv_x[~done]) :  194\n",
            "len(adv_x[~done]) :  194\n",
            "len(adv_x[~done]) :  194\n",
            "len(adv_x[~done]) :  194\n",
            "len(adv_x[~done]) :  194\n",
            "len(adv_x[~done]) :  194\n",
            "len(adv_x[~done]) :  194\n",
            "len(adv_x[~done]) :  194\n",
            "len(adv_x[~done]) :  194\n",
            "len(adv_x[~done]) :  194\n",
            "len(adv_x[~done]) :  194\n",
            "len(adv_x[~done]) :  177\n",
            "len(adv_x[~done]) :  161\n",
            "len(adv_x[~done]) :  136\n",
            "len(adv_x[~done]) :  109\n",
            "len(adv_x[~done]) :  86\n",
            "len(adv_x[~done]) :  62\n",
            "len(adv_x[~done]) :  49\n",
            "len(adv_x[~done]) :  39\n",
            "len(adv_x[~done]) :  32\n",
            "len(adv_x[~done]) :  31\n",
            "len(adv_x[~done]) :  31\n",
            "len(adv_x[~done]) :  31\n",
            "len(adv_x[~done]) :  31\n",
            "len(adv_x[~done]) :  31\n",
            "len(adv_x[~done]) :  31\n",
            "len(adv_x[~done]) :  31\n",
            "len(adv_x[~done]) :  31\n",
            "len(adv_x[~done]) :  31\n",
            "len(adv_x[~done]) :  31\n",
            "len(adv_x[~done]) :  31\n",
            "len(adv_x[~done]) :  31\n",
            "len(adv_x[~done]) :  31\n",
            "len(adv_x[~done]) :  31\n",
            "len(adv_x[~done]) :  31\n",
            "len(adv_x[~done]) :  31\n",
            "len(adv_x[~done]) :  31\n",
            "len(adv_x[~done]) :  31\n",
            "len(adv_x[~done]) :  31\n",
            "len(adv_x[~done]) :  31\n",
            "len(adv_x[~done]) :  31\n",
            "len(adv_x[~done]) :  28\n",
            "len(adv_x[~done]) :  23\n",
            "len(adv_x[~done]) :  23\n",
            "len(adv_x[~done]) :  23\n",
            "len(adv_x[~done]) :  22\n",
            "len(adv_x[~done]) :  22\n",
            "len(adv_x[~done]) :  21\n",
            "len(adv_x[~done]) :  21\n",
            "len(adv_x[~done]) :  20\n",
            "len(adv_x[~done]) :  20\n",
            "len(adv_x[~done]) :  20\n",
            "len(adv_x[~done]) :  20\n",
            "len(adv_x[~done]) :  20\n",
            "len(adv_x[~done]) :  20\n",
            "len(adv_x[~done]) :  20\n",
            "len(adv_x[~done]) :  20\n",
            "len(adv_x[~done]) :  19\n",
            "len(adv_x[~done]) :  19\n",
            "len(adv_x[~done]) :  19\n",
            "len(adv_x[~done]) :  19\n",
            "len(adv_x[~done]) :  19\n",
            "len(adv_x[~done]) :  19\n",
            "len(adv_x[~done]) :  19\n",
            "len(adv_x[~done]) :  19\n",
            "len(adv_x[~done]) :  19\n",
            "len(adv_x[~done]) :  19\n",
            "len(adv_x[~done]) :  18\n",
            "len(adv_x[~done]) :  18\n",
            "len(adv_x[~done]) :  17\n",
            "len(adv_x[~done]) :  17\n",
            "len(adv_x[~done]) :  15\n",
            "len(adv_x[~done]) :  15\n",
            "len(adv_x[~done]) :  15\n",
            "len(adv_x[~done]) :  15\n",
            "len(adv_x[~done]) :  15\n",
            "len(adv_x[~done]) :  15\n",
            "len(adv_x[~done]) :  14\n",
            "len(adv_x[~done]) :  14\n",
            "len(adv_x[~done]) :  14\n",
            "len(adv_x[~done]) :  14\n",
            "len(adv_x[~done]) :  14\n",
            "len(adv_x[~done]) :  14\n",
            "len(adv_x[~done]) :  14\n",
            "len(adv_x[~done]) :  12\n",
            "len(adv_x[~done]) :  12\n",
            "len(adv_x[~done]) :  12\n",
            "len(adv_x[~done]) :  12\n",
            "len(adv_x[~done]) :  11\n",
            "len(adv_x[~done]) :  11\n",
            "len(adv_x[~done]) :  7\n",
            "len(adv_x[~done]) :  5\n",
            "len(adv_x[~done]) :  5\n",
            "len(adv_x[~done]) :  4\n",
            "len(adv_x[~done]) :  3\n",
            "len(adv_x[~done]) :  3\n",
            "len(adv_x[~done]) :  3\n",
            "len(adv_x[~done]) :  3\n",
            "len(adv_x[~done]) :  3\n",
            "len(adv_x[~done]) :  3\n",
            "len(adv_x[~done]) :  3\n",
            "len(adv_x[~done]) :  3\n",
            "len(adv_x[~done]) :  3\n",
            "len(adv_x[~done]) :  3\n",
            "len(adv_x[~done]) :  3\n",
            "len(adv_x[~done]) :  3\n",
            "len(adv_x[~done]) :  3\n",
            "len(adv_x[~done]) :  3\n",
            "len(adv_x[~done]) :  3\n",
            "len(adv_x[~done]) :  3\n",
            "len(adv_x[~done]) :  3\n",
            "len(adv_x[~done]) :  3\n",
            "len(adv_x[~done]) :  3\n",
            "len(adv_x[~done]) :  3\n",
            "len(adv_x[~done]) :  2\n",
            "len(adv_x[~done]) :  2\n",
            "len(adv_x[~done]) :  2\n",
            "len(adv_x[~done]) :  2\n",
            "len(adv_x[~done]) :  1\n",
            "len(adv_x[~done]) :  1\n",
            "len(adv_x[~done]) :  1\n",
            "len(adv_x[~done]) :  1\n",
            "len(adv_x[~done]) :  1\n",
            "len(adv_x[~done]) :  1\n",
            "len(adv_x[~done]) :  1\n",
            "len(adv_x[~done]) :  1\n",
            "len(adv_x[~done]) :  1\n",
            "len(adv_x[~done]) :  1\n",
            "len(adv_x[~done]) :  1\n",
            "len(adv_x[~done]) :  1\n",
            "len(adv_x[~done]) :  1\n",
            "len(adv_x[~done]) :  1\n",
            "len(adv_x[~done]) :  1\n",
            "len(adv_x[~done]) :  1\n",
            "len(adv_x[~done]) :  1\n",
            "len(adv_x[~done]) :  1\n",
            "len(adv_x[~done]) :  1\n",
            "len(adv_x[~done]) :  1\n",
            "len(adv_x[~done]) :  1\n",
            "len(adv_x[~done]) :  1\n",
            "len(adv_x[~done]) :  1\n",
            "232\n",
            "step-wise max: attack effectiveness 100.000%.\n",
            "tensor(26.6289)\n",
            "tensor(29.6133)\n"
          ]
        }
      ]
    },
    {
      "cell_type": "code",
      "source": [
        "adv_x = StepwiseMax_onestep2(X, y, model,step_lengths={\"l1\": 1.0, \"l2\": 0.05, \"linf\": 0.0008},steps=650)\n",
        "print(X.sum()/batch_size)\n",
        "print(adv_x.sum()/batch_size)"
      ],
      "metadata": {
        "colab": {
          "base_uri": "https://localhost:8080/"
        },
        "id": "CfenIP-9Hoi4",
        "outputId": "3acce827-a280-4a93-8b1f-00a5063bf59f"
      },
      "execution_count": 122,
      "outputs": [
        {
          "output_type": "stream",
          "name": "stdout",
          "text": [
            "len(adv_x[~done]) :  255\n",
            "len(adv_x[~done]) :  244\n",
            "len(adv_x[~done]) :  140\n",
            "len(adv_x[~done]) :  43\n",
            "len(adv_x[~done]) :  19\n",
            "len(adv_x[~done]) :  12\n",
            "len(adv_x[~done]) :  9\n",
            "len(adv_x[~done]) :  8\n",
            "len(adv_x[~done]) :  7\n",
            "len(adv_x[~done]) :  7\n",
            "len(adv_x[~done]) :  6\n",
            "len(adv_x[~done]) :  6\n",
            "len(adv_x[~done]) :  3\n",
            "len(adv_x[~done]) :  2\n",
            "len(adv_x[~done]) :  2\n",
            "len(adv_x[~done]) :  1\n",
            "len(adv_x[~done]) :  1\n",
            "len(adv_x[~done]) :  1\n",
            "18\n",
            "step-wise max: attack effectiveness 100.000%.\n",
            "tensor(26.6289)\n",
            "tensor(29.4453)\n"
          ]
        }
      ]
    },
    {
      "cell_type": "code",
      "source": [],
      "metadata": {
        "id": "EQmtwslFHod8"
      },
      "execution_count": null,
      "outputs": []
    },
    {
      "cell_type": "code",
      "source": [
        "adv_x = StepwiseMax2(X, y, model,step_lengths={\"l1\": 1.0, \"l2\": 0.05, \"linf\": 0.0008},steps=650,is_attacker=True)\n",
        "print(X.sum()/batch_size)\n",
        "print(adv_x.sum()/batch_size)"
      ],
      "metadata": {
        "colab": {
          "base_uri": "https://localhost:8080/",
          "height": 1000
        },
        "id": "uZcruuuQCHcx",
        "outputId": "3b5d21c1-4c0e-4fcf-ed92-44d0cfc89a06"
      },
      "execution_count": 117,
      "outputs": [
        {
          "output_type": "stream",
          "name": "stdout",
          "text": [
            "Step check: 1\n",
            "len(adv_x[~done]) :  255\n",
            "len(adv_x[~done]) :  244\n",
            "len(adv_x[~done]) :  223\n",
            "len(adv_x[~done]) :  196\n",
            "len(adv_x[~done]) :  194\n",
            "len(adv_x[~done]) :  194\n",
            "len(adv_x[~done]) :  194\n",
            "len(adv_x[~done]) :  194\n",
            "len(adv_x[~done]) :  194\n",
            "len(adv_x[~done]) :  194\n",
            "len(adv_x[~done]) :  194\n",
            "len(adv_x[~done]) :  194\n",
            "len(adv_x[~done]) :  194\n",
            "len(adv_x[~done]) :  194\n",
            "len(adv_x[~done]) :  194\n",
            "len(adv_x[~done]) :  194\n",
            "len(adv_x[~done]) :  194\n",
            "len(adv_x[~done]) :  194\n",
            "len(adv_x[~done]) :  194\n",
            "len(adv_x[~done]) :  194\n",
            "len(adv_x[~done]) :  194\n",
            "len(adv_x[~done]) :  194\n",
            "len(adv_x[~done]) :  194\n",
            "len(adv_x[~done]) :  194\n",
            "len(adv_x[~done]) :  194\n",
            "len(adv_x[~done]) :  194\n",
            "len(adv_x[~done]) :  194\n",
            "len(adv_x[~done]) :  194\n",
            "len(adv_x[~done]) :  194\n",
            "len(adv_x[~done]) :  194\n",
            "len(adv_x[~done]) :  194\n",
            "len(adv_x[~done]) :  194\n",
            "len(adv_x[~done]) :  194\n",
            "len(adv_x[~done]) :  194\n",
            "len(adv_x[~done]) :  194\n",
            "len(adv_x[~done]) :  194\n",
            "len(adv_x[~done]) :  194\n",
            "len(adv_x[~done]) :  194\n",
            "len(adv_x[~done]) :  194\n",
            "len(adv_x[~done]) :  194\n",
            "len(adv_x[~done]) :  194\n",
            "len(adv_x[~done]) :  194\n",
            "len(adv_x[~done]) :  194\n",
            "len(adv_x[~done]) :  194\n",
            "len(adv_x[~done]) :  194\n",
            "len(adv_x[~done]) :  194\n",
            "len(adv_x[~done]) :  194\n",
            "len(adv_x[~done]) :  194\n",
            "len(adv_x[~done]) :  194\n",
            "len(adv_x[~done]) :  194\n",
            "len(adv_x[~done]) :  194\n",
            "len(adv_x[~done]) :  194\n",
            "len(adv_x[~done]) :  194\n",
            "len(adv_x[~done]) :  194\n",
            "len(adv_x[~done]) :  194\n",
            "len(adv_x[~done]) :  194\n",
            "len(adv_x[~done]) :  194\n"
          ]
        },
        {
          "output_type": "error",
          "ename": "KeyboardInterrupt",
          "evalue": "",
          "traceback": [
            "\u001b[0;31m---------------------------------------------------------------------------\u001b[0m",
            "\u001b[0;31mKeyboardInterrupt\u001b[0m                         Traceback (most recent call last)",
            "\u001b[0;32m<ipython-input-117-ece6ea1c2f55>\u001b[0m in \u001b[0;36m<cell line: 1>\u001b[0;34m()\u001b[0m\n\u001b[0;32m----> 1\u001b[0;31m \u001b[0madv_x\u001b[0m \u001b[0;34m=\u001b[0m \u001b[0mStepwiseMax2\u001b[0m\u001b[0;34m(\u001b[0m\u001b[0mX\u001b[0m\u001b[0;34m,\u001b[0m \u001b[0my\u001b[0m\u001b[0;34m,\u001b[0m \u001b[0mmodel\u001b[0m\u001b[0;34m,\u001b[0m\u001b[0mstep_lengths\u001b[0m\u001b[0;34m=\u001b[0m\u001b[0;34m{\u001b[0m\u001b[0;34m\"l1\"\u001b[0m\u001b[0;34m:\u001b[0m \u001b[0;36m1.0\u001b[0m\u001b[0;34m,\u001b[0m \u001b[0;34m\"l2\"\u001b[0m\u001b[0;34m:\u001b[0m \u001b[0;36m0.05\u001b[0m\u001b[0;34m,\u001b[0m \u001b[0;34m\"linf\"\u001b[0m\u001b[0;34m:\u001b[0m \u001b[0;36m0.0008\u001b[0m\u001b[0;34m}\u001b[0m\u001b[0;34m,\u001b[0m\u001b[0msteps\u001b[0m\u001b[0;34m=\u001b[0m\u001b[0;36m650\u001b[0m\u001b[0;34m,\u001b[0m\u001b[0mis_attacker\u001b[0m\u001b[0;34m=\u001b[0m\u001b[0;32mTrue\u001b[0m\u001b[0;34m)\u001b[0m\u001b[0;34m\u001b[0m\u001b[0;34m\u001b[0m\u001b[0m\n\u001b[0m\u001b[1;32m      2\u001b[0m \u001b[0mprint\u001b[0m\u001b[0;34m(\u001b[0m\u001b[0mX\u001b[0m\u001b[0;34m.\u001b[0m\u001b[0msum\u001b[0m\u001b[0;34m(\u001b[0m\u001b[0;34m)\u001b[0m\u001b[0;34m/\u001b[0m\u001b[0mbatch_size\u001b[0m\u001b[0;34m)\u001b[0m\u001b[0;34m\u001b[0m\u001b[0;34m\u001b[0m\u001b[0m\n\u001b[1;32m      3\u001b[0m \u001b[0mprint\u001b[0m\u001b[0;34m(\u001b[0m\u001b[0madv_x\u001b[0m\u001b[0;34m.\u001b[0m\u001b[0msum\u001b[0m\u001b[0;34m(\u001b[0m\u001b[0;34m)\u001b[0m\u001b[0;34m/\u001b[0m\u001b[0mbatch_size\u001b[0m\u001b[0;34m)\u001b[0m\u001b[0;34m\u001b[0m\u001b[0;34m\u001b[0m\u001b[0m\n",
            "\u001b[0;32m<ipython-input-114-be08e9600f72>\u001b[0m in \u001b[0;36mStepwiseMax2\u001b[0;34m(x, label, model, attack_list, step_lengths, steps, step_check, random_start, round_threshold, is_attacker, is_score_round)\u001b[0m\n\u001b[1;32m     68\u001b[0m       \u001b[0;32mfor\u001b[0m \u001b[0mnorm\u001b[0m \u001b[0;32min\u001b[0m \u001b[0mattack_list\u001b[0m\u001b[0;34m:\u001b[0m\u001b[0;34m\u001b[0m\u001b[0;34m\u001b[0m\u001b[0m\n\u001b[1;32m     69\u001b[0m           \u001b[0mstep_length\u001b[0m \u001b[0;34m=\u001b[0m \u001b[0mstep_lengths\u001b[0m\u001b[0;34m.\u001b[0m\u001b[0mget\u001b[0m\u001b[0;34m(\u001b[0m\u001b[0mnorm\u001b[0m\u001b[0;34m,\u001b[0m \u001b[0mstep_lengths\u001b[0m\u001b[0;34m[\u001b[0m\u001b[0;34m\"l1\"\u001b[0m\u001b[0;34m]\u001b[0m\u001b[0;34m)\u001b[0m\u001b[0;34m\u001b[0m\u001b[0;34m\u001b[0m\u001b[0m\n\u001b[0;32m---> 70\u001b[0;31m           \u001b[0mperturbation\u001b[0m \u001b[0;34m=\u001b[0m \u001b[0mpgd_step\u001b[0m\u001b[0;34m(\u001b[0m\u001b[0madv_x\u001b[0m\u001b[0;34m[\u001b[0m\u001b[0;34m~\u001b[0m\u001b[0mdone\u001b[0m\u001b[0;34m]\u001b[0m\u001b[0;34m,\u001b[0m \u001b[0mlabel\u001b[0m\u001b[0;34m[\u001b[0m\u001b[0;34m~\u001b[0m\u001b[0mdone\u001b[0m\u001b[0;34m]\u001b[0m\u001b[0;34m,\u001b[0m \u001b[0mmodel\u001b[0m\u001b[0;34m,\u001b[0m \u001b[0mnorm\u001b[0m\u001b[0;34m,\u001b[0m \u001b[0mmini_step\u001b[0m\u001b[0;34m,\u001b[0m \u001b[0mstep_length\u001b[0m\u001b[0;34m)\u001b[0m\u001b[0;34m\u001b[0m\u001b[0;34m\u001b[0m\u001b[0m\n\u001b[0m\u001b[1;32m     71\u001b[0m           \u001b[0;31m#print(\"the number of added features(not rounded) \", norm,\": \", perturbation.sum()/len(adv_x[~done]) - adv_x[~done].sum()/len(adv_x[~done]))\u001b[0m\u001b[0;34m\u001b[0m\u001b[0;34m\u001b[0m\u001b[0m\n\u001b[1;32m     72\u001b[0m           \u001b[0;31m#print(\"the number of added features(rounded) \", norm,\" : \",(round_x(perturbation, round_threshold).sum() - round_x(adv_x[~done], round_threshold).sum())/len(adv_x[~done]))\u001b[0m\u001b[0;34m\u001b[0m\u001b[0;34m\u001b[0m\u001b[0m\n",
            "\u001b[0;32m<ipython-input-74-1911e6a43960>\u001b[0m in \u001b[0;36mpgd_step\u001b[0;34m(x, y, model, norm, k, step_length)\u001b[0m\n\u001b[1;32m     25\u001b[0m \u001b[0;34m\u001b[0m\u001b[0m\n\u001b[1;32m     26\u001b[0m         \u001b[0;31m# Compute gradient\u001b[0m\u001b[0;34m\u001b[0m\u001b[0;34m\u001b[0m\u001b[0m\n\u001b[0;32m---> 27\u001b[0;31m         \u001b[0mgrad_vars\u001b[0m \u001b[0;34m=\u001b[0m \u001b[0mtorch\u001b[0m\u001b[0;34m.\u001b[0m\u001b[0mautograd\u001b[0m\u001b[0;34m.\u001b[0m\u001b[0mgrad\u001b[0m\u001b[0;34m(\u001b[0m\u001b[0mloss\u001b[0m\u001b[0;34m.\u001b[0m\u001b[0mmean\u001b[0m\u001b[0;34m(\u001b[0m\u001b[0;34m)\u001b[0m\u001b[0;34m,\u001b[0m \u001b[0mx_var\u001b[0m\u001b[0;34m)\u001b[0m\u001b[0;34m\u001b[0m\u001b[0;34m\u001b[0m\u001b[0m\n\u001b[0m\u001b[1;32m     28\u001b[0m         \u001b[0mgrad_data\u001b[0m \u001b[0;34m=\u001b[0m \u001b[0mgrad_vars\u001b[0m\u001b[0;34m[\u001b[0m\u001b[0;36m0\u001b[0m\u001b[0;34m]\u001b[0m\u001b[0;34m.\u001b[0m\u001b[0mdata\u001b[0m\u001b[0;34m\u001b[0m\u001b[0;34m\u001b[0m\u001b[0m\n\u001b[1;32m     29\u001b[0m         \u001b[0mgradients\u001b[0m \u001b[0;34m=\u001b[0m \u001b[0mgrad_data\u001b[0m \u001b[0;34m*\u001b[0m \u001b[0;34m(\u001b[0m\u001b[0mgrad_data\u001b[0m \u001b[0;34m>\u001b[0m \u001b[0;36m0\u001b[0m\u001b[0;34m)\u001b[0m\u001b[0;34m\u001b[0m\u001b[0;34m\u001b[0m\u001b[0m\n",
            "\u001b[0;32m/usr/local/lib/python3.10/dist-packages/torch/autograd/__init__.py\u001b[0m in \u001b[0;36mgrad\u001b[0;34m(outputs, inputs, grad_outputs, retain_graph, create_graph, only_inputs, allow_unused, is_grads_batched, materialize_grads)\u001b[0m\n\u001b[1;32m    392\u001b[0m         )\n\u001b[1;32m    393\u001b[0m     \u001b[0;32melse\u001b[0m\u001b[0;34m:\u001b[0m\u001b[0;34m\u001b[0m\u001b[0;34m\u001b[0m\u001b[0m\n\u001b[0;32m--> 394\u001b[0;31m         result = Variable._execution_engine.run_backward(  # Calls into the C++ engine to run the backward pass\n\u001b[0m\u001b[1;32m    395\u001b[0m             \u001b[0mt_outputs\u001b[0m\u001b[0;34m,\u001b[0m\u001b[0;34m\u001b[0m\u001b[0;34m\u001b[0m\u001b[0m\n\u001b[1;32m    396\u001b[0m             \u001b[0mgrad_outputs_\u001b[0m\u001b[0;34m,\u001b[0m\u001b[0;34m\u001b[0m\u001b[0;34m\u001b[0m\u001b[0m\n",
            "\u001b[0;31mKeyboardInterrupt\u001b[0m: "
          ]
        }
      ]
    },
    {
      "cell_type": "code",
      "source": [
        "adv_x = StepwiseMax2(X, y, model,step_lengths={\"l1\": 1.0, \"l2\": 0.05, \"linf\": 0.002},steps=500,is_attacker=True)\n",
        "print(X.sum()/batch_size)\n",
        "print(adv_x.sum()/batch_size)"
      ],
      "metadata": {
        "colab": {
          "base_uri": "https://localhost:8080/",
          "height": 1000
        },
        "id": "3pK215-4nvWf",
        "outputId": "83a3b8d7-b673-4e20-9cc5-5430b7ab40da"
      },
      "execution_count": 73,
      "outputs": [
        {
          "output_type": "stream",
          "name": "stdout",
          "text": [
            "Step check: 1\n",
            "len(adv_x[~done]) :  255\n",
            "the number of added features(not rounded)  linf :  tensor(9.4593)\n",
            "the number of added features(not rounded)  l2 :  tensor(3.1332)\n",
            "the number of added features(not rounded)  l1 :  tensor(1.)\n",
            "len(adv_x[~done]) :  244\n",
            "the number of added features(not rounded)  linf :  tensor(9.7041)\n",
            "the number of added features(not rounded)  l2 :  tensor(1.4262)\n",
            "the number of added features(not rounded)  l1 :  tensor(0.8958)\n",
            "len(adv_x[~done]) :  242\n",
            "the number of added features(not rounded)  linf :  tensor(10.0053)\n",
            "the number of added features(not rounded)  l2 :  tensor(1.7527)\n",
            "the number of added features(not rounded)  l1 :  tensor(0.2634)\n",
            "len(adv_x[~done]) :  242\n",
            "the number of added features(not rounded)  linf :  tensor(10.4099)\n",
            "the number of added features(not rounded)  l2 :  tensor(2.0865)\n",
            "the number of added features(not rounded)  l1 :  tensor(0.0534)\n",
            "len(adv_x[~done]) :  242\n",
            "the number of added features(not rounded)  linf :  tensor(10.7162)\n",
            "the number of added features(not rounded)  l2 :  tensor(2.2749)\n",
            "the number of added features(not rounded)  l1 :  tensor(0.0328)\n",
            "len(adv_x[~done]) :  242\n",
            "the number of added features(not rounded)  linf :  tensor(10.9020)\n",
            "the number of added features(not rounded)  l2 :  tensor(2.3662)\n",
            "the number of added features(not rounded)  l1 :  tensor(0.0041)\n",
            "len(adv_x[~done]) :  242\n",
            "the number of added features(not rounded)  linf :  tensor(11.0358)\n",
            "the number of added features(not rounded)  l2 :  tensor(2.4169)\n",
            "the number of added features(not rounded)  l1 :  tensor(0.)\n",
            "len(adv_x[~done]) :  242\n",
            "the number of added features(not rounded)  linf :  tensor(11.1051)\n",
            "the number of added features(not rounded)  l2 :  tensor(2.4426)\n",
            "the number of added features(not rounded)  l1 :  tensor(0.)\n",
            "len(adv_x[~done]) :  242\n",
            "the number of added features(not rounded)  linf :  tensor(11.1486)\n",
            "the number of added features(not rounded)  l2 :  tensor(2.4578)\n",
            "the number of added features(not rounded)  l1 :  tensor(0.)\n",
            "len(adv_x[~done]) :  242\n",
            "the number of added features(not rounded)  linf :  tensor(11.1929)\n",
            "the number of added features(not rounded)  l2 :  tensor(2.4698)\n",
            "the number of added features(not rounded)  l1 :  tensor(0.)\n",
            "len(adv_x[~done]) :  242\n",
            "the number of added features(not rounded)  linf :  tensor(11.2144)\n",
            "the number of added features(not rounded)  l2 :  tensor(2.4755)\n",
            "the number of added features(not rounded)  l1 :  tensor(0.)\n",
            "len(adv_x[~done]) :  242\n",
            "the number of added features(not rounded)  linf :  tensor(11.2389)\n",
            "the number of added features(not rounded)  l2 :  tensor(2.4803)\n",
            "the number of added features(not rounded)  l1 :  tensor(0.)\n",
            "len(adv_x[~done]) :  242\n",
            "the number of added features(not rounded)  linf :  tensor(11.2502)\n",
            "the number of added features(not rounded)  l2 :  tensor(2.4819)\n",
            "the number of added features(not rounded)  l1 :  tensor(0.)\n",
            "len(adv_x[~done]) :  242\n",
            "the number of added features(not rounded)  linf :  tensor(11.2605)\n",
            "the number of added features(not rounded)  l2 :  tensor(2.4829)\n",
            "the number of added features(not rounded)  l1 :  tensor(0.)\n",
            "len(adv_x[~done]) :  242\n",
            "the number of added features(not rounded)  linf :  tensor(11.2563)\n",
            "the number of added features(not rounded)  l2 :  tensor(2.4810)\n",
            "the number of added features(not rounded)  l1 :  tensor(0.)\n",
            "len(adv_x[~done]) :  242\n",
            "the number of added features(not rounded)  linf :  tensor(11.2643)\n",
            "the number of added features(not rounded)  l2 :  tensor(2.4813)\n",
            "the number of added features(not rounded)  l1 :  tensor(0.)\n",
            "len(adv_x[~done]) :  242\n",
            "the number of added features(not rounded)  linf :  tensor(11.2655)\n",
            "the number of added features(not rounded)  l2 :  tensor(2.4806)\n",
            "the number of added features(not rounded)  l1 :  tensor(0.)\n",
            "len(adv_x[~done]) :  242\n",
            "the number of added features(not rounded)  linf :  tensor(11.2668)\n",
            "the number of added features(not rounded)  l2 :  tensor(2.4794)\n",
            "the number of added features(not rounded)  l1 :  tensor(0.)\n",
            "len(adv_x[~done]) :  242\n",
            "the number of added features(not rounded)  linf :  tensor(11.2711)\n",
            "the number of added features(not rounded)  l2 :  tensor(2.4799)\n",
            "the number of added features(not rounded)  l1 :  tensor(0.)\n",
            "len(adv_x[~done]) :  242\n",
            "the number of added features(not rounded)  linf :  tensor(11.2723)\n",
            "the number of added features(not rounded)  l2 :  tensor(2.4794)\n",
            "the number of added features(not rounded)  l1 :  tensor(0.)\n",
            "len(adv_x[~done]) :  242\n",
            "the number of added features(not rounded)  linf :  tensor(11.2664)\n",
            "the number of added features(not rounded)  l2 :  tensor(2.4776)\n",
            "the number of added features(not rounded)  l1 :  tensor(0.)\n",
            "len(adv_x[~done]) :  242\n",
            "the number of added features(not rounded)  linf :  tensor(11.2881)\n",
            "the number of added features(not rounded)  l2 :  tensor(2.4827)\n",
            "the number of added features(not rounded)  l1 :  tensor(0.)\n",
            "len(adv_x[~done]) :  242\n",
            "the number of added features(not rounded)  linf :  tensor(11.2557)\n",
            "the number of added features(not rounded)  l2 :  tensor(2.4743)\n",
            "the number of added features(not rounded)  l1 :  tensor(0.)\n",
            "len(adv_x[~done]) :  242\n",
            "the number of added features(not rounded)  linf :  tensor(11.2713)\n",
            "the number of added features(not rounded)  l2 :  tensor(2.4781)\n",
            "the number of added features(not rounded)  l1 :  tensor(0.)\n",
            "len(adv_x[~done]) :  242\n",
            "the number of added features(not rounded)  linf :  tensor(11.2522)\n",
            "the number of added features(not rounded)  l2 :  tensor(2.4724)\n",
            "the number of added features(not rounded)  l1 :  tensor(0.)\n",
            "len(adv_x[~done]) :  242\n",
            "the number of added features(not rounded)  linf :  tensor(11.2627)\n",
            "the number of added features(not rounded)  l2 :  tensor(2.4753)\n",
            "the number of added features(not rounded)  l1 :  tensor(0.)\n",
            "len(adv_x[~done]) :  242\n",
            "the number of added features(not rounded)  linf :  tensor(11.2461)\n",
            "the number of added features(not rounded)  l2 :  tensor(2.4710)\n",
            "the number of added features(not rounded)  l1 :  tensor(0.)\n",
            "len(adv_x[~done]) :  242\n",
            "the number of added features(not rounded)  linf :  tensor(11.2519)\n",
            "the number of added features(not rounded)  l2 :  tensor(2.4719)\n",
            "the number of added features(not rounded)  l1 :  tensor(0.)\n",
            "len(adv_x[~done]) :  242\n",
            "the number of added features(not rounded)  linf :  tensor(11.2500)\n",
            "the number of added features(not rounded)  l2 :  tensor(2.4716)\n",
            "the number of added features(not rounded)  l1 :  tensor(0.)\n",
            "len(adv_x[~done]) :  242\n",
            "the number of added features(not rounded)  linf :  tensor(11.2409)\n",
            "the number of added features(not rounded)  l2 :  tensor(2.4691)\n",
            "the number of added features(not rounded)  l1 :  tensor(0.)\n",
            "len(adv_x[~done]) :  242\n",
            "the number of added features(not rounded)  linf :  tensor(11.2308)\n",
            "the number of added features(not rounded)  l2 :  tensor(2.4664)\n",
            "the number of added features(not rounded)  l1 :  tensor(0.)\n",
            "len(adv_x[~done]) :  242\n",
            "the number of added features(not rounded)  linf :  tensor(11.2378)\n",
            "the number of added features(not rounded)  l2 :  tensor(2.4676)\n",
            "the number of added features(not rounded)  l1 :  tensor(0.)\n",
            "len(adv_x[~done]) :  242\n",
            "the number of added features(not rounded)  linf :  tensor(11.2252)\n",
            "the number of added features(not rounded)  l2 :  tensor(2.4639)\n",
            "the number of added features(not rounded)  l1 :  tensor(0.)\n",
            "len(adv_x[~done]) :  242\n",
            "the number of added features(not rounded)  linf :  tensor(11.2258)\n",
            "the number of added features(not rounded)  l2 :  tensor(2.4641)\n",
            "the number of added features(not rounded)  l1 :  tensor(0.)\n",
            "len(adv_x[~done]) :  242\n",
            "the number of added features(not rounded)  linf :  tensor(11.2274)\n",
            "the number of added features(not rounded)  l2 :  tensor(2.4646)\n",
            "the number of added features(not rounded)  l1 :  tensor(0.)\n",
            "len(adv_x[~done]) :  242\n",
            "the number of added features(not rounded)  linf :  tensor(11.2201)\n",
            "the number of added features(not rounded)  l2 :  tensor(2.4626)\n",
            "the number of added features(not rounded)  l1 :  tensor(0.)\n",
            "len(adv_x[~done]) :  242\n",
            "the number of added features(not rounded)  linf :  tensor(11.2143)\n",
            "the number of added features(not rounded)  l2 :  tensor(2.4611)\n",
            "the number of added features(not rounded)  l1 :  tensor(0.)\n",
            "len(adv_x[~done]) :  242\n",
            "the number of added features(not rounded)  linf :  tensor(11.2111)\n",
            "the number of added features(not rounded)  l2 :  tensor(2.4601)\n",
            "the number of added features(not rounded)  l1 :  tensor(0.)\n",
            "len(adv_x[~done]) :  242\n",
            "the number of added features(not rounded)  linf :  tensor(11.2056)\n",
            "the number of added features(not rounded)  l2 :  tensor(2.4582)\n",
            "the number of added features(not rounded)  l1 :  tensor(0.)\n",
            "len(adv_x[~done]) :  242\n",
            "the number of added features(not rounded)  linf :  tensor(11.2105)\n",
            "the number of added features(not rounded)  l2 :  tensor(2.4594)\n",
            "the number of added features(not rounded)  l1 :  tensor(0.)\n",
            "len(adv_x[~done]) :  242\n",
            "the number of added features(not rounded)  linf :  tensor(11.2016)\n",
            "the number of added features(not rounded)  l2 :  tensor(2.4571)\n",
            "the number of added features(not rounded)  l1 :  tensor(0.)\n",
            "len(adv_x[~done]) :  242\n",
            "the number of added features(not rounded)  linf :  tensor(11.2116)\n",
            "the number of added features(not rounded)  l2 :  tensor(2.4592)\n",
            "the number of added features(not rounded)  l1 :  tensor(0.)\n",
            "len(adv_x[~done]) :  242\n",
            "the number of added features(not rounded)  linf :  tensor(11.1923)\n",
            "the number of added features(not rounded)  l2 :  tensor(2.4545)\n",
            "the number of added features(not rounded)  l1 :  tensor(0.)\n",
            "len(adv_x[~done]) :  242\n",
            "the number of added features(not rounded)  linf :  tensor(11.1990)\n",
            "the number of added features(not rounded)  l2 :  tensor(2.4557)\n",
            "the number of added features(not rounded)  l1 :  tensor(0.)\n",
            "len(adv_x[~done]) :  242\n",
            "the number of added features(not rounded)  linf :  tensor(11.2020)\n",
            "the number of added features(not rounded)  l2 :  tensor(2.4564)\n",
            "the number of added features(not rounded)  l1 :  tensor(0.)\n",
            "len(adv_x[~done]) :  242\n",
            "the number of added features(not rounded)  linf :  tensor(11.1898)\n",
            "the number of added features(not rounded)  l2 :  tensor(2.4531)\n",
            "the number of added features(not rounded)  l1 :  tensor(0.)\n",
            "len(adv_x[~done]) :  242\n",
            "the number of added features(not rounded)  linf :  tensor(11.1857)\n",
            "the number of added features(not rounded)  l2 :  tensor(2.4523)\n",
            "the number of added features(not rounded)  l1 :  tensor(0.)\n",
            "len(adv_x[~done]) :  242\n",
            "the number of added features(not rounded)  linf :  tensor(11.1899)\n",
            "the number of added features(not rounded)  l2 :  tensor(2.4526)\n",
            "the number of added features(not rounded)  l1 :  tensor(0.)\n",
            "len(adv_x[~done]) :  242\n",
            "the number of added features(not rounded)  linf :  tensor(11.1976)\n",
            "the number of added features(not rounded)  l2 :  tensor(2.4548)\n",
            "the number of added features(not rounded)  l1 :  tensor(0.)\n",
            "len(adv_x[~done]) :  242\n",
            "the number of added features(not rounded)  linf :  tensor(11.1730)\n",
            "the number of added features(not rounded)  l2 :  tensor(2.4480)\n"
          ]
        },
        {
          "output_type": "error",
          "ename": "KeyboardInterrupt",
          "evalue": "",
          "traceback": [
            "\u001b[0;31m---------------------------------------------------------------------------\u001b[0m",
            "\u001b[0;31mKeyboardInterrupt\u001b[0m                         Traceback (most recent call last)",
            "\u001b[0;32m<ipython-input-73-3d4233f4c28d>\u001b[0m in \u001b[0;36m<cell line: 1>\u001b[0;34m()\u001b[0m\n\u001b[0;32m----> 1\u001b[0;31m \u001b[0madv_x\u001b[0m \u001b[0;34m=\u001b[0m \u001b[0mStepwiseMax2\u001b[0m\u001b[0;34m(\u001b[0m\u001b[0mX\u001b[0m\u001b[0;34m,\u001b[0m \u001b[0my\u001b[0m\u001b[0;34m,\u001b[0m \u001b[0mmodel\u001b[0m\u001b[0;34m,\u001b[0m\u001b[0mstep_lengths\u001b[0m\u001b[0;34m=\u001b[0m\u001b[0;34m{\u001b[0m\u001b[0;34m\"l1\"\u001b[0m\u001b[0;34m:\u001b[0m \u001b[0;36m1.0\u001b[0m\u001b[0;34m,\u001b[0m \u001b[0;34m\"l2\"\u001b[0m\u001b[0;34m:\u001b[0m \u001b[0;36m0.05\u001b[0m\u001b[0;34m,\u001b[0m \u001b[0;34m\"linf\"\u001b[0m\u001b[0;34m:\u001b[0m \u001b[0;36m0.002\u001b[0m\u001b[0;34m}\u001b[0m\u001b[0;34m,\u001b[0m\u001b[0msteps\u001b[0m\u001b[0;34m=\u001b[0m\u001b[0;36m500\u001b[0m\u001b[0;34m,\u001b[0m\u001b[0mis_attacker\u001b[0m\u001b[0;34m=\u001b[0m\u001b[0;32mTrue\u001b[0m\u001b[0;34m)\u001b[0m\u001b[0;34m\u001b[0m\u001b[0;34m\u001b[0m\u001b[0m\n\u001b[0m\u001b[1;32m      2\u001b[0m \u001b[0mprint\u001b[0m\u001b[0;34m(\u001b[0m\u001b[0mX\u001b[0m\u001b[0;34m.\u001b[0m\u001b[0msum\u001b[0m\u001b[0;34m(\u001b[0m\u001b[0;34m)\u001b[0m\u001b[0;34m/\u001b[0m\u001b[0mbatch_size\u001b[0m\u001b[0;34m)\u001b[0m\u001b[0;34m\u001b[0m\u001b[0;34m\u001b[0m\u001b[0m\n\u001b[1;32m      3\u001b[0m \u001b[0mprint\u001b[0m\u001b[0;34m(\u001b[0m\u001b[0madv_x\u001b[0m\u001b[0;34m.\u001b[0m\u001b[0msum\u001b[0m\u001b[0;34m(\u001b[0m\u001b[0;34m)\u001b[0m\u001b[0;34m/\u001b[0m\u001b[0mbatch_size\u001b[0m\u001b[0;34m)\u001b[0m\u001b[0;34m\u001b[0m\u001b[0;34m\u001b[0m\u001b[0m\n",
            "\u001b[0;32m<ipython-input-63-f707013c4a88>\u001b[0m in \u001b[0;36mStepwiseMax2\u001b[0;34m(x, label, model, attack_list, step_lengths, steps, step_check, random_start, round_threshold, is_attacker, is_score_round)\u001b[0m\n\u001b[1;32m     68\u001b[0m       \u001b[0;32mfor\u001b[0m \u001b[0mnorm\u001b[0m \u001b[0;32min\u001b[0m \u001b[0mattack_list\u001b[0m\u001b[0;34m:\u001b[0m\u001b[0;34m\u001b[0m\u001b[0;34m\u001b[0m\u001b[0m\n\u001b[1;32m     69\u001b[0m           \u001b[0mstep_length\u001b[0m \u001b[0;34m=\u001b[0m \u001b[0mstep_lengths\u001b[0m\u001b[0;34m.\u001b[0m\u001b[0mget\u001b[0m\u001b[0;34m(\u001b[0m\u001b[0mnorm\u001b[0m\u001b[0;34m,\u001b[0m \u001b[0mstep_lengths\u001b[0m\u001b[0;34m[\u001b[0m\u001b[0;34m\"l1\"\u001b[0m\u001b[0;34m]\u001b[0m\u001b[0;34m)\u001b[0m\u001b[0;34m\u001b[0m\u001b[0;34m\u001b[0m\u001b[0m\n\u001b[0;32m---> 70\u001b[0;31m           \u001b[0mperturbation\u001b[0m \u001b[0;34m=\u001b[0m \u001b[0mpgd_step\u001b[0m\u001b[0;34m(\u001b[0m\u001b[0madv_x\u001b[0m\u001b[0;34m[\u001b[0m\u001b[0;34m~\u001b[0m\u001b[0mdone\u001b[0m\u001b[0;34m]\u001b[0m\u001b[0;34m,\u001b[0m \u001b[0mlabel\u001b[0m\u001b[0;34m[\u001b[0m\u001b[0;34m~\u001b[0m\u001b[0mdone\u001b[0m\u001b[0;34m]\u001b[0m\u001b[0;34m,\u001b[0m \u001b[0mmodel\u001b[0m\u001b[0;34m,\u001b[0m \u001b[0mnorm\u001b[0m\u001b[0;34m,\u001b[0m \u001b[0mmini_step\u001b[0m\u001b[0;34m,\u001b[0m \u001b[0mstep_length\u001b[0m\u001b[0;34m)\u001b[0m\u001b[0;34m\u001b[0m\u001b[0;34m\u001b[0m\u001b[0m\n\u001b[0m\u001b[1;32m     71\u001b[0m           \u001b[0mprint\u001b[0m\u001b[0;34m(\u001b[0m\u001b[0;34m\"the number of added features(not rounded) \"\u001b[0m\u001b[0;34m,\u001b[0m \u001b[0mnorm\u001b[0m\u001b[0;34m,\u001b[0m\u001b[0;34m\": \"\u001b[0m\u001b[0;34m,\u001b[0m \u001b[0mperturbation\u001b[0m\u001b[0;34m.\u001b[0m\u001b[0msum\u001b[0m\u001b[0;34m(\u001b[0m\u001b[0;34m)\u001b[0m\u001b[0;34m/\u001b[0m\u001b[0mlen\u001b[0m\u001b[0;34m(\u001b[0m\u001b[0madv_x\u001b[0m\u001b[0;34m[\u001b[0m\u001b[0;34m~\u001b[0m\u001b[0mdone\u001b[0m\u001b[0;34m]\u001b[0m\u001b[0;34m)\u001b[0m \u001b[0;34m-\u001b[0m \u001b[0madv_x\u001b[0m\u001b[0;34m[\u001b[0m\u001b[0;34m~\u001b[0m\u001b[0mdone\u001b[0m\u001b[0;34m]\u001b[0m\u001b[0;34m.\u001b[0m\u001b[0msum\u001b[0m\u001b[0;34m(\u001b[0m\u001b[0;34m)\u001b[0m\u001b[0;34m/\u001b[0m\u001b[0mlen\u001b[0m\u001b[0;34m(\u001b[0m\u001b[0madv_x\u001b[0m\u001b[0;34m[\u001b[0m\u001b[0;34m~\u001b[0m\u001b[0mdone\u001b[0m\u001b[0;34m]\u001b[0m\u001b[0;34m)\u001b[0m\u001b[0;34m)\u001b[0m\u001b[0;34m\u001b[0m\u001b[0;34m\u001b[0m\u001b[0m\n\u001b[1;32m     72\u001b[0m           \u001b[0;31m#print(\"the number of added features(rounded) \", norm,\" : \",(round_x(perturbation, round_threshold).sum() - round_x(adv_x[~done], round_threshold).sum())/len(adv_x[~done]))\u001b[0m\u001b[0;34m\u001b[0m\u001b[0;34m\u001b[0m\u001b[0m\n",
            "\u001b[0;32m<ipython-input-14-ea08296b688a>\u001b[0m in \u001b[0;36mpgd_step\u001b[0;34m(x, y, model, norm, k, step_length)\u001b[0m\n\u001b[1;32m     21\u001b[0m         \u001b[0;31m# Forward pass\u001b[0m\u001b[0;34m\u001b[0m\u001b[0;34m\u001b[0m\u001b[0m\n\u001b[1;32m     22\u001b[0m         \u001b[0mx_var\u001b[0m \u001b[0;34m=\u001b[0m \u001b[0mx_next\u001b[0m\u001b[0;34m.\u001b[0m\u001b[0mclone\u001b[0m\u001b[0;34m(\u001b[0m\u001b[0;34m)\u001b[0m\u001b[0;34m.\u001b[0m\u001b[0mdetach\u001b[0m\u001b[0;34m(\u001b[0m\u001b[0;34m)\u001b[0m\u001b[0;34m.\u001b[0m\u001b[0mrequires_grad_\u001b[0m\u001b[0;34m(\u001b[0m\u001b[0;32mTrue\u001b[0m\u001b[0;34m)\u001b[0m\u001b[0;34m\u001b[0m\u001b[0;34m\u001b[0m\u001b[0m\n\u001b[0;32m---> 23\u001b[0;31m         \u001b[0my_model\u001b[0m \u001b[0;34m=\u001b[0m \u001b[0mmodel\u001b[0m\u001b[0;34m(\u001b[0m\u001b[0mx_var\u001b[0m\u001b[0;34m)\u001b[0m\u001b[0;34m\u001b[0m\u001b[0;34m\u001b[0m\u001b[0m\n\u001b[0m\u001b[1;32m     24\u001b[0m         \u001b[0mloss\u001b[0m \u001b[0;34m=\u001b[0m \u001b[0mcriterion\u001b[0m\u001b[0;34m(\u001b[0m\u001b[0my_model\u001b[0m\u001b[0;34m,\u001b[0m \u001b[0my\u001b[0m\u001b[0;34m.\u001b[0m\u001b[0mview\u001b[0m\u001b[0;34m(\u001b[0m\u001b[0;34m-\u001b[0m\u001b[0;36m1\u001b[0m\u001b[0;34m)\u001b[0m\u001b[0;34m.\u001b[0m\u001b[0mlong\u001b[0m\u001b[0;34m(\u001b[0m\u001b[0;34m)\u001b[0m\u001b[0;34m)\u001b[0m\u001b[0;34m\u001b[0m\u001b[0;34m\u001b[0m\u001b[0m\n\u001b[1;32m     25\u001b[0m \u001b[0;34m\u001b[0m\u001b[0m\n",
            "\u001b[0;32m/usr/local/lib/python3.10/dist-packages/torch/nn/modules/module.py\u001b[0m in \u001b[0;36m_wrapped_call_impl\u001b[0;34m(self, *args, **kwargs)\u001b[0m\n\u001b[1;32m   1516\u001b[0m             \u001b[0;32mreturn\u001b[0m \u001b[0mself\u001b[0m\u001b[0;34m.\u001b[0m\u001b[0m_compiled_call_impl\u001b[0m\u001b[0;34m(\u001b[0m\u001b[0;34m*\u001b[0m\u001b[0margs\u001b[0m\u001b[0;34m,\u001b[0m \u001b[0;34m**\u001b[0m\u001b[0mkwargs\u001b[0m\u001b[0;34m)\u001b[0m  \u001b[0;31m# type: ignore[misc]\u001b[0m\u001b[0;34m\u001b[0m\u001b[0;34m\u001b[0m\u001b[0m\n\u001b[1;32m   1517\u001b[0m         \u001b[0;32melse\u001b[0m\u001b[0;34m:\u001b[0m\u001b[0;34m\u001b[0m\u001b[0;34m\u001b[0m\u001b[0m\n\u001b[0;32m-> 1518\u001b[0;31m             \u001b[0;32mreturn\u001b[0m \u001b[0mself\u001b[0m\u001b[0;34m.\u001b[0m\u001b[0m_call_impl\u001b[0m\u001b[0;34m(\u001b[0m\u001b[0;34m*\u001b[0m\u001b[0margs\u001b[0m\u001b[0;34m,\u001b[0m \u001b[0;34m**\u001b[0m\u001b[0mkwargs\u001b[0m\u001b[0;34m)\u001b[0m\u001b[0;34m\u001b[0m\u001b[0;34m\u001b[0m\u001b[0m\n\u001b[0m\u001b[1;32m   1519\u001b[0m \u001b[0;34m\u001b[0m\u001b[0m\n\u001b[1;32m   1520\u001b[0m     \u001b[0;32mdef\u001b[0m \u001b[0m_call_impl\u001b[0m\u001b[0;34m(\u001b[0m\u001b[0mself\u001b[0m\u001b[0;34m,\u001b[0m \u001b[0;34m*\u001b[0m\u001b[0margs\u001b[0m\u001b[0;34m,\u001b[0m \u001b[0;34m**\u001b[0m\u001b[0mkwargs\u001b[0m\u001b[0;34m)\u001b[0m\u001b[0;34m:\u001b[0m\u001b[0;34m\u001b[0m\u001b[0;34m\u001b[0m\u001b[0m\n",
            "\u001b[0;32m/usr/local/lib/python3.10/dist-packages/torch/nn/modules/module.py\u001b[0m in \u001b[0;36m_call_impl\u001b[0;34m(self, *args, **kwargs)\u001b[0m\n\u001b[1;32m   1525\u001b[0m                 \u001b[0;32mor\u001b[0m \u001b[0m_global_backward_pre_hooks\u001b[0m \u001b[0;32mor\u001b[0m \u001b[0m_global_backward_hooks\u001b[0m\u001b[0;34m\u001b[0m\u001b[0;34m\u001b[0m\u001b[0m\n\u001b[1;32m   1526\u001b[0m                 or _global_forward_hooks or _global_forward_pre_hooks):\n\u001b[0;32m-> 1527\u001b[0;31m             \u001b[0;32mreturn\u001b[0m \u001b[0mforward_call\u001b[0m\u001b[0;34m(\u001b[0m\u001b[0;34m*\u001b[0m\u001b[0margs\u001b[0m\u001b[0;34m,\u001b[0m \u001b[0;34m**\u001b[0m\u001b[0mkwargs\u001b[0m\u001b[0;34m)\u001b[0m\u001b[0;34m\u001b[0m\u001b[0;34m\u001b[0m\u001b[0m\n\u001b[0m\u001b[1;32m   1528\u001b[0m \u001b[0;34m\u001b[0m\u001b[0m\n\u001b[1;32m   1529\u001b[0m         \u001b[0;32mtry\u001b[0m\u001b[0;34m:\u001b[0m\u001b[0;34m\u001b[0m\u001b[0;34m\u001b[0m\u001b[0m\n",
            "\u001b[0;32m<ipython-input-10-6db1bf490d36>\u001b[0m in \u001b[0;36mforward\u001b[0;34m(self, x)\u001b[0m\n\u001b[1;32m     22\u001b[0m \u001b[0;34m\u001b[0m\u001b[0m\n\u001b[1;32m     23\u001b[0m     \u001b[0;32mdef\u001b[0m \u001b[0mforward\u001b[0m\u001b[0;34m(\u001b[0m\u001b[0mself\u001b[0m\u001b[0;34m,\u001b[0m \u001b[0mx\u001b[0m\u001b[0;34m)\u001b[0m\u001b[0;34m:\u001b[0m\u001b[0;34m\u001b[0m\u001b[0;34m\u001b[0m\u001b[0m\n\u001b[0;32m---> 24\u001b[0;31m         \u001b[0mx\u001b[0m \u001b[0;34m=\u001b[0m \u001b[0mself\u001b[0m\u001b[0;34m.\u001b[0m\u001b[0mfc1\u001b[0m\u001b[0;34m(\u001b[0m\u001b[0mx\u001b[0m\u001b[0;34m)\u001b[0m\u001b[0;34m\u001b[0m\u001b[0;34m\u001b[0m\u001b[0m\n\u001b[0m\u001b[1;32m     25\u001b[0m         \u001b[0mx\u001b[0m \u001b[0;34m=\u001b[0m \u001b[0mself\u001b[0m\u001b[0;34m.\u001b[0m\u001b[0mrelu1\u001b[0m\u001b[0;34m(\u001b[0m\u001b[0mx\u001b[0m\u001b[0;34m)\u001b[0m\u001b[0;34m\u001b[0m\u001b[0;34m\u001b[0m\u001b[0m\n\u001b[1;32m     26\u001b[0m         \u001b[0mx\u001b[0m \u001b[0;34m=\u001b[0m \u001b[0mself\u001b[0m\u001b[0;34m.\u001b[0m\u001b[0mdropout1\u001b[0m\u001b[0;34m(\u001b[0m\u001b[0mx\u001b[0m\u001b[0;34m)\u001b[0m\u001b[0;34m\u001b[0m\u001b[0;34m\u001b[0m\u001b[0m\n",
            "\u001b[0;32m/usr/local/lib/python3.10/dist-packages/torch/nn/modules/module.py\u001b[0m in \u001b[0;36m_wrapped_call_impl\u001b[0;34m(self, *args, **kwargs)\u001b[0m\n\u001b[1;32m   1516\u001b[0m             \u001b[0;32mreturn\u001b[0m \u001b[0mself\u001b[0m\u001b[0;34m.\u001b[0m\u001b[0m_compiled_call_impl\u001b[0m\u001b[0;34m(\u001b[0m\u001b[0;34m*\u001b[0m\u001b[0margs\u001b[0m\u001b[0;34m,\u001b[0m \u001b[0;34m**\u001b[0m\u001b[0mkwargs\u001b[0m\u001b[0;34m)\u001b[0m  \u001b[0;31m# type: ignore[misc]\u001b[0m\u001b[0;34m\u001b[0m\u001b[0;34m\u001b[0m\u001b[0m\n\u001b[1;32m   1517\u001b[0m         \u001b[0;32melse\u001b[0m\u001b[0;34m:\u001b[0m\u001b[0;34m\u001b[0m\u001b[0;34m\u001b[0m\u001b[0m\n\u001b[0;32m-> 1518\u001b[0;31m             \u001b[0;32mreturn\u001b[0m \u001b[0mself\u001b[0m\u001b[0;34m.\u001b[0m\u001b[0m_call_impl\u001b[0m\u001b[0;34m(\u001b[0m\u001b[0;34m*\u001b[0m\u001b[0margs\u001b[0m\u001b[0;34m,\u001b[0m \u001b[0;34m**\u001b[0m\u001b[0mkwargs\u001b[0m\u001b[0;34m)\u001b[0m\u001b[0;34m\u001b[0m\u001b[0;34m\u001b[0m\u001b[0m\n\u001b[0m\u001b[1;32m   1519\u001b[0m \u001b[0;34m\u001b[0m\u001b[0m\n\u001b[1;32m   1520\u001b[0m     \u001b[0;32mdef\u001b[0m \u001b[0m_call_impl\u001b[0m\u001b[0;34m(\u001b[0m\u001b[0mself\u001b[0m\u001b[0;34m,\u001b[0m \u001b[0;34m*\u001b[0m\u001b[0margs\u001b[0m\u001b[0;34m,\u001b[0m \u001b[0;34m**\u001b[0m\u001b[0mkwargs\u001b[0m\u001b[0;34m)\u001b[0m\u001b[0;34m:\u001b[0m\u001b[0;34m\u001b[0m\u001b[0;34m\u001b[0m\u001b[0m\n",
            "\u001b[0;32m/usr/local/lib/python3.10/dist-packages/torch/nn/modules/module.py\u001b[0m in \u001b[0;36m_call_impl\u001b[0;34m(self, *args, **kwargs)\u001b[0m\n\u001b[1;32m   1525\u001b[0m                 \u001b[0;32mor\u001b[0m \u001b[0m_global_backward_pre_hooks\u001b[0m \u001b[0;32mor\u001b[0m \u001b[0m_global_backward_hooks\u001b[0m\u001b[0;34m\u001b[0m\u001b[0;34m\u001b[0m\u001b[0m\n\u001b[1;32m   1526\u001b[0m                 or _global_forward_hooks or _global_forward_pre_hooks):\n\u001b[0;32m-> 1527\u001b[0;31m             \u001b[0;32mreturn\u001b[0m \u001b[0mforward_call\u001b[0m\u001b[0;34m(\u001b[0m\u001b[0;34m*\u001b[0m\u001b[0margs\u001b[0m\u001b[0;34m,\u001b[0m \u001b[0;34m**\u001b[0m\u001b[0mkwargs\u001b[0m\u001b[0;34m)\u001b[0m\u001b[0;34m\u001b[0m\u001b[0;34m\u001b[0m\u001b[0m\n\u001b[0m\u001b[1;32m   1528\u001b[0m \u001b[0;34m\u001b[0m\u001b[0m\n\u001b[1;32m   1529\u001b[0m         \u001b[0;32mtry\u001b[0m\u001b[0;34m:\u001b[0m\u001b[0;34m\u001b[0m\u001b[0;34m\u001b[0m\u001b[0m\n",
            "\u001b[0;32m/usr/local/lib/python3.10/dist-packages/torch/nn/modules/linear.py\u001b[0m in \u001b[0;36mforward\u001b[0;34m(self, input)\u001b[0m\n\u001b[1;32m    112\u001b[0m \u001b[0;34m\u001b[0m\u001b[0m\n\u001b[1;32m    113\u001b[0m     \u001b[0;32mdef\u001b[0m \u001b[0mforward\u001b[0m\u001b[0;34m(\u001b[0m\u001b[0mself\u001b[0m\u001b[0;34m,\u001b[0m \u001b[0minput\u001b[0m\u001b[0;34m:\u001b[0m \u001b[0mTensor\u001b[0m\u001b[0;34m)\u001b[0m \u001b[0;34m->\u001b[0m \u001b[0mTensor\u001b[0m\u001b[0;34m:\u001b[0m\u001b[0;34m\u001b[0m\u001b[0;34m\u001b[0m\u001b[0m\n\u001b[0;32m--> 114\u001b[0;31m         \u001b[0;32mreturn\u001b[0m \u001b[0mF\u001b[0m\u001b[0;34m.\u001b[0m\u001b[0mlinear\u001b[0m\u001b[0;34m(\u001b[0m\u001b[0minput\u001b[0m\u001b[0;34m,\u001b[0m \u001b[0mself\u001b[0m\u001b[0;34m.\u001b[0m\u001b[0mweight\u001b[0m\u001b[0;34m,\u001b[0m \u001b[0mself\u001b[0m\u001b[0;34m.\u001b[0m\u001b[0mbias\u001b[0m\u001b[0;34m)\u001b[0m\u001b[0;34m\u001b[0m\u001b[0;34m\u001b[0m\u001b[0m\n\u001b[0m\u001b[1;32m    115\u001b[0m \u001b[0;34m\u001b[0m\u001b[0m\n\u001b[1;32m    116\u001b[0m     \u001b[0;32mdef\u001b[0m \u001b[0mextra_repr\u001b[0m\u001b[0;34m(\u001b[0m\u001b[0mself\u001b[0m\u001b[0;34m)\u001b[0m \u001b[0;34m->\u001b[0m \u001b[0mstr\u001b[0m\u001b[0;34m:\u001b[0m\u001b[0;34m\u001b[0m\u001b[0;34m\u001b[0m\u001b[0m\n",
            "\u001b[0;31mKeyboardInterrupt\u001b[0m: "
          ]
        }
      ]
    },
    {
      "cell_type": "code",
      "source": [
        "print((adv_x - X).sum(dim=1))\n"
      ],
      "metadata": {
        "colab": {
          "base_uri": "https://localhost:8080/"
        },
        "id": "rPyUbt-bnvM2",
        "outputId": "35bb73ee-f1ec-47bc-e6c4-bf0e325fdf4c"
      },
      "execution_count": 72,
      "outputs": [
        {
          "output_type": "stream",
          "name": "stdout",
          "text": [
            "tensor([ 2.,  3.,  3.,  3.,  3.,  1.,  2.,  2.,  3.,  2.,  2.,  3.,  2.,  3.,\n",
            "         3.,  2.,  1.,  5.,  3.,  2.,  2.,  2.,  2.,  2.,  4.,  3.,  2.,  3.,\n",
            "         2.,  3.,  4.,  3.,  2.,  3.,  2.,  3.,  5.,  4.,  2.,  3.,  2.,  2.,\n",
            "         3.,  5.,  2.,  2.,  3.,  2.,  4.,  3.,  2., 10.,  2.,  3.,  3.,  3.,\n",
            "         3.,  2., 11.,  3.,  3.,  3.,  2.,  2.,  3.,  4.,  2.,  2.,  3.,  1.,\n",
            "         2.,  2.,  1.,  3.,  3.,  3.,  2.,  2.,  2.,  1.,  3.,  3.,  1.,  3.,\n",
            "         5.,  3.,  3.,  3.,  3.,  6.,  3.,  2.,  4.,  3.,  2.,  2.,  3.,  2.,\n",
            "         3.,  2.,  2.,  3., 10.,  3.,  9.,  2.,  0.,  2.,  2.,  2.,  3.,  2.,\n",
            "         3.,  3.,  2.,  2.,  4.,  4.,  2.,  4.,  1.,  3.,  5.,  2.,  2.,  3.,\n",
            "         2.,  3.,  2.,  3.,  2.,  3.,  2.,  3.,  3.,  2.,  4.,  3.,  3.,  2.,\n",
            "         3.,  3.,  1.,  3.,  2.,  4.,  4.,  3.,  3.,  3.,  2.,  9.,  2.,  2.,\n",
            "         3.,  2.,  3.,  4.,  3.,  2.,  2.,  2.,  2.,  3.,  2.,  2.,  2.,  2.,\n",
            "         4.,  2.,  3.,  2.,  2.,  4.,  2.,  3.,  3.,  2.,  2.,  4.,  1.,  2.,\n",
            "         3., 48.,  2.,  2.,  4.,  4.,  4.,  3.,  2.,  3.,  2.,  2.,  4.,  3.,\n",
            "         2.,  3.,  2.,  4.,  5.,  3.,  2.,  2.,  2.,  4.,  3.,  2.,  2.,  2.,\n",
            "        10.,  3.,  3.,  3.,  3.,  2.,  3.,  3.,  3.,  4.,  2.,  2.,  3.,  3.,\n",
            "         4.,  2.,  1.,  2.,  5.,  2.,  3.,  3.,  6.,  3.,  3.,  4.,  3.,  3.,\n",
            "         3.,  2.,  2.,  2.,  3.,  4.,  2.,  3.,  2.,  3.,  3.,  3.,  2.,  2.,\n",
            "         1.,  6.,  2.,  2.])\n"
          ]
        }
      ]
    },
    {
      "cell_type": "code",
      "source": [
        "test_loader2 = DataLoader(test_dataset, batch_size=5000, shuffle=False)\n",
        "X2,y2 = next(iter(test_loader2))\n",
        "print(X2.shape)\n",
        "print(y2.shape)"
      ],
      "metadata": {
        "colab": {
          "base_uri": "https://localhost:8080/"
        },
        "id": "vJUdeKpnxEFR",
        "outputId": "0ffd8900-6ef7-4ca9-ecd5-b6cea8a58baa"
      },
      "execution_count": 228,
      "outputs": [
        {
          "output_type": "stream",
          "name": "stdout",
          "text": [
            "torch.Size([5000, 10000])\n",
            "torch.Size([5000, 1])\n"
          ]
        }
      ]
    },
    {
      "cell_type": "code",
      "source": [
        "ben_x = X2[y2.squeeze()==0]\n",
        "ben_x.shape"
      ],
      "metadata": {
        "colab": {
          "base_uri": "https://localhost:8080/"
        },
        "id": "n8b29iHmwwOO",
        "outputId": "f77635e3-c098-48c6-dc25-7f8491641d1d"
      },
      "execution_count": null,
      "outputs": [
        {
          "output_type": "execute_result",
          "data": {
            "text/plain": [
              "torch.Size([9549, 10000])"
            ]
          },
          "metadata": {},
          "execution_count": 140
        }
      ]
    },
    {
      "cell_type": "code",
      "source": [
        "mal_x = X2[y2.squeeze()==1]\n",
        "mal_x.shape"
      ],
      "metadata": {
        "colab": {
          "base_uri": "https://localhost:8080/"
        },
        "id": "4XBqPAF2ye9v",
        "outputId": "0ea0f357-90a9-4975-cf58-67fb926de656"
      },
      "execution_count": null,
      "outputs": [
        {
          "output_type": "execute_result",
          "data": {
            "text/plain": [
              "torch.Size([451, 10000])"
            ]
          },
          "metadata": {},
          "execution_count": 141
        }
      ]
    },
    {
      "cell_type": "code",
      "source": [
        "trials = 100\n",
        "seed = 200\n",
        "\n",
        "trials = trials if trials < len(ben_x) else len(ben_x)\n",
        "n= len(ben_x)//trials\n",
        "\n",
        "with torch.no_grad():\n",
        "    torch.manual_seed(seed)\n",
        "    x_mod_list = []\n",
        "    for _x in mal_x:\n",
        "        indices = torch.randperm(len(ben_x))\n",
        "        for i in range(n):\n",
        "            selected = indices[(trials*i):(trials*(i+1))]\n",
        "            trial_vectors = ben_x[selected]\n",
        "            modified_x = torch.clamp(_x + trial_vectors, min=0., max=1.) #Size([trials, 10000])\n",
        "            _,done = get_loss(modified_x,torch.ones(trials,1),model)\n",
        "            if done.sum() > 0:\n",
        "                added_features = (modified_x - _x).sum(dim=1)\n",
        "                arg_min = added_features[done].argmin()\n",
        "                adv_x = modified_x[done][arg_min].unsqueeze(0)\n",
        "                x_mod_list.append(adv_x)\n",
        "                break\n",
        "            else:\n",
        "                continue\n",
        "\n",
        "print(f\"mimic attack effectiveness {len(x_mod_list) / len(mal_x) * 100:.3f}%.\")\n",
        "\n"
      ],
      "metadata": {
        "id": "hRbhe6sSxiUQ"
      },
      "execution_count": null,
      "outputs": []
    },
    {
      "cell_type": "code",
      "source": [
        "def mimicry(ben_x, mal_x, model, trials, seed):\n",
        "    trials = min(trials, len(ben_x))\n",
        "    n = len(ben_x) // trials\n",
        "    x_mod_list = []\n",
        "\n",
        "    with torch.no_grad():\n",
        "        torch.manual_seed(seed)\n",
        "        for _x in mal_x:\n",
        "            indices = torch.randperm(len(ben_x))\n",
        "            for i in range(n):\n",
        "                selected = indices[(trials * i):(trials * (i + 1))]\n",
        "                trial_vectors = ben_x[selected]\n",
        "                modified_x = torch.clamp(_x + trial_vectors, min=0., max=1.)\n",
        "                _, done = get_loss(modified_x, torch.ones(trials, 1), model)\n",
        "                if done.sum() > 0:\n",
        "                    added_features = (modified_x - _x).sum(dim=1)\n",
        "                    arg_min = added_features[done].argmin()\n",
        "                    adv_x = modified_x[done][arg_min].unsqueeze(0)\n",
        "                    x_mod_list.append(adv_x)\n",
        "                    break\n",
        "\n",
        "    attack_effectiveness = len(x_mod_list) / len(mal_x) * 100\n",
        "    print(f\"Mimic attack effectiveness: {attack_effectiveness:.3f}%.\")\n",
        "    return torch.vstack(x_mod_list)\n"
      ],
      "metadata": {
        "id": "LOHKpO3WGiX8"
      },
      "execution_count": null,
      "outputs": []
    },
    {
      "cell_type": "code",
      "source": [
        "adv = mimicry(ben_x, mal_x, model, trials=1000, seed=10)\n",
        "print(mal_x.sum()/len(mal_x))\n",
        "print(adv.sum()/len(mal_x))"
      ],
      "metadata": {
        "colab": {
          "base_uri": "https://localhost:8080/"
        },
        "id": "6tlOJSmcEfbO",
        "outputId": "957c4cab-ac97-43ba-ec49-d92708b193fa"
      },
      "execution_count": null,
      "outputs": [
        {
          "output_type": "stream",
          "name": "stdout",
          "text": [
            "mimic attack effectiveness 100.000%.\n",
            "tensor(48.6000)\n",
            "tensor(60.2625)\n"
          ]
        }
      ]
    },
    {
      "cell_type": "code",
      "source": [
        "_,done = get_loss(adv,torch.ones(len(adv),1),model)\n",
        "done"
      ],
      "metadata": {
        "colab": {
          "base_uri": "https://localhost:8080/"
        },
        "id": "WmA8NVTsEsxP",
        "outputId": "7eddae8b-c96c-419b-da2a-980d39b16ee1"
      },
      "execution_count": null,
      "outputs": [
        {
          "output_type": "execute_result",
          "data": {
            "text/plain": [
              "tensor([True, True, True, True, True, True, True, True, True, True, True, True,\n",
              "        True, True, True, True, True, True, True, True, True, True, True, True,\n",
              "        True, True, True, True, True, True, True, True, True, True, True, True,\n",
              "        True, True, True, True, True, True, True, True, True, True, True, True,\n",
              "        True, True, True, True, True, True, True, True, True, True, True, True,\n",
              "        True, True, True, True, True, True, True, True, True, True, True, True,\n",
              "        True, True, True, True, True, True, True, True])"
            ]
          },
          "metadata": {},
          "execution_count": 135
        }
      ]
    },
    {
      "cell_type": "code",
      "source": [
        "adv = mimicry(ben_x, mal_x, model, trials=2000, seed=10)\n",
        "print(mal_x.sum()/len(mal_x))\n",
        "print(adv.sum()/len(mal_x))"
      ],
      "metadata": {
        "id": "8AV0N-__UWyH"
      },
      "execution_count": null,
      "outputs": []
    }
  ]
}