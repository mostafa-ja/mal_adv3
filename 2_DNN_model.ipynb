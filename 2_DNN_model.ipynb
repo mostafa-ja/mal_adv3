{
  "nbformat": 4,
  "nbformat_minor": 0,
  "metadata": {
    "colab": {
      "provenance": [],
      "authorship_tag": "ABX9TyMdvuJ654FqGLqthc3fXwaz",
      "include_colab_link": true
    },
    "kernelspec": {
      "name": "python3",
      "display_name": "Python 3"
    },
    "language_info": {
      "name": "python"
    }
  },
  "cells": [
    {
      "cell_type": "markdown",
      "metadata": {
        "id": "view-in-github",
        "colab_type": "text"
      },
      "source": [
        "<a href=\"https://colab.research.google.com/github/mostafa-ja/mal_adv3/blob/main/2_DNN_model.ipynb\" target=\"_parent\"><img src=\"https://colab.research.google.com/assets/colab-badge.svg\" alt=\"Open In Colab\"/></a>"
      ]
    },
    {
      "cell_type": "code",
      "source": [
        "import torch\n",
        "import torch.nn as nn\n",
        "import torch.optim as optim\n",
        "from torch.utils.data import TensorDataset, DataLoader\n",
        "from sklearn.model_selection import train_test_split\n",
        "from scipy import sparse\n",
        "import gdown\n",
        "from sklearn.metrics import accuracy_score, precision_score, recall_score, f1_score\n",
        "import numpy as np\n",
        "import matplotlib.pyplot as plt\n",
        "from sklearn.metrics import precision_recall_curve, roc_curve, auc"
      ],
      "metadata": {
        "id": "JKDdI3K9LrlF"
      },
      "execution_count": 20,
      "outputs": []
    },
    {
      "cell_type": "code",
      "source": [
        "download_link = 'https://drive.google.com/uc?id=12iud4h19CZst4exbr3U2A9iDxBYvZ5U_'\n",
        "output_filepath = '/content/'\n",
        "gdown.download(download_link, output_filepath)"
      ],
      "metadata": {
        "colab": {
          "base_uri": "https://localhost:8080/",
          "height": 105
        },
        "id": "0C770BMnLop2",
        "outputId": "dba92b18-3b2c-48c4-842a-f85c9fbcfefe"
      },
      "execution_count": 2,
      "outputs": [
        {
          "output_type": "stream",
          "name": "stderr",
          "text": [
            "Downloading...\n",
            "From: https://drive.google.com/uc?id=12iud4h19CZst4exbr3U2A9iDxBYvZ5U_\n",
            "To: /content/X_redefined_sparse_matrix.npz\n",
            "100%|██████████| 2.31M/2.31M [00:00<00:00, 17.0MB/s]\n"
          ]
        },
        {
          "output_type": "execute_result",
          "data": {
            "text/plain": [
              "'/content/X_redefined_sparse_matrix.npz'"
            ],
            "application/vnd.google.colaboratory.intrinsic+json": {
              "type": "string"
            }
          },
          "metadata": {},
          "execution_count": 2
        }
      ]
    },
    {
      "cell_type": "code",
      "source": [
        "download_link = 'https://drive.google.com/uc?id=1IhrcT3jHqlPrw2KvQ5vJkBgozxcJ1cJm'\n",
        "output_filepath = '/content/'\n",
        "gdown.download(download_link, output_filepath)"
      ],
      "metadata": {
        "colab": {
          "base_uri": "https://localhost:8080/",
          "height": 105
        },
        "id": "y3O3o6ZHLpI8",
        "outputId": "4a2bd424-0c45-4df6-b66e-87706d7819b6"
      },
      "execution_count": 3,
      "outputs": [
        {
          "output_type": "stream",
          "name": "stderr",
          "text": [
            "Downloading...\n",
            "From: https://drive.google.com/uc?id=1IhrcT3jHqlPrw2KvQ5vJkBgozxcJ1cJm\n",
            "To: /content/labels.pt\n",
            "100%|██████████| 517k/517k [00:00<00:00, 5.92MB/s]\n"
          ]
        },
        {
          "output_type": "execute_result",
          "data": {
            "text/plain": [
              "'/content/labels.pt'"
            ],
            "application/vnd.google.colaboratory.intrinsic+json": {
              "type": "string"
            }
          },
          "metadata": {},
          "execution_count": 3
        }
      ]
    },
    {
      "cell_type": "code",
      "source": [
        "# Load dataset\n",
        "X_redefined = sparse.load_npz(\"X_redefined_sparse_matrix.npz\")\n",
        "labels_tensor = torch.load('labels.pt')"
      ],
      "metadata": {
        "id": "qHe1GZxX-ET4"
      },
      "execution_count": 5,
      "outputs": []
    },
    {
      "cell_type": "code",
      "source": [
        "# Split data into train, validation, and test sets with stratified sampling\n",
        "X_train_val, X_test, labels_train_val, labels_test = train_test_split(X_redefined, labels_tensor, test_size=0.2, stratify=labels_tensor, random_state=42)\n",
        "X_train, X_val, labels_train, labels_val = train_test_split(X_train_val, labels_train_val, test_size=0.2, stratify=labels_train_val, random_state=42)\n",
        "\n",
        "# Combine features and labels into datasets\n",
        "train_dataset = TensorDataset(torch.tensor(X_train.toarray(), dtype=torch.float32), labels_train)\n",
        "val_dataset = TensorDataset(torch.tensor(X_val.toarray(), dtype=torch.float32), labels_val)\n",
        "test_dataset = TensorDataset(torch.tensor(X_test.toarray(), dtype=torch.float32), labels_test)\n"
      ],
      "metadata": {
        "id": "V8SALqiV-zFj"
      },
      "execution_count": 7,
      "outputs": []
    },
    {
      "cell_type": "code",
      "source": [
        "# Define the DataLoader for training, validation, and test sets\n",
        "batch_size = 256\n",
        "train_loader = DataLoader(train_dataset, batch_size=batch_size, shuffle=True)\n",
        "val_loader = DataLoader(val_dataset, batch_size=batch_size, shuffle=False)\n",
        "test_loader = DataLoader(test_dataset, batch_size=batch_size, shuffle=False)"
      ],
      "metadata": {
        "id": "g3BUXjXdZ9wq"
      },
      "execution_count": 8,
      "outputs": []
    },
    {
      "cell_type": "code",
      "source": [
        "class MalwareClassifier(nn.Module):\n",
        "    def __init__(self, dropout_prob):\n",
        "        super(MalwareClassifier, self).__init__()\n",
        "        # Define input size\n",
        "        input_size = 10000\n",
        "        # Define hidden layer sizes\n",
        "        hidden_size = 200\n",
        "\n",
        "        # Define the layers\n",
        "        self.fc1 = nn.Linear(input_size, hidden_size)\n",
        "        self.relu1 = nn.ReLU()\n",
        "        self.dropout1 = nn.Dropout(dropout_prob)  # Dropout with specified probability\n",
        "        self.fc2 = nn.Linear(hidden_size, hidden_size)\n",
        "        self.relu2 = nn.ReLU()\n",
        "        self.dropout2 = nn.Dropout(dropout_prob)  # Dropout with specified probability\n",
        "        self.fc3 = nn.Linear(hidden_size, 1)  # Output layer with single neuron for binary classification\n",
        "        self.sigmoid = nn.Sigmoid()  # Sigmoid activation function for binary classification\n",
        "\n",
        "    def forward(self, x):\n",
        "        # Forward pass\n",
        "        out = self.fc1(x)\n",
        "        out = self.relu1(out)\n",
        "        out = self.dropout1(out)\n",
        "        out = self.fc2(out)\n",
        "        out = self.relu2(out)\n",
        "        out = self.dropout2(out)\n",
        "        out = self.fc3(out)\n",
        "        out = self.sigmoid(out)  # Sigmoid activation for binary classification\n",
        "        return out\n"
      ],
      "metadata": {
        "id": "VGLAwHseVjtL"
      },
      "execution_count": 9,
      "outputs": []
    },
    {
      "cell_type": "code",
      "source": [
        "# Create an instance of the model with dropout probability of 0.6\n",
        "model = MalwareClassifier(dropout_prob=0.6)\n",
        "\n",
        "# Define loss function and optimizer\n",
        "criterion = nn.BCELoss()\n",
        "optimizer = optim.Adam(model.parameters(), lr=0.001)\n",
        "\n",
        "# Train the model\n",
        "num_epochs = 10\n",
        "for epoch in range(num_epochs):\n",
        "    model.train()  # Set the model to training mode\n",
        "    for batch_X, batch_labels in train_loader:\n",
        "        # Forward pass\n",
        "        outputs = model(batch_X)\n",
        "\n",
        "        # Compute loss\n",
        "        loss = criterion(outputs, batch_labels)\n",
        "\n",
        "        # Backward pass and optimization\n",
        "        optimizer.zero_grad()\n",
        "        loss.backward()\n",
        "        optimizer.step()\n",
        "\n",
        "    # Print training loss\n",
        "    print(f'Epoch [{epoch+1}/{num_epochs}], Training Loss: {loss.item():.4f}')\n",
        "\n",
        "    # Evaluate on validation set\n",
        "    model.eval()  # Set the model to evaluation mode\n",
        "    val_loss = 0.0\n",
        "    correct = 0\n",
        "    total = 0\n",
        "    with torch.no_grad():\n",
        "        for batch_X, batch_labels in val_loader:\n",
        "            outputs = model(batch_X)\n",
        "            val_loss += criterion(outputs, batch_labels).item()\n",
        "\n",
        "            # Convert probabilities to predicted labels\n",
        "            predicted = torch.round(outputs)\n",
        "\n",
        "            # Count correct predictions\n",
        "            correct += (predicted == batch_labels).sum().item()\n",
        "\n",
        "            # Count total samples\n",
        "            total += batch_labels.size(0)\n",
        "\n",
        "    val_loss /= len(val_loader)\n",
        "    accuracy = correct / total\n",
        "    print(f'Epoch [{epoch+1}/{num_epochs}], Validation Loss: {val_loss:.4f}, Validation Accuracy: {accuracy:.4f}')\n",
        "\n",
        "# Optionally, save the trained model\n",
        "# torch.save(model.state_dict(), 'malware_classifier.pth')\n"
      ],
      "metadata": {
        "colab": {
          "base_uri": "https://localhost:8080/"
        },
        "id": "x3N55G0SXNOE",
        "outputId": "00a43b67-ce90-4bd0-c909-b0a836c5ac57"
      },
      "execution_count": 10,
      "outputs": [
        {
          "output_type": "stream",
          "name": "stdout",
          "text": [
            "Epoch [1/10], Training Loss: 0.0155\n",
            "Epoch [1/10], Validation Loss: 0.0328, Validation Accuracy: 0.9907\n",
            "Epoch [2/10], Training Loss: 0.0243\n",
            "Epoch [2/10], Validation Loss: 0.0254, Validation Accuracy: 0.9930\n",
            "Epoch [3/10], Training Loss: 0.0551\n",
            "Epoch [3/10], Validation Loss: 0.0241, Validation Accuracy: 0.9931\n",
            "Epoch [4/10], Training Loss: 0.0024\n",
            "Epoch [4/10], Validation Loss: 0.0235, Validation Accuracy: 0.9940\n",
            "Epoch [5/10], Training Loss: 0.0029\n",
            "Epoch [5/10], Validation Loss: 0.0249, Validation Accuracy: 0.9939\n",
            "Epoch [6/10], Training Loss: 0.0067\n",
            "Epoch [6/10], Validation Loss: 0.0217, Validation Accuracy: 0.9947\n",
            "Epoch [7/10], Training Loss: 0.0431\n",
            "Epoch [7/10], Validation Loss: 0.0225, Validation Accuracy: 0.9948\n",
            "Epoch [8/10], Training Loss: 0.0009\n",
            "Epoch [8/10], Validation Loss: 0.0250, Validation Accuracy: 0.9943\n",
            "Epoch [9/10], Training Loss: 0.0405\n",
            "Epoch [9/10], Validation Loss: 0.0249, Validation Accuracy: 0.9947\n",
            "Epoch [10/10], Training Loss: 0.0018\n",
            "Epoch [10/10], Validation Loss: 0.0257, Validation Accuracy: 0.9944\n"
          ]
        }
      ]
    },
    {
      "cell_type": "code",
      "source": [
        "# Save model parameters\n",
        "torch.save(model.state_dict(), 'DNN_params.pth')"
      ],
      "metadata": {
        "id": "CGWHAu4aNWWl"
      },
      "execution_count": 12,
      "outputs": []
    },
    {
      "cell_type": "code",
      "source": [
        "# Evaluate the trained model on the test set\n",
        "model.eval()  # Set the model to evaluation mode\n",
        "predictions = []\n",
        "true_labels = []\n",
        "\n",
        "with torch.no_grad():\n",
        "    for X_batch, labels_batch in test_loader:\n",
        "        outputs = model(X_batch)\n",
        "        predicted = torch.round(outputs)\n",
        "        predictions.extend(predicted.tolist())\n",
        "        true_labels.extend(labels_batch.tolist())\n",
        "\n",
        "# Convert predictions and true labels to numpy arrays\n",
        "predictions = np.array(predictions)\n",
        "true_labels = np.array(true_labels)\n",
        "\n",
        "# Calculate test accuracy\n",
        "accuracy = accuracy_score(true_labels, predictions)\n",
        "print(f'Test Accuracy: {accuracy:.4f}')\n",
        "\n",
        "# Calculate precision, recall, and F1-score\n",
        "precision = precision_score(true_labels, predictions)\n",
        "recall = recall_score(true_labels, predictions)\n",
        "f1 = f1_score(true_labels, predictions)\n",
        "\n",
        "print(f'Precision: {precision:.4f}')\n",
        "print(f'Recall: {recall:.4f}')\n",
        "print(f'F1-score: {f1:.4f}')\n"
      ],
      "metadata": {
        "colab": {
          "base_uri": "https://localhost:8080/"
        },
        "id": "L8jOwDoKpfGh",
        "outputId": "01a92f55-cbff-4508-f641-8a6883f88bcd"
      },
      "execution_count": 13,
      "outputs": [
        {
          "output_type": "stream",
          "name": "stdout",
          "text": [
            "Test Accuracy: 0.9939\n",
            "Precision: 0.9723\n",
            "Recall: 0.8831\n",
            "F1-score: 0.9255\n"
          ]
        }
      ]
    },
    {
      "cell_type": "code",
      "source": [
        "# Calculate true positives, true negatives, false positives, and false negatives\n",
        "TP = ((predictions == 1) & (true_labels == 1)).sum()\n",
        "TN = ((predictions == 0) & (true_labels == 0)).sum()\n",
        "FP = ((predictions == 1) & (true_labels == 0)).sum()\n",
        "FN = ((predictions == 0) & (true_labels == 1)).sum()\n",
        "\n",
        "print(f'True Positives (TP): {TP}')\n",
        "print(f'True Negatives (TN): {TN}')\n",
        "print(f'False Positives (FP): {FP}')\n",
        "print(f'False Negatives (FN): {FN}')\n"
      ],
      "metadata": {
        "colab": {
          "base_uri": "https://localhost:8080/"
        },
        "id": "Uy_QpVDcysWC",
        "outputId": "f226908b-cd3c-47d4-8203-6a3174e122b1"
      },
      "execution_count": 14,
      "outputs": [
        {
          "output_type": "stream",
          "name": "stdout",
          "text": [
            "True Positives (TP): 982\n",
            "True Negatives (TN): 24663\n",
            "False Positives (FP): 28\n",
            "False Negatives (FN): 130\n"
          ]
        }
      ]
    },
    {
      "cell_type": "code",
      "source": [
        "#here , we define prediction, as probability(not binary)\n",
        "\n",
        "# Evaluate the trained model on the test set\n",
        "model.eval()  # Set the model to evaluation mode\n",
        "predictions = []\n",
        "true_labels = []\n",
        "\n",
        "with torch.no_grad():\n",
        "    for X_batch, labels_batch in test_loader:\n",
        "        outputs = model(X_batch)\n",
        "        predictions.extend(outputs.tolist())\n",
        "        true_labels.extend(labels_batch.tolist())\n",
        "\n",
        "# Convert predictions and true labels to numpy arrays\n",
        "predictions = np.array(predictions)\n",
        "true_labels = np.array(true_labels)\n",
        "\n",
        "\n",
        "# Calculate precision and recall\n",
        "precision, recall, thresholds = precision_recall_curve(true_labels, predictions)\n",
        "\n",
        "# Calculate F1-score for each threshold\n",
        "f1_scores = 2 * (precision * recall) / (precision + recall)\n",
        "\n",
        "# Find the threshold that maximizes the F1-score\n",
        "best_f1_threshold = thresholds[np.argmax(f1_scores)]\n",
        "best_f1_score = np.max(f1_scores)\n",
        "\n",
        "print(f'Best F1-score: {best_f1_score:.4f} at threshold: {best_f1_threshold:.4f}')\n"
      ],
      "metadata": {
        "colab": {
          "base_uri": "https://localhost:8080/"
        },
        "id": "xZv8mNmjwmem",
        "outputId": "f14d66cd-9550-47e0-d7cc-e928f7f8f7bb"
      },
      "execution_count": 17,
      "outputs": [
        {
          "output_type": "stream",
          "name": "stdout",
          "text": [
            "Best F1-score: 0.9317 at threshold: 0.3666\n"
          ]
        }
      ]
    },
    {
      "cell_type": "code",
      "source": [
        "\n",
        "# Calculate precision and recall\n",
        "precision, recall, _ = precision_recall_curve(true_labels, predictions)\n",
        "\n",
        "# Plot precision-recall curve\n",
        "plt.plot(recall, precision, marker='.')\n",
        "plt.xlabel('Recall')\n",
        "plt.ylabel('Precision')\n",
        "plt.title('Precision-Recall Curve')\n",
        "plt.grid(True)\n",
        "plt.show()\n"
      ],
      "metadata": {
        "colab": {
          "base_uri": "https://localhost:8080/",
          "height": 472
        },
        "id": "QcKIyS9TwJos",
        "outputId": "e9409f88-cb5a-456c-c345-71f3ef8f391d"
      },
      "execution_count": 18,
      "outputs": [
        {
          "output_type": "display_data",
          "data": {
            "text/plain": [
              "<Figure size 640x480 with 1 Axes>"
            ],
            "image/png": "[encoded data removed]"
          },
          "metadata": {}
        }
      ]
    },
    {
      "cell_type": "code",
      "source": [
        "# Compute fpr, tpr, thresholds\n",
        "fpr, tpr, thresholds = roc_curve(true_labels, predictions)\n",
        "\n",
        "# Compute AUC (Area Under the Curve)\n",
        "roc_auc = auc(fpr, tpr)\n",
        "\n",
        "# Plot ROC curve\n",
        "plt.figure(figsize=(8, 6))\n",
        "plt.plot(fpr, tpr, color='blue', lw=2, label='ROC curve (AUC = %0.4f)' % roc_auc)\n",
        "plt.plot([0, 1], [0, 1], color='red', lw=2, linestyle='--', label='Random Guessing')\n",
        "plt.xlabel('False Positive Rate')\n",
        "plt.ylabel('True Positive Rate')\n",
        "plt.title('Receiver Operating Characteristic (ROC) Curve')\n",
        "plt.legend(loc='lower right')\n",
        "plt.grid()\n",
        "plt.show()"
      ],
      "metadata": {
        "colab": {
          "base_uri": "https://localhost:8080/",
          "height": 564
        },
        "id": "VpLDZvKExuG8",
        "outputId": "a5e9956e-e2bc-4f77-b91e-52d974703c03"
      },
      "execution_count": 21,
      "outputs": [
        {
          "output_type": "display_data",
          "data": {
            "text/plain": [
              "<Figure size 800x600 with 1 Axes>"
            ],
            "image/png": "[encoded data removed]"
          },
          "metadata": {}
        }
      ]
    }
  ]
}