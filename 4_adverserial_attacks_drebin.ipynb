{
  "nbformat": 4,
  "nbformat_minor": 0,
  "metadata": {
    "colab": {
      "provenance": [],
      "include_colab_link": true
    },
    "kernelspec": {
      "name": "python3",
      "display_name": "Python 3"
    },
    "language_info": {
      "name": "python"
    }
  },
  "cells": [
    {
      "cell_type": "markdown",
      "metadata": {
        "id": "view-in-github",
        "colab_type": "text"
      },
      "source": [
        "<a href=\"https://colab.research.google.com/github/mostafa-ja/mal_adv3/blob/main/4_adverserial_attacks_drebin.ipynb\" target=\"_parent\"><img src=\"https://colab.research.google.com/assets/colab-badge.svg\" alt=\"Open In Colab\"/></a>"
      ]
    },
    {
      "cell_type": "code",
      "source": [
        "\n",
        "download_links = ['https://github.com/mostafa-ja/mal_adv3/raw/main/drebin/sparse_matrix_0.npz',\n",
        "                  'https://github.com/mostafa-ja/mal_adv3/raw/main/drebin/sparse_matrix_1.npz',\n",
        "                  'https://github.com/mostafa-ja/mal_adv3/raw/main/drebin/sparse_matrix_2.npz',\n",
        "                  'https://github.com/mostafa-ja/mal_adv3/raw/main/drebin/sparse_matrix_y0.npz',\n",
        "                  'https://github.com/mostafa-ja/mal_adv3/raw/main/drebin/sparse_matrix_y1.npz',\n",
        "                  'https://github.com/mostafa-ja/mal_adv3/raw/main/drebin/sparse_matrix_y2.npz',\n",
        "                  'https://github.com/mostafa-ja/mal_adv3/raw/main/drebin/model_DNN_drebin_best.pth',\n",
        "                  'https://github.com/mostafa-ja/mal_adv3/raw/main/data/adverserial_attacks_functions.py',\n",
        "                  'https://github.com/mostafa-ja/mal_adv3/raw/main/drebin/model_AT_rFGSM_weightedLoss.pth',\n",
        "                  'https://github.com/mostafa-ja/mal_adv3/raw/main/drebin/model_AT_rFGSM.pth'\n",
        "]"
      ],
      "metadata": {
        "id": "1IW4pHac9VLq"
      },
      "execution_count": 1,
      "outputs": []
    },
    {
      "cell_type": "code",
      "source": [
        "import gdown\n",
        "output_filepath = '/content/'\n",
        "for link in download_links:\n",
        "  gdown.download(link, output_filepath)\n"
      ],
      "metadata": {
        "colab": {
          "base_uri": "https://localhost:8080/"
        },
        "id": "6kzSbjaXGVeG",
        "outputId": "85e5dfd7-a49a-4008-a9c7-b68b833e557b"
      },
      "execution_count": 2,
      "outputs": [
        {
          "output_type": "stream",
          "name": "stderr",
          "text": [
            "Downloading...\n",
            "From: https://github.com/mostafa-ja/mal_adv3/raw/main/drebin/sparse_matrix_0.npz\n",
            "To: /content/sparse_matrix_0.npz\n",
            "100%|██████████| 461k/461k [00:00<00:00, 3.53MB/s]\n",
            "Downloading...\n",
            "From: https://github.com/mostafa-ja/mal_adv3/raw/main/drebin/sparse_matrix_1.npz\n",
            "To: /content/sparse_matrix_1.npz\n",
            "100%|██████████| 148k/148k [00:00<00:00, 1.31MB/s]\n",
            "Downloading...\n",
            "From: https://github.com/mostafa-ja/mal_adv3/raw/main/drebin/sparse_matrix_2.npz\n",
            "To: /content/sparse_matrix_2.npz\n",
            "100%|██████████| 150k/150k [00:00<00:00, 1.40MB/s]\n",
            "Downloading...\n",
            "From: https://github.com/mostafa-ja/mal_adv3/raw/main/drebin/sparse_matrix_y0.npz\n",
            "To: /content/sparse_matrix_y0.npz\n",
            "100%|██████████| 5.79k/5.79k [00:00<00:00, 1.22MB/s]\n",
            "Downloading...\n",
            "From: https://github.com/mostafa-ja/mal_adv3/raw/main/drebin/sparse_matrix_y1.npz\n",
            "To: /content/sparse_matrix_y1.npz\n",
            "100%|██████████| 2.64k/2.64k [00:00<00:00, 7.08MB/s]\n",
            "Downloading...\n",
            "From: https://github.com/mostafa-ja/mal_adv3/raw/main/drebin/sparse_matrix_y2.npz\n",
            "To: /content/sparse_matrix_y2.npz\n",
            "100%|██████████| 2.71k/2.71k [00:00<00:00, 6.99MB/s]\n",
            "Downloading...\n",
            "From: https://github.com/mostafa-ja/mal_adv3/raw/main/drebin/model_DNN_drebin_best.pth\n",
            "To: /content/model_DNN_drebin_best.pth\n",
            "100%|██████████| 8.17M/8.17M [00:00<00:00, 27.3MB/s]\n",
            "Downloading...\n",
            "From: https://github.com/mostafa-ja/mal_adv3/raw/main/data/adverserial_attacks_functions.py\n",
            "To: /content/adverserial_attacks_functions.py\n",
            "59.1kB [00:00, 45.5MB/s]                   \n",
            "Downloading...\n",
            "From: https://github.com/mostafa-ja/mal_adv3/raw/main/drebin/model_AT_rFGSM_weightedLoss.pth\n",
            "To: /content/model_AT_rFGSM_weightedLoss.pth\n",
            "100%|██████████| 8.17M/8.17M [00:00<00:00, 27.0MB/s]\n",
            "Downloading...\n",
            "From: https://github.com/mostafa-ja/mal_adv3/raw/main/drebin/model_AT_rFGSM.pth\n",
            "To: /content/model_AT_rFGSM.pth\n",
            "100%|██████████| 8.17M/8.17M [00:00<00:00, 26.7MB/s]\n"
          ]
        }
      ]
    },
    {
      "cell_type": "code",
      "source": [
        "import torch\n",
        "import torch.nn as nn\n",
        "import torch.optim as optim\n",
        "from torch.utils.data import TensorDataset, DataLoader\n",
        "from sklearn.metrics import accuracy_score, precision_score, recall_score, f1_score,balanced_accuracy_score\n",
        "import numpy as np\n",
        "from scipy import sparse\n",
        "import matplotlib.pyplot as plt\n",
        "import pickle\n",
        "import random\n",
        "import time\n",
        "\n",
        "# Device configuration\n",
        "device = torch.device(\"cuda\" if torch.cuda.is_available() else \"cpu\")\n",
        "print(device)\n",
        "\n",
        "from adverserial_attacks_functions import *\n",
        "\n",
        "torch.manual_seed(0)\n",
        "\n"
      ],
      "metadata": {
        "id": "JKDdI3K9LrlF",
        "colab": {
          "base_uri": "https://localhost:8080/"
        },
        "outputId": "3626d263-a99c-4d54-9a45-e95aab1216b9"
      },
      "execution_count": 3,
      "outputs": [
        {
          "output_type": "stream",
          "name": "stdout",
          "text": [
            "cpu\n",
            "cpu\n"
          ]
        },
        {
          "output_type": "execute_result",
          "data": {
            "text/plain": [
              "<torch._C.Generator at 0x79075da0bf10>"
            ]
          },
          "metadata": {},
          "execution_count": 3
        }
      ]
    },
    {
      "cell_type": "code",
      "source": [
        "\n",
        "# Load dataset\n",
        "X_train = sparse.load_npz(\"/content/sparse_matrix_0.npz\").toarray()\n",
        "X_val = sparse.load_npz(\"/content/sparse_matrix_1.npz\").toarray()\n",
        "X_test = sparse.load_npz(\"/content/sparse_matrix_2.npz\").toarray()\n",
        "\n",
        "X_train = torch.tensor(X_train, dtype=torch.int8)\n",
        "X_val = torch.tensor(X_val, dtype=torch.int8)\n",
        "X_test = torch.tensor(X_test, dtype=torch.int8)\n",
        "\n",
        "\n",
        "y_train = sparse.load_npz(\"/content/sparse_matrix_y0.npz\").toarray().reshape((-1, 1))\n",
        "y_val = sparse.load_npz(\"/content/sparse_matrix_y1.npz\").toarray().reshape((-1, 1))\n",
        "y_test = sparse.load_npz(\"/content/sparse_matrix_y2.npz\").toarray().reshape((-1, 1))\n",
        "\n",
        "y_train = torch.tensor(y_train, dtype=torch.int8)\n",
        "y_val = torch.tensor(y_val, dtype=torch.int8)\n",
        "y_test = torch.tensor(y_test, dtype=torch.int8)\n",
        "\n",
        "\n",
        "print(\"Shapes:\")\n",
        "print(\"x_train:\", X_train.shape)\n",
        "print(\"x_val:\", X_val.shape)\n",
        "print(\"x_test:\", X_test.shape)\n",
        "print(\"y_train:\", y_train.shape)\n",
        "print(\"y_val:\", y_val.shape)\n",
        "print(\"y_test:\", y_test.shape)"
      ],
      "metadata": {
        "colab": {
          "base_uri": "https://localhost:8080/"
        },
        "id": "5blmEg4h-GKy",
        "outputId": "4acee302-23c9-474a-9dbd-66da8d84f275"
      },
      "execution_count": 4,
      "outputs": [
        {
          "output_type": "stream",
          "name": "stdout",
          "text": [
            "Shapes:\n",
            "x_train: torch.Size([28683, 10000])\n",
            "x_val: torch.Size([9562, 10000])\n",
            "x_test: torch.Size([9562, 10000])\n",
            "y_train: torch.Size([28683, 1])\n",
            "y_val: torch.Size([9562, 1])\n",
            "y_test: torch.Size([9562, 1])\n"
          ]
        }
      ]
    },
    {
      "cell_type": "code",
      "source": [
        "# number of benigns and malicious sample in training dataset\n",
        "n_ben = (y_train.squeeze()== 0).sum().item()\n",
        "n_mal = (y_train.squeeze()== 1).sum().item()\n",
        "print('the proportion of malwares : ', n_mal/(n_mal+n_ben))\n",
        "\n",
        "# Combine features and labels into datasets\n",
        "train_dataset = TensorDataset(X_train, y_train)\n",
        "val_dataset = TensorDataset(X_val, y_val)\n",
        "test_dataset = TensorDataset(X_test, y_test)\n",
        "\n",
        "# Define the DataLoader for training, validation, and test sets\n",
        "batch_size = 128\n",
        "train_loader = DataLoader(train_dataset, batch_size=batch_size,shuffle=True)\n",
        "val_loader = DataLoader(val_dataset, batch_size=batch_size, shuffle=False)\n",
        "test_loader = DataLoader(test_dataset, batch_size=batch_size, shuffle=False)\n",
        "\n",
        "# Clear unnecessary variables\n",
        "del train_dataset, val_dataset, test_dataset, y_train, y_val, y_test\n"
      ],
      "metadata": {
        "colab": {
          "base_uri": "https://localhost:8080/"
        },
        "id": "81AZSXOV-HoW",
        "outputId": "ed7d3522-a34a-4416-eca4-23103de2d77d"
      },
      "execution_count": 5,
      "outputs": [
        {
          "output_type": "stream",
          "name": "stdout",
          "text": [
            "the proportion of malwares :  0.11386535578565701\n"
          ]
        }
      ]
    },
    {
      "cell_type": "code",
      "source": [
        "model_DNN = MalwareDetectionModel().to(device)\n",
        "# Load model parameters\n",
        "model_DNN.load_state_dict(torch.load('model_DNN_drebin_best.pth', map_location=torch.device(device)))"
      ],
      "metadata": {
        "id": "0MavlKAt6mb8",
        "colab": {
          "base_uri": "https://localhost:8080/"
        },
        "outputId": "41cd7a65-937d-433f-d724-2afee8586fe8"
      },
      "execution_count": 6,
      "outputs": [
        {
          "output_type": "execute_result",
          "data": {
            "text/plain": [
              "<All keys matched successfully>"
            ]
          },
          "metadata": {},
          "execution_count": 6
        }
      ]
    },
    {
      "cell_type": "code",
      "source": [
        "# AT-rFGSM: Adversarial Taraining based on rFGSM attack\n",
        "model_AT = MalwareDetectionModel().to(device)\n",
        "\n",
        "attack_param = {\"k\":50, \"epsilon\":0.02, 'random':True, \"is_sample\":False, 'is_report_loss_diff':False}\n",
        "adversarial_training(model_AT, train_loader, val_loader, adv_epochs=50, attack=dfgsm_k, **attack_param)"
      ],
      "metadata": {
        "id": "E8zaItRUryCv",
        "colab": {
          "base_uri": "https://localhost:8080/"
        },
        "outputId": "bfd97076-f629-41dd-a96c-bcde54d266b7"
      },
      "execution_count": null,
      "outputs": [
        {
          "output_type": "stream",
          "name": "stdout",
          "text": [
            "Epoch: 1/50 | Training loss (epoch level): 0.4479 | Train accuracy: 92.48%\n",
            "\tVal accuracy(without attack) 96.63% and accuracy(with attack) 72.02% under attack and overall accuracy 84.33%.\n",
            "\tModel select at epoch 1 with validation accuracy 84.33% and accuracy 72.02% under attack.\n",
            "Epoch: 2/50 | Training loss (epoch level): 0.1073 | Train accuracy: 96.83%\n",
            "\tVal accuracy(without attack) 98.17% and accuracy(with attack) 86.98% under attack and overall accuracy 92.58%.\n",
            "\tModel select at epoch 2 with validation accuracy 92.58% and accuracy 86.98% under attack.\n",
            "Epoch: 3/50 | Training loss (epoch level): 0.0607 | Train accuracy: 98.08%\n",
            "\tVal accuracy(without attack) 98.28% and accuracy(with attack) 91.32% under attack and overall accuracy 94.8%.\n",
            "\tModel select at epoch 3 with validation accuracy 94.8% and accuracy 91.32% under attack.\n",
            "Epoch: 4/50 | Training loss (epoch level): 0.0498 | Train accuracy: 98.47%\n",
            "\tVal accuracy(without attack) 98.69% and accuracy(with attack) 86.15% under attack and overall accuracy 92.42%.\n",
            "\tModel select at epoch 3 with validation accuracy 94.8% and accuracy 91.32% under attack.\n",
            "Epoch: 5/50 | Training loss (epoch level): 0.0290 | Train accuracy: 99.10%\n",
            "\tVal accuracy(without attack) 98.54% and accuracy(with attack) 90.86% under attack and overall accuracy 94.7%.\n",
            "\tModel select at epoch 3 with validation accuracy 94.8% and accuracy 91.32% under attack.\n",
            "Epoch: 6/50 | Training loss (epoch level): 0.0216 | Train accuracy: 99.40%\n",
            "\tVal accuracy(without attack) 98.66% and accuracy(with attack) 90.67% under attack and overall accuracy 94.67%.\n",
            "\tModel select at epoch 3 with validation accuracy 94.8% and accuracy 91.32% under attack.\n",
            "Epoch: 7/50 | Training loss (epoch level): 0.0179 | Train accuracy: 99.53%\n",
            "\tVal accuracy(without attack) 98.7% and accuracy(with attack) 88.92% under attack and overall accuracy 93.81%.\n",
            "\tModel select at epoch 3 with validation accuracy 94.8% and accuracy 91.32% under attack.\n",
            "Epoch: 8/50 | Training loss (epoch level): 0.0176 | Train accuracy: 99.54%\n",
            "\tVal accuracy(without attack) 98.84% and accuracy(with attack) 88.83% under attack and overall accuracy 93.83%.\n",
            "\tModel select at epoch 3 with validation accuracy 94.8% and accuracy 91.32% under attack.\n",
            "Epoch: 9/50 | Training loss (epoch level): 0.0153 | Train accuracy: 99.61%\n",
            "\tVal accuracy(without attack) 98.73% and accuracy(with attack) 90.86% under attack and overall accuracy 94.8%.\n",
            "\tModel select at epoch 3 with validation accuracy 94.8% and accuracy 91.32% under attack.\n",
            "Epoch: 10/50 | Training loss (epoch level): 0.0157 | Train accuracy: 99.61%\n",
            "\tVal accuracy(without attack) 98.83% and accuracy(with attack) 90.67% under attack and overall accuracy 94.75%.\n",
            "\tModel select at epoch 3 with validation accuracy 94.8% and accuracy 91.32% under attack.\n",
            "Epoch: 11/50 | Training loss (epoch level): 0.0087 | Train accuracy: 99.83%\n",
            "\tVal accuracy(without attack) 98.86% and accuracy(with attack) 91.78% under attack and overall accuracy 95.32%.\n",
            "\tModel select at epoch 11 with validation accuracy 95.32% and accuracy 91.78% under attack.\n",
            "Epoch: 12/50 | Training loss (epoch level): 0.0099 | Train accuracy: 99.79%\n",
            "\tVal accuracy(without attack) 98.59% and accuracy(with attack) 91.32% under attack and overall accuracy 94.95%.\n",
            "\tModel select at epoch 11 with validation accuracy 95.32% and accuracy 91.78% under attack.\n",
            "Epoch: 13/50 | Training loss (epoch level): 0.0099 | Train accuracy: 99.81%\n",
            "\tVal accuracy(without attack) 98.79% and accuracy(with attack) 91.41% under attack and overall accuracy 95.1%.\n",
            "\tModel select at epoch 11 with validation accuracy 95.32% and accuracy 91.78% under attack.\n",
            "Epoch: 14/50 | Training loss (epoch level): 0.0113 | Train accuracy: 99.74%\n",
            "\tVal accuracy(without attack) 98.7% and accuracy(with attack) 91.04% under attack and overall accuracy 94.87%.\n",
            "\tModel select at epoch 11 with validation accuracy 95.32% and accuracy 91.78% under attack.\n",
            "Epoch: 15/50 | Training loss (epoch level): 0.0089 | Train accuracy: 99.81%\n",
            "\tVal accuracy(without attack) 98.88% and accuracy(with attack) 88.73% under attack and overall accuracy 93.81%.\n",
            "\tModel select at epoch 11 with validation accuracy 95.32% and accuracy 91.78% under attack.\n",
            "Epoch: 16/50 | Training loss (epoch level): 0.0080 | Train accuracy: 99.82%\n",
            "\tVal accuracy(without attack) 98.85% and accuracy(with attack) 91.41% under attack and overall accuracy 95.13%.\n",
            "\tModel select at epoch 11 with validation accuracy 95.32% and accuracy 91.78% under attack.\n",
            "Epoch: 17/50 | Training loss (epoch level): 0.0079 | Train accuracy: 99.82%\n",
            "\tVal accuracy(without attack) 98.87% and accuracy(with attack) 89.47% under attack and overall accuracy 94.17%.\n",
            "\tModel select at epoch 11 with validation accuracy 95.32% and accuracy 91.78% under attack.\n",
            "Epoch: 18/50 | Training loss (epoch level): 0.0084 | Train accuracy: 99.83%\n",
            "\tVal accuracy(without attack) 98.82% and accuracy(with attack) 92.52% under attack and overall accuracy 95.67%.\n",
            "\tModel select at epoch 18 with validation accuracy 95.67% and accuracy 92.52% under attack.\n",
            "Epoch: 19/50 | Training loss (epoch level): 0.0076 | Train accuracy: 99.86%\n",
            "\tVal accuracy(without attack) 98.87% and accuracy(with attack) 91.78% under attack and overall accuracy 95.33%.\n",
            "\tModel select at epoch 18 with validation accuracy 95.67% and accuracy 92.52% under attack.\n",
            "Epoch: 20/50 | Training loss (epoch level): 0.0069 | Train accuracy: 99.87%\n",
            "\tVal accuracy(without attack) 98.79% and accuracy(with attack) 90.67% under attack and overall accuracy 94.73%.\n",
            "\tModel select at epoch 18 with validation accuracy 95.67% and accuracy 92.52% under attack.\n",
            "Epoch: 21/50 | Training loss (epoch level): 0.0079 | Train accuracy: 99.82%\n",
            "\tVal accuracy(without attack) 98.78% and accuracy(with attack) 91.41% under attack and overall accuracy 95.09%.\n",
            "\tModel select at epoch 18 with validation accuracy 95.67% and accuracy 92.52% under attack.\n",
            "Epoch: 22/50 | Training loss (epoch level): 0.0064 | Train accuracy: 99.88%\n",
            "\tVal accuracy(without attack) 98.86% and accuracy(with attack) 90.03% under attack and overall accuracy 94.44%.\n",
            "\tModel select at epoch 18 with validation accuracy 95.67% and accuracy 92.52% under attack.\n",
            "Epoch: 23/50 | Training loss (epoch level): 0.0064 | Train accuracy: 99.89%\n",
            "\tVal accuracy(without attack) 98.79% and accuracy(with attack) 91.32% under attack and overall accuracy 95.05%.\n",
            "\tModel select at epoch 18 with validation accuracy 95.67% and accuracy 92.52% under attack.\n",
            "Epoch: 24/50 | Training loss (epoch level): 0.0075 | Train accuracy: 99.84%\n",
            "\tVal accuracy(without attack) 98.69% and accuracy(with attack) 91.04% under attack and overall accuracy 94.87%.\n",
            "\tModel select at epoch 18 with validation accuracy 95.67% and accuracy 92.52% under attack.\n",
            "Epoch: 25/50 | Training loss (epoch level): 0.0131 | Train accuracy: 99.76%\n",
            "\tVal accuracy(without attack) 98.82% and accuracy(with attack) 91.78% under attack and overall accuracy 95.3%.\n",
            "\tModel select at epoch 18 with validation accuracy 95.67% and accuracy 92.52% under attack.\n",
            "Epoch: 26/50 | Training loss (epoch level): 0.0048 | Train accuracy: 99.92%\n",
            "\tVal accuracy(without attack) 98.82% and accuracy(with attack) 92.43% under attack and overall accuracy 95.62%.\n",
            "\tModel select at epoch 18 with validation accuracy 95.67% and accuracy 92.52% under attack.\n",
            "Epoch: 27/50 | Training loss (epoch level): 0.0038 | Train accuracy: 99.93%\n",
            "\tVal accuracy(without attack) 98.86% and accuracy(with attack) 92.24% under attack and overall accuracy 95.55%.\n",
            "\tModel select at epoch 18 with validation accuracy 95.67% and accuracy 92.52% under attack.\n",
            "Epoch: 28/50 | Training loss (epoch level): 0.0039 | Train accuracy: 99.94%\n",
            "\tVal accuracy(without attack) 98.83% and accuracy(with attack) 92.61% under attack and overall accuracy 95.72%.\n",
            "\tModel select at epoch 28 with validation accuracy 95.72% and accuracy 92.61% under attack.\n",
            "Epoch: 29/50 | Training loss (epoch level): 0.0038 | Train accuracy: 99.93%\n",
            "\tVal accuracy(without attack) 98.9% and accuracy(with attack) 92.61% under attack and overall accuracy 95.76%.\n",
            "\tModel select at epoch 29 with validation accuracy 95.76% and accuracy 92.61% under attack.\n",
            "Epoch: 30/50 | Training loss (epoch level): 0.0034 | Train accuracy: 99.94%\n",
            "\tVal accuracy(without attack) 98.87% and accuracy(with attack) 92.15% under attack and overall accuracy 95.51%.\n",
            "\tModel select at epoch 29 with validation accuracy 95.76% and accuracy 92.61% under attack.\n",
            "Epoch: 31/50 | Training loss (epoch level): 0.0033 | Train accuracy: 99.94%\n",
            "\tVal accuracy(without attack) 98.85% and accuracy(with attack) 92.34% under attack and overall accuracy 95.59%.\n",
            "\tModel select at epoch 29 with validation accuracy 95.76% and accuracy 92.61% under attack.\n",
            "Epoch: 32/50 | Training loss (epoch level): 0.0035 | Train accuracy: 99.94%\n",
            "\tVal accuracy(without attack) 98.85% and accuracy(with attack) 92.43% under attack and overall accuracy 95.64%.\n",
            "\tModel select at epoch 29 with validation accuracy 95.76% and accuracy 92.61% under attack.\n",
            "Epoch: 33/50 | Training loss (epoch level): 0.0031 | Train accuracy: 99.94%\n",
            "\tVal accuracy(without attack) 98.83% and accuracy(with attack) 92.89% under attack and overall accuracy 95.86%.\n",
            "\tModel select at epoch 33 with validation accuracy 95.86% and accuracy 92.89% under attack.\n",
            "Epoch: 34/50 | Training loss (epoch level): 0.0031 | Train accuracy: 99.94%\n",
            "\tVal accuracy(without attack) 98.88% and accuracy(with attack) 91.78% under attack and overall accuracy 95.33%.\n",
            "\tModel select at epoch 33 with validation accuracy 95.86% and accuracy 92.89% under attack.\n",
            "Epoch: 35/50 | Training loss (epoch level): 0.0029 | Train accuracy: 99.94%\n",
            "\tVal accuracy(without attack) 98.82% and accuracy(with attack) 92.89% under attack and overall accuracy 95.85%.\n",
            "\tModel select at epoch 33 with validation accuracy 95.86% and accuracy 92.89% under attack.\n",
            "Epoch: 36/50 | Training loss (epoch level): 0.0032 | Train accuracy: 99.94%\n",
            "\tVal accuracy(without attack) 98.82% and accuracy(with attack) 92.52% under attack and overall accuracy 95.67%.\n",
            "\tModel select at epoch 33 with validation accuracy 95.86% and accuracy 92.89% under attack.\n",
            "Epoch: 37/50 | Training loss (epoch level): 0.0025 | Train accuracy: 99.94%\n",
            "\tVal accuracy(without attack) 98.84% and accuracy(with attack) 92.34% under attack and overall accuracy 95.59%.\n",
            "\tModel select at epoch 33 with validation accuracy 95.86% and accuracy 92.89% under attack.\n",
            "Epoch: 38/50 | Training loss (epoch level): 0.0028 | Train accuracy: 99.95%\n",
            "\tVal accuracy(without attack) 98.85% and accuracy(with attack) 92.71% under attack and overall accuracy 95.78%.\n",
            "\tModel select at epoch 33 with validation accuracy 95.86% and accuracy 92.89% under attack.\n",
            "Epoch: 39/50 | Training loss (epoch level): 0.0025 | Train accuracy: 99.95%\n",
            "\tVal accuracy(without attack) 98.83% and accuracy(with attack) 92.71% under attack and overall accuracy 95.77%.\n",
            "\tModel select at epoch 33 with validation accuracy 95.86% and accuracy 92.89% under attack.\n",
            "Epoch: 40/50 | Training loss (epoch level): 0.0028 | Train accuracy: 99.95%\n",
            "\tVal accuracy(without attack) 98.84% and accuracy(with attack) 92.43% under attack and overall accuracy 95.63%.\n",
            "\tModel select at epoch 33 with validation accuracy 95.86% and accuracy 92.89% under attack.\n",
            "Epoch: 41/50 | Training loss (epoch level): 0.0027 | Train accuracy: 99.95%\n",
            "\tVal accuracy(without attack) 98.87% and accuracy(with attack) 92.34% under attack and overall accuracy 95.6%.\n",
            "\tModel select at epoch 33 with validation accuracy 95.86% and accuracy 92.89% under attack.\n",
            "Epoch: 42/50 | Training loss (epoch level): 0.0027 | Train accuracy: 99.94%\n",
            "\tVal accuracy(without attack) 98.87% and accuracy(with attack) 92.52% under attack and overall accuracy 95.7%.\n",
            "\tModel select at epoch 33 with validation accuracy 95.86% and accuracy 92.89% under attack.\n",
            "Epoch: 43/50 | Training loss (epoch level): 0.0023 | Train accuracy: 99.95%\n",
            "\tVal accuracy(without attack) 98.85% and accuracy(with attack) 92.43% under attack and overall accuracy 95.64%.\n",
            "\tModel select at epoch 33 with validation accuracy 95.86% and accuracy 92.89% under attack.\n",
            "Epoch: 44/50 | Training loss (epoch level): 0.0027 | Train accuracy: 99.95%\n",
            "\tVal accuracy(without attack) 98.87% and accuracy(with attack) 92.43% under attack and overall accuracy 95.65%.\n",
            "\tModel select at epoch 33 with validation accuracy 95.86% and accuracy 92.89% under attack.\n",
            "Epoch: 45/50 | Training loss (epoch level): 0.0025 | Train accuracy: 99.95%\n",
            "\tVal accuracy(without attack) 98.87% and accuracy(with attack) 92.61% under attack and overall accuracy 95.74%.\n",
            "\tModel select at epoch 33 with validation accuracy 95.86% and accuracy 92.89% under attack.\n",
            "Epoch: 46/50 | Training loss (epoch level): 0.0027 | Train accuracy: 99.95%\n",
            "\tVal accuracy(without attack) 98.87% and accuracy(with attack) 92.61% under attack and overall accuracy 95.74%.\n",
            "\tModel select at epoch 33 with validation accuracy 95.86% and accuracy 92.89% under attack.\n",
            "Epoch: 47/50 | Training loss (epoch level): 0.0025 | Train accuracy: 99.95%\n",
            "\tVal accuracy(without attack) 98.87% and accuracy(with attack) 92.24% under attack and overall accuracy 95.56%.\n",
            "\tModel select at epoch 33 with validation accuracy 95.86% and accuracy 92.89% under attack.\n",
            "Epoch: 48/50 | Training loss (epoch level): 0.0027 | Train accuracy: 99.96%\n",
            "\tVal accuracy(without attack) 98.87% and accuracy(with attack) 92.8% under attack and overall accuracy 95.83%.\n",
            "\tModel select at epoch 33 with validation accuracy 95.86% and accuracy 92.89% under attack.\n",
            "Epoch: 49/50 | Training loss (epoch level): 0.0025 | Train accuracy: 99.94%\n",
            "\tVal accuracy(without attack) 98.87% and accuracy(with attack) 92.52% under attack and overall accuracy 95.7%.\n",
            "\tModel select at epoch 33 with validation accuracy 95.86% and accuracy 92.89% under attack.\n",
            "Epoch: 50/50 | Training loss (epoch level): 0.0022 | Train accuracy: 99.96%\n",
            "\tVal accuracy(without attack) 98.88% and accuracy(with attack) 92.15% under attack and overall accuracy 95.52%.\n",
            "\tModel select at epoch 33 with validation accuracy 95.86% and accuracy 92.89% under attack.\n"
          ]
        }
      ]
    },
    {
      "cell_type": "code",
      "source": [
        "# with weighted loss\n",
        "# AT-rFGSM: Adversarial Taraining based on rFGSM attack\n",
        "model_AT = MalwareDetectionModel().to(device)\n",
        "\n",
        "attack_param = {\"k\":50, \"epsilon\":0.02, 'random':True, \"is_sample\":False, 'is_report_loss_diff':False}\n",
        "adversarial_training(model_AT, train_loader, val_loader, adv_epochs=50,lr=0.005, attack=dfgsm_k, **attack_param)"
      ],
      "metadata": {
        "colab": {
          "base_uri": "https://localhost:8080/"
        },
        "id": "8aIUendrNcia",
        "outputId": "e990a240-5ef0-43c3-95c7-bd512d6d5689"
      },
      "execution_count": null,
      "outputs": [
        {
          "output_type": "stream",
          "name": "stdout",
          "text": [
            "Epoch: 1/50 | Training loss (epoch level): 0.3193 | Train accuracy: 85.24%\n",
            "\tVal accuracy(without attack) 96.34% and accuracy(with attack) 92.52% under attack and overall accuracy 94.43%.\n",
            "\tModel select at epoch 1 with validation accuracy 94.43% and accuracy 92.52% under attack.\n",
            "Epoch: 2/50 | Training loss (epoch level): 0.1226 | Train accuracy: 96.32%\n",
            "\tVal accuracy(without attack) 96.81% and accuracy(with attack) 97.05% under attack and overall accuracy 96.93%.\n",
            "\tModel select at epoch 2 with validation accuracy 96.93% and accuracy 97.05% under attack.\n",
            "Epoch: 3/50 | Training loss (epoch level): 0.0919 | Train accuracy: 97.24%\n",
            "\tVal accuracy(without attack) 97.28% and accuracy(with attack) 96.12% under attack and overall accuracy 96.7%.\n",
            "\tModel select at epoch 2 with validation accuracy 96.93% and accuracy 97.05% under attack.\n",
            "Epoch: 4/50 | Training loss (epoch level): 0.1095 | Train accuracy: 96.62%\n",
            "\tVal accuracy(without attack) 97.95% and accuracy(with attack) 91.69% under attack and overall accuracy 94.82%.\n",
            "\tModel select at epoch 2 with validation accuracy 96.93% and accuracy 97.05% under attack.\n",
            "Epoch: 5/50 | Training loss (epoch level): 0.0722 | Train accuracy: 97.90%\n",
            "\tVal accuracy(without attack) 97.76% and accuracy(with attack) 94.0% under attack and overall accuracy 95.88%.\n",
            "\tModel select at epoch 2 with validation accuracy 96.93% and accuracy 97.05% under attack.\n",
            "Epoch: 6/50 | Training loss (epoch level): 0.0569 | Train accuracy: 98.66%\n",
            "\tVal accuracy(without attack) 98.55% and accuracy(with attack) 94.74% under attack and overall accuracy 96.64%.\n",
            "\tModel select at epoch 2 with validation accuracy 96.93% and accuracy 97.05% under attack.\n",
            "Epoch: 7/50 | Training loss (epoch level): 0.0523 | Train accuracy: 98.81%\n",
            "\tVal accuracy(without attack) 96.89% and accuracy(with attack) 97.14% under attack and overall accuracy 97.02%.\n",
            "\tModel select at epoch 7 with validation accuracy 97.02% and accuracy 97.14% under attack.\n",
            "Epoch: 8/50 | Training loss (epoch level): 0.0508 | Train accuracy: 98.89%\n",
            "\tVal accuracy(without attack) 98.05% and accuracy(with attack) 95.38% under attack and overall accuracy 96.72%.\n",
            "\tModel select at epoch 7 with validation accuracy 97.02% and accuracy 97.14% under attack.\n",
            "Epoch: 9/50 | Training loss (epoch level): 0.0414 | Train accuracy: 99.10%\n",
            "\tVal accuracy(without attack) 98.43% and accuracy(with attack) 96.58% under attack and overall accuracy 97.51%.\n",
            "\tModel select at epoch 9 with validation accuracy 97.51% and accuracy 96.58% under attack.\n",
            "Epoch: 10/50 | Training loss (epoch level): 0.0358 | Train accuracy: 99.27%\n",
            "\tVal accuracy(without attack) 98.66% and accuracy(with attack) 95.48% under attack and overall accuracy 97.07%.\n",
            "\tModel select at epoch 9 with validation accuracy 97.51% and accuracy 96.58% under attack.\n",
            "Epoch: 11/50 | Training loss (epoch level): 0.0264 | Train accuracy: 99.38%\n",
            "\tVal accuracy(without attack) 98.48% and accuracy(with attack) 94.83% under attack and overall accuracy 96.66%.\n",
            "\tModel select at epoch 9 with validation accuracy 97.51% and accuracy 96.58% under attack.\n",
            "Epoch: 12/50 | Training loss (epoch level): 0.0280 | Train accuracy: 99.46%\n",
            "\tVal accuracy(without attack) 98.71% and accuracy(with attack) 95.11% under attack and overall accuracy 96.91%.\n",
            "\tModel select at epoch 9 with validation accuracy 97.51% and accuracy 96.58% under attack.\n",
            "Epoch: 13/50 | Training loss (epoch level): 0.0241 | Train accuracy: 99.61%\n",
            "\tVal accuracy(without attack) 96.03% and accuracy(with attack) 97.69% under attack and overall accuracy 96.86%.\n",
            "\tModel select at epoch 9 with validation accuracy 97.51% and accuracy 96.58% under attack.\n",
            "Epoch: 14/50 | Training loss (epoch level): 0.0265 | Train accuracy: 99.47%\n",
            "\tVal accuracy(without attack) 98.93% and accuracy(with attack) 92.98% under attack and overall accuracy 95.96%.\n",
            "\tModel select at epoch 9 with validation accuracy 97.51% and accuracy 96.58% under attack.\n",
            "Epoch: 15/50 | Training loss (epoch level): 0.0276 | Train accuracy: 99.51%\n",
            "\tVal accuracy(without attack) 98.99% and accuracy(with attack) 94.09% under attack and overall accuracy 96.54%.\n",
            "\tModel select at epoch 9 with validation accuracy 97.51% and accuracy 96.58% under attack.\n",
            "Epoch: 16/50 | Training loss (epoch level): 0.0277 | Train accuracy: 99.47%\n",
            "\tVal accuracy(without attack) 98.71% and accuracy(with attack) 93.81% under attack and overall accuracy 96.26%.\n",
            "\tModel select at epoch 9 with validation accuracy 97.51% and accuracy 96.58% under attack.\n",
            "Epoch: 17/50 | Training loss (epoch level): 0.0331 | Train accuracy: 99.51%\n",
            "\tVal accuracy(without attack) 98.6% and accuracy(with attack) 95.84% under attack and overall accuracy 97.22%.\n",
            "\tModel select at epoch 9 with validation accuracy 97.51% and accuracy 96.58% under attack.\n",
            "Epoch: 18/50 | Training loss (epoch level): 0.0224 | Train accuracy: 99.59%\n",
            "\tVal accuracy(without attack) 98.65% and accuracy(with attack) 95.29% under attack and overall accuracy 96.97%.\n",
            "\tModel select at epoch 9 with validation accuracy 97.51% and accuracy 96.58% under attack.\n",
            "Epoch: 19/50 | Training loss (epoch level): 0.0215 | Train accuracy: 99.66%\n",
            "\tVal accuracy(without attack) 98.91% and accuracy(with attack) 94.18% under attack and overall accuracy 96.55%.\n",
            "\tModel select at epoch 9 with validation accuracy 97.51% and accuracy 96.58% under attack.\n",
            "Epoch: 20/50 | Training loss (epoch level): 0.0278 | Train accuracy: 99.47%\n",
            "\tVal accuracy(without attack) 99.08% and accuracy(with attack) 93.54% under attack and overall accuracy 96.31%.\n",
            "\tModel select at epoch 9 with validation accuracy 97.51% and accuracy 96.58% under attack.\n",
            "Epoch: 21/50 | Training loss (epoch level): 0.0160 | Train accuracy: 99.75%\n",
            "\tVal accuracy(without attack) 99.0% and accuracy(with attack) 95.29% under attack and overall accuracy 97.14%.\n",
            "\tModel select at epoch 9 with validation accuracy 97.51% and accuracy 96.58% under attack.\n",
            "Epoch: 22/50 | Training loss (epoch level): 0.0107 | Train accuracy: 99.90%\n",
            "\tVal accuracy(without attack) 99.03% and accuracy(with attack) 96.03% under attack and overall accuracy 97.53%.\n",
            "\tModel select at epoch 22 with validation accuracy 97.53% and accuracy 96.03% under attack.\n",
            "Epoch: 23/50 | Training loss (epoch level): 0.0076 | Train accuracy: 99.93%\n",
            "\tVal accuracy(without attack) 98.92% and accuracy(with attack) 95.48% under attack and overall accuracy 97.2%.\n",
            "\tModel select at epoch 22 with validation accuracy 97.53% and accuracy 96.03% under attack.\n",
            "Epoch: 24/50 | Training loss (epoch level): 0.0084 | Train accuracy: 99.91%\n",
            "\tVal accuracy(without attack) 98.98% and accuracy(with attack) 95.29% under attack and overall accuracy 97.13%.\n",
            "\tModel select at epoch 22 with validation accuracy 97.53% and accuracy 96.03% under attack.\n",
            "Epoch: 25/50 | Training loss (epoch level): 0.0064 | Train accuracy: 99.94%\n",
            "\tVal accuracy(without attack) 99.03% and accuracy(with attack) 94.64% under attack and overall accuracy 96.84%.\n",
            "\tModel select at epoch 22 with validation accuracy 97.53% and accuracy 96.03% under attack.\n",
            "Epoch: 26/50 | Training loss (epoch level): 0.0054 | Train accuracy: 99.95%\n",
            "\tVal accuracy(without attack) 98.9% and accuracy(with attack) 95.84% under attack and overall accuracy 97.37%.\n",
            "\tModel select at epoch 22 with validation accuracy 97.53% and accuracy 96.03% under attack.\n",
            "Epoch: 27/50 | Training loss (epoch level): 0.0048 | Train accuracy: 99.95%\n",
            "\tVal accuracy(without attack) 98.87% and accuracy(with attack) 95.29% under attack and overall accuracy 97.08%.\n",
            "\tModel select at epoch 22 with validation accuracy 97.53% and accuracy 96.03% under attack.\n",
            "Epoch: 28/50 | Training loss (epoch level): 0.0064 | Train accuracy: 99.91%\n",
            "\tVal accuracy(without attack) 98.93% and accuracy(with attack) 95.01% under attack and overall accuracy 96.97%.\n",
            "\tModel select at epoch 22 with validation accuracy 97.53% and accuracy 96.03% under attack.\n",
            "Epoch: 29/50 | Training loss (epoch level): 0.0066 | Train accuracy: 99.90%\n",
            "\tVal accuracy(without attack) 99.0% and accuracy(with attack) 95.2% under attack and overall accuracy 97.1%.\n",
            "\tModel select at epoch 22 with validation accuracy 97.53% and accuracy 96.03% under attack.\n",
            "Epoch: 30/50 | Training loss (epoch level): 0.0079 | Train accuracy: 99.90%\n",
            "\tVal accuracy(without attack) 98.75% and accuracy(with attack) 96.12% under attack and overall accuracy 97.43%.\n",
            "\tModel select at epoch 22 with validation accuracy 97.53% and accuracy 96.03% under attack.\n",
            "Epoch: 31/50 | Training loss (epoch level): 0.0063 | Train accuracy: 99.94%\n",
            "\tVal accuracy(without attack) 98.81% and accuracy(with attack) 96.12% under attack and overall accuracy 97.46%.\n",
            "\tModel select at epoch 22 with validation accuracy 97.53% and accuracy 96.03% under attack.\n",
            "Epoch: 32/50 | Training loss (epoch level): 0.0045 | Train accuracy: 99.93%\n",
            "\tVal accuracy(without attack) 98.79% and accuracy(with attack) 96.03% under attack and overall accuracy 97.41%.\n",
            "\tModel select at epoch 22 with validation accuracy 97.53% and accuracy 96.03% under attack.\n",
            "Epoch: 33/50 | Training loss (epoch level): 0.0047 | Train accuracy: 99.94%\n",
            "\tVal accuracy(without attack) 98.91% and accuracy(with attack) 95.94% under attack and overall accuracy 97.42%.\n",
            "\tModel select at epoch 22 with validation accuracy 97.53% and accuracy 96.03% under attack.\n",
            "Epoch: 34/50 | Training loss (epoch level): 0.0039 | Train accuracy: 99.96%\n",
            "\tVal accuracy(without attack) 98.9% and accuracy(with attack) 96.03% under attack and overall accuracy 97.47%.\n",
            "\tModel select at epoch 22 with validation accuracy 97.53% and accuracy 96.03% under attack.\n",
            "Epoch: 35/50 | Training loss (epoch level): 0.0030 | Train accuracy: 99.94%\n",
            "\tVal accuracy(without attack) 98.94% and accuracy(with attack) 95.75% under attack and overall accuracy 97.35%.\n",
            "\tModel select at epoch 22 with validation accuracy 97.53% and accuracy 96.03% under attack.\n",
            "Epoch: 36/50 | Training loss (epoch level): 0.0039 | Train accuracy: 99.95%\n",
            "\tVal accuracy(without attack) 98.9% and accuracy(with attack) 95.84% under attack and overall accuracy 97.37%.\n",
            "\tModel select at epoch 22 with validation accuracy 97.53% and accuracy 96.03% under attack.\n",
            "Epoch: 37/50 | Training loss (epoch level): 0.0035 | Train accuracy: 99.97%\n",
            "\tVal accuracy(without attack) 98.93% and accuracy(with attack) 95.48% under attack and overall accuracy 97.2%.\n",
            "\tModel select at epoch 22 with validation accuracy 97.53% and accuracy 96.03% under attack.\n",
            "Epoch: 38/50 | Training loss (epoch level): 0.0029 | Train accuracy: 99.97%\n",
            "\tVal accuracy(without attack) 98.94% and accuracy(with attack) 95.11% under attack and overall accuracy 97.02%.\n",
            "\tModel select at epoch 22 with validation accuracy 97.53% and accuracy 96.03% under attack.\n",
            "Epoch: 39/50 | Training loss (epoch level): 0.0048 | Train accuracy: 99.95%\n",
            "\tVal accuracy(without attack) 98.9% and accuracy(with attack) 95.84% under attack and overall accuracy 97.37%.\n",
            "\tModel select at epoch 22 with validation accuracy 97.53% and accuracy 96.03% under attack.\n",
            "Epoch: 40/50 | Training loss (epoch level): 0.0046 | Train accuracy: 99.95%\n",
            "\tVal accuracy(without attack) 98.87% and accuracy(with attack) 95.57% under attack and overall accuracy 97.22%.\n",
            "\tModel select at epoch 22 with validation accuracy 97.53% and accuracy 96.03% under attack.\n",
            "Epoch: 41/50 | Training loss (epoch level): 0.0037 | Train accuracy: 99.94%\n",
            "\tVal accuracy(without attack) 98.89% and accuracy(with attack) 96.21% under attack and overall accuracy 97.55%.\n",
            "\tModel select at epoch 41 with validation accuracy 97.55% and accuracy 96.21% under attack.\n",
            "Epoch: 42/50 | Training loss (epoch level): 0.0038 | Train accuracy: 99.94%\n",
            "\tVal accuracy(without attack) 98.89% and accuracy(with attack) 96.12% under attack and overall accuracy 97.51%.\n",
            "\tModel select at epoch 41 with validation accuracy 97.55% and accuracy 96.21% under attack.\n",
            "Epoch: 43/50 | Training loss (epoch level): 0.0038 | Train accuracy: 99.94%\n",
            "\tVal accuracy(without attack) 98.92% and accuracy(with attack) 95.57% under attack and overall accuracy 97.25%.\n",
            "\tModel select at epoch 41 with validation accuracy 97.55% and accuracy 96.21% under attack.\n",
            "Epoch: 44/50 | Training loss (epoch level): 0.0029 | Train accuracy: 99.95%\n",
            "\tVal accuracy(without attack) 98.93% and accuracy(with attack) 95.75% under attack and overall accuracy 97.34%.\n",
            "\tModel select at epoch 41 with validation accuracy 97.55% and accuracy 96.21% under attack.\n",
            "Epoch: 45/50 | Training loss (epoch level): 0.0037 | Train accuracy: 99.95%\n",
            "\tVal accuracy(without attack) 98.93% and accuracy(with attack) 95.84% under attack and overall accuracy 97.39%.\n",
            "\tModel select at epoch 41 with validation accuracy 97.55% and accuracy 96.21% under attack.\n",
            "Epoch: 46/50 | Training loss (epoch level): 0.0035 | Train accuracy: 99.95%\n",
            "\tVal accuracy(without attack) 98.93% and accuracy(with attack) 95.84% under attack and overall accuracy 97.39%.\n",
            "\tModel select at epoch 41 with validation accuracy 97.55% and accuracy 96.21% under attack.\n",
            "Epoch: 47/50 | Training loss (epoch level): 0.0021 | Train accuracy: 99.95%\n",
            "\tVal accuracy(without attack) 98.96% and accuracy(with attack) 95.75% under attack and overall accuracy 97.36%.\n",
            "\tModel select at epoch 41 with validation accuracy 97.55% and accuracy 96.21% under attack.\n",
            "Epoch: 48/50 | Training loss (epoch level): 0.0041 | Train accuracy: 99.96%\n",
            "\tVal accuracy(without attack) 98.96% and accuracy(with attack) 95.57% under attack and overall accuracy 97.27%.\n",
            "\tModel select at epoch 41 with validation accuracy 97.55% and accuracy 96.21% under attack.\n",
            "Epoch: 49/50 | Training loss (epoch level): 0.0034 | Train accuracy: 99.95%\n",
            "\tVal accuracy(without attack) 98.89% and accuracy(with attack) 95.38% under attack and overall accuracy 97.14%.\n",
            "\tModel select at epoch 41 with validation accuracy 97.55% and accuracy 96.21% under attack.\n",
            "Epoch: 50/50 | Training loss (epoch level): 0.0039 | Train accuracy: 99.95%\n",
            "\tVal accuracy(without attack) 98.88% and accuracy(with attack) 95.57% under attack and overall accuracy 97.22%.\n",
            "\tModel select at epoch 41 with validation accuracy 97.55% and accuracy 96.21% under attack.\n"
          ]
        }
      ]
    },
    {
      "cell_type": "code",
      "source": [],
      "metadata": {
        "id": "5e2QcShxU6k8"
      },
      "execution_count": null,
      "outputs": []
    },
    {
      "cell_type": "code",
      "source": [
        "# Create an instance of your model\n",
        "model_AT_rFGSM = MalwareDetectionModel().to(device)\n",
        "\n",
        "# Load model parameters\n",
        "model_AT_rFGSM.load_state_dict(torch.load('model_AT_rFGSM.pth', map_location=torch.device(device)))"
      ],
      "metadata": {
        "colab": {
          "base_uri": "https://localhost:8080/"
        },
        "id": "FNbO4UcTbDau",
        "outputId": "e4335c58-468f-4a31-e951-01f52f3dde15"
      },
      "execution_count": 7,
      "outputs": [
        {
          "output_type": "execute_result",
          "data": {
            "text/plain": [
              "<All keys matched successfully>"
            ]
          },
          "metadata": {},
          "execution_count": 7
        }
      ]
    },
    {
      "cell_type": "code",
      "source": [
        "# Create an instance of your model\n",
        "model_AT_rFGSM_weightedLoss = MalwareDetectionModel().to(device)\n",
        "\n",
        "# Load model parameters\n",
        "model_AT_rFGSM_weightedLoss.load_state_dict(torch.load('model_AT_rFGSM_weightedLoss.pth', map_location=torch.device(device)))"
      ],
      "metadata": {
        "colab": {
          "base_uri": "https://localhost:8080/"
        },
        "outputId": "ced729ad-d795-4935-9489-1eb14e199dc7",
        "id": "CHO0asXWKkQG"
      },
      "execution_count": 8,
      "outputs": [
        {
          "output_type": "execute_result",
          "data": {
            "text/plain": [
              "<All keys matched successfully>"
            ]
          },
          "metadata": {},
          "execution_count": 8
        }
      ]
    },
    {
      "cell_type": "code",
      "source": [
        "model_evaluation(model_DNN, test_loader, device)"
      ],
      "metadata": {
        "colab": {
          "base_uri": "https://localhost:8080/"
        },
        "id": "cySs-yUNU-1p",
        "outputId": "120b02eb-201c-4ba2-d9b6-79240577cffe"
      },
      "execution_count": 9,
      "outputs": [
        {
          "output_type": "stream",
          "name": "stdout",
          "text": [
            "Test Accuracy: 0.9912\n",
            "Test balanced Accuracy: 0.9785\n",
            "Precision: 0.9637\n",
            "Recall: 0.9619\n",
            "F1-score: 0.9628\n",
            "True Positives (TP): 1087\n",
            "True Negatives (TN): 8391\n",
            "False Positives (FP): 41\n",
            "False Negatives (FN): 43\n",
            "False Negative Rate (FNR): 3.8053\n",
            "False Positive Rate (FPR): 0.4862\n"
          ]
        }
      ]
    },
    {
      "cell_type": "code",
      "source": [
        "model_evaluation(model_AT_rFGSM,test_loader,device)"
      ],
      "metadata": {
        "colab": {
          "base_uri": "https://localhost:8080/"
        },
        "id": "2JzxsIPyU8Yp",
        "outputId": "7de1f475-0e6f-4e19-bdda-4163ae89ed87"
      },
      "execution_count": 10,
      "outputs": [
        {
          "output_type": "stream",
          "name": "stdout",
          "text": [
            "Test Accuracy: 0.9893\n",
            "Test balanced Accuracy: 0.9710\n",
            "Precision: 0.9622\n",
            "Recall: 0.9469\n",
            "F1-score: 0.9545\n",
            "True Positives (TP): 1070\n",
            "True Negatives (TN): 8390\n",
            "False Positives (FP): 42\n",
            "False Negatives (FN): 60\n",
            "False Negative Rate (FNR): 5.3097\n",
            "False Positive Rate (FPR): 0.4981\n"
          ]
        }
      ]
    },
    {
      "cell_type": "code",
      "source": [
        "model_evaluation(model_AT_rFGSM_weightedLoss,test_loader,device)"
      ],
      "metadata": {
        "colab": {
          "base_uri": "https://localhost:8080/"
        },
        "outputId": "944f3a95-4f38-458a-dad3-31c13e56d6ea",
        "id": "BC6ROTzzKkQG"
      },
      "execution_count": 11,
      "outputs": [
        {
          "output_type": "stream",
          "name": "stdout",
          "text": [
            "Test Accuracy: 0.9872\n",
            "Test balanced Accuracy: 0.9782\n",
            "Precision: 0.9286\n",
            "Recall: 0.9664\n",
            "F1-score: 0.9471\n",
            "True Positives (TP): 1092\n",
            "True Negatives (TN): 8348\n",
            "False Positives (FP): 84\n",
            "False Negatives (FN): 38\n",
            "False Negative Rate (FNR): 3.3628\n",
            "False Positive Rate (FPR): 0.9962\n"
          ]
        }
      ]
    },
    {
      "cell_type": "code",
      "source": [
        "# rFGSM\n",
        "attack_params = {\"k\":50, \"epsilon\":0.02, 'random':True, 'is_report_loss_diff':False, 'is_sample':False}\n",
        "adv_predict(test_loader, model_DNN, dfgsm_k, device, **attack_params)\n",
        "adv_predict(test_loader, model_AT_rFGSM, dfgsm_k, device, **attack_params)\n",
        "adv_predict(test_loader, model_AT_rFGSM_weightedLoss, dfgsm_k, device, **attack_params)\n"
      ],
      "metadata": {
        "colab": {
          "base_uri": "https://localhost:8080/"
        },
        "id": "v7yJ1z7LVcWb",
        "outputId": "f93105e5-6344-463a-c5e7-3e56f2b53217"
      },
      "execution_count": 12,
      "outputs": [
        {
          "output_type": "stream",
          "name": "stdout",
          "text": [
            "Accuracy of just malwares (without attack): 96.19% | Under attack: 0.0%.\n",
            "Accuracy of just malwares (without attack): 94.69% | Under attack: 93.81%.\n",
            "Accuracy of just malwares (without attack): 96.64% | Under attack: 95.84%.\n"
          ]
        }
      ]
    },
    {
      "cell_type": "code",
      "source": [
        "# rFGSM\n",
        "attack_params = {\"k\":100, \"epsilon\":0.02, 'random':True, 'is_report_loss_diff':False, 'is_sample':False}\n",
        "adv_predict(test_loader, model_DNN, dfgsm_k, device, **attack_params)\n",
        "adv_predict(test_loader, model_AT_rFGSM, dfgsm_k, device, **attack_params)\n",
        "adv_predict(test_loader, model_AT_rFGSM_weightedLoss, dfgsm_k, device, **attack_params)"
      ],
      "metadata": {
        "colab": {
          "base_uri": "https://localhost:8080/"
        },
        "id": "gpmIzWPcPobq",
        "outputId": "5afd5757-4d62-49c3-e8d8-906a7db5de37"
      },
      "execution_count": null,
      "outputs": [
        {
          "output_type": "stream",
          "name": "stdout",
          "text": [
            "Accuracy of just malwares (without attack): 96.19% | Under attack: 0.0%.\n",
            "Accuracy of just malwares (without attack): 94.69% | Under attack: 93.98%.\n",
            "Accuracy of just malwares (without attack): 96.64% | Under attack: 95.22%.\n"
          ]
        }
      ]
    },
    {
      "cell_type": "code",
      "source": [
        "adv_predict(test_loader, model_AT_rFGSM, attack=pgd, is_report_loss_diff=False, device=device)"
      ],
      "metadata": {
        "colab": {
          "base_uri": "https://localhost:8080/"
        },
        "id": "9I9WmuKLbSc4",
        "outputId": "808b07ea-223a-4d31-befd-131aee0c2a0c"
      },
      "execution_count": null,
      "outputs": [
        {
          "output_type": "stream",
          "name": "stdout",
          "text": [
            "Adversarial accuracy (without attack): 99.36% | Under attack: 90.83%.\n"
          ]
        }
      ]
    },
    {
      "cell_type": "code",
      "source": [
        "# Groose\n",
        "attack_params = {\"k\":100, 'is_report_loss_diff':False}\n",
        "adv_predict(test_loader, model_DNN, grosse_k, device, **attack_params)\n",
        "adv_predict(test_loader, model_AT_rFGSM, grosse_k, device, **attack_params)\n",
        "adv_predict(test_loader, model_AT_rFGSM_weightedLoss, grosse_k, device, **attack_params)"
      ],
      "metadata": {
        "colab": {
          "base_uri": "https://localhost:8080/"
        },
        "id": "a4cRtkd2VrFI",
        "outputId": "236a99f1-004f-41a8-c2cd-3966a8f45430"
      },
      "execution_count": null,
      "outputs": [
        {
          "output_type": "stream",
          "name": "stdout",
          "text": [
            "Accuracy of just malwares (without attack): 96.19% | Under attack: 0.0%.\n",
            "Accuracy of just malwares (without attack): 94.69% | Under attack: 90.09%.\n",
            "Accuracy of just malwares (without attack): 96.64% | Under attack: 80.27%.\n"
          ]
        }
      ]
    },
    {
      "cell_type": "code",
      "source": [
        "# BCA\n",
        "attack_params = {\"k\":100, 'is_report_loss_diff':False, 'use_sample':False}\n",
        "adv_predict(test_loader, model_DNN, bca_k, device, **attack_params)\n",
        "adv_predict(test_loader, model_AT_rFGSM, bca_k, device, **attack_params)\n",
        "adv_predict(test_loader, model_AT_rFGSM_weightedLoss, bca_k, device, **attack_params)"
      ],
      "metadata": {
        "colab": {
          "base_uri": "https://localhost:8080/"
        },
        "id": "Uz542kDOYBXT",
        "outputId": "404442b1-c17d-4b43-93f2-fee15ad81b26"
      },
      "execution_count": null,
      "outputs": [
        {
          "output_type": "stream",
          "name": "stdout",
          "text": [
            "Accuracy of just malwares (without attack): 96.19% | Under attack: 0.0%.\n",
            "Accuracy of just malwares (without attack): 94.69% | Under attack: 90.09%.\n",
            "Accuracy of just malwares (without attack): 96.64% | Under attack: 77.43%.\n"
          ]
        }
      ]
    },
    {
      "cell_type": "code",
      "source": [
        "# BGA\n",
        "attack_params = {\"k\":100, 'is_report_loss_diff':False, 'use_sample':False}\n",
        "adv_predict(test_loader, model_DNN, bga_k, device, **attack_params)\n",
        "adv_predict(test_loader, model_AT_rFGSM, bga_k, device, **attack_params)\n",
        "adv_predict(test_loader, model_AT_rFGSM_weightedLoss, bga_k, device, **attack_params)"
      ],
      "metadata": {
        "colab": {
          "base_uri": "https://localhost:8080/"
        },
        "id": "XHvTnUjkZMxM",
        "outputId": "4845e0d3-e2c3-42b0-cd31-95f98ca35689"
      },
      "execution_count": null,
      "outputs": [
        {
          "output_type": "stream",
          "name": "stdout",
          "text": [
            "Accuracy of just malwares (without attack): 96.19% | Under attack: 0.0%.\n",
            "Accuracy of just malwares (without attack): 94.69% | Under attack: 93.81%.\n",
            "Accuracy of just malwares (without attack): 96.64% | Under attack: 94.16%.\n"
          ]
        }
      ]
    },
    {
      "cell_type": "code",
      "source": [
        "# rFGSM\n",
        "attack_params = {\"k\":100, \"epsilon\":0.02, 'random':True, 'is_report_loss_diff':False, 'is_sample':False}\n",
        "adv_predict(test_loader, model_DNN, dfgsm_k, device, **attack_params)\n",
        "adv_predict(test_loader, model_AT_rFGSM, dfgsm_k, device, **attack_params)\n",
        "adv_predict(test_loader, model_AT_rFGSM_weightedLoss, dfgsm_k, device, **attack_params)"
      ],
      "metadata": {
        "colab": {
          "base_uri": "https://localhost:8080/"
        },
        "id": "EweoSMgIZWay",
        "outputId": "cd6760f5-9c72-4dbb-9de1-8e805fea2d5e"
      },
      "execution_count": null,
      "outputs": [
        {
          "output_type": "stream",
          "name": "stdout",
          "text": [
            "Accuracy of just malwares (without attack): 96.19% | Under attack: 0.0%.\n",
            "Accuracy of just malwares (without attack): 94.69% | Under attack: 93.89%.\n",
            "Accuracy of just malwares (without attack): 96.64% | Under attack: 95.22%.\n"
          ]
        }
      ]
    },
    {
      "cell_type": "code",
      "source": [
        "# PGD-l1\n",
        "attack_params = {\"k\":500, \"step_length\":1., 'norm':'l1', 'random':False, 'is_report_loss_diff':False, 'is_sample':False}\n",
        "adv_predict(test_loader, model_DNN, pgd, device, **attack_params)\n",
        "adv_predict(test_loader, model_AT_rFGSM, pgd, device, **attack_params)\n",
        "adv_predict(test_loader, model_AT_rFGSM_weightedLoss, pgd, device, **attack_params)"
      ],
      "metadata": {
        "colab": {
          "base_uri": "https://localhost:8080/"
        },
        "outputId": "14c7a66c-6eba-4ace-d052-ec66c5af4d26",
        "id": "zMgVOiPlZhAN"
      },
      "execution_count": null,
      "outputs": [
        {
          "output_type": "stream",
          "name": "stdout",
          "text": [
            "Accuracy of just malwares (without attack): 96.19% | Under attack: 0.0%.\n",
            "Accuracy of just malwares (without attack): 94.69% | Under attack: 90.09%.\n",
            "Accuracy of just malwares (without attack): 96.64% | Under attack: 77.43%.\n"
          ]
        }
      ]
    },
    {
      "cell_type": "code",
      "source": [
        "# PGD-l2\n",
        "attack_params = {\"k\":200, \"step_length\":0.05, 'norm':'l2', 'random':False, 'is_report_loss_diff':False, 'is_sample':False}\n",
        "adv_predict(test_loader, model_DNN, pgd, device, **attack_params)\n",
        "adv_predict(test_loader, model_AT_rFGSM, pgd, device, **attack_params)\n",
        "adv_predict(test_loader, model_AT_rFGSM_weightedLoss, pgd, device, **attack_params)"
      ],
      "metadata": {
        "colab": {
          "base_uri": "https://localhost:8080/"
        },
        "outputId": "9210cfc5-35b2-4f19-a824-f492863839f0",
        "id": "SSVE-oVpWS1m"
      },
      "execution_count": null,
      "outputs": [
        {
          "output_type": "stream",
          "name": "stdout",
          "text": [
            "Accuracy of just malwares (without attack): 96.19% | Under attack: 31.24%.\n",
            "Accuracy of just malwares (without attack): 94.69% | Under attack: 94.69%.\n",
            "Accuracy of just malwares (without attack): 96.64% | Under attack: 96.64%.\n"
          ]
        }
      ]
    },
    {
      "cell_type": "code",
      "source": [
        "# PGD-linf\n",
        "attack_params = {\"k\":500, \"step_length\":0.002, 'norm':'linf', 'random':False, 'is_report_loss_diff':False, 'is_sample':False}\n",
        "adv_predict(test_loader, model_DNN, pgd, device, **attack_params)\n",
        "adv_predict(test_loader, model_AT_rFGSM, pgd, device, **attack_params)\n",
        "adv_predict(test_loader, model_AT_rFGSM_weightedLoss, pgd, device, **attack_params)"
      ],
      "metadata": {
        "colab": {
          "base_uri": "https://localhost:8080/"
        },
        "outputId": "3583b83c-4b8d-4ae3-edfc-bd21ab766a4e",
        "id": "oT_EboQaWVOY"
      },
      "execution_count": null,
      "outputs": [
        {
          "output_type": "stream",
          "name": "stdout",
          "text": [
            "Accuracy of just malwares (without attack): 96.19% | Under attack: 0.0%.\n",
            "Accuracy of just malwares (without attack): 94.69% | Under attack: 90.35%.\n",
            "Accuracy of just malwares (without attack): 96.64% | Under attack: 90.53%.\n"
          ]
        }
      ]
    },
    {
      "cell_type": "code",
      "source": [
        "# Mimicry×1\n",
        "attack_params = {\"trials\":1, 'is_report_loss_diff':False}\n",
        "adv_predict(test_loader, model_DNN, mimicry, device, **attack_params)\n",
        "adv_predict(test_loader, model_AT_rFGSM, mimicry, device, **attack_params)\n",
        "adv_predict(test_loader, model_AT_rFGSM_weightedLoss, mimicry, device, **attack_params)"
      ],
      "metadata": {
        "colab": {
          "base_uri": "https://localhost:8080/"
        },
        "outputId": "a7b87ba5-a870-4cc4-e082-27094a249981",
        "id": "wnuxIyWjXA0z"
      },
      "execution_count": null,
      "outputs": [
        {
          "output_type": "stream",
          "name": "stdout",
          "text": [
            "Accuracy of just malwares (without attack): 96.19% | Under attack: 95.04%.\n",
            "Accuracy of just malwares (without attack): 94.69% | Under attack: 94.6%.\n",
            "Accuracy of just malwares (without attack): 96.64% | Under attack: 96.37%.\n"
          ]
        }
      ]
    },
    {
      "cell_type": "code",
      "source": [
        "# Mimicry×10\n",
        "attack_params = {\"trials\":10, 'is_report_loss_diff':False}\n",
        "adv_predict(test_loader, model_DNN, mimicry, device, **attack_params)\n",
        "adv_predict(test_loader, model_AT_rFGSM, mimicry, device, **attack_params)\n",
        "adv_predict(test_loader, model_AT_rFGSM_weightedLoss, mimicry, device, **attack_params)"
      ],
      "metadata": {
        "colab": {
          "base_uri": "https://localhost:8080/"
        },
        "outputId": "afb25b89-df6a-4756-cbbf-2b9f08e6ba9f",
        "id": "U01q9TUyXfOf"
      },
      "execution_count": null,
      "outputs": [
        {
          "output_type": "stream",
          "name": "stdout",
          "text": [
            "Accuracy of just malwares (without attack): 96.19% | Under attack: 25.31%.\n",
            "Accuracy of just malwares (without attack): 94.69% | Under attack: 94.16%.\n",
            "Accuracy of just malwares (without attack): 96.64% | Under attack: 95.04%.\n"
          ]
        }
      ]
    },
    {
      "cell_type": "code",
      "source": [
        "# Mimicry×30\n",
        "attack_params = {\"trials\":30, 'is_report_loss_diff':False}\n",
        "adv_predict(test_loader, model_DNN, mimicry, device, **attack_params)\n",
        "adv_predict(test_loader, model_AT_rFGSM, mimicry, device, **attack_params)\n",
        "adv_predict(test_loader, model_AT_rFGSM_weightedLoss, mimicry, device, **attack_params)"
      ],
      "metadata": {
        "colab": {
          "base_uri": "https://localhost:8080/"
        },
        "outputId": "44755132-e62a-4388-f135-fdbd4d1f66b9",
        "id": "hAXdXB9WZ5gw"
      },
      "execution_count": null,
      "outputs": [
        {
          "output_type": "stream",
          "name": "stdout",
          "text": [
            "Accuracy of just malwares (without attack): 96.19% | Under attack: 25.31%.\n",
            "Accuracy of just malwares (without attack): 94.69% | Under attack: 93.63%.\n",
            "Accuracy of just malwares (without attack): 96.64% | Under attack: 94.34%.\n"
          ]
        }
      ]
    },
    {
      "cell_type": "code",
      "source": [
        "# Mimicry×100\n",
        "attack_params = {\"trials\":100, 'is_report_loss_diff':False}\n",
        "adv_predict(test_loader, model_DNN, mimicry, device, **attack_params)\n",
        "adv_predict(test_loader, model_AT_rFGSM, mimicry, device, **attack_params)\n",
        "adv_predict(test_loader, model_AT_rFGSM_weightedLoss, mimicry, device, **attack_params)"
      ],
      "metadata": {
        "colab": {
          "base_uri": "https://localhost:8080/"
        },
        "id": "Pfpi9634JWuk",
        "outputId": "86b3e61d-7841-45c4-9eb5-32c185eca016"
      },
      "execution_count": null,
      "outputs": [
        {
          "output_type": "stream",
          "name": "stdout",
          "text": [
            "Accuracy of just malwares (without attack): 96.19% | Under attack: 24.6%.\n",
            "Accuracy of just malwares (without attack): 94.69% | Under attack: 92.39%.\n",
            "Accuracy of just malwares (without attack): 96.64% | Under attack: 92.3%.\n"
          ]
        }
      ]
    },
    {
      "cell_type": "code",
      "source": [
        "# Mimicry×1000\n",
        "attack_params = {\"trials\":1000, 'is_report_loss_diff':False}\n",
        "adv_predict(test_loader, model_DNN, mimicry, device, **attack_params)\n",
        "adv_predict(test_loader, model_AT_rFGSM, mimicry, device, **attack_params)\n",
        "adv_predict(test_loader, model_AT_rFGSM_weightedLoss, mimicry, device, **attack_params)"
      ],
      "metadata": {
        "colab": {
          "base_uri": "https://localhost:8080/"
        },
        "id": "4LFfGUJSq8Vi",
        "outputId": "13c3f2cf-fa2a-4dc4-e6a5-5f3392b8e934"
      },
      "execution_count": null,
      "outputs": [
        {
          "output_type": "stream",
          "name": "stdout",
          "text": [
            "Accuracy of just malwares (without attack): 96.19% | Under attack: 2.478%.\n",
            "Accuracy of just malwares (without attack): 94.69% | Under attack: 92.04%.\n",
            "Accuracy of just malwares (without attack): 96.64% | Under attack: 87.26%.\n"
          ]
        }
      ]
    },
    {
      "cell_type": "code",
      "source": [],
      "metadata": {
        "id": "IDFZ2fByX_sU"
      },
      "execution_count": null,
      "outputs": []
    },
    {
      "cell_type": "code",
      "source": [
        "attack_params = {'step_lengths':{\"l1\": 1.0, \"l2\": 0.05, \"linf\": 0.001}, \"steps\":500}\n",
        "adv_predict(test_loader, model_AT_rFGSM, StepwiseMax_onestep2, device, **attack_params)"
      ],
      "metadata": {
        "colab": {
          "base_uri": "https://localhost:8080/",
          "height": 339
        },
        "id": "xylm8-33y2uc",
        "outputId": "3d6737b2-ef8f-4c76-d1be-345b057e242b"
      },
      "execution_count": null,
      "outputs": [
        {
          "output_type": "stream",
          "name": "stdout",
          "text": [
            "step-wise max: attack effectiveness 0.000%.\n",
            "step-wise max: attack effectiveness 10.000%.\n"
          ]
        },
        {
          "output_type": "error",
          "ename": "KeyboardInterrupt",
          "evalue": "",
          "traceback": [
            "\u001b[0;31m---------------------------------------------------------------------------\u001b[0m",
            "\u001b[0;31mKeyboardInterrupt\u001b[0m                         Traceback (most recent call last)",
            "\u001b[0;32m<ipython-input-19-e8a25759aed8>\u001b[0m in \u001b[0;36m<cell line: 2>\u001b[0;34m()\u001b[0m\n\u001b[1;32m      1\u001b[0m \u001b[0mattack_params\u001b[0m \u001b[0;34m=\u001b[0m \u001b[0;34m{\u001b[0m\u001b[0;34m'step_lengths'\u001b[0m\u001b[0;34m:\u001b[0m\u001b[0;34m{\u001b[0m\u001b[0;34m\"l1\"\u001b[0m\u001b[0;34m:\u001b[0m \u001b[0;36m1.0\u001b[0m\u001b[0;34m,\u001b[0m \u001b[0;34m\"l2\"\u001b[0m\u001b[0;34m:\u001b[0m \u001b[0;36m0.05\u001b[0m\u001b[0;34m,\u001b[0m \u001b[0;34m\"linf\"\u001b[0m\u001b[0;34m:\u001b[0m \u001b[0;36m0.001\u001b[0m\u001b[0;34m}\u001b[0m\u001b[0;34m,\u001b[0m \u001b[0;34m\"steps\"\u001b[0m\u001b[0;34m:\u001b[0m\u001b[0;36m500\u001b[0m\u001b[0;34m}\u001b[0m\u001b[0;34m\u001b[0m\u001b[0;34m\u001b[0m\u001b[0m\n\u001b[0;32m----> 2\u001b[0;31m \u001b[0madv_predict\u001b[0m\u001b[0;34m(\u001b[0m\u001b[0mtest_loader\u001b[0m\u001b[0;34m,\u001b[0m \u001b[0mmodel_AT_rFGSM\u001b[0m\u001b[0;34m,\u001b[0m \u001b[0mStepwiseMax_onestep2\u001b[0m\u001b[0;34m,\u001b[0m \u001b[0mdevice\u001b[0m\u001b[0;34m,\u001b[0m \u001b[0;34m**\u001b[0m\u001b[0mattack_params\u001b[0m\u001b[0;34m)\u001b[0m\u001b[0;34m\u001b[0m\u001b[0;34m\u001b[0m\u001b[0m\n\u001b[0m",
            "\u001b[0;32m<ipython-input-13-b64b9f5a7c87>\u001b[0m in \u001b[0;36madv_predict\u001b[0;34m(test_loader, model, attack, device, **kwargs)\u001b[0m\n\u001b[1;32m     12\u001b[0m         \u001b[0;31m# Generate adversarial examples for test set\u001b[0m\u001b[0;34m\u001b[0m\u001b[0;34m\u001b[0m\u001b[0m\n\u001b[1;32m     13\u001b[0m         \u001b[0mmal_x_batch\u001b[0m\u001b[0;34m,\u001b[0m \u001b[0mmal_y_batch\u001b[0m \u001b[0;34m=\u001b[0m \u001b[0mx_test\u001b[0m\u001b[0;34m[\u001b[0m\u001b[0my_test\u001b[0m\u001b[0;34m.\u001b[0m\u001b[0msqueeze\u001b[0m\u001b[0;34m(\u001b[0m\u001b[0;34m)\u001b[0m \u001b[0;34m==\u001b[0m \u001b[0;36m1\u001b[0m\u001b[0;34m]\u001b[0m\u001b[0;34m,\u001b[0m \u001b[0my_test\u001b[0m\u001b[0;34m[\u001b[0m\u001b[0my_test\u001b[0m\u001b[0;34m.\u001b[0m\u001b[0msqueeze\u001b[0m\u001b[0;34m(\u001b[0m\u001b[0;34m)\u001b[0m \u001b[0;34m==\u001b[0m \u001b[0;36m1\u001b[0m\u001b[0;34m]\u001b[0m\u001b[0;34m\u001b[0m\u001b[0;34m\u001b[0m\u001b[0m\n\u001b[0;32m---> 14\u001b[0;31m         \u001b[0mpertb_mal_x\u001b[0m \u001b[0;34m=\u001b[0m \u001b[0mattack\u001b[0m\u001b[0;34m(\u001b[0m\u001b[0mmal_x_batch\u001b[0m\u001b[0;34m,\u001b[0m \u001b[0mmal_y_batch\u001b[0m\u001b[0;34m,\u001b[0m \u001b[0mmodel\u001b[0m\u001b[0;34m,\u001b[0m \u001b[0;34m**\u001b[0m\u001b[0mkwargs\u001b[0m\u001b[0;34m)\u001b[0m\u001b[0;34m\u001b[0m\u001b[0;34m\u001b[0m\u001b[0m\n\u001b[0m\u001b[1;32m     15\u001b[0m         \u001b[0moutputs\u001b[0m \u001b[0;34m=\u001b[0m \u001b[0mmodel\u001b[0m\u001b[0;34m(\u001b[0m\u001b[0mpertb_mal_x\u001b[0m\u001b[0;34m)\u001b[0m\u001b[0;34m\u001b[0m\u001b[0;34m\u001b[0m\u001b[0m\n\u001b[1;32m     16\u001b[0m         \u001b[0m_\u001b[0m\u001b[0;34m,\u001b[0m \u001b[0my_pred\u001b[0m \u001b[0;34m=\u001b[0m \u001b[0mtorch\u001b[0m\u001b[0;34m.\u001b[0m\u001b[0mtopk\u001b[0m\u001b[0;34m(\u001b[0m\u001b[0moutputs\u001b[0m\u001b[0;34m,\u001b[0m \u001b[0mk\u001b[0m\u001b[0;34m=\u001b[0m\u001b[0;36m1\u001b[0m\u001b[0;34m)\u001b[0m\u001b[0;34m\u001b[0m\u001b[0;34m\u001b[0m\u001b[0m\n",
            "\u001b[0;32m/content/adverserial_attacks_functions.py\u001b[0m in \u001b[0;36mStepwiseMax_onestep2\u001b[0;34m(x, label, model, attack_list, step_lengths, steps, random_start, round_threshold)\u001b[0m\n\u001b[1;32m   1140\u001b[0m       \u001b[0mnum_sample_red\u001b[0m \u001b[0;34m=\u001b[0m \u001b[0mtorch\u001b[0m\u001b[0;34m.\u001b[0m\u001b[0msum\u001b[0m\u001b[0;34m(\u001b[0m\u001b[0;34m~\u001b[0m\u001b[0mdone\u001b[0m\u001b[0;34m)\u001b[0m\u001b[0;34m.\u001b[0m\u001b[0mitem\u001b[0m\u001b[0;34m(\u001b[0m\u001b[0;34m)\u001b[0m\u001b[0;34m\u001b[0m\u001b[0;34m\u001b[0m\u001b[0m\n\u001b[1;32m   1141\u001b[0m \u001b[0;34m\u001b[0m\u001b[0m\n\u001b[0;32m-> 1142\u001b[0;31m       \u001b[0mpertbx\u001b[0m \u001b[0;34m=\u001b[0m \u001b[0mpgd_one_step2\u001b[0m\u001b[0;34m(\u001b[0m\u001b[0madv_x\u001b[0m\u001b[0;34m[\u001b[0m\u001b[0;34m~\u001b[0m\u001b[0mdone\u001b[0m\u001b[0;34m]\u001b[0m\u001b[0;34m,\u001b[0m \u001b[0mlabel\u001b[0m\u001b[0;34m[\u001b[0m\u001b[0;34m~\u001b[0m\u001b[0mdone\u001b[0m\u001b[0;34m]\u001b[0m\u001b[0;34m,\u001b[0m \u001b[0mmodel\u001b[0m\u001b[0;34m,\u001b[0m \u001b[0mstep_lengths\u001b[0m\u001b[0;34m,\u001b[0m\u001b[0mx\u001b[0m\u001b[0;34m[\u001b[0m\u001b[0;34m~\u001b[0m\u001b[0mdone\u001b[0m\u001b[0;34m]\u001b[0m\u001b[0;34m)\u001b[0m\u001b[0;34m\u001b[0m\u001b[0;34m\u001b[0m\u001b[0m\n\u001b[0m\u001b[1;32m   1143\u001b[0m \u001b[0;34m\u001b[0m\u001b[0m\n\u001b[1;32m   1144\u001b[0m       \u001b[0;32mwith\u001b[0m \u001b[0mtorch\u001b[0m\u001b[0;34m.\u001b[0m\u001b[0mno_grad\u001b[0m\u001b[0;34m(\u001b[0m\u001b[0;34m)\u001b[0m\u001b[0;34m:\u001b[0m\u001b[0;34m\u001b[0m\u001b[0;34m\u001b[0m\u001b[0m\n",
            "\u001b[0;32m/content/adverserial_attacks_functions.py\u001b[0m in \u001b[0;36mpgd_one_step2\u001b[0;34m(x, y, model, step_lengths, x_initial)\u001b[0m\n\u001b[1;32m   1047\u001b[0m     \u001b[0;31m# Forward pass\u001b[0m\u001b[0;34m\u001b[0m\u001b[0;34m\u001b[0m\u001b[0m\n\u001b[1;32m   1048\u001b[0m     \u001b[0mx_var\u001b[0m \u001b[0;34m=\u001b[0m \u001b[0mx_next\u001b[0m\u001b[0;34m.\u001b[0m\u001b[0mclone\u001b[0m\u001b[0;34m(\u001b[0m\u001b[0;34m)\u001b[0m\u001b[0;34m.\u001b[0m\u001b[0mdetach\u001b[0m\u001b[0;34m(\u001b[0m\u001b[0;34m)\u001b[0m\u001b[0;34m.\u001b[0m\u001b[0mrequires_grad_\u001b[0m\u001b[0;34m(\u001b[0m\u001b[0;32mTrue\u001b[0m\u001b[0;34m)\u001b[0m\u001b[0;34m\u001b[0m\u001b[0;34m\u001b[0m\u001b[0m\n\u001b[0;32m-> 1049\u001b[0;31m     \u001b[0my_model\u001b[0m \u001b[0;34m=\u001b[0m \u001b[0mmodel\u001b[0m\u001b[0;34m(\u001b[0m\u001b[0mx_var\u001b[0m\u001b[0;34m)\u001b[0m\u001b[0;34m\u001b[0m\u001b[0;34m\u001b[0m\u001b[0m\n\u001b[0m\u001b[1;32m   1050\u001b[0m     \u001b[0mloss\u001b[0m \u001b[0;34m=\u001b[0m \u001b[0mcriterion\u001b[0m\u001b[0;34m(\u001b[0m\u001b[0my_model\u001b[0m\u001b[0;34m,\u001b[0m \u001b[0my\u001b[0m\u001b[0;34m.\u001b[0m\u001b[0mview\u001b[0m\u001b[0;34m(\u001b[0m\u001b[0;34m-\u001b[0m\u001b[0;36m1\u001b[0m\u001b[0;34m)\u001b[0m\u001b[0;34m.\u001b[0m\u001b[0mlong\u001b[0m\u001b[0;34m(\u001b[0m\u001b[0;34m)\u001b[0m\u001b[0;34m)\u001b[0m\u001b[0;34m\u001b[0m\u001b[0;34m\u001b[0m\u001b[0m\n\u001b[1;32m   1051\u001b[0m \u001b[0;34m\u001b[0m\u001b[0m\n",
            "\u001b[0;32m/usr/local/lib/python3.10/dist-packages/torch/nn/modules/module.py\u001b[0m in \u001b[0;36m_wrapped_call_impl\u001b[0;34m(self, *args, **kwargs)\u001b[0m\n\u001b[1;32m   1516\u001b[0m             \u001b[0;32mreturn\u001b[0m \u001b[0mself\u001b[0m\u001b[0;34m.\u001b[0m\u001b[0m_compiled_call_impl\u001b[0m\u001b[0;34m(\u001b[0m\u001b[0;34m*\u001b[0m\u001b[0margs\u001b[0m\u001b[0;34m,\u001b[0m \u001b[0;34m**\u001b[0m\u001b[0mkwargs\u001b[0m\u001b[0;34m)\u001b[0m  \u001b[0;31m# type: ignore[misc]\u001b[0m\u001b[0;34m\u001b[0m\u001b[0;34m\u001b[0m\u001b[0m\n\u001b[1;32m   1517\u001b[0m         \u001b[0;32melse\u001b[0m\u001b[0;34m:\u001b[0m\u001b[0;34m\u001b[0m\u001b[0;34m\u001b[0m\u001b[0m\n\u001b[0;32m-> 1518\u001b[0;31m             \u001b[0;32mreturn\u001b[0m \u001b[0mself\u001b[0m\u001b[0;34m.\u001b[0m\u001b[0m_call_impl\u001b[0m\u001b[0;34m(\u001b[0m\u001b[0;34m*\u001b[0m\u001b[0margs\u001b[0m\u001b[0;34m,\u001b[0m \u001b[0;34m**\u001b[0m\u001b[0mkwargs\u001b[0m\u001b[0;34m)\u001b[0m\u001b[0;34m\u001b[0m\u001b[0;34m\u001b[0m\u001b[0m\n\u001b[0m\u001b[1;32m   1519\u001b[0m \u001b[0;34m\u001b[0m\u001b[0m\n\u001b[1;32m   1520\u001b[0m     \u001b[0;32mdef\u001b[0m \u001b[0m_call_impl\u001b[0m\u001b[0;34m(\u001b[0m\u001b[0mself\u001b[0m\u001b[0;34m,\u001b[0m \u001b[0;34m*\u001b[0m\u001b[0margs\u001b[0m\u001b[0;34m,\u001b[0m \u001b[0;34m**\u001b[0m\u001b[0mkwargs\u001b[0m\u001b[0;34m)\u001b[0m\u001b[0;34m:\u001b[0m\u001b[0;34m\u001b[0m\u001b[0;34m\u001b[0m\u001b[0m\n",
            "\u001b[0;32m/usr/local/lib/python3.10/dist-packages/torch/nn/modules/module.py\u001b[0m in \u001b[0;36m_call_impl\u001b[0;34m(self, *args, **kwargs)\u001b[0m\n\u001b[1;32m   1525\u001b[0m                 \u001b[0;32mor\u001b[0m \u001b[0m_global_backward_pre_hooks\u001b[0m \u001b[0;32mor\u001b[0m \u001b[0m_global_backward_hooks\u001b[0m\u001b[0;34m\u001b[0m\u001b[0;34m\u001b[0m\u001b[0m\n\u001b[1;32m   1526\u001b[0m                 or _global_forward_hooks or _global_forward_pre_hooks):\n\u001b[0;32m-> 1527\u001b[0;31m             \u001b[0;32mreturn\u001b[0m \u001b[0mforward_call\u001b[0m\u001b[0;34m(\u001b[0m\u001b[0;34m*\u001b[0m\u001b[0margs\u001b[0m\u001b[0;34m,\u001b[0m \u001b[0;34m**\u001b[0m\u001b[0mkwargs\u001b[0m\u001b[0;34m)\u001b[0m\u001b[0;34m\u001b[0m\u001b[0;34m\u001b[0m\u001b[0m\n\u001b[0m\u001b[1;32m   1528\u001b[0m \u001b[0;34m\u001b[0m\u001b[0m\n\u001b[1;32m   1529\u001b[0m         \u001b[0;32mtry\u001b[0m\u001b[0;34m:\u001b[0m\u001b[0;34m\u001b[0m\u001b[0;34m\u001b[0m\u001b[0m\n",
            "\u001b[0;32m<ipython-input-8-0d2881a5e67e>\u001b[0m in \u001b[0;36mforward\u001b[0;34m(self, x)\u001b[0m\n\u001b[1;32m     19\u001b[0m \u001b[0;34m\u001b[0m\u001b[0m\n\u001b[1;32m     20\u001b[0m     \u001b[0;32mdef\u001b[0m \u001b[0mforward\u001b[0m\u001b[0;34m(\u001b[0m\u001b[0mself\u001b[0m\u001b[0;34m,\u001b[0m \u001b[0mx\u001b[0m\u001b[0;34m)\u001b[0m\u001b[0;34m:\u001b[0m\u001b[0;34m\u001b[0m\u001b[0;34m\u001b[0m\u001b[0m\n\u001b[0;32m---> 21\u001b[0;31m         \u001b[0mx\u001b[0m \u001b[0;34m=\u001b[0m \u001b[0mself\u001b[0m\u001b[0;34m.\u001b[0m\u001b[0mfc1\u001b[0m\u001b[0;34m(\u001b[0m\u001b[0mx\u001b[0m\u001b[0;34m)\u001b[0m\u001b[0;34m\u001b[0m\u001b[0;34m\u001b[0m\u001b[0m\n\u001b[0m\u001b[1;32m     22\u001b[0m         \u001b[0mx\u001b[0m \u001b[0;34m=\u001b[0m \u001b[0mself\u001b[0m\u001b[0;34m.\u001b[0m\u001b[0mrelu1\u001b[0m\u001b[0;34m(\u001b[0m\u001b[0mx\u001b[0m\u001b[0;34m)\u001b[0m\u001b[0;34m\u001b[0m\u001b[0;34m\u001b[0m\u001b[0m\n\u001b[1;32m     23\u001b[0m         \u001b[0mx\u001b[0m \u001b[0;34m=\u001b[0m \u001b[0mself\u001b[0m\u001b[0;34m.\u001b[0m\u001b[0mdropout1\u001b[0m\u001b[0;34m(\u001b[0m\u001b[0mx\u001b[0m\u001b[0;34m)\u001b[0m\u001b[0;34m\u001b[0m\u001b[0;34m\u001b[0m\u001b[0m\n",
            "\u001b[0;32m/usr/local/lib/python3.10/dist-packages/torch/nn/modules/module.py\u001b[0m in \u001b[0;36m_wrapped_call_impl\u001b[0;34m(self, *args, **kwargs)\u001b[0m\n\u001b[1;32m   1516\u001b[0m             \u001b[0;32mreturn\u001b[0m \u001b[0mself\u001b[0m\u001b[0;34m.\u001b[0m\u001b[0m_compiled_call_impl\u001b[0m\u001b[0;34m(\u001b[0m\u001b[0;34m*\u001b[0m\u001b[0margs\u001b[0m\u001b[0;34m,\u001b[0m \u001b[0;34m**\u001b[0m\u001b[0mkwargs\u001b[0m\u001b[0;34m)\u001b[0m  \u001b[0;31m# type: ignore[misc]\u001b[0m\u001b[0;34m\u001b[0m\u001b[0;34m\u001b[0m\u001b[0m\n\u001b[1;32m   1517\u001b[0m         \u001b[0;32melse\u001b[0m\u001b[0;34m:\u001b[0m\u001b[0;34m\u001b[0m\u001b[0;34m\u001b[0m\u001b[0m\n\u001b[0;32m-> 1518\u001b[0;31m             \u001b[0;32mreturn\u001b[0m \u001b[0mself\u001b[0m\u001b[0;34m.\u001b[0m\u001b[0m_call_impl\u001b[0m\u001b[0;34m(\u001b[0m\u001b[0;34m*\u001b[0m\u001b[0margs\u001b[0m\u001b[0;34m,\u001b[0m \u001b[0;34m**\u001b[0m\u001b[0mkwargs\u001b[0m\u001b[0;34m)\u001b[0m\u001b[0;34m\u001b[0m\u001b[0;34m\u001b[0m\u001b[0m\n\u001b[0m\u001b[1;32m   1519\u001b[0m \u001b[0;34m\u001b[0m\u001b[0m\n\u001b[1;32m   1520\u001b[0m     \u001b[0;32mdef\u001b[0m \u001b[0m_call_impl\u001b[0m\u001b[0;34m(\u001b[0m\u001b[0mself\u001b[0m\u001b[0;34m,\u001b[0m \u001b[0;34m*\u001b[0m\u001b[0margs\u001b[0m\u001b[0;34m,\u001b[0m \u001b[0;34m**\u001b[0m\u001b[0mkwargs\u001b[0m\u001b[0;34m)\u001b[0m\u001b[0;34m:\u001b[0m\u001b[0;34m\u001b[0m\u001b[0;34m\u001b[0m\u001b[0m\n",
            "\u001b[0;32m/usr/local/lib/python3.10/dist-packages/torch/nn/modules/module.py\u001b[0m in \u001b[0;36m_call_impl\u001b[0;34m(self, *args, **kwargs)\u001b[0m\n\u001b[1;32m   1525\u001b[0m                 \u001b[0;32mor\u001b[0m \u001b[0m_global_backward_pre_hooks\u001b[0m \u001b[0;32mor\u001b[0m \u001b[0m_global_backward_hooks\u001b[0m\u001b[0;34m\u001b[0m\u001b[0;34m\u001b[0m\u001b[0m\n\u001b[1;32m   1526\u001b[0m                 or _global_forward_hooks or _global_forward_pre_hooks):\n\u001b[0;32m-> 1527\u001b[0;31m             \u001b[0;32mreturn\u001b[0m \u001b[0mforward_call\u001b[0m\u001b[0;34m(\u001b[0m\u001b[0;34m*\u001b[0m\u001b[0margs\u001b[0m\u001b[0;34m,\u001b[0m \u001b[0;34m**\u001b[0m\u001b[0mkwargs\u001b[0m\u001b[0;34m)\u001b[0m\u001b[0;34m\u001b[0m\u001b[0;34m\u001b[0m\u001b[0m\n\u001b[0m\u001b[1;32m   1528\u001b[0m \u001b[0;34m\u001b[0m\u001b[0m\n\u001b[1;32m   1529\u001b[0m         \u001b[0;32mtry\u001b[0m\u001b[0;34m:\u001b[0m\u001b[0;34m\u001b[0m\u001b[0;34m\u001b[0m\u001b[0m\n",
            "\u001b[0;32m/usr/local/lib/python3.10/dist-packages/torch/nn/modules/linear.py\u001b[0m in \u001b[0;36mforward\u001b[0;34m(self, input)\u001b[0m\n\u001b[1;32m    112\u001b[0m \u001b[0;34m\u001b[0m\u001b[0m\n\u001b[1;32m    113\u001b[0m     \u001b[0;32mdef\u001b[0m \u001b[0mforward\u001b[0m\u001b[0;34m(\u001b[0m\u001b[0mself\u001b[0m\u001b[0;34m,\u001b[0m \u001b[0minput\u001b[0m\u001b[0;34m:\u001b[0m \u001b[0mTensor\u001b[0m\u001b[0;34m)\u001b[0m \u001b[0;34m->\u001b[0m \u001b[0mTensor\u001b[0m\u001b[0;34m:\u001b[0m\u001b[0;34m\u001b[0m\u001b[0;34m\u001b[0m\u001b[0m\n\u001b[0;32m--> 114\u001b[0;31m         \u001b[0;32mreturn\u001b[0m \u001b[0mF\u001b[0m\u001b[0;34m.\u001b[0m\u001b[0mlinear\u001b[0m\u001b[0;34m(\u001b[0m\u001b[0minput\u001b[0m\u001b[0;34m,\u001b[0m \u001b[0mself\u001b[0m\u001b[0;34m.\u001b[0m\u001b[0mweight\u001b[0m\u001b[0;34m,\u001b[0m \u001b[0mself\u001b[0m\u001b[0;34m.\u001b[0m\u001b[0mbias\u001b[0m\u001b[0;34m)\u001b[0m\u001b[0;34m\u001b[0m\u001b[0;34m\u001b[0m\u001b[0m\n\u001b[0m\u001b[1;32m    115\u001b[0m \u001b[0;34m\u001b[0m\u001b[0m\n\u001b[1;32m    116\u001b[0m     \u001b[0;32mdef\u001b[0m \u001b[0mextra_repr\u001b[0m\u001b[0;34m(\u001b[0m\u001b[0mself\u001b[0m\u001b[0;34m)\u001b[0m \u001b[0;34m->\u001b[0m \u001b[0mstr\u001b[0m\u001b[0;34m:\u001b[0m\u001b[0;34m\u001b[0m\u001b[0;34m\u001b[0m\u001b[0m\n",
            "\u001b[0;31mKeyboardInterrupt\u001b[0m: "
          ]
        }
      ]
    },
    {
      "cell_type": "code",
      "source": [
        "# Define different attacks with their parameters\n",
        "attacks = [\n",
        "    (dfgsm_k, {\"k\":100, \"epsilon\":0.02, 'is_report_loss_diff' : False}),\n",
        "    (bga_k, {\"k\":100, 'is_report_loss_diff' : False}),\n",
        "    (bca_k, {\"k\":100, 'is_report_loss_diff' : False}),\n",
        "    (grosse_k, {\"k\":100, 'is_report_loss_diff' : False}),\n",
        "\n",
        "    (pgd, {'k': 100, 'step_length': 1., 'norm': 'l1', 'is_report_loss_diff' : False}),\n",
        "    (pgd, {'k': 200, 'step_length': 0.05, 'norm': 'l2', 'is_report_loss_diff' : False}),\n",
        "    (pgd, {'k': 100, 'step_length': 0.02, 'norm': 'linf', 'is_report_loss_diff' : False}),\n",
        "    (StepwiseMax_onestep2, {'step_lengths':{\"l1\": 1.0, \"l2\": 0.05, \"linf\": 0.0008}, \"steps\":650}),\n",
        "\n",
        "    # Add more attacks as needed\n",
        "]\n",
        "\n",
        "# Iterate over each attack and its parameters\n",
        "for attack_func, attack_params in attacks:\n",
        "    print(f\"Running attack: {attack_func.__name__} with parameters: {attack_params}\")\n",
        "    adv_predict(test_loader, model_AT_rFGSM, attack_func, device, **attack_params)\n",
        "    print()  # Print an empty line for separation\n"
      ],
      "metadata": {
        "colab": {
          "base_uri": "https://localhost:8080/"
        },
        "id": "-JDuv4WBvq54",
        "outputId": "24045f6f-205a-483c-fb74-49842ac7bc35"
      },
      "execution_count": null,
      "outputs": [
        {
          "output_type": "stream",
          "name": "stdout",
          "text": [
            "Running attack: dfgsm_k with parameters: {'k': 50, 'epsilon': 0.02, 'is_report_loss_diff': False}\n",
            "Adversarial accuracy (without attack): 99.25% | Under attack: 83.43%.\n",
            "\n",
            "Running attack: bga_k with parameters: {'k': 25, 'is_report_loss_diff': False}\n",
            "Adversarial accuracy (without attack): 99.25% | Under attack: 91.57%.\n",
            "\n",
            "Running attack: bca_k with parameters: {'k': 25, 'is_report_loss_diff': False}\n",
            "Adversarial accuracy (without attack): 99.25% | Under attack: 87.93%.\n",
            "\n",
            "Running attack: grosse_k with parameters: {'k': 25, 'is_report_loss_diff': False}\n",
            "Adversarial accuracy (without attack): 99.25% | Under attack: 87.93%.\n",
            "\n",
            "Running attack: pgd with parameters: {'k': 100, 'step_length': 1.0, 'norm': 'l1', 'is_report_loss_diff': False}\n",
            "Adversarial accuracy (without attack): 99.25% | Under attack: 87.24%.\n",
            "\n",
            "Running attack: pgd with parameters: {'k': 200, 'step_length': 0.05, 'norm': 'l2', 'is_report_loss_diff': False}\n",
            "Adversarial accuracy (without attack): 99.25% | Under attack: 91.67%.\n",
            "\n",
            "Running attack: pgd with parameters: {'k': 500, 'step_length': 0.002, 'norm': 'linf', 'is_report_loss_diff': False}\n",
            "Adversarial accuracy (without attack): 99.25% | Under attack: 87.98%.\n",
            "\n"
          ]
        }
      ]
    },
    {
      "cell_type": "code",
      "source": [],
      "metadata": {
        "id": "1vpuDgt1W-0R"
      },
      "execution_count": null,
      "outputs": []
    }
  ]
}