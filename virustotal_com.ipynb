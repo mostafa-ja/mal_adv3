{
  "nbformat": 4,
  "nbformat_minor": 0,
  "metadata": {
    "colab": {
      "provenance": [],
      "authorship_tag": "ABX9TyMz3ItNysOF+paVDlwYh5A5",
      "include_colab_link": true
    },
    "kernelspec": {
      "name": "python3",
      "display_name": "Python 3"
    },
    "language_info": {
      "name": "python"
    }
  },
  "cells": [
    {
      "cell_type": "markdown",
      "metadata": {
        "id": "view-in-github",
        "colab_type": "text"
      },
      "source": [
        "<a href=\"https://colab.research.google.com/github/mostafa-ja/mal_adv3/blob/main/virustotal_com.ipynb\" target=\"_parent\"><img src=\"https://colab.research.google.com/assets/colab-badge.svg\" alt=\"Open In Colab\"/></a>"
      ]
    },
    {
      "cell_type": "code",
      "source": [
        "# https://drive.google.com/file/d/103hYqdHD6mjAUVqMAECgZEZ7U7YmSCP9/view?usp=sharing\n",
        "import gdown\n",
        "download_link = 'https://drive.google.com/uc?id=103hYqdHD6mjAUVqMAECgZEZ7U7YmSCP9'\n",
        "output_filepath = '/content/'\n",
        "gdown.download(download_link, output_filepath)"
      ],
      "metadata": {
        "colab": {
          "base_uri": "https://localhost:8080/",
          "height": 105
        },
        "id": "-MNRpm9sf08K",
        "outputId": "8e941ad9-29a0-455b-8c85-0c366117d85f"
      },
      "execution_count": 1,
      "outputs": [
        {
          "output_type": "stream",
          "name": "stderr",
          "text": [
            "Downloading...\n",
            "From: https://drive.google.com/uc?id=103hYqdHD6mjAUVqMAECgZEZ7U7YmSCP9\n",
            "To: /content/drebin_drift.parquet.zip\n",
            "100%|██████████| 16.6M/16.6M [00:00<00:00, 143MB/s]\n"
          ]
        },
        {
          "output_type": "execute_result",
          "data": {
            "text/plain": [
              "'/content/drebin_drift.parquet.zip'"
            ],
            "application/vnd.google.colaboratory.intrinsic+json": {
              "type": "string"
            }
          },
          "metadata": {},
          "execution_count": 1
        }
      ]
    },
    {
      "cell_type": "code",
      "source": [
        "import pandas as pd\n",
        "df = pd.read_parquet(\"/content/drebin_drift.parquet.zip\")\n",
        "df.head()"
      ],
      "metadata": {
        "colab": {
          "base_uri": "https://localhost:8080/",
          "height": 330
        },
        "id": "Ad9zIQYif5OQ",
        "outputId": "2fe15939-530f-4468-c426-e436567a8643"
      },
      "execution_count": 2,
      "outputs": [
        {
          "output_type": "execute_result",
          "data": {
            "text/plain": [
              "                                              sha256      submission_date  \\\n",
              "0  a44a4856e27a0f8448a12f445b46d9430b93fd15414b04...  2009-06-08 02:21:25   \n",
              "1  05ffa80882edba811018e95e0284b1b77f36a5e0a85236...  2009-06-08 02:25:49   \n",
              "2  788411a922a37bdd731902272a2e22530bea75d6d44bc9...  2009-06-08 02:29:07   \n",
              "3  2333f5dcc54a3332dfe0414eb97cddddc8307ee829c47b...  2009-06-08 02:29:15   \n",
              "4  0b4094ec8c1c6a7e03881e4c49f1bbd8510e0f3c818cca...  2009-07-18 23:29:00   \n",
              "\n",
              "                                            api_call  \\\n",
              "0  android/media/MediaPlayer->start android/app/A...   \n",
              "1  android/media/MediaPlayer->stop android/os/Vib...   \n",
              "2  android/media/MediaPlayer->start android/app/A...   \n",
              "3  android/media/MediaPlayer->start android/os/Vi...   \n",
              "4                            java/lang/Runtime->exec   \n",
              "\n",
              "                                          permission url provider  \\\n",
              "0                         android.permission.VIBRATE                \n",
              "1  android.permission.VIBRATE android.permission....                \n",
              "2                                                                   \n",
              "3  android.permission.VIBRATE android.permission....                \n",
              "4                android.permission.ACCESS_SUPERUSER                \n",
              "\n",
              "                                             feature  \\\n",
              "0                       android.hardware.touchscreen   \n",
              "1  android.hardware.touchscreen android.hardware....   \n",
              "2                       android.hardware.touchscreen   \n",
              "3  android.hardware.touchscreen android.hardware....   \n",
              "4                       android.hardware.touchscreen   \n",
              "\n",
              "                                              intent  \\\n",
              "0  android.intent.action.MAIN android.intent.cate...   \n",
              "1  android.intent.action.MAIN android.intent.cate...   \n",
              "2  android.intent.action.MAIN android.intent.cate...   \n",
              "3  android.intent.action.MAIN android.intent.cate...   \n",
              "4  android.intent.action.MAIN android.intent.cate...   \n",
              "\n",
              "                     activity                            call  \\\n",
              "0  .FlAndroidApp FlAndroidApp                getSystemService   \n",
              "1                  .GloftMPL2                getSystemService   \n",
              "2  .FlAndroidApp FlAndroidApp                getSystemService   \n",
              "3                  .GloftORTR                getSystemService   \n",
              "4         .ScreenshotActivity  Execution of external commands   \n",
              "\n",
              "  service_receiver                                    real_permission  label  \n",
              "0                   android.permission.INTERNET android.permission...      0  \n",
              "1                   android.permission.MODIFY_AUDIO_SETTINGS andro...      0  \n",
              "2                   android.permission.INTERNET android.permission...      0  \n",
              "3                   android.permission.MODIFY_AUDIO_SETTINGS andro...      0  \n",
              "4                                        android.permission.READ_LOGS      0  "
            ],
            "text/html": [
              "\n",
              "  <div id=\"df-c2fc7ba0-8b48-43c4-a537-02761ddfb3fd\" class=\"colab-df-container\">\n",
              "    <div>\n",
              "<style scoped>\n",
              "    .dataframe tbody tr th:only-of-type {\n",
              "        vertical-align: middle;\n",
              "    }\n",
              "\n",
              "    .dataframe tbody tr th {\n",
              "        vertical-align: top;\n",
              "    }\n",
              "\n",
              "    .dataframe thead th {\n",
              "        text-align: right;\n",
              "    }\n",
              "</style>\n",
              "<table border=\"1\" class=\"dataframe\">\n",
              "  <thead>\n",
              "    <tr style=\"text-align: right;\">\n",
              "      <th></th>\n",
              "      <th>sha256</th>\n",
              "      <th>submission_date</th>\n",
              "      <th>api_call</th>\n",
              "      <th>permission</th>\n",
              "      <th>url</th>\n",
              "      <th>provider</th>\n",
              "      <th>feature</th>\n",
              "      <th>intent</th>\n",
              "      <th>activity</th>\n",
              "      <th>call</th>\n",
              "      <th>service_receiver</th>\n",
              "      <th>real_permission</th>\n",
              "      <th>label</th>\n",
              "    </tr>\n",
              "  </thead>\n",
              "  <tbody>\n",
              "    <tr>\n",
              "      <th>0</th>\n",
              "      <td>a44a4856e27a0f8448a12f445b46d9430b93fd15414b04...</td>\n",
              "      <td>2009-06-08 02:21:25</td>\n",
              "      <td>android/media/MediaPlayer-&gt;start android/app/A...</td>\n",
              "      <td>android.permission.VIBRATE</td>\n",
              "      <td></td>\n",
              "      <td></td>\n",
              "      <td>android.hardware.touchscreen</td>\n",
              "      <td>android.intent.action.MAIN android.intent.cate...</td>\n",
              "      <td>.FlAndroidApp FlAndroidApp</td>\n",
              "      <td>getSystemService</td>\n",
              "      <td></td>\n",
              "      <td>android.permission.INTERNET android.permission...</td>\n",
              "      <td>0</td>\n",
              "    </tr>\n",
              "    <tr>\n",
              "      <th>1</th>\n",
              "      <td>05ffa80882edba811018e95e0284b1b77f36a5e0a85236...</td>\n",
              "      <td>2009-06-08 02:25:49</td>\n",
              "      <td>android/media/MediaPlayer-&gt;stop android/os/Vib...</td>\n",
              "      <td>android.permission.VIBRATE android.permission....</td>\n",
              "      <td></td>\n",
              "      <td></td>\n",
              "      <td>android.hardware.touchscreen android.hardware....</td>\n",
              "      <td>android.intent.action.MAIN android.intent.cate...</td>\n",
              "      <td>.GloftMPL2</td>\n",
              "      <td>getSystemService</td>\n",
              "      <td></td>\n",
              "      <td>android.permission.MODIFY_AUDIO_SETTINGS andro...</td>\n",
              "      <td>0</td>\n",
              "    </tr>\n",
              "    <tr>\n",
              "      <th>2</th>\n",
              "      <td>788411a922a37bdd731902272a2e22530bea75d6d44bc9...</td>\n",
              "      <td>2009-06-08 02:29:07</td>\n",
              "      <td>android/media/MediaPlayer-&gt;start android/app/A...</td>\n",
              "      <td></td>\n",
              "      <td></td>\n",
              "      <td></td>\n",
              "      <td>android.hardware.touchscreen</td>\n",
              "      <td>android.intent.action.MAIN android.intent.cate...</td>\n",
              "      <td>.FlAndroidApp FlAndroidApp</td>\n",
              "      <td>getSystemService</td>\n",
              "      <td></td>\n",
              "      <td>android.permission.INTERNET android.permission...</td>\n",
              "      <td>0</td>\n",
              "    </tr>\n",
              "    <tr>\n",
              "      <th>3</th>\n",
              "      <td>2333f5dcc54a3332dfe0414eb97cddddc8307ee829c47b...</td>\n",
              "      <td>2009-06-08 02:29:15</td>\n",
              "      <td>android/media/MediaPlayer-&gt;start android/os/Vi...</td>\n",
              "      <td>android.permission.VIBRATE android.permission....</td>\n",
              "      <td></td>\n",
              "      <td></td>\n",
              "      <td>android.hardware.touchscreen android.hardware....</td>\n",
              "      <td>android.intent.action.MAIN android.intent.cate...</td>\n",
              "      <td>.GloftORTR</td>\n",
              "      <td>getSystemService</td>\n",
              "      <td></td>\n",
              "      <td>android.permission.MODIFY_AUDIO_SETTINGS andro...</td>\n",
              "      <td>0</td>\n",
              "    </tr>\n",
              "    <tr>\n",
              "      <th>4</th>\n",
              "      <td>0b4094ec8c1c6a7e03881e4c49f1bbd8510e0f3c818cca...</td>\n",
              "      <td>2009-07-18 23:29:00</td>\n",
              "      <td>java/lang/Runtime-&gt;exec</td>\n",
              "      <td>android.permission.ACCESS_SUPERUSER</td>\n",
              "      <td></td>\n",
              "      <td></td>\n",
              "      <td>android.hardware.touchscreen</td>\n",
              "      <td>android.intent.action.MAIN android.intent.cate...</td>\n",
              "      <td>.ScreenshotActivity</td>\n",
              "      <td>Execution of external commands</td>\n",
              "      <td></td>\n",
              "      <td>android.permission.READ_LOGS</td>\n",
              "      <td>0</td>\n",
              "    </tr>\n",
              "  </tbody>\n",
              "</table>\n",
              "</div>\n",
              "    <div class=\"colab-df-buttons\">\n",
              "\n",
              "  <div class=\"colab-df-container\">\n",
              "    <button class=\"colab-df-convert\" onclick=\"convertToInteractive('df-c2fc7ba0-8b48-43c4-a537-02761ddfb3fd')\"\n",
              "            title=\"Convert this dataframe to an interactive table.\"\n",
              "            style=\"display:none;\">\n",
              "\n",
              "  <svg xmlns=\"http://www.w3.org/2000/svg\" height=\"24px\" viewBox=\"0 -960 960 960\">\n",
              "    <path d=\"M120-120v-720h720v720H120Zm60-500h600v-160H180v160Zm220 220h160v-160H400v160Zm0 220h160v-160H400v160ZM180-400h160v-160H180v160Zm440 0h160v-160H620v160ZM180-180h160v-160H180v160Zm440 0h160v-160H620v160Z\"/>\n",
              "  </svg>\n",
              "    </button>\n",
              "\n",
              "  <style>\n",
              "    .colab-df-container {\n",
              "      display:flex;\n",
              "      gap: 12px;\n",
              "    }\n",
              "\n",
              "    .colab-df-convert {\n",
              "      background-color: #E8F0FE;\n",
              "      border: none;\n",
              "      border-radius: 50%;\n",
              "      cursor: pointer;\n",
              "      display: none;\n",
              "      fill: #1967D2;\n",
              "      height: 32px;\n",
              "      padding: 0 0 0 0;\n",
              "      width: 32px;\n",
              "    }\n",
              "\n",
              "    .colab-df-convert:hover {\n",
              "      background-color: #E2EBFA;\n",
              "      box-shadow: 0px 1px 2px rgba(60, 64, 67, 0.3), 0px 1px 3px 1px rgba(60, 64, 67, 0.15);\n",
              "      fill: #174EA6;\n",
              "    }\n",
              "\n",
              "    .colab-df-buttons div {\n",
              "      margin-bottom: 4px;\n",
              "    }\n",
              "\n",
              "    [theme=dark] .colab-df-convert {\n",
              "      background-color: #3B4455;\n",
              "      fill: #D2E3FC;\n",
              "    }\n",
              "\n",
              "    [theme=dark] .colab-df-convert:hover {\n",
              "      background-color: #434B5C;\n",
              "      box-shadow: 0px 1px 3px 1px rgba(0, 0, 0, 0.15);\n",
              "      filter: drop-shadow(0px 1px 2px rgba(0, 0, 0, 0.3));\n",
              "      fill: #FFFFFF;\n",
              "    }\n",
              "  </style>\n",
              "\n",
              "    <script>\n",
              "      const buttonEl =\n",
              "        document.querySelector('#df-c2fc7ba0-8b48-43c4-a537-02761ddfb3fd button.colab-df-convert');\n",
              "      buttonEl.style.display =\n",
              "        google.colab.kernel.accessAllowed ? 'block' : 'none';\n",
              "\n",
              "      async function convertToInteractive(key) {\n",
              "        const element = document.querySelector('#df-c2fc7ba0-8b48-43c4-a537-02761ddfb3fd');\n",
              "        const dataTable =\n",
              "          await google.colab.kernel.invokeFunction('convertToInteractive',\n",
              "                                                    [key], {});\n",
              "        if (!dataTable) return;\n",
              "\n",
              "        const docLinkHtml = 'Like what you see? Visit the ' +\n",
              "          '<a target=\"_blank\" href=https://colab.research.google.com/notebooks/data_table.ipynb>data table notebook</a>'\n",
              "          + ' to learn more about interactive tables.';\n",
              "        element.innerHTML = '';\n",
              "        dataTable['output_type'] = 'display_data';\n",
              "        await google.colab.output.renderOutput(dataTable, element);\n",
              "        const docLink = document.createElement('div');\n",
              "        docLink.innerHTML = docLinkHtml;\n",
              "        element.appendChild(docLink);\n",
              "      }\n",
              "    </script>\n",
              "  </div>\n",
              "\n",
              "\n",
              "<div id=\"df-1f2a5796-1e98-40ce-a7be-fd4c8510c9bd\">\n",
              "  <button class=\"colab-df-quickchart\" onclick=\"quickchart('df-1f2a5796-1e98-40ce-a7be-fd4c8510c9bd')\"\n",
              "            title=\"Suggest charts\"\n",
              "            style=\"display:none;\">\n",
              "\n",
              "<svg xmlns=\"http://www.w3.org/2000/svg\" height=\"24px\"viewBox=\"0 0 24 24\"\n",
              "     width=\"24px\">\n",
              "    <g>\n",
              "        <path d=\"M19 3H5c-1.1 0-2 .9-2 2v14c0 1.1.9 2 2 2h14c1.1 0 2-.9 2-2V5c0-1.1-.9-2-2-2zM9 17H7v-7h2v7zm4 0h-2V7h2v10zm4 0h-2v-4h2v4z\"/>\n",
              "    </g>\n",
              "</svg>\n",
              "  </button>\n",
              "\n",
              "<style>\n",
              "  .colab-df-quickchart {\n",
              "      --bg-color: #E8F0FE;\n",
              "      --fill-color: #1967D2;\n",
              "      --hover-bg-color: #E2EBFA;\n",
              "      --hover-fill-color: #174EA6;\n",
              "      --disabled-fill-color: #AAA;\n",
              "      --disabled-bg-color: #DDD;\n",
              "  }\n",
              "\n",
              "  [theme=dark] .colab-df-quickchart {\n",
              "      --bg-color: #3B4455;\n",
              "      --fill-color: #D2E3FC;\n",
              "      --hover-bg-color: #434B5C;\n",
              "      --hover-fill-color: #FFFFFF;\n",
              "      --disabled-bg-color: #3B4455;\n",
              "      --disabled-fill-color: #666;\n",
              "  }\n",
              "\n",
              "  .colab-df-quickchart {\n",
              "    background-color: var(--bg-color);\n",
              "    border: none;\n",
              "    border-radius: 50%;\n",
              "    cursor: pointer;\n",
              "    display: none;\n",
              "    fill: var(--fill-color);\n",
              "    height: 32px;\n",
              "    padding: 0;\n",
              "    width: 32px;\n",
              "  }\n",
              "\n",
              "  .colab-df-quickchart:hover {\n",
              "    background-color: var(--hover-bg-color);\n",
              "    box-shadow: 0 1px 2px rgba(60, 64, 67, 0.3), 0 1px 3px 1px rgba(60, 64, 67, 0.15);\n",
              "    fill: var(--button-hover-fill-color);\n",
              "  }\n",
              "\n",
              "  .colab-df-quickchart-complete:disabled,\n",
              "  .colab-df-quickchart-complete:disabled:hover {\n",
              "    background-color: var(--disabled-bg-color);\n",
              "    fill: var(--disabled-fill-color);\n",
              "    box-shadow: none;\n",
              "  }\n",
              "\n",
              "  .colab-df-spinner {\n",
              "    border: 2px solid var(--fill-color);\n",
              "    border-color: transparent;\n",
              "    border-bottom-color: var(--fill-color);\n",
              "    animation:\n",
              "      spin 1s steps(1) infinite;\n",
              "  }\n",
              "\n",
              "  @keyframes spin {\n",
              "    0% {\n",
              "      border-color: transparent;\n",
              "      border-bottom-color: var(--fill-color);\n",
              "      border-left-color: var(--fill-color);\n",
              "    }\n",
              "    20% {\n",
              "      border-color: transparent;\n",
              "      border-left-color: var(--fill-color);\n",
              "      border-top-color: var(--fill-color);\n",
              "    }\n",
              "    30% {\n",
              "      border-color: transparent;\n",
              "      border-left-color: var(--fill-color);\n",
              "      border-top-color: var(--fill-color);\n",
              "      border-right-color: var(--fill-color);\n",
              "    }\n",
              "    40% {\n",
              "      border-color: transparent;\n",
              "      border-right-color: var(--fill-color);\n",
              "      border-top-color: var(--fill-color);\n",
              "    }\n",
              "    60% {\n",
              "      border-color: transparent;\n",
              "      border-right-color: var(--fill-color);\n",
              "    }\n",
              "    80% {\n",
              "      border-color: transparent;\n",
              "      border-right-color: var(--fill-color);\n",
              "      border-bottom-color: var(--fill-color);\n",
              "    }\n",
              "    90% {\n",
              "      border-color: transparent;\n",
              "      border-bottom-color: var(--fill-color);\n",
              "    }\n",
              "  }\n",
              "</style>\n",
              "\n",
              "  <script>\n",
              "    async function quickchart(key) {\n",
              "      const quickchartButtonEl =\n",
              "        document.querySelector('#' + key + ' button');\n",
              "      quickchartButtonEl.disabled = true;  // To prevent multiple clicks.\n",
              "      quickchartButtonEl.classList.add('colab-df-spinner');\n",
              "      try {\n",
              "        const charts = await google.colab.kernel.invokeFunction(\n",
              "            'suggestCharts', [key], {});\n",
              "      } catch (error) {\n",
              "        console.error('Error during call to suggestCharts:', error);\n",
              "      }\n",
              "      quickchartButtonEl.classList.remove('colab-df-spinner');\n",
              "      quickchartButtonEl.classList.add('colab-df-quickchart-complete');\n",
              "    }\n",
              "    (() => {\n",
              "      let quickchartButtonEl =\n",
              "        document.querySelector('#df-1f2a5796-1e98-40ce-a7be-fd4c8510c9bd button');\n",
              "      quickchartButtonEl.style.display =\n",
              "        google.colab.kernel.accessAllowed ? 'block' : 'none';\n",
              "    })();\n",
              "  </script>\n",
              "</div>\n",
              "    </div>\n",
              "  </div>\n"
            ],
            "application/vnd.google.colaboratory.intrinsic+json": {
              "type": "dataframe",
              "variable_name": "df"
            }
          },
          "metadata": {},
          "execution_count": 2
        }
      ]
    },
    {
      "cell_type": "code",
      "source": [
        "import requests\n",
        "\n",
        "# Replace with your own VirusTotal API key\n",
        "api_key = \"56daf7438dd2529bc555572bfccf3e15bda412c415c5a8510918d092fbe2cddf\"\n",
        "\n",
        "# Replace '{id}' with SHA-256, SHA-1 or MD5 identifying the file\n",
        "file_id = 'd7e1d0fb43c7d1d86d14a0e036539f5790656a8aa4842c8325c2b35790bf597f'\n",
        "\n",
        "# Define the URL for the VirusTotal API\n",
        "url = f'https://www.virustotal.com/api/v3/files/{file_id}'\n",
        "\n",
        "# Set up the headers with your API key\n",
        "headers = {\n",
        "    'x-apikey': api_key\n",
        "}\n",
        "\n",
        "# Send a GET request to retrieve information about the file\n",
        "response = requests.get(url, headers=headers)\n",
        "\n",
        "# Access the 'last_analysis_results' field\n",
        "analysis_results = response.json().get('data', {}).get('attributes', {}).get('last_analysis_results', {})\n",
        "\n",
        "# Initialize a count for undetected results\n",
        "detected_count = 0\n",
        "undetected_count = 0\n",
        "unsupported_count = 0\n",
        "\n",
        "# Check each engine's result and count undetected results\n",
        "for engine, result in analysis_results.items():\n",
        "    if result['category'] == 'undetected':\n",
        "        undetected_count += 1\n",
        "    if result['category'] == 'malicious':\n",
        "        detected_count += 1\n",
        "    if result['category'] == \"type-unsupported\" :\n",
        "        unsupported_count += 1\n",
        "\n",
        "\n",
        "print('Probability of malware : ', detected_count/(detected_count + undetected_count + 0.0001))\n",
        "print(\"Number of undetected results:\", undetected_count)\n",
        "print(\"Number of detected results:\", detected_count)\n",
        "print(\"Number of unsupported results:\", unsupported_count)"
      ],
      "metadata": {
        "colab": {
          "base_uri": "https://localhost:8080/"
        },
        "id": "oeRCAZCldu4f",
        "outputId": "bcb950ee-d054-4602-e802-9f66b4179af3"
      },
      "execution_count": 26,
      "outputs": [
        {
          "output_type": "stream",
          "name": "stdout",
          "text": [
            "Probability of malware :  0.0\n",
            "Number of undetected results: 0\n",
            "Number of detected results: 0\n",
            "Number of unsupported results: 0\n"
          ]
        }
      ]
    },
    {
      "cell_type": "code",
      "source": [
        "analysis_results"
      ],
      "metadata": {
        "colab": {
          "base_uri": "https://localhost:8080/"
        },
        "id": "ChicIr7jv6Ar",
        "outputId": "563572fa-309b-4211-a656-86c7bb8f711f"
      },
      "execution_count": 13,
      "outputs": [
        {
          "output_type": "execute_result",
          "data": {
            "text/plain": [
              "{}"
            ]
          },
          "metadata": {},
          "execution_count": 13
        }
      ]
    },
    {
      "cell_type": "code",
      "source": [
        "def n_malicious(file_id):\n",
        "  # Replace with your own VirusTotal API key\n",
        "  api_key = \"56daf7438dd2529bc555572bfccf3e15bda412c415c5a8510918d092fbe2cddf\"\n",
        "\n",
        "  # Define the URL for the VirusTotal API\n",
        "  url = f'https://www.virustotal.com/api/v3/files/{file_id}'\n",
        "\n",
        "  # Set up the headers with your API key\n",
        "  headers = {\n",
        "      'x-apikey': api_key\n",
        "  }\n",
        "\n",
        "  # Send a GET request to retrieve information about the file\n",
        "  response = requests.get(url, headers=headers)\n",
        "\n",
        "  # Access the 'last_analysis_results' field\n",
        "  analysis_results = response.json().get('data', {}).get('attributes', {}).get('last_analysis_results', {})\n",
        "\n",
        "  # Initialize a count for undetected results\n",
        "  detected_count = 0\n",
        "\n",
        "  # Check each engine's result and count undetected results\n",
        "  for engine, result in analysis_results.items():\n",
        "      if result['category'] == 'malicious':\n",
        "          detected_count += 1\n",
        "\n",
        "  return detected_count"
      ],
      "metadata": {
        "id": "3ti9F0r6gN0k"
      },
      "execution_count": 7,
      "outputs": []
    },
    {
      "cell_type": "code",
      "source": [
        "import pandas as pd\n",
        "import requests\n",
        "\n",
        "# Replace with your own VirusTotal API key\n",
        "api_key = \"56daf7438dd2529bc555572bfccf3e15bda412c415c5a8510918d092fbe2cddf\"\n",
        "\n",
        "def is_malicious(file_id):\n",
        "    \"\"\"\n",
        "    Checks if a file is malicious using VirusTotal API.\n",
        "\n",
        "    Args:\n",
        "        file_id: The SHA256 hash of the file.\n",
        "\n",
        "    Returns:\n",
        "        True if the file is considered malicious, False otherwise.\n",
        "    \"\"\"\n",
        "\n",
        "    url = f\"https://www.virustotal.com/api/v3/files/{file_id}\"\n",
        "    headers = {\"x-apikey\": api_key}\n",
        "\n",
        "    try:\n",
        "        response = requests.get(url, headers=headers)\n",
        "        response.raise_for_status()  # Raise an error if API request fails\n",
        "\n",
        "        analysis_results = response.json().get(\"data\", {}).get(\"attributes\", {}).get(\"last_analysis_results\", {})\n",
        "\n",
        "        for engine, result in analysis_results.items():\n",
        "            if result[\"category\"] == \"malicious\":\n",
        "                return True\n",
        "\n",
        "        return False\n",
        "\n",
        "    except requests.exceptions.RequestException as e:\n",
        "        print(f\"Error fetching API data for {file_id}: {e}\")\n",
        "        return False  # Assume not malicious on error\n"
      ],
      "metadata": {
        "id": "xaCxV8vw0Imu"
      },
      "execution_count": 27,
      "outputs": []
    },
    {
      "cell_type": "code",
      "source": [
        "is_malicious('d7e1d0fb43c7d1d86d14a0e036539f5790656a8aa4842c8325c2b35790bf597f')"
      ],
      "metadata": {
        "colab": {
          "base_uri": "https://localhost:8080/"
        },
        "id": "TTZ_3tvd0YYY",
        "outputId": "98dd2e78-c198-462b-d413-5b3a41f56541"
      },
      "execution_count": 29,
      "outputs": [
        {
          "output_type": "stream",
          "name": "stdout",
          "text": [
            "Error fetching API data for d7e1d0fb43c7d1d86d14a0e036539f5790656a8aa4842c8325c2b35790bf597f: 429 Client Error: Too Many Requests for url: https://www.virustotal.com/api/v3/files/d7e1d0fb43c7d1d86d14a0e036539f5790656a8aa4842c8325c2b35790bf597f\n"
          ]
        },
        {
          "output_type": "execute_result",
          "data": {
            "text/plain": [
              "False"
            ]
          },
          "metadata": {},
          "execution_count": 29
        }
      ]
    },
    {
      "cell_type": "code",
      "source": [
        "df_benign = df[df['label']==0]\n",
        "df_malicious = df[df['label']==1]"
      ],
      "metadata": {
        "id": "ujuwGaS4hjUl"
      },
      "execution_count": 8,
      "outputs": []
    },
    {
      "cell_type": "code",
      "source": [
        "from tqdm import tqdm\n",
        "\n",
        "wrong_lables = []\n",
        "for file_id in tqdm(df_benign['sha256']):\n",
        "  count = n_malicious(file_id)\n",
        "  if count > 5 :\n",
        "      wrong_lables.append(file_id)\n",
        "      print(file_id)\n",
        "      print(count)\n"
      ],
      "metadata": {
        "colab": {
          "base_uri": "https://localhost:8080/"
        },
        "id": "g0E0GY8uf_gj",
        "outputId": "ba055b70-d6ac-4162-fd58-b8f7c9bd3e98"
      },
      "execution_count": null,
      "outputs": [
        {
          "metadata": {
            "tags": null
          },
          "name": "stderr",
          "output_type": "stream",
          "text": [
            "  7%|▋         | 8247/123453 [27:26<9:06:56,  3.51it/s]"
          ]
        },
        {
          "metadata": {
            "tags": null
          },
          "name": "stdout",
          "output_type": "stream",
          "text": [
            "d7e1d0fb43c7d1d86d14a0e036539f5790656a8aa4842c8325c2b35790bf597f\n",
            "24\n"
          ]
        },
        {
          "metadata": {
            "tags": null
          },
          "name": "stderr",
          "output_type": "stream",
          "text": [
            "  7%|▋         | 8256/123453 [27:30<11:20:31,  2.82it/s]"
          ]
        },
        {
          "metadata": {
            "tags": null
          },
          "name": "stdout",
          "output_type": "stream",
          "text": [
            "2429d1f05204ff343d469ebc99b0769e32cba4c50fbf8ec48c5c612a78391567\n",
            "20\n"
          ]
        },
        {
          "metadata": {
            "tags": null
          },
          "name": "stderr",
          "output_type": "stream",
          "text": [
            "  7%|▋         | 8271/123453 [27:42<19:30:48,  1.64it/s]"
          ]
        },
        {
          "metadata": {
            "tags": null
          },
          "name": "stdout",
          "output_type": "stream",
          "text": [
            "3f63669bce9417ace7b247579d97b0a8c249bf23e505857dc994fb758d834aa3\n",
            "18\n"
          ]
        },
        {
          "metadata": {
            "tags": null
          },
          "name": "stderr",
          "output_type": "stream",
          "text": [
            "  7%|▋         | 8363/123453 [28:25<10:22:28,  3.08it/s]"
          ]
        },
        {
          "metadata": {
            "tags": null
          },
          "name": "stdout",
          "output_type": "stream",
          "text": [
            "746ee9ba670869658378127608680a82748d0d545e09f63ca81f1b3f1b7f2ada\n",
            "25\n"
          ]
        },
        {
          "metadata": {
            "tags": null
          },
          "name": "stderr",
          "output_type": "stream",
          "text": [
            "  7%|▋         | 8365/123453 [28:25<9:48:43,  3.26it/s]"
          ]
        },
        {
          "metadata": {
            "tags": null
          },
          "name": "stdout",
          "output_type": "stream",
          "text": [
            "384664c16b72882614e91cd5f8f3e79c2700267eaea9dd67ef6e1f0ec999bfb5\n",
            "9\n"
          ]
        },
        {
          "metadata": {
            "tags": null
          },
          "name": "stderr",
          "output_type": "stream",
          "text": [
            "  7%|▋         | 8372/123453 [28:28<11:41:26,  2.73it/s]"
          ]
        },
        {
          "metadata": {
            "tags": null
          },
          "name": "stdout",
          "output_type": "stream",
          "text": [
            "2b33792d53ebd2b49d284addbfebaf63558e80c029325c09643eb13d7a1a27d0\n",
            "7\n"
          ]
        },
        {
          "metadata": {
            "tags": null
          },
          "name": "stderr",
          "output_type": "stream",
          "text": [
            "  7%|▋         | 8377/123453 [28:30<10:47:12,  2.96it/s]"
          ]
        },
        {
          "metadata": {
            "tags": null
          },
          "name": "stdout",
          "output_type": "stream",
          "text": [
            "4a8401b780a50433a698bc52d3a19d7b7dcd4b1728a638911e9ce5cbebd695af\n",
            "19\n"
          ]
        },
        {
          "metadata": {
            "tags": null
          },
          "name": "stderr",
          "output_type": "stream",
          "text": [
            "  8%|▊         | 9359/123453 [32:33<9:59:27,  3.17it/s]"
          ]
        },
        {
          "metadata": {
            "tags": null
          },
          "name": "stdout",
          "output_type": "stream",
          "text": [
            "1babb3be68908f6812e81c3465061e912f20c75102b248d5ad568e9d4394f029\n",
            "22\n"
          ]
        },
        {
          "metadata": {
            "tags": null
          },
          "name": "stderr",
          "output_type": "stream",
          "text": [
            "\r  8%|▊         | 9360/123453 [32:33<12:39:17,  2.50it/s]"
          ]
        },
        {
          "metadata": {
            "tags": null
          },
          "name": "stdout",
          "output_type": "stream",
          "text": [
            "97b760282b98f6d9c64ebe97ef5828d8deb1dcff5e5db600e1d45d5b9d40e69e\n",
            "23\n"
          ]
        },
        {
          "metadata": {
            "tags": null
          },
          "name": "stderr",
          "output_type": "stream",
          "text": [
            "\r  8%|▊         | 9361/123453 [32:33<11:15:08,  2.82it/s]"
          ]
        },
        {
          "metadata": {
            "tags": null
          },
          "name": "stdout",
          "output_type": "stream",
          "text": [
            "b63d9b29789de547072792543faff352d3bb9af7dcbb99b47e5bfb37970972c3\n",
            "19\n"
          ]
        },
        {
          "metadata": {
            "tags": null
          },
          "name": "stderr",
          "output_type": "stream",
          "text": [
            "\r  8%|▊         | 9362/123453 [32:34<10:32:55,  3.00it/s]"
          ]
        },
        {
          "metadata": {
            "tags": null
          },
          "name": "stdout",
          "output_type": "stream",
          "text": [
            "2257a9d845a3ec120f6ed9de265e427628f592f3b1381753a9d2af71d0ee5588\n",
            "18\n"
          ]
        },
        {
          "output_type": "stream",
          "name": "stderr",
          "text": [
            " 51%|█████     | 63093/123453 [3:56:52<3:25:48,  4.89it/s]"
          ]
        }
      ]
    }
  ]
}